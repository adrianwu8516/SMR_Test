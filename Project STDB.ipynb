{
 "metadata": {
  "name": "",
  "signature": "sha256:ebb12005fdd0c7e38f6c3d9e0a7bd9171153b1b907dc81bdc1b0c5f6bfc3211d"
 },
 "nbformat": 3,
 "nbformat_minor": 0,
 "worksheets": [
  {
   "cells": [
    {
     "cell_type": "code",
     "collapsed": false,
     "input": [
      "#Environment Setting\n",
      "import grs\n",
      "import csv\n",
      "import os\n",
      "from grs import TWSENo\n",
      "from grs import Stock\n",
      "from grs import OTCNo\n",
      "from datetime import datetime\n",
      "twse_no = TWSENo()\n",
      "otc_no = OTCNo()\n",
      "obj_list = []\n",
      "temp_list_new = []\n",
      "temp_list_old = []\n",
      "\n",
      "\n",
      "#Build Stock List & obj_list\n",
      "for i in twse_no.all_stock_no:\n",
      "\tif len(i) <= 4 :\n",
      "\t\tobj_list.append(i)\n",
      "\n",
      "for i in otc_no.all_stock_no:\n",
      "\tif len(i) <= 4:\n",
      "\t\tobj_list.append(i)\n",
      "\n",
      "for i in ['006203', '006204', '006205', '006206', '006207', '006208', '008201']:\n",
      "    obj_list.append(i)\n",
      "    \n",
      "print len(obj_list)"
     ],
     "language": "python",
     "metadata": {},
     "outputs": [
      {
       "output_type": "stream",
       "stream": "stdout",
       "text": [
        "1516\n"
       ]
      }
     ],
     "prompt_number": 36
    },
    {
     "cell_type": "code",
     "collapsed": false,
     "input": [
      "temp_list_new = []\n",
      "temp_list_old = []\n",
      "temp_list_index = []\n",
      "indicator = True\n",
      "\n",
      "csvfile = open(\"0050.csv\", 'rb') \n",
      "for i in csv.reader(csvfile, delimiter=','): \n",
      "    temp_list_index.append(i[0])\n",
      "    temp_list_old.append(i)\n",
      "\n",
      "\n",
      "stock = Stock(\"0050\", 4)    \n",
      "stock.out_putfile(\"temp.csv\")    \n",
      "csvfile = open(\"temp.csv\", 'rb') \n",
      "for i in csv.reader(csvfile, delimiter=','):\n",
      "    indicator = True\n",
      "    for index in temp_list_index:\n",
      "        if str(i[0]) == index:\n",
      "            indicator = False\n",
      "            break\n",
      "    if indicator:\n",
      "        temp_list_old.append(i)\n",
      "#print temp_list_index"
     ],
     "language": "python",
     "metadata": {},
     "outputs": [],
     "prompt_number": 46
    },
    {
     "cell_type": "code",
     "collapsed": false,
     "input": [
      "with open(\"0050.csv\", 'wt') as i:\n",
      "    output = csv.writer(i)\n",
      "    for row in temp_list_old:\n",
      "        output.writerow(row)"
     ],
     "language": "python",
     "metadata": {},
     "outputs": [],
     "prompt_number": 47
    },
    {
     "cell_type": "code",
     "collapsed": false,
     "input": [],
     "language": "python",
     "metadata": {},
     "outputs": []
    }
   ],
   "metadata": {}
  }
 ]
}