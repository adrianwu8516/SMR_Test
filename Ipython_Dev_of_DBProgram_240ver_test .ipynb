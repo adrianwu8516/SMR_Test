{
 "metadata": {
  "name": "",
  "signature": "sha256:39a6781c49eb30ca807d318222213eb6a891e65f65436e929224c203da8441d7"
 },
 "nbformat": 3,
 "nbformat_minor": 0,
 "worksheets": [
  {
   "cells": [
    {
     "cell_type": "code",
     "collapsed": false,
     "input": [
      "#Environment Setting\n",
      "import grs\n",
      "from grs import TWSENo\n",
      "from grs import Stock\n",
      "obj_list = []\n",
      "remove_obj_list = []\n",
      "dead = 0\n",
      "twse_no = TWSENo()\n",
      "unable = []\n",
      "month = 168\n",
      "\n",
      "\n",
      "#Build Stock List\n",
      "for i in twse_no.all_stock_no:\n",
      "\tif len(i) <= 4 :\n",
      "\t\tobj_list.append(i)\n",
      "\n",
      "#Helping Function\n",
      "def diff(a, b):\n",
      "        b = set(b)\n",
      "        return [aa for aa in a if aa not in b]\n",
      "\n",
      "#Getting Data\n",
      "def DBuild():\n",
      "\tglobal remove_obj_list, obj_list, dead\n",
      "\tobj_list = diff(obj_list, remove_obj_list)\n",
      "\tremove_obj_list = []\n",
      "\tif len(obj_list) > 0:\n",
      "\t\tfor i in obj_list:\n",
      "\t\t\ttry:\n",
      "\t\t\t\tdead = i\n",
      "\t\t\t\tremove_obj_list.append(i)\n",
      "\t\t\t\tstock = Stock(i, month)\n",
      "\t\t\t\tfile_locate = \"/Users/Mac/Desktop/Stock Research/DataBase_test/\" + i + \".csv\"\n",
      "\t\t\t\tstock.out_putfile(file_locate)\n",
      "\t\t\t\tdead = 0\n",
      "\t\t\texcept AttributeError:\n",
      "\t\t\t\tprint \"Error >>\", dead, \"can not fetch month = \", month\n",
      "\t\t\t\tmonth -= 12\n",
      "\t\t\t\traise\n",
      "\t\t\telse:\n",
      "\t\t\t\tprint \"Get stock no.\", i, \"info for\", month, \"month\"\n",
      "\n",
      "\tprint \"Yeah! Fuck you finished!\"\t\n"
     ],
     "language": "python",
     "metadata": {},
     "outputs": [],
     "prompt_number": 1
    },
    {
     "cell_type": "code",
     "collapsed": false,
     "input": [
      "#Environment Setting\n",
      "import grs\n",
      "from grs import TWSENo\n",
      "from grs import Stock\n",
      "obj_list = []\n",
      "remove_obj_list = []\n",
      "dead = 0\n",
      "twse_no = TWSENo()\n",
      "unable = []\n",
      "month = 168\n",
      "\n",
      "\n",
      "#Build Stock List\n",
      "for i in twse_no.all_stock_no:\n",
      "\tif len(i) <= 4 :\n",
      "\t\tobj_list.append(i)\n",
      "\n",
      "#Helping Function\n",
      "def diff(a, b):\n",
      "        b = set(b)\n",
      "        return [aa for aa in a if aa not in b]\n",
      "\n",
      "#Getting Data\n",
      "def DBuild():\n",
      "\tglobal remove_obj_list, obj_list, dead\n",
      "\tprint \"Fetching Start\"\n",
      "\tobj_list = diff(obj_list, remove_obj_list)\n",
      "\tremove_obj_list = []\n",
      "\tif len(obj_list) > 0:\n",
      "\t\tfor i in obj_list:\n",
      "\t\t\ttry:\n",
      "\t\t\t\tdead = i\n",
      "\t\t\t\tremove_obj_list.append(i)\n",
      "\t\t\t\tstock = Stock(i, month)\n",
      "\t\t\t\tfile_locate = \"/Users/Mac/Desktop/Stock Research/DataBase_test/\" + i + \".csv\"\n",
      "\t\t\t\tstock.out_putfile(file_locate)\n",
      "\t\t\t\tdead = 0\n",
      "\t\t\texcept AttributeError:\n",
      "\t\t\t\tprint \"Error >>\", dead, \"can not fetch month = \", month\n",
      "\t\t\t\tmonth -= 12\n",
      "\t\t\t\traise\n",
      "\t\t\telse:\n",
      "\t\t\t\tprint \"Get stock no.\", i, \"info for\", month, \"month\"\n",
      "\n",
      "\tprint \"Yeah! Fetching finished!\"\t\n",
      "\n",
      "DBuild()\n"
     ],
     "language": "python",
     "metadata": {},
     "outputs": [
      {
       "output_type": "stream",
       "stream": "stdout",
       "text": [
        "Fetching Start\n"
       ]
      },
      {
       "ename": "UnboundLocalError",
       "evalue": "local variable 'month' referenced before assignment",
       "output_type": "pyerr",
       "traceback": [
        "\u001b[0;31m---------------------------------------------------------------------------\u001b[0m\n\u001b[0;31mUnboundLocalError\u001b[0m                         Traceback (most recent call last)",
        "\u001b[0;32m<ipython-input-2-af01be9c1be8>\u001b[0m in \u001b[0;36m<module>\u001b[0;34m()\u001b[0m\n\u001b[1;32m     45\u001b[0m         \u001b[0;32mprint\u001b[0m \u001b[0;34m\"Yeah! Fetching finished!\"\u001b[0m\u001b[0;34m\u001b[0m\u001b[0m\n\u001b[1;32m     46\u001b[0m \u001b[0;34m\u001b[0m\u001b[0m\n\u001b[0;32m---> 47\u001b[0;31m \u001b[0mDBuild\u001b[0m\u001b[0;34m(\u001b[0m\u001b[0;34m)\u001b[0m\u001b[0;34m\u001b[0m\u001b[0m\n\u001b[0m",
        "\u001b[0;32m<ipython-input-2-af01be9c1be8>\u001b[0m in \u001b[0;36mDBuild\u001b[0;34m()\u001b[0m\n\u001b[1;32m     32\u001b[0m                                 \u001b[0mdead\u001b[0m \u001b[0;34m=\u001b[0m \u001b[0mi\u001b[0m\u001b[0;34m\u001b[0m\u001b[0m\n\u001b[1;32m     33\u001b[0m                                 \u001b[0mremove_obj_list\u001b[0m\u001b[0;34m.\u001b[0m\u001b[0mappend\u001b[0m\u001b[0;34m(\u001b[0m\u001b[0mi\u001b[0m\u001b[0;34m)\u001b[0m\u001b[0;34m\u001b[0m\u001b[0m\n\u001b[0;32m---> 34\u001b[0;31m                                 \u001b[0mstock\u001b[0m \u001b[0;34m=\u001b[0m \u001b[0mStock\u001b[0m\u001b[0;34m(\u001b[0m\u001b[0mi\u001b[0m\u001b[0;34m,\u001b[0m \u001b[0mmonth\u001b[0m\u001b[0;34m)\u001b[0m\u001b[0;34m\u001b[0m\u001b[0m\n\u001b[0m\u001b[1;32m     35\u001b[0m                                 \u001b[0mfile_locate\u001b[0m \u001b[0;34m=\u001b[0m \u001b[0;34m\"/Users/Mac/Desktop/Stock Research/DataBase_test/\"\u001b[0m \u001b[0;34m+\u001b[0m \u001b[0mi\u001b[0m \u001b[0;34m+\u001b[0m \u001b[0;34m\".csv\"\u001b[0m\u001b[0;34m\u001b[0m\u001b[0m\n\u001b[1;32m     36\u001b[0m                                 \u001b[0mstock\u001b[0m\u001b[0;34m.\u001b[0m\u001b[0mout_putfile\u001b[0m\u001b[0;34m(\u001b[0m\u001b[0mfile_locate\u001b[0m\u001b[0;34m)\u001b[0m\u001b[0;34m\u001b[0m\u001b[0m\n",
        "\u001b[0;31mUnboundLocalError\u001b[0m: local variable 'month' referenced before assignment"
       ]
      }
     ],
     "prompt_number": 2
    },
    {
     "cell_type": "code",
     "collapsed": false,
     "input": [
      "#Environment Setting\n",
      "import grs\n",
      "from grs import TWSENo\n",
      "from grs import Stock\n",
      "obj_list = []\n",
      "remove_obj_list = []\n",
      "dead = 0\n",
      "twse_no = TWSENo()\n",
      "unable = []\n",
      "\n",
      "\n",
      "\n",
      "#Build Stock List\n",
      "for i in twse_no.all_stock_no:\n",
      "\tif len(i) <= 4 :\n",
      "\t\tobj_list.append(i)\n",
      "\n",
      "#Helping Function\n",
      "def diff(a, b):\n",
      "        b = set(b)\n",
      "        return [aa for aa in a if aa not in b]\n",
      "\n",
      "#Getting Data\n",
      "def DBuild():\n",
      "\tglobal remove_obj_list, obj_list, dead\n",
      "\tprint \"Fetching Start\"\n",
      "\tobj_list = diff(obj_list, remove_obj_list)\n",
      "\tremove_obj_list = []\n",
      "\tif len(obj_list) > 0:\n",
      "\t\tfor i in obj_list:\n",
      "\t\t\tmonth = 168\n",
      "\t\t\ttry:\n",
      "\t\t\t\tdead = i\n",
      "\t\t\t\tremove_obj_list.append(i)\n",
      "\t\t\t\tstock = Stock(i, month)\n",
      "\t\t\t\tfile_locate = \"/Users/Mac/Desktop/Stock Research/DataBase_test/\" + i + \".csv\"\n",
      "\t\t\t\tstock.out_putfile(file_locate)\n",
      "\t\t\t\tdead = 0\n",
      "\t\t\texcept AttributeError:\n",
      "\t\t\t\tprint \"Error >>\", dead, \"can not fetch month = \", month\n",
      "\t\t\t\tmonth -= 12\n",
      "\t\t\t\traise\n",
      "\t\t\telse:\n",
      "\t\t\t\tprint \"Get stock no.\", i, \"info for\", month, \"month\"\n",
      "\n",
      "\tprint \"Yeah! Fetching finished!\"\t\n",
      "\n",
      "DBuild()\n"
     ],
     "language": "python",
     "metadata": {},
     "outputs": [
      {
       "output_type": "stream",
       "stream": "stdout",
       "text": [
        "Fetching Start\n",
        "list index out of range"
       ]
      },
      {
       "output_type": "stream",
       "stream": "stdout",
       "text": [
        "\n",
        "Error >> 0059 can not fetch month =  168\n"
       ]
      },
      {
       "ename": "AttributeError",
       "evalue": "'Stock' object has no attribute '_SimpleAnalytics__raw_data'",
       "output_type": "pyerr",
       "traceback": [
        "\u001b[0;31m---------------------------------------------------------------------------\u001b[0m\n\u001b[0;31mAttributeError\u001b[0m                            Traceback (most recent call last)",
        "\u001b[0;32m<ipython-input-3-9ceccccad5e8>\u001b[0m in \u001b[0;36m<module>\u001b[0;34m()\u001b[0m\n\u001b[1;32m     46\u001b[0m         \u001b[0;32mprint\u001b[0m \u001b[0;34m\"Yeah! Fetching finished!\"\u001b[0m\u001b[0;34m\u001b[0m\u001b[0m\n\u001b[1;32m     47\u001b[0m \u001b[0;34m\u001b[0m\u001b[0m\n\u001b[0;32m---> 48\u001b[0;31m \u001b[0mDBuild\u001b[0m\u001b[0;34m(\u001b[0m\u001b[0;34m)\u001b[0m\u001b[0;34m\u001b[0m\u001b[0m\n\u001b[0m",
        "\u001b[0;32m<ipython-input-3-9ceccccad5e8>\u001b[0m in \u001b[0;36mDBuild\u001b[0;34m()\u001b[0m\n\u001b[1;32m     35\u001b[0m                                 \u001b[0mstock\u001b[0m \u001b[0;34m=\u001b[0m \u001b[0mStock\u001b[0m\u001b[0;34m(\u001b[0m\u001b[0mi\u001b[0m\u001b[0;34m,\u001b[0m \u001b[0mmonth\u001b[0m\u001b[0;34m)\u001b[0m\u001b[0;34m\u001b[0m\u001b[0m\n\u001b[1;32m     36\u001b[0m                                 \u001b[0mfile_locate\u001b[0m \u001b[0;34m=\u001b[0m \u001b[0;34m\"/Users/Mac/Desktop/Stock Research/DataBase_test/\"\u001b[0m \u001b[0;34m+\u001b[0m \u001b[0mi\u001b[0m \u001b[0;34m+\u001b[0m \u001b[0;34m\".csv\"\u001b[0m\u001b[0;34m\u001b[0m\u001b[0m\n\u001b[0;32m---> 37\u001b[0;31m                                 \u001b[0mstock\u001b[0m\u001b[0;34m.\u001b[0m\u001b[0mout_putfile\u001b[0m\u001b[0;34m(\u001b[0m\u001b[0mfile_locate\u001b[0m\u001b[0;34m)\u001b[0m\u001b[0;34m\u001b[0m\u001b[0m\n\u001b[0m\u001b[1;32m     38\u001b[0m                                 \u001b[0mdead\u001b[0m \u001b[0;34m=\u001b[0m \u001b[0;36m0\u001b[0m\u001b[0;34m\u001b[0m\u001b[0m\n\u001b[1;32m     39\u001b[0m                         \u001b[0;32mexcept\u001b[0m \u001b[0mAttributeError\u001b[0m\u001b[0;34m:\u001b[0m\u001b[0;34m\u001b[0m\u001b[0m\n",
        "\u001b[0;32m//anaconda/lib/python2.7/site-packages/grs/fetch_data.pyc\u001b[0m in \u001b[0;36mout_putfile\u001b[0;34m(self, fpath)\u001b[0m\n\u001b[1;32m    278\u001b[0m         \u001b[0;32mwith\u001b[0m \u001b[0mopen\u001b[0m\u001b[0;34m(\u001b[0m\u001b[0mfpath\u001b[0m\u001b[0;34m,\u001b[0m \u001b[0;34m'w'\u001b[0m\u001b[0;34m)\u001b[0m \u001b[0;32mas\u001b[0m \u001b[0mcsv_file\u001b[0m\u001b[0;34m:\u001b[0m\u001b[0;34m\u001b[0m\u001b[0m\n\u001b[1;32m    279\u001b[0m             \u001b[0moutput\u001b[0m \u001b[0;34m=\u001b[0m \u001b[0mcsv\u001b[0m\u001b[0;34m.\u001b[0m\u001b[0mwriter\u001b[0m\u001b[0;34m(\u001b[0m\u001b[0mcsv_file\u001b[0m\u001b[0;34m)\u001b[0m\u001b[0;34m\u001b[0m\u001b[0m\n\u001b[0;32m--> 280\u001b[0;31m             \u001b[0moutput\u001b[0m\u001b[0;34m.\u001b[0m\u001b[0mwriterows\u001b[0m\u001b[0;34m(\u001b[0m\u001b[0mself\u001b[0m\u001b[0;34m.\u001b[0m\u001b[0m__raw_data\u001b[0m\u001b[0;34m)\u001b[0m\u001b[0;34m\u001b[0m\u001b[0m\n\u001b[0m\u001b[1;32m    281\u001b[0m \u001b[0;34m\u001b[0m\u001b[0m\n\u001b[1;32m    282\u001b[0m     \u001b[0;32mdef\u001b[0m \u001b[0m__serial_price\u001b[0m\u001b[0;34m(\u001b[0m\u001b[0mself\u001b[0m\u001b[0;34m,\u001b[0m \u001b[0mrows\u001b[0m\u001b[0;34m=\u001b[0m\u001b[0;36m6\u001b[0m\u001b[0;34m)\u001b[0m\u001b[0;34m:\u001b[0m\u001b[0;34m\u001b[0m\u001b[0m\n",
        "\u001b[0;31mAttributeError\u001b[0m: 'Stock' object has no attribute '_SimpleAnalytics__raw_data'"
       ]
      }
     ],
     "prompt_number": 3
    },
    {
     "cell_type": "code",
     "collapsed": false,
     "input": [
      "#Environment Setting\n",
      "import grs\n",
      "from grs import TWSENo\n",
      "from grs import Stock\n",
      "obj_list = []\n",
      "remove_obj_list = []\n",
      "dead = 0\n",
      "twse_no = TWSENo()\n",
      "unable = []\n",
      "\n",
      "\n",
      "\n",
      "#Build Stock List\n",
      "for i in twse_no.all_stock_no:\n",
      "\tif len(i) <= 4 :\n",
      "\t\tobj_list.append(i)\n",
      "\n",
      "#Helping Function\n",
      "def diff(a, b):\n",
      "        b = set(b)\n",
      "        return [aa for aa in a if aa not in b]\n",
      "\n",
      "#Getting Data\n",
      "def DBuild():\n",
      "\tglobal remove_obj_list, obj_list, dead\n",
      "\tprint \"Fetching Start\"\n",
      "\tobj_list = diff(obj_list, remove_obj_list)\n",
      "\tremove_obj_list = []\n",
      "\tif len(obj_list) > 0:\n",
      "\t\tfor i in obj_list:\n",
      "\t\t\tmonth = 168\n",
      "\t\t\ttry:\n",
      "\t\t\t\tdead = i\n",
      "\t\t\t\tremove_obj_list.append(i)\n",
      "\t\t\t\tstock = Stock(i, month)\n",
      "\t\t\t\tfile_locate = \"/Users/Mac/Desktop/Stock Research/DataBase_test/\" + i + \".csv\"\n",
      "\t\t\t\tstock.out_putfile(file_locate)\n",
      "\t\t\t\tdead = 0\n",
      "\t\t\texcept AttributeError:\n",
      "\t\t\t\tprint \"Error >>\", dead, \"can not fetch month = \", month\n",
      "\t\t\t\tmonth -= 12\n",
      "\t\t\telse:\n",
      "\t\t\t\tprint \"Get stock no.\", i, \"info for\", month, \"month\"\n",
      "\n",
      "\tprint \"Yeah! Fetching finished!\"\t\n",
      "\n",
      "DBuild()\n"
     ],
     "language": "python",
     "metadata": {},
     "outputs": [
      {
       "output_type": "stream",
       "stream": "stdout",
       "text": [
        "Fetching Start\n",
        "list index out of range"
       ]
      },
      {
       "output_type": "stream",
       "stream": "stdout",
       "text": [
        "\n",
        "Error >> 0059 can not fetch month =  168\n",
        "list index out of range"
       ]
      },
      {
       "output_type": "stream",
       "stream": "stdout",
       "text": [
        "\n",
        "Error >> 0058 can not fetch month =  168\n",
        "list index out of range"
       ]
      },
      {
       "output_type": "stream",
       "stream": "stdout",
       "text": [
        "\n",
        "Error >> 0053 can not fetch month =  168\n",
        "list index out of range"
       ]
      },
      {
       "output_type": "stream",
       "stream": "stdout",
       "text": [
        "\n",
        "Error >> 0052 can not fetch month =  168\n",
        "list index out of range"
       ]
      },
      {
       "output_type": "stream",
       "stream": "stdout",
       "text": [
        "\n",
        "Error >> 0051 can not fetch month =  168\n",
        "list index out of range"
       ]
      },
      {
       "output_type": "stream",
       "stream": "stdout",
       "text": [
        "\n",
        "Error >> 0050 can not fetch month =  168\n",
        "list index out of range"
       ]
      },
      {
       "output_type": "stream",
       "stream": "stdout",
       "text": [
        "\n",
        "Error >> 0057 can not fetch month =  168\n",
        "list index out of range"
       ]
      },
      {
       "output_type": "stream",
       "stream": "stdout",
       "text": [
        "\n",
        "Error >> 0056 can not fetch month =  168\n",
        "list index out of range"
       ]
      },
      {
       "output_type": "stream",
       "stream": "stdout",
       "text": [
        "\n",
        "Error >> 0055 can not fetch month =  168\n",
        "list index out of range"
       ]
      },
      {
       "output_type": "stream",
       "stream": "stdout",
       "text": [
        "\n",
        "Error >> 0054 can not fetch month =  168\n"
       ]
      },
      {
       "ename": "KeyboardInterrupt",
       "evalue": "",
       "output_type": "pyerr",
       "traceback": [
        "\u001b[0;31m---------------------------------------------------------------------------\u001b[0m\n\u001b[0;31mKeyboardInterrupt\u001b[0m                         Traceback (most recent call last)",
        "\u001b[0;32m<ipython-input-4-68f25ab4b895>\u001b[0m in \u001b[0;36m<module>\u001b[0;34m()\u001b[0m\n\u001b[1;32m     45\u001b[0m         \u001b[0;32mprint\u001b[0m \u001b[0;34m\"Yeah! Fetching finished!\"\u001b[0m\u001b[0;34m\u001b[0m\u001b[0m\n\u001b[1;32m     46\u001b[0m \u001b[0;34m\u001b[0m\u001b[0m\n\u001b[0;32m---> 47\u001b[0;31m \u001b[0mDBuild\u001b[0m\u001b[0;34m(\u001b[0m\u001b[0;34m)\u001b[0m\u001b[0;34m\u001b[0m\u001b[0m\n\u001b[0m",
        "\u001b[0;32m<ipython-input-4-68f25ab4b895>\u001b[0m in \u001b[0;36mDBuild\u001b[0;34m()\u001b[0m\n\u001b[1;32m     33\u001b[0m                                 \u001b[0mdead\u001b[0m \u001b[0;34m=\u001b[0m \u001b[0mi\u001b[0m\u001b[0;34m\u001b[0m\u001b[0m\n\u001b[1;32m     34\u001b[0m                                 \u001b[0mremove_obj_list\u001b[0m\u001b[0;34m.\u001b[0m\u001b[0mappend\u001b[0m\u001b[0;34m(\u001b[0m\u001b[0mi\u001b[0m\u001b[0;34m)\u001b[0m\u001b[0;34m\u001b[0m\u001b[0m\n\u001b[0;32m---> 35\u001b[0;31m                                 \u001b[0mstock\u001b[0m \u001b[0;34m=\u001b[0m \u001b[0mStock\u001b[0m\u001b[0;34m(\u001b[0m\u001b[0mi\u001b[0m\u001b[0;34m,\u001b[0m \u001b[0mmonth\u001b[0m\u001b[0;34m)\u001b[0m\u001b[0;34m\u001b[0m\u001b[0m\n\u001b[0m\u001b[1;32m     36\u001b[0m                                 \u001b[0mfile_locate\u001b[0m \u001b[0;34m=\u001b[0m \u001b[0;34m\"/Users/Mac/Desktop/Stock Research/DataBase_test/\"\u001b[0m \u001b[0;34m+\u001b[0m \u001b[0mi\u001b[0m \u001b[0;34m+\u001b[0m \u001b[0;34m\".csv\"\u001b[0m\u001b[0;34m\u001b[0m\u001b[0m\n\u001b[1;32m     37\u001b[0m                                 \u001b[0mstock\u001b[0m\u001b[0;34m.\u001b[0m\u001b[0mout_putfile\u001b[0m\u001b[0;34m(\u001b[0m\u001b[0mfile_locate\u001b[0m\u001b[0;34m)\u001b[0m\u001b[0;34m\u001b[0m\u001b[0m\n",
        "\u001b[0;32m//anaconda/lib/python2.7/site-packages/grs/fetch_data.pyc\u001b[0m in \u001b[0;36m__new__\u001b[0;34m(cls, stock_no, mons, twse, otc)\u001b[0m\n\u001b[1;32m    495\u001b[0m         \u001b[0mstock_proxy\u001b[0m\u001b[0;34m.\u001b[0m\u001b[0m__init__\u001b[0m\u001b[0;34m(\u001b[0m\u001b[0;34m)\u001b[0m\u001b[0;34m\u001b[0m\u001b[0m\n\u001b[1;32m    496\u001b[0m         \u001b[0;32mtry\u001b[0m\u001b[0;34m:\u001b[0m\u001b[0;34m\u001b[0m\u001b[0m\n\u001b[0;32m--> 497\u001b[0;31m             \u001b[0mcls\u001b[0m\u001b[0;34m.\u001b[0m\u001b[0m__raw_data\u001b[0m \u001b[0;34m=\u001b[0m \u001b[0mstock_proxy\u001b[0m\u001b[0;34m.\u001b[0m\u001b[0mserial_fetch\u001b[0m\u001b[0;34m(\u001b[0m\u001b[0mstock_no\u001b[0m\u001b[0;34m,\u001b[0m \u001b[0mmons\u001b[0m\u001b[0;34m,\u001b[0m \u001b[0mtwse\u001b[0m\u001b[0;34m)\u001b[0m\u001b[0;34m\u001b[0m\u001b[0m\n\u001b[0m\u001b[1;32m    498\u001b[0m             \u001b[0mstock_proxy\u001b[0m\u001b[0;34m.\u001b[0m\u001b[0m_load_data\u001b[0m\u001b[0;34m(\u001b[0m\u001b[0mcls\u001b[0m\u001b[0;34m.\u001b[0m\u001b[0m__raw_data\u001b[0m\u001b[0;34m)\u001b[0m\u001b[0;34m\u001b[0m\u001b[0m\n\u001b[1;32m    499\u001b[0m         \u001b[0;32mexcept\u001b[0m \u001b[0murllib3\u001b[0m\u001b[0;34m.\u001b[0m\u001b[0mexceptions\u001b[0m\u001b[0;34m.\u001b[0m\u001b[0mHTTPError\u001b[0m\u001b[0;34m:\u001b[0m\u001b[0;34m\u001b[0m\u001b[0m\n",
        "\u001b[0;32m//anaconda/lib/python2.7/site-packages/grs/fetch_data.pyc\u001b[0m in \u001b[0;36mserial_fetch\u001b[0;34m(self, stock_no, month, twse)\u001b[0m\n\u001b[1;32m     68\u001b[0m         \u001b[0;32mfor\u001b[0m \u001b[0mi\u001b[0m \u001b[0;32min\u001b[0m \u001b[0mrange\u001b[0m\u001b[0;34m(\u001b[0m\u001b[0mmonth\u001b[0m\u001b[0;34m)\u001b[0m\u001b[0;34m:\u001b[0m\u001b[0;34m\u001b[0m\u001b[0m\n\u001b[1;32m     69\u001b[0m             \u001b[0mnowdatetime\u001b[0m \u001b[0;34m=\u001b[0m \u001b[0mdatetime\u001b[0m\u001b[0;34m.\u001b[0m\u001b[0mtoday\u001b[0m\u001b[0;34m(\u001b[0m\u001b[0;34m)\u001b[0m \u001b[0;34m-\u001b[0m \u001b[0mrelativedelta\u001b[0m\u001b[0;34m(\u001b[0m\u001b[0mmonths\u001b[0m\u001b[0;34m=\u001b[0m\u001b[0mi\u001b[0m\u001b[0;34m)\u001b[0m\u001b[0;34m\u001b[0m\u001b[0m\n\u001b[0;32m---> 70\u001b[0;31m             \u001b[0mtolist\u001b[0m \u001b[0;34m=\u001b[0m \u001b[0mself\u001b[0m\u001b[0;34m.\u001b[0m\u001b[0mto_list\u001b[0m\u001b[0;34m(\u001b[0m\u001b[0mself\u001b[0m\u001b[0;34m.\u001b[0m\u001b[0mfetch_data\u001b[0m\u001b[0;34m(\u001b[0m\u001b[0mstock_no\u001b[0m\u001b[0;34m,\u001b[0m \u001b[0mnowdatetime\u001b[0m\u001b[0;34m)\u001b[0m\u001b[0;34m)\u001b[0m\u001b[0;34m\u001b[0m\u001b[0m\n\u001b[0m\u001b[1;32m     71\u001b[0m             \u001b[0mresult\u001b[0m \u001b[0;34m=\u001b[0m \u001b[0mtolist\u001b[0m \u001b[0;34m+\u001b[0m \u001b[0mresult\u001b[0m\u001b[0;34m\u001b[0m\u001b[0m\n\u001b[1;32m     72\u001b[0m         \u001b[0;32mreturn\u001b[0m \u001b[0mtuple\u001b[0m\u001b[0;34m(\u001b[0m\u001b[0mresult\u001b[0m\u001b[0;34m)\u001b[0m\u001b[0;34m\u001b[0m\u001b[0m\n",
        "\u001b[0;32m//anaconda/lib/python2.7/site-packages/grs/fetch_data.pyc\u001b[0m in \u001b[0;36mfetch_data\u001b[0;34m(self, stock_no, nowdatetime)\u001b[0m\n\u001b[1;32m    204\u001b[0m                                        'rand': random.randrange(1, 1000000)}\n\u001b[1;32m    205\u001b[0m         \u001b[0mlogging\u001b[0m\u001b[0;34m.\u001b[0m\u001b[0minfo\u001b[0m\u001b[0;34m(\u001b[0m\u001b[0murl\u001b[0m\u001b[0;34m)\u001b[0m\u001b[0;34m\u001b[0m\u001b[0m\n\u001b[0;32m--> 206\u001b[0;31m         \u001b[0mresult\u001b[0m \u001b[0;34m=\u001b[0m \u001b[0mTWSE_CONNECTIONS\u001b[0m\u001b[0;34m.\u001b[0m\u001b[0murlopen\u001b[0m\u001b[0;34m(\u001b[0m\u001b[0;34m'GET'\u001b[0m\u001b[0;34m,\u001b[0m \u001b[0murl\u001b[0m\u001b[0;34m)\u001b[0m\u001b[0;34m\u001b[0m\u001b[0m\n\u001b[0m\u001b[1;32m    207\u001b[0m         \u001b[0mcsv_files\u001b[0m \u001b[0;34m=\u001b[0m \u001b[0mcsv\u001b[0m\u001b[0;34m.\u001b[0m\u001b[0mreader\u001b[0m\u001b[0;34m(\u001b[0m\u001b[0mStringIO\u001b[0m\u001b[0;34m(\u001b[0m\u001b[0mresult\u001b[0m\u001b[0;34m.\u001b[0m\u001b[0mdata\u001b[0m\u001b[0;34m)\u001b[0m\u001b[0;34m)\u001b[0m\u001b[0;34m\u001b[0m\u001b[0m\n\u001b[1;32m    208\u001b[0m         \u001b[0mself\u001b[0m\u001b[0;34m.\u001b[0m\u001b[0m__url\u001b[0m\u001b[0;34m.\u001b[0m\u001b[0mappend\u001b[0m\u001b[0;34m(\u001b[0m\u001b[0mTWSE_HOST\u001b[0m \u001b[0;34m+\u001b[0m \u001b[0murl\u001b[0m\u001b[0;34m)\u001b[0m\u001b[0;34m\u001b[0m\u001b[0m\n",
        "\u001b[0;32m//anaconda/lib/python2.7/site-packages/urllib3/connectionpool.pyc\u001b[0m in \u001b[0;36murlopen\u001b[0;34m(self, method, url, body, headers, retries, redirect, assert_same_host, timeout, pool_timeout, release_conn, **response_kw)\u001b[0m\n\u001b[1;32m    514\u001b[0m             httplib_response = self._make_request(conn, method, url,\n\u001b[1;32m    515\u001b[0m                                                   \u001b[0mtimeout\u001b[0m\u001b[0;34m=\u001b[0m\u001b[0mtimeout\u001b[0m\u001b[0;34m,\u001b[0m\u001b[0;34m\u001b[0m\u001b[0m\n\u001b[0;32m--> 516\u001b[0;31m                                                   body=body, headers=headers)\n\u001b[0m\u001b[1;32m    517\u001b[0m \u001b[0;34m\u001b[0m\u001b[0m\n\u001b[1;32m    518\u001b[0m             \u001b[0;31m# If we're going to release the connection in ``finally:``, then\u001b[0m\u001b[0;34m\u001b[0m\u001b[0;34m\u001b[0m\u001b[0m\n",
        "\u001b[0;32m//anaconda/lib/python2.7/site-packages/urllib3/connectionpool.pyc\u001b[0m in \u001b[0;36m_make_request\u001b[0;34m(self, conn, method, url, timeout, **httplib_request_kw)\u001b[0m\n\u001b[1;32m    329\u001b[0m         \u001b[0;32mtry\u001b[0m\u001b[0;34m:\u001b[0m\u001b[0;34m\u001b[0m\u001b[0m\n\u001b[1;32m    330\u001b[0m             \u001b[0;32mtry\u001b[0m\u001b[0;34m:\u001b[0m  \u001b[0;31m# Python 2.7+, use buffering of HTTP responses\u001b[0m\u001b[0;34m\u001b[0m\u001b[0m\n\u001b[0;32m--> 331\u001b[0;31m                 \u001b[0mhttplib_response\u001b[0m \u001b[0;34m=\u001b[0m \u001b[0mconn\u001b[0m\u001b[0;34m.\u001b[0m\u001b[0mgetresponse\u001b[0m\u001b[0;34m(\u001b[0m\u001b[0mbuffering\u001b[0m\u001b[0;34m=\u001b[0m\u001b[0mTrue\u001b[0m\u001b[0;34m)\u001b[0m\u001b[0;34m\u001b[0m\u001b[0m\n\u001b[0m\u001b[1;32m    332\u001b[0m             \u001b[0;32mexcept\u001b[0m \u001b[0mTypeError\u001b[0m\u001b[0;34m:\u001b[0m  \u001b[0;31m# Python 2.6 and older\u001b[0m\u001b[0;34m\u001b[0m\u001b[0m\n\u001b[1;32m    333\u001b[0m                 \u001b[0mhttplib_response\u001b[0m \u001b[0;34m=\u001b[0m \u001b[0mconn\u001b[0m\u001b[0;34m.\u001b[0m\u001b[0mgetresponse\u001b[0m\u001b[0;34m(\u001b[0m\u001b[0;34m)\u001b[0m\u001b[0;34m\u001b[0m\u001b[0m\n",
        "\u001b[0;32m//anaconda/lib/python2.7/httplib.pyc\u001b[0m in \u001b[0;36mgetresponse\u001b[0;34m(self, buffering)\u001b[0m\n\u001b[1;32m   1065\u001b[0m         \u001b[0mresponse\u001b[0m \u001b[0;34m=\u001b[0m \u001b[0mself\u001b[0m\u001b[0;34m.\u001b[0m\u001b[0mresponse_class\u001b[0m\u001b[0;34m(\u001b[0m\u001b[0;34m*\u001b[0m\u001b[0margs\u001b[0m\u001b[0;34m,\u001b[0m \u001b[0;34m**\u001b[0m\u001b[0mkwds\u001b[0m\u001b[0;34m)\u001b[0m\u001b[0;34m\u001b[0m\u001b[0m\n\u001b[1;32m   1066\u001b[0m \u001b[0;34m\u001b[0m\u001b[0m\n\u001b[0;32m-> 1067\u001b[0;31m         \u001b[0mresponse\u001b[0m\u001b[0;34m.\u001b[0m\u001b[0mbegin\u001b[0m\u001b[0;34m(\u001b[0m\u001b[0;34m)\u001b[0m\u001b[0;34m\u001b[0m\u001b[0m\n\u001b[0m\u001b[1;32m   1068\u001b[0m         \u001b[0;32massert\u001b[0m \u001b[0mresponse\u001b[0m\u001b[0;34m.\u001b[0m\u001b[0mwill_close\u001b[0m \u001b[0;34m!=\u001b[0m \u001b[0m_UNKNOWN\u001b[0m\u001b[0;34m\u001b[0m\u001b[0m\n\u001b[1;32m   1069\u001b[0m         \u001b[0mself\u001b[0m\u001b[0;34m.\u001b[0m\u001b[0m__state\u001b[0m \u001b[0;34m=\u001b[0m \u001b[0m_CS_IDLE\u001b[0m\u001b[0;34m\u001b[0m\u001b[0m\n",
        "\u001b[0;32m//anaconda/lib/python2.7/httplib.pyc\u001b[0m in \u001b[0;36mbegin\u001b[0;34m(self)\u001b[0m\n\u001b[1;32m    407\u001b[0m         \u001b[0;31m# read until we get a non-100 response\u001b[0m\u001b[0;34m\u001b[0m\u001b[0;34m\u001b[0m\u001b[0m\n\u001b[1;32m    408\u001b[0m         \u001b[0;32mwhile\u001b[0m \u001b[0mTrue\u001b[0m\u001b[0;34m:\u001b[0m\u001b[0;34m\u001b[0m\u001b[0m\n\u001b[0;32m--> 409\u001b[0;31m             \u001b[0mversion\u001b[0m\u001b[0;34m,\u001b[0m \u001b[0mstatus\u001b[0m\u001b[0;34m,\u001b[0m \u001b[0mreason\u001b[0m \u001b[0;34m=\u001b[0m \u001b[0mself\u001b[0m\u001b[0;34m.\u001b[0m\u001b[0m_read_status\u001b[0m\u001b[0;34m(\u001b[0m\u001b[0;34m)\u001b[0m\u001b[0;34m\u001b[0m\u001b[0m\n\u001b[0m\u001b[1;32m    410\u001b[0m             \u001b[0;32mif\u001b[0m \u001b[0mstatus\u001b[0m \u001b[0;34m!=\u001b[0m \u001b[0mCONTINUE\u001b[0m\u001b[0;34m:\u001b[0m\u001b[0;34m\u001b[0m\u001b[0m\n\u001b[1;32m    411\u001b[0m                 \u001b[0;32mbreak\u001b[0m\u001b[0;34m\u001b[0m\u001b[0m\n",
        "\u001b[0;32m//anaconda/lib/python2.7/httplib.pyc\u001b[0m in \u001b[0;36m_read_status\u001b[0;34m(self)\u001b[0m\n\u001b[1;32m    363\u001b[0m     \u001b[0;32mdef\u001b[0m \u001b[0m_read_status\u001b[0m\u001b[0;34m(\u001b[0m\u001b[0mself\u001b[0m\u001b[0;34m)\u001b[0m\u001b[0;34m:\u001b[0m\u001b[0;34m\u001b[0m\u001b[0m\n\u001b[1;32m    364\u001b[0m         \u001b[0;31m# Initialize with Simple-Response defaults\u001b[0m\u001b[0;34m\u001b[0m\u001b[0;34m\u001b[0m\u001b[0m\n\u001b[0;32m--> 365\u001b[0;31m         \u001b[0mline\u001b[0m \u001b[0;34m=\u001b[0m \u001b[0mself\u001b[0m\u001b[0;34m.\u001b[0m\u001b[0mfp\u001b[0m\u001b[0;34m.\u001b[0m\u001b[0mreadline\u001b[0m\u001b[0;34m(\u001b[0m\u001b[0m_MAXLINE\u001b[0m \u001b[0;34m+\u001b[0m \u001b[0;36m1\u001b[0m\u001b[0;34m)\u001b[0m\u001b[0;34m\u001b[0m\u001b[0m\n\u001b[0m\u001b[1;32m    366\u001b[0m         \u001b[0;32mif\u001b[0m \u001b[0mlen\u001b[0m\u001b[0;34m(\u001b[0m\u001b[0mline\u001b[0m\u001b[0;34m)\u001b[0m \u001b[0;34m>\u001b[0m \u001b[0m_MAXLINE\u001b[0m\u001b[0;34m:\u001b[0m\u001b[0;34m\u001b[0m\u001b[0m\n\u001b[1;32m    367\u001b[0m             \u001b[0;32mraise\u001b[0m \u001b[0mLineTooLong\u001b[0m\u001b[0;34m(\u001b[0m\u001b[0;34m\"header line\"\u001b[0m\u001b[0;34m)\u001b[0m\u001b[0;34m\u001b[0m\u001b[0m\n",
        "\u001b[0;32m//anaconda/lib/python2.7/socket.pyc\u001b[0m in \u001b[0;36mreadline\u001b[0;34m(self, size)\u001b[0m\n\u001b[1;32m    474\u001b[0m             \u001b[0;32mwhile\u001b[0m \u001b[0mTrue\u001b[0m\u001b[0;34m:\u001b[0m\u001b[0;34m\u001b[0m\u001b[0m\n\u001b[1;32m    475\u001b[0m                 \u001b[0;32mtry\u001b[0m\u001b[0;34m:\u001b[0m\u001b[0;34m\u001b[0m\u001b[0m\n\u001b[0;32m--> 476\u001b[0;31m                     \u001b[0mdata\u001b[0m \u001b[0;34m=\u001b[0m \u001b[0mself\u001b[0m\u001b[0;34m.\u001b[0m\u001b[0m_sock\u001b[0m\u001b[0;34m.\u001b[0m\u001b[0mrecv\u001b[0m\u001b[0;34m(\u001b[0m\u001b[0mself\u001b[0m\u001b[0;34m.\u001b[0m\u001b[0m_rbufsize\u001b[0m\u001b[0;34m)\u001b[0m\u001b[0;34m\u001b[0m\u001b[0m\n\u001b[0m\u001b[1;32m    477\u001b[0m                 \u001b[0;32mexcept\u001b[0m \u001b[0merror\u001b[0m\u001b[0;34m,\u001b[0m \u001b[0me\u001b[0m\u001b[0;34m:\u001b[0m\u001b[0;34m\u001b[0m\u001b[0m\n\u001b[1;32m    478\u001b[0m                     \u001b[0;32mif\u001b[0m \u001b[0me\u001b[0m\u001b[0;34m.\u001b[0m\u001b[0margs\u001b[0m\u001b[0;34m[\u001b[0m\u001b[0;36m0\u001b[0m\u001b[0;34m]\u001b[0m \u001b[0;34m==\u001b[0m \u001b[0mEINTR\u001b[0m\u001b[0;34m:\u001b[0m\u001b[0;34m\u001b[0m\u001b[0m\n",
        "\u001b[0;31mKeyboardInterrupt\u001b[0m: "
       ]
      }
     ],
     "prompt_number": 4
    },
    {
     "cell_type": "code",
     "collapsed": false,
     "input": [
      "#Environment Setting\n",
      "import grs\n",
      "from grs import TWSENo\n",
      "from grs import Stock\n",
      "obj_list = []\n",
      "remove_obj_list = []\n",
      "twse_no = TWSENo()\n",
      "unable = []\n",
      "month = 168\n",
      "\n",
      "\n",
      "#Build Stock List\n",
      "for i in twse_no.all_stock_no:\n",
      "\tif len(i) <= 4 :\n",
      "\t\tobj_list.append(i)\n",
      "\n",
      "#Helping Function\n",
      "def diff(a, b):\n",
      "        b = set(b)\n",
      "        return [aa for aa in a if aa not in b]\n",
      "\n",
      "#Getting Data\n",
      "def DBuild():\n",
      "\tglobal remove_obj_list, obj_list, month\n",
      "\tif len(obj_list) > 0:\n",
      "\t\tfor i in obj_list:\t\t\t\n",
      "\t\t\ttry:\n",
      "\t\t\t\tstock = Stock(i, month)\n",
      "\t\t\t\tfile_locate = \"/Users/Mac/Desktop/Stock Research/DataBase_test/\" + i + \".csv\"\n",
      "\t\t\t\tstock.out_putfile(file_locate)\n",
      "\t\t\texcept AttributeError:\n",
      "\t\t\t\tprint \"Error >>\", i, \"can not fetch month = \", month\n",
      "\t\t\telse:\n",
      "\t\t\t\tprint \"Get stock no.\", i, \"info for\", month, \"month\"\n",
      "\t\t\t\tremove_obj_list.append(i)\n",
      "\tprint \"Month = \", month, \" : Fetching finished!\"\n",
      "\tmonth = month - 12\t\n",
      "\n",
      "while month > 0:\n",
      "\tprint \"Fetching Start\"\n",
      "\tDBuild()\n",
      "\tobj_list = diff(obj_list, remove_obj_list)\n"
     ],
     "language": "python",
     "metadata": {},
     "outputs": [
      {
       "output_type": "stream",
       "stream": "stdout",
       "text": [
        "Fetching Start\n",
        "list index out of range"
       ]
      },
      {
       "output_type": "stream",
       "stream": "stdout",
       "text": [
        "\n",
        "Error >> 0059 can not fetch month =  168\n",
        "list index out of range"
       ]
      },
      {
       "output_type": "stream",
       "stream": "stdout",
       "text": [
        "\n",
        "Error >> 0058 can not fetch month =  168\n",
        "list index out of range"
       ]
      },
      {
       "output_type": "stream",
       "stream": "stdout",
       "text": [
        "\n",
        "Error >> 0053 can not fetch month =  168\n",
        "list index out of range"
       ]
      },
      {
       "output_type": "stream",
       "stream": "stdout",
       "text": [
        "\n",
        "Error >> 0052 can not fetch month =  168\n",
        "list index out of range"
       ]
      },
      {
       "output_type": "stream",
       "stream": "stdout",
       "text": [
        "\n",
        "Error >> 0051 can not fetch month =  168\n",
        "list index out of range"
       ]
      },
      {
       "output_type": "stream",
       "stream": "stdout",
       "text": [
        "\n",
        "Error >> 0050 can not fetch month =  168\n",
        "list index out of range"
       ]
      },
      {
       "output_type": "stream",
       "stream": "stdout",
       "text": [
        "\n",
        "Error >> 0057 can not fetch month =  168\n",
        "list index out of range"
       ]
      },
      {
       "output_type": "stream",
       "stream": "stdout",
       "text": [
        "\n",
        "Error >> 0056 can not fetch month =  168\n"
       ]
      },
      {
       "ename": "KeyboardInterrupt",
       "evalue": "",
       "output_type": "pyerr",
       "traceback": [
        "\u001b[0;31m---------------------------------------------------------------------------\u001b[0m\n\u001b[0;31mKeyboardInterrupt\u001b[0m                         Traceback (most recent call last)",
        "\u001b[0;32m<ipython-input-5-157d710f1581>\u001b[0m in \u001b[0;36m<module>\u001b[0;34m()\u001b[0m\n\u001b[1;32m     39\u001b[0m \u001b[0;32mwhile\u001b[0m \u001b[0mmonth\u001b[0m \u001b[0;34m>\u001b[0m \u001b[0;36m0\u001b[0m\u001b[0;34m:\u001b[0m\u001b[0;34m\u001b[0m\u001b[0m\n\u001b[1;32m     40\u001b[0m         \u001b[0;32mprint\u001b[0m \u001b[0;34m\"Fetching Start\"\u001b[0m\u001b[0;34m\u001b[0m\u001b[0m\n\u001b[0;32m---> 41\u001b[0;31m         \u001b[0mDBuild\u001b[0m\u001b[0;34m(\u001b[0m\u001b[0;34m)\u001b[0m\u001b[0;34m\u001b[0m\u001b[0m\n\u001b[0m\u001b[1;32m     42\u001b[0m         \u001b[0mobj_list\u001b[0m \u001b[0;34m=\u001b[0m \u001b[0mdiff\u001b[0m\u001b[0;34m(\u001b[0m\u001b[0mobj_list\u001b[0m\u001b[0;34m,\u001b[0m \u001b[0mremove_obj_list\u001b[0m\u001b[0;34m)\u001b[0m\u001b[0;34m\u001b[0m\u001b[0m\n",
        "\u001b[0;32m<ipython-input-5-157d710f1581>\u001b[0m in \u001b[0;36mDBuild\u001b[0;34m()\u001b[0m\n\u001b[1;32m     26\u001b[0m                 \u001b[0;32mfor\u001b[0m \u001b[0mi\u001b[0m \u001b[0;32min\u001b[0m \u001b[0mobj_list\u001b[0m\u001b[0;34m:\u001b[0m\u001b[0;34m\u001b[0m\u001b[0m\n\u001b[1;32m     27\u001b[0m                         \u001b[0;32mtry\u001b[0m\u001b[0;34m:\u001b[0m\u001b[0;34m\u001b[0m\u001b[0m\n\u001b[0;32m---> 28\u001b[0;31m                                 \u001b[0mstock\u001b[0m \u001b[0;34m=\u001b[0m \u001b[0mStock\u001b[0m\u001b[0;34m(\u001b[0m\u001b[0mi\u001b[0m\u001b[0;34m,\u001b[0m \u001b[0mmonth\u001b[0m\u001b[0;34m)\u001b[0m\u001b[0;34m\u001b[0m\u001b[0m\n\u001b[0m\u001b[1;32m     29\u001b[0m                                 \u001b[0mfile_locate\u001b[0m \u001b[0;34m=\u001b[0m \u001b[0;34m\"/Users/Mac/Desktop/Stock Research/DataBase_test/\"\u001b[0m \u001b[0;34m+\u001b[0m \u001b[0mi\u001b[0m \u001b[0;34m+\u001b[0m \u001b[0;34m\".csv\"\u001b[0m\u001b[0;34m\u001b[0m\u001b[0m\n\u001b[1;32m     30\u001b[0m                                 \u001b[0mstock\u001b[0m\u001b[0;34m.\u001b[0m\u001b[0mout_putfile\u001b[0m\u001b[0;34m(\u001b[0m\u001b[0mfile_locate\u001b[0m\u001b[0;34m)\u001b[0m\u001b[0;34m\u001b[0m\u001b[0m\n",
        "\u001b[0;32m//anaconda/lib/python2.7/site-packages/grs/fetch_data.pyc\u001b[0m in \u001b[0;36m__new__\u001b[0;34m(cls, stock_no, mons, twse, otc)\u001b[0m\n\u001b[1;32m    495\u001b[0m         \u001b[0mstock_proxy\u001b[0m\u001b[0;34m.\u001b[0m\u001b[0m__init__\u001b[0m\u001b[0;34m(\u001b[0m\u001b[0;34m)\u001b[0m\u001b[0;34m\u001b[0m\u001b[0m\n\u001b[1;32m    496\u001b[0m         \u001b[0;32mtry\u001b[0m\u001b[0;34m:\u001b[0m\u001b[0;34m\u001b[0m\u001b[0m\n\u001b[0;32m--> 497\u001b[0;31m             \u001b[0mcls\u001b[0m\u001b[0;34m.\u001b[0m\u001b[0m__raw_data\u001b[0m \u001b[0;34m=\u001b[0m \u001b[0mstock_proxy\u001b[0m\u001b[0;34m.\u001b[0m\u001b[0mserial_fetch\u001b[0m\u001b[0;34m(\u001b[0m\u001b[0mstock_no\u001b[0m\u001b[0;34m,\u001b[0m \u001b[0mmons\u001b[0m\u001b[0;34m,\u001b[0m \u001b[0mtwse\u001b[0m\u001b[0;34m)\u001b[0m\u001b[0;34m\u001b[0m\u001b[0m\n\u001b[0m\u001b[1;32m    498\u001b[0m             \u001b[0mstock_proxy\u001b[0m\u001b[0;34m.\u001b[0m\u001b[0m_load_data\u001b[0m\u001b[0;34m(\u001b[0m\u001b[0mcls\u001b[0m\u001b[0;34m.\u001b[0m\u001b[0m__raw_data\u001b[0m\u001b[0;34m)\u001b[0m\u001b[0;34m\u001b[0m\u001b[0m\n\u001b[1;32m    499\u001b[0m         \u001b[0;32mexcept\u001b[0m \u001b[0murllib3\u001b[0m\u001b[0;34m.\u001b[0m\u001b[0mexceptions\u001b[0m\u001b[0;34m.\u001b[0m\u001b[0mHTTPError\u001b[0m\u001b[0;34m:\u001b[0m\u001b[0;34m\u001b[0m\u001b[0m\n",
        "\u001b[0;32m//anaconda/lib/python2.7/site-packages/grs/fetch_data.pyc\u001b[0m in \u001b[0;36mserial_fetch\u001b[0;34m(self, stock_no, month, twse)\u001b[0m\n\u001b[1;32m     68\u001b[0m         \u001b[0;32mfor\u001b[0m \u001b[0mi\u001b[0m \u001b[0;32min\u001b[0m \u001b[0mrange\u001b[0m\u001b[0;34m(\u001b[0m\u001b[0mmonth\u001b[0m\u001b[0;34m)\u001b[0m\u001b[0;34m:\u001b[0m\u001b[0;34m\u001b[0m\u001b[0m\n\u001b[1;32m     69\u001b[0m             \u001b[0mnowdatetime\u001b[0m \u001b[0;34m=\u001b[0m \u001b[0mdatetime\u001b[0m\u001b[0;34m.\u001b[0m\u001b[0mtoday\u001b[0m\u001b[0;34m(\u001b[0m\u001b[0;34m)\u001b[0m \u001b[0;34m-\u001b[0m \u001b[0mrelativedelta\u001b[0m\u001b[0;34m(\u001b[0m\u001b[0mmonths\u001b[0m\u001b[0;34m=\u001b[0m\u001b[0mi\u001b[0m\u001b[0;34m)\u001b[0m\u001b[0;34m\u001b[0m\u001b[0m\n\u001b[0;32m---> 70\u001b[0;31m             \u001b[0mtolist\u001b[0m \u001b[0;34m=\u001b[0m \u001b[0mself\u001b[0m\u001b[0;34m.\u001b[0m\u001b[0mto_list\u001b[0m\u001b[0;34m(\u001b[0m\u001b[0mself\u001b[0m\u001b[0;34m.\u001b[0m\u001b[0mfetch_data\u001b[0m\u001b[0;34m(\u001b[0m\u001b[0mstock_no\u001b[0m\u001b[0;34m,\u001b[0m \u001b[0mnowdatetime\u001b[0m\u001b[0;34m)\u001b[0m\u001b[0;34m)\u001b[0m\u001b[0;34m\u001b[0m\u001b[0m\n\u001b[0m\u001b[1;32m     71\u001b[0m             \u001b[0mresult\u001b[0m \u001b[0;34m=\u001b[0m \u001b[0mtolist\u001b[0m \u001b[0;34m+\u001b[0m \u001b[0mresult\u001b[0m\u001b[0;34m\u001b[0m\u001b[0m\n\u001b[1;32m     72\u001b[0m         \u001b[0;32mreturn\u001b[0m \u001b[0mtuple\u001b[0m\u001b[0;34m(\u001b[0m\u001b[0mresult\u001b[0m\u001b[0;34m)\u001b[0m\u001b[0;34m\u001b[0m\u001b[0m\n",
        "\u001b[0;32m//anaconda/lib/python2.7/site-packages/grs/fetch_data.pyc\u001b[0m in \u001b[0;36mfetch_data\u001b[0;34m(self, stock_no, nowdatetime)\u001b[0m\n\u001b[1;32m    204\u001b[0m                                        'rand': random.randrange(1, 1000000)}\n\u001b[1;32m    205\u001b[0m         \u001b[0mlogging\u001b[0m\u001b[0;34m.\u001b[0m\u001b[0minfo\u001b[0m\u001b[0;34m(\u001b[0m\u001b[0murl\u001b[0m\u001b[0;34m)\u001b[0m\u001b[0;34m\u001b[0m\u001b[0m\n\u001b[0;32m--> 206\u001b[0;31m         \u001b[0mresult\u001b[0m \u001b[0;34m=\u001b[0m \u001b[0mTWSE_CONNECTIONS\u001b[0m\u001b[0;34m.\u001b[0m\u001b[0murlopen\u001b[0m\u001b[0;34m(\u001b[0m\u001b[0;34m'GET'\u001b[0m\u001b[0;34m,\u001b[0m \u001b[0murl\u001b[0m\u001b[0;34m)\u001b[0m\u001b[0;34m\u001b[0m\u001b[0m\n\u001b[0m\u001b[1;32m    207\u001b[0m         \u001b[0mcsv_files\u001b[0m \u001b[0;34m=\u001b[0m \u001b[0mcsv\u001b[0m\u001b[0;34m.\u001b[0m\u001b[0mreader\u001b[0m\u001b[0;34m(\u001b[0m\u001b[0mStringIO\u001b[0m\u001b[0;34m(\u001b[0m\u001b[0mresult\u001b[0m\u001b[0;34m.\u001b[0m\u001b[0mdata\u001b[0m\u001b[0;34m)\u001b[0m\u001b[0;34m)\u001b[0m\u001b[0;34m\u001b[0m\u001b[0m\n\u001b[1;32m    208\u001b[0m         \u001b[0mself\u001b[0m\u001b[0;34m.\u001b[0m\u001b[0m__url\u001b[0m\u001b[0;34m.\u001b[0m\u001b[0mappend\u001b[0m\u001b[0;34m(\u001b[0m\u001b[0mTWSE_HOST\u001b[0m \u001b[0;34m+\u001b[0m \u001b[0murl\u001b[0m\u001b[0;34m)\u001b[0m\u001b[0;34m\u001b[0m\u001b[0m\n",
        "\u001b[0;32m//anaconda/lib/python2.7/site-packages/urllib3/connectionpool.pyc\u001b[0m in \u001b[0;36murlopen\u001b[0;34m(self, method, url, body, headers, retries, redirect, assert_same_host, timeout, pool_timeout, release_conn, **response_kw)\u001b[0m\n\u001b[1;32m    514\u001b[0m             httplib_response = self._make_request(conn, method, url,\n\u001b[1;32m    515\u001b[0m                                                   \u001b[0mtimeout\u001b[0m\u001b[0;34m=\u001b[0m\u001b[0mtimeout\u001b[0m\u001b[0;34m,\u001b[0m\u001b[0;34m\u001b[0m\u001b[0m\n\u001b[0;32m--> 516\u001b[0;31m                                                   body=body, headers=headers)\n\u001b[0m\u001b[1;32m    517\u001b[0m \u001b[0;34m\u001b[0m\u001b[0m\n\u001b[1;32m    518\u001b[0m             \u001b[0;31m# If we're going to release the connection in ``finally:``, then\u001b[0m\u001b[0;34m\u001b[0m\u001b[0;34m\u001b[0m\u001b[0m\n",
        "\u001b[0;32m//anaconda/lib/python2.7/site-packages/urllib3/connectionpool.pyc\u001b[0m in \u001b[0;36m_make_request\u001b[0;34m(self, conn, method, url, timeout, **httplib_request_kw)\u001b[0m\n\u001b[1;32m    329\u001b[0m         \u001b[0;32mtry\u001b[0m\u001b[0;34m:\u001b[0m\u001b[0;34m\u001b[0m\u001b[0m\n\u001b[1;32m    330\u001b[0m             \u001b[0;32mtry\u001b[0m\u001b[0;34m:\u001b[0m  \u001b[0;31m# Python 2.7+, use buffering of HTTP responses\u001b[0m\u001b[0;34m\u001b[0m\u001b[0m\n\u001b[0;32m--> 331\u001b[0;31m                 \u001b[0mhttplib_response\u001b[0m \u001b[0;34m=\u001b[0m \u001b[0mconn\u001b[0m\u001b[0;34m.\u001b[0m\u001b[0mgetresponse\u001b[0m\u001b[0;34m(\u001b[0m\u001b[0mbuffering\u001b[0m\u001b[0;34m=\u001b[0m\u001b[0mTrue\u001b[0m\u001b[0;34m)\u001b[0m\u001b[0;34m\u001b[0m\u001b[0m\n\u001b[0m\u001b[1;32m    332\u001b[0m             \u001b[0;32mexcept\u001b[0m \u001b[0mTypeError\u001b[0m\u001b[0;34m:\u001b[0m  \u001b[0;31m# Python 2.6 and older\u001b[0m\u001b[0;34m\u001b[0m\u001b[0m\n\u001b[1;32m    333\u001b[0m                 \u001b[0mhttplib_response\u001b[0m \u001b[0;34m=\u001b[0m \u001b[0mconn\u001b[0m\u001b[0;34m.\u001b[0m\u001b[0mgetresponse\u001b[0m\u001b[0;34m(\u001b[0m\u001b[0;34m)\u001b[0m\u001b[0;34m\u001b[0m\u001b[0m\n",
        "\u001b[0;32m//anaconda/lib/python2.7/httplib.pyc\u001b[0m in \u001b[0;36mgetresponse\u001b[0;34m(self, buffering)\u001b[0m\n\u001b[1;32m   1065\u001b[0m         \u001b[0mresponse\u001b[0m \u001b[0;34m=\u001b[0m \u001b[0mself\u001b[0m\u001b[0;34m.\u001b[0m\u001b[0mresponse_class\u001b[0m\u001b[0;34m(\u001b[0m\u001b[0;34m*\u001b[0m\u001b[0margs\u001b[0m\u001b[0;34m,\u001b[0m \u001b[0;34m**\u001b[0m\u001b[0mkwds\u001b[0m\u001b[0;34m)\u001b[0m\u001b[0;34m\u001b[0m\u001b[0m\n\u001b[1;32m   1066\u001b[0m \u001b[0;34m\u001b[0m\u001b[0m\n\u001b[0;32m-> 1067\u001b[0;31m         \u001b[0mresponse\u001b[0m\u001b[0;34m.\u001b[0m\u001b[0mbegin\u001b[0m\u001b[0;34m(\u001b[0m\u001b[0;34m)\u001b[0m\u001b[0;34m\u001b[0m\u001b[0m\n\u001b[0m\u001b[1;32m   1068\u001b[0m         \u001b[0;32massert\u001b[0m \u001b[0mresponse\u001b[0m\u001b[0;34m.\u001b[0m\u001b[0mwill_close\u001b[0m \u001b[0;34m!=\u001b[0m \u001b[0m_UNKNOWN\u001b[0m\u001b[0;34m\u001b[0m\u001b[0m\n\u001b[1;32m   1069\u001b[0m         \u001b[0mself\u001b[0m\u001b[0;34m.\u001b[0m\u001b[0m__state\u001b[0m \u001b[0;34m=\u001b[0m \u001b[0m_CS_IDLE\u001b[0m\u001b[0;34m\u001b[0m\u001b[0m\n",
        "\u001b[0;32m//anaconda/lib/python2.7/httplib.pyc\u001b[0m in \u001b[0;36mbegin\u001b[0;34m(self)\u001b[0m\n\u001b[1;32m    407\u001b[0m         \u001b[0;31m# read until we get a non-100 response\u001b[0m\u001b[0;34m\u001b[0m\u001b[0;34m\u001b[0m\u001b[0m\n\u001b[1;32m    408\u001b[0m         \u001b[0;32mwhile\u001b[0m \u001b[0mTrue\u001b[0m\u001b[0;34m:\u001b[0m\u001b[0;34m\u001b[0m\u001b[0m\n\u001b[0;32m--> 409\u001b[0;31m             \u001b[0mversion\u001b[0m\u001b[0;34m,\u001b[0m \u001b[0mstatus\u001b[0m\u001b[0;34m,\u001b[0m \u001b[0mreason\u001b[0m \u001b[0;34m=\u001b[0m \u001b[0mself\u001b[0m\u001b[0;34m.\u001b[0m\u001b[0m_read_status\u001b[0m\u001b[0;34m(\u001b[0m\u001b[0;34m)\u001b[0m\u001b[0;34m\u001b[0m\u001b[0m\n\u001b[0m\u001b[1;32m    410\u001b[0m             \u001b[0;32mif\u001b[0m \u001b[0mstatus\u001b[0m \u001b[0;34m!=\u001b[0m \u001b[0mCONTINUE\u001b[0m\u001b[0;34m:\u001b[0m\u001b[0;34m\u001b[0m\u001b[0m\n\u001b[1;32m    411\u001b[0m                 \u001b[0;32mbreak\u001b[0m\u001b[0;34m\u001b[0m\u001b[0m\n",
        "\u001b[0;32m//anaconda/lib/python2.7/httplib.pyc\u001b[0m in \u001b[0;36m_read_status\u001b[0;34m(self)\u001b[0m\n\u001b[1;32m    363\u001b[0m     \u001b[0;32mdef\u001b[0m \u001b[0m_read_status\u001b[0m\u001b[0;34m(\u001b[0m\u001b[0mself\u001b[0m\u001b[0;34m)\u001b[0m\u001b[0;34m:\u001b[0m\u001b[0;34m\u001b[0m\u001b[0m\n\u001b[1;32m    364\u001b[0m         \u001b[0;31m# Initialize with Simple-Response defaults\u001b[0m\u001b[0;34m\u001b[0m\u001b[0;34m\u001b[0m\u001b[0m\n\u001b[0;32m--> 365\u001b[0;31m         \u001b[0mline\u001b[0m \u001b[0;34m=\u001b[0m \u001b[0mself\u001b[0m\u001b[0;34m.\u001b[0m\u001b[0mfp\u001b[0m\u001b[0;34m.\u001b[0m\u001b[0mreadline\u001b[0m\u001b[0;34m(\u001b[0m\u001b[0m_MAXLINE\u001b[0m \u001b[0;34m+\u001b[0m \u001b[0;36m1\u001b[0m\u001b[0;34m)\u001b[0m\u001b[0;34m\u001b[0m\u001b[0m\n\u001b[0m\u001b[1;32m    366\u001b[0m         \u001b[0;32mif\u001b[0m \u001b[0mlen\u001b[0m\u001b[0;34m(\u001b[0m\u001b[0mline\u001b[0m\u001b[0;34m)\u001b[0m \u001b[0;34m>\u001b[0m \u001b[0m_MAXLINE\u001b[0m\u001b[0;34m:\u001b[0m\u001b[0;34m\u001b[0m\u001b[0m\n\u001b[1;32m    367\u001b[0m             \u001b[0;32mraise\u001b[0m \u001b[0mLineTooLong\u001b[0m\u001b[0;34m(\u001b[0m\u001b[0;34m\"header line\"\u001b[0m\u001b[0;34m)\u001b[0m\u001b[0;34m\u001b[0m\u001b[0m\n",
        "\u001b[0;32m//anaconda/lib/python2.7/socket.pyc\u001b[0m in \u001b[0;36mreadline\u001b[0;34m(self, size)\u001b[0m\n\u001b[1;32m    474\u001b[0m             \u001b[0;32mwhile\u001b[0m \u001b[0mTrue\u001b[0m\u001b[0;34m:\u001b[0m\u001b[0;34m\u001b[0m\u001b[0m\n\u001b[1;32m    475\u001b[0m                 \u001b[0;32mtry\u001b[0m\u001b[0;34m:\u001b[0m\u001b[0;34m\u001b[0m\u001b[0m\n\u001b[0;32m--> 476\u001b[0;31m                     \u001b[0mdata\u001b[0m \u001b[0;34m=\u001b[0m \u001b[0mself\u001b[0m\u001b[0;34m.\u001b[0m\u001b[0m_sock\u001b[0m\u001b[0;34m.\u001b[0m\u001b[0mrecv\u001b[0m\u001b[0;34m(\u001b[0m\u001b[0mself\u001b[0m\u001b[0;34m.\u001b[0m\u001b[0m_rbufsize\u001b[0m\u001b[0;34m)\u001b[0m\u001b[0;34m\u001b[0m\u001b[0m\n\u001b[0m\u001b[1;32m    477\u001b[0m                 \u001b[0;32mexcept\u001b[0m \u001b[0merror\u001b[0m\u001b[0;34m,\u001b[0m \u001b[0me\u001b[0m\u001b[0;34m:\u001b[0m\u001b[0;34m\u001b[0m\u001b[0m\n\u001b[1;32m    478\u001b[0m                     \u001b[0;32mif\u001b[0m \u001b[0me\u001b[0m\u001b[0;34m.\u001b[0m\u001b[0margs\u001b[0m\u001b[0;34m[\u001b[0m\u001b[0;36m0\u001b[0m\u001b[0;34m]\u001b[0m \u001b[0;34m==\u001b[0m \u001b[0mEINTR\u001b[0m\u001b[0;34m:\u001b[0m\u001b[0;34m\u001b[0m\u001b[0m\n",
        "\u001b[0;31mKeyboardInterrupt\u001b[0m: "
       ]
      }
     ],
     "prompt_number": 5
    },
    {
     "cell_type": "code",
     "collapsed": false,
     "input": [
      "#Environment Setting\n",
      "import grs\n",
      "from grs import TWSENo\n",
      "from grs import Stock\n",
      "obj_list = [\"6412\", \"1626\", \"4536\"]\n",
      "remove_obj_list = []\n",
      "twse_no = TWSENo()\n",
      "unable = []\n",
      "month = 168\n",
      "\n",
      "\n",
      "#Build Stock List\n",
      "'''\n",
      "for i in twse_no.all_stock_no:\n",
      "\tif len(i) <= 4 :\n",
      "\t\tobj_list.append(i)\n",
      "'''\n",
      "\n",
      "#Helping Function\n",
      "def diff(a, b):\n",
      "        b = set(b)\n",
      "        return [aa for aa in a if aa not in b]\n",
      "\n",
      "#Getting Data\n",
      "def DBuild():\n",
      "\tglobal remove_obj_list, obj_list, month\n",
      "\tif len(obj_list) > 0:\n",
      "\t\tfor i in obj_list:\t\t\t\n",
      "\t\t\ttry:\n",
      "\t\t\t\tstock = Stock(i, month)\n",
      "\t\t\t\tfile_locate = \"/Users/Mac/Desktop/Stock Research/DataBase_test/\" + i + \".csv\"\n",
      "\t\t\t\tstock.out_putfile(file_locate)\n",
      "\t\t\texcept AttributeError:\n",
      "\t\t\t\tprint \"Error >>\", i, \"can not fetch month = \", month\n",
      "\t\t\telse:\n",
      "\t\t\t\tprint \"Get stock no.\", i, \"info for\", month, \"month\"\n",
      "\t\t\t\tremove_obj_list.append(i)\n",
      "\tprint \"Month = \", month, \" : Fetching finished!\"\n",
      "\tmonth = month - 12\t\n",
      "\n",
      "while month > 0:\n",
      "\tprint \"Fetching Start\"\n",
      "\tDBuild()\n",
      "\tobj_list = diff(obj_list, remove_obj_list)\n"
     ],
     "language": "python",
     "metadata": {},
     "outputs": [
      {
       "output_type": "stream",
       "stream": "stdout",
       "text": [
        "Fetching Start\n",
        "list index out of range"
       ]
      },
      {
       "output_type": "stream",
       "stream": "stdout",
       "text": [
        "\n",
        "Error >> 6412 can not fetch month =  168\n",
        "list index out of range"
       ]
      },
      {
       "output_type": "stream",
       "stream": "stdout",
       "text": [
        "\n",
        "Error >> 1626 can not fetch month =  168\n",
        "list index out of range"
       ]
      },
      {
       "output_type": "stream",
       "stream": "stdout",
       "text": [
        "\n",
        "Error >> 4536 can not fetch month =  168\n",
        "Month =  168  : Fetching finished!\n",
        "Fetching Start\n",
        "list index out of range"
       ]
      },
      {
       "output_type": "stream",
       "stream": "stdout",
       "text": [
        "\n",
        "Error >> 6412 can not fetch month =  156\n",
        "list index out of range"
       ]
      },
      {
       "output_type": "stream",
       "stream": "stdout",
       "text": [
        "\n",
        "Error >> 1626 can not fetch month =  156\n",
        "list index out of range"
       ]
      },
      {
       "output_type": "stream",
       "stream": "stdout",
       "text": [
        "\n",
        "Error >> 4536 can not fetch month =  156\n",
        "Month =  156  : Fetching finished!\n",
        "Fetching Start\n",
        "list index out of range"
       ]
      },
      {
       "output_type": "stream",
       "stream": "stdout",
       "text": [
        "\n",
        "Error >> 6412 can not fetch month =  144\n",
        "list index out of range"
       ]
      },
      {
       "output_type": "stream",
       "stream": "stdout",
       "text": [
        "\n",
        "Error >> 1626 can not fetch month =  144\n",
        "list index out of range"
       ]
      },
      {
       "output_type": "stream",
       "stream": "stdout",
       "text": [
        "\n",
        "Error >> 4536 can not fetch month =  144\n",
        "Month =  144  : Fetching finished!\n",
        "Fetching Start\n",
        "list index out of range"
       ]
      },
      {
       "output_type": "stream",
       "stream": "stdout",
       "text": [
        "\n",
        "Error >> 6412 can not fetch month =  132\n",
        "list index out of range"
       ]
      },
      {
       "output_type": "stream",
       "stream": "stdout",
       "text": [
        "\n",
        "Error >> 1626 can not fetch month =  132\n",
        "list index out of range"
       ]
      },
      {
       "output_type": "stream",
       "stream": "stdout",
       "text": [
        "\n",
        "Error >> 4536 can not fetch month =  132\n",
        "Month =  132  : Fetching finished!\n",
        "Fetching Start\n",
        "list index out of range"
       ]
      },
      {
       "output_type": "stream",
       "stream": "stdout",
       "text": [
        "\n",
        "Error >> 6412 can not fetch month =  120\n",
        "list index out of range"
       ]
      },
      {
       "output_type": "stream",
       "stream": "stdout",
       "text": [
        "\n",
        "Error >> 1626 can not fetch month =  120\n",
        "list index out of range"
       ]
      },
      {
       "output_type": "stream",
       "stream": "stdout",
       "text": [
        "\n",
        "Error >> 4536 can not fetch month =  120\n",
        "Month =  120  : Fetching finished!\n",
        "Fetching Start\n",
        "list index out of range"
       ]
      },
      {
       "output_type": "stream",
       "stream": "stdout",
       "text": [
        "\n",
        "Error >> 6412 can not fetch month =  108\n",
        "list index out of range"
       ]
      },
      {
       "output_type": "stream",
       "stream": "stdout",
       "text": [
        "\n",
        "Error >> 1626 can not fetch month =  108\n",
        "list index out of range"
       ]
      },
      {
       "output_type": "stream",
       "stream": "stdout",
       "text": [
        "\n",
        "Error >> 4536 can not fetch month =  108\n",
        "Month =  108  : Fetching finished!\n",
        "Fetching Start\n",
        "list index out of range"
       ]
      },
      {
       "output_type": "stream",
       "stream": "stdout",
       "text": [
        "\n",
        "Error >> 6412 can not fetch month =  96\n",
        "list index out of range"
       ]
      },
      {
       "output_type": "stream",
       "stream": "stdout",
       "text": [
        "\n",
        "Error >> 1626 can not fetch month =  96\n",
        "list index out of range"
       ]
      },
      {
       "output_type": "stream",
       "stream": "stdout",
       "text": [
        "\n",
        "Error >> 4536 can not fetch month =  96\n",
        "Month =  96  : Fetching finished!\n",
        "Fetching Start\n",
        "list index out of range"
       ]
      },
      {
       "output_type": "stream",
       "stream": "stdout",
       "text": [
        "\n",
        "Error >> 6412 can not fetch month =  84\n",
        "list index out of range"
       ]
      },
      {
       "output_type": "stream",
       "stream": "stdout",
       "text": [
        "\n",
        "Error >> 1626 can not fetch month =  84\n",
        "list index out of range"
       ]
      },
      {
       "output_type": "stream",
       "stream": "stdout",
       "text": [
        "\n",
        "Error >> 4536 can not fetch month =  84\n",
        "Month =  84  : Fetching finished!\n",
        "Fetching Start\n",
        "list index out of range"
       ]
      },
      {
       "output_type": "stream",
       "stream": "stdout",
       "text": [
        "\n",
        "Error >> 6412 can not fetch month =  72\n",
        "list index out of range"
       ]
      },
      {
       "output_type": "stream",
       "stream": "stdout",
       "text": [
        "\n",
        "Error >> 1626 can not fetch month =  72\n",
        "list index out of range"
       ]
      },
      {
       "output_type": "stream",
       "stream": "stdout",
       "text": [
        "\n",
        "Error >> 4536 can not fetch month =  72\n",
        "Month =  72  : Fetching finished!\n",
        "Fetching Start\n",
        "list index out of range"
       ]
      },
      {
       "output_type": "stream",
       "stream": "stdout",
       "text": [
        "\n",
        "Error >> 6412 can not fetch month =  60\n",
        "list index out of range"
       ]
      },
      {
       "output_type": "stream",
       "stream": "stdout",
       "text": [
        "\n",
        "Error >> 1626 can not fetch month =  60\n",
        "list index out of range"
       ]
      },
      {
       "output_type": "stream",
       "stream": "stdout",
       "text": [
        "\n",
        "Error >> 4536 can not fetch month =  60\n",
        "Month =  60  : Fetching finished!\n",
        "Fetching Start\n",
        "list index out of range"
       ]
      },
      {
       "output_type": "stream",
       "stream": "stdout",
       "text": [
        "\n",
        "Error >> 6412 can not fetch month =  48\n",
        "list index out of range"
       ]
      },
      {
       "output_type": "stream",
       "stream": "stdout",
       "text": [
        "\n",
        "Error >> 1626 can not fetch month =  48\n",
        "list index out of range"
       ]
      },
      {
       "output_type": "stream",
       "stream": "stdout",
       "text": [
        "\n",
        "Error >> 4536 can not fetch month =  48\n",
        "Month =  48  : Fetching finished!\n",
        "Fetching Start\n",
        "list index out of range"
       ]
      },
      {
       "output_type": "stream",
       "stream": "stdout",
       "text": [
        "\n",
        "Error >> 6412 can not fetch month =  36\n",
        "list index out of range"
       ]
      },
      {
       "output_type": "stream",
       "stream": "stdout",
       "text": [
        "\n",
        "Error >> 1626 can not fetch month =  36\n",
        "list index out of range"
       ]
      },
      {
       "output_type": "stream",
       "stream": "stdout",
       "text": [
        "\n",
        "Error >> 4536 can not fetch month =  36\n",
        "Month =  36  : Fetching finished!\n",
        "Fetching Start\n",
        "list index out of range"
       ]
      },
      {
       "output_type": "stream",
       "stream": "stdout",
       "text": [
        "\n",
        "Error >> 6412 can not fetch month =  24\n",
        "list index out of range"
       ]
      },
      {
       "output_type": "stream",
       "stream": "stdout",
       "text": [
        "\n",
        "Error >> 1626 can not fetch month =  24\n",
        "list index out of range"
       ]
      },
      {
       "output_type": "stream",
       "stream": "stdout",
       "text": [
        "\n",
        "Error >> 4536 can not fetch month =  24\n",
        "Month =  24  : Fetching finished!\n",
        "Fetching Start\n",
        "Get stock no."
       ]
      },
      {
       "output_type": "stream",
       "stream": "stdout",
       "text": [
        " 6412 info for 12 month\n",
        "Get stock no."
       ]
      },
      {
       "output_type": "stream",
       "stream": "stdout",
       "text": [
        " 1626 info for 12 month\n",
        "Get stock no."
       ]
      },
      {
       "output_type": "stream",
       "stream": "stdout",
       "text": [
        " 4536 info for 12 month\n",
        "Month =  12  : Fetching finished!\n"
       ]
      }
     ],
     "prompt_number": 6
    },
    {
     "cell_type": "code",
     "collapsed": false,
     "input": [
      "#Environment Setting\n",
      "import grs\n",
      "from grs import TWSENo\n",
      "from grs import Stock\n",
      "obj_list = [\"6412\", \"1626\", \"4536\"]\n",
      "remove_obj_list = []\n",
      "twse_no = TWSENo()\n",
      "unable = []\n",
      "month = 168\n",
      "\n",
      "\n",
      "#Build Stock List\n",
      "for i in twse_no.all_stock_no:\n",
      "\tif len(i) <= 4 :\n",
      "\t\tobj_list.append(i)\n",
      "\n",
      "#Helping Function\n",
      "def diff(a, b):\n",
      "        b = set(b)\n",
      "        return [aa for aa in a if aa not in b]\n",
      "\n",
      "#Getting Data\n",
      "def DBuild():\n",
      "\tglobal remove_obj_list, obj_list, month\n",
      "\tif len(obj_list) > 0:\n",
      "\t\tfor i in obj_list:\t\t\t\n",
      "\t\t\ttry:\n",
      "\t\t\t\tstock = Stock(i, month)\n",
      "\t\t\t\tfile_locate = \"/Users/Mac/Desktop/Stock Research/DataBase_test/\" + i + \".csv\"\n",
      "\t\t\t\tstock.out_putfile(file_locate)\n",
      "\t\t\texcept AttributeError:\n",
      "\t\t\t\tprint \"Error >>\", i, \"can not fetch month = \", month\n",
      "\t\t\telse:\n",
      "\t\t\t\tprint \"Get stock no.\", i, \"info for\", month, \"month\"\n",
      "\t\t\t\tremove_obj_list.append(i)\n",
      "\tprint \"Month = \", month, \" : Fetching finished!\"\n",
      "\tmonth = month - 12\t\n",
      "\n",
      "while month > 0:\n",
      "\tprint \"Fetching Start\"\n",
      "\tDBuild()\n",
      "\tobj_list = diff(obj_list, remove_obj_list)\n",
      "else:\n",
      "\tprint \"////////////////////FINISHED////////////////////\"\n"
     ],
     "language": "python",
     "metadata": {},
     "outputs": [
      {
       "output_type": "stream",
       "stream": "stdout",
       "text": [
        "Fetching Start\n",
        "list index out of range"
       ]
      },
      {
       "output_type": "stream",
       "stream": "stdout",
       "text": [
        "\n",
        "Error >> 6412 can not fetch month =  168\n",
        "list index out of range"
       ]
      },
      {
       "output_type": "stream",
       "stream": "stdout",
       "text": [
        "\n",
        "Error >> 1626 can not fetch month =  168\n",
        "list index out of range"
       ]
      },
      {
       "output_type": "stream",
       "stream": "stdout",
       "text": [
        "\n",
        "Error >> 4536 can not fetch month =  168\n",
        "list index out of range"
       ]
      },
      {
       "output_type": "stream",
       "stream": "stdout",
       "text": [
        "\n",
        "Error >> 0059 can not fetch month =  168\n"
       ]
      },
      {
       "ename": "KeyboardInterrupt",
       "evalue": "",
       "output_type": "pyerr",
       "traceback": [
        "\u001b[0;31m---------------------------------------------------------------------------\u001b[0m\n\u001b[0;31mKeyboardInterrupt\u001b[0m                         Traceback (most recent call last)",
        "\u001b[0;32m<ipython-input-7-acb31cb01f41>\u001b[0m in \u001b[0;36m<module>\u001b[0;34m()\u001b[0m\n\u001b[1;32m     39\u001b[0m \u001b[0;32mwhile\u001b[0m \u001b[0mmonth\u001b[0m \u001b[0;34m>\u001b[0m \u001b[0;36m0\u001b[0m\u001b[0;34m:\u001b[0m\u001b[0;34m\u001b[0m\u001b[0m\n\u001b[1;32m     40\u001b[0m         \u001b[0;32mprint\u001b[0m \u001b[0;34m\"Fetching Start\"\u001b[0m\u001b[0;34m\u001b[0m\u001b[0m\n\u001b[0;32m---> 41\u001b[0;31m         \u001b[0mDBuild\u001b[0m\u001b[0;34m(\u001b[0m\u001b[0;34m)\u001b[0m\u001b[0;34m\u001b[0m\u001b[0m\n\u001b[0m\u001b[1;32m     42\u001b[0m         \u001b[0mobj_list\u001b[0m \u001b[0;34m=\u001b[0m \u001b[0mdiff\u001b[0m\u001b[0;34m(\u001b[0m\u001b[0mobj_list\u001b[0m\u001b[0;34m,\u001b[0m \u001b[0mremove_obj_list\u001b[0m\u001b[0;34m)\u001b[0m\u001b[0;34m\u001b[0m\u001b[0m\n\u001b[1;32m     43\u001b[0m \u001b[0;32melse\u001b[0m\u001b[0;34m:\u001b[0m\u001b[0;34m\u001b[0m\u001b[0m\n",
        "\u001b[0;32m<ipython-input-7-acb31cb01f41>\u001b[0m in \u001b[0;36mDBuild\u001b[0;34m()\u001b[0m\n\u001b[1;32m     26\u001b[0m                 \u001b[0;32mfor\u001b[0m \u001b[0mi\u001b[0m \u001b[0;32min\u001b[0m \u001b[0mobj_list\u001b[0m\u001b[0;34m:\u001b[0m\u001b[0;34m\u001b[0m\u001b[0m\n\u001b[1;32m     27\u001b[0m                         \u001b[0;32mtry\u001b[0m\u001b[0;34m:\u001b[0m\u001b[0;34m\u001b[0m\u001b[0m\n\u001b[0;32m---> 28\u001b[0;31m                                 \u001b[0mstock\u001b[0m \u001b[0;34m=\u001b[0m \u001b[0mStock\u001b[0m\u001b[0;34m(\u001b[0m\u001b[0mi\u001b[0m\u001b[0;34m,\u001b[0m \u001b[0mmonth\u001b[0m\u001b[0;34m)\u001b[0m\u001b[0;34m\u001b[0m\u001b[0m\n\u001b[0m\u001b[1;32m     29\u001b[0m                                 \u001b[0mfile_locate\u001b[0m \u001b[0;34m=\u001b[0m \u001b[0;34m\"/Users/Mac/Desktop/Stock Research/DataBase_test/\"\u001b[0m \u001b[0;34m+\u001b[0m \u001b[0mi\u001b[0m \u001b[0;34m+\u001b[0m \u001b[0;34m\".csv\"\u001b[0m\u001b[0;34m\u001b[0m\u001b[0m\n\u001b[1;32m     30\u001b[0m                                 \u001b[0mstock\u001b[0m\u001b[0;34m.\u001b[0m\u001b[0mout_putfile\u001b[0m\u001b[0;34m(\u001b[0m\u001b[0mfile_locate\u001b[0m\u001b[0;34m)\u001b[0m\u001b[0;34m\u001b[0m\u001b[0m\n",
        "\u001b[0;32m//anaconda/lib/python2.7/site-packages/grs/fetch_data.pyc\u001b[0m in \u001b[0;36m__new__\u001b[0;34m(cls, stock_no, mons, twse, otc)\u001b[0m\n\u001b[1;32m    495\u001b[0m         \u001b[0mstock_proxy\u001b[0m\u001b[0;34m.\u001b[0m\u001b[0m__init__\u001b[0m\u001b[0;34m(\u001b[0m\u001b[0;34m)\u001b[0m\u001b[0;34m\u001b[0m\u001b[0m\n\u001b[1;32m    496\u001b[0m         \u001b[0;32mtry\u001b[0m\u001b[0;34m:\u001b[0m\u001b[0;34m\u001b[0m\u001b[0m\n\u001b[0;32m--> 497\u001b[0;31m             \u001b[0mcls\u001b[0m\u001b[0;34m.\u001b[0m\u001b[0m__raw_data\u001b[0m \u001b[0;34m=\u001b[0m \u001b[0mstock_proxy\u001b[0m\u001b[0;34m.\u001b[0m\u001b[0mserial_fetch\u001b[0m\u001b[0;34m(\u001b[0m\u001b[0mstock_no\u001b[0m\u001b[0;34m,\u001b[0m \u001b[0mmons\u001b[0m\u001b[0;34m,\u001b[0m \u001b[0mtwse\u001b[0m\u001b[0;34m)\u001b[0m\u001b[0;34m\u001b[0m\u001b[0m\n\u001b[0m\u001b[1;32m    498\u001b[0m             \u001b[0mstock_proxy\u001b[0m\u001b[0;34m.\u001b[0m\u001b[0m_load_data\u001b[0m\u001b[0;34m(\u001b[0m\u001b[0mcls\u001b[0m\u001b[0;34m.\u001b[0m\u001b[0m__raw_data\u001b[0m\u001b[0;34m)\u001b[0m\u001b[0;34m\u001b[0m\u001b[0m\n\u001b[1;32m    499\u001b[0m         \u001b[0;32mexcept\u001b[0m \u001b[0murllib3\u001b[0m\u001b[0;34m.\u001b[0m\u001b[0mexceptions\u001b[0m\u001b[0;34m.\u001b[0m\u001b[0mHTTPError\u001b[0m\u001b[0;34m:\u001b[0m\u001b[0;34m\u001b[0m\u001b[0m\n",
        "\u001b[0;32m//anaconda/lib/python2.7/site-packages/grs/fetch_data.pyc\u001b[0m in \u001b[0;36mserial_fetch\u001b[0;34m(self, stock_no, month, twse)\u001b[0m\n\u001b[1;32m     68\u001b[0m         \u001b[0;32mfor\u001b[0m \u001b[0mi\u001b[0m \u001b[0;32min\u001b[0m \u001b[0mrange\u001b[0m\u001b[0;34m(\u001b[0m\u001b[0mmonth\u001b[0m\u001b[0;34m)\u001b[0m\u001b[0;34m:\u001b[0m\u001b[0;34m\u001b[0m\u001b[0m\n\u001b[1;32m     69\u001b[0m             \u001b[0mnowdatetime\u001b[0m \u001b[0;34m=\u001b[0m \u001b[0mdatetime\u001b[0m\u001b[0;34m.\u001b[0m\u001b[0mtoday\u001b[0m\u001b[0;34m(\u001b[0m\u001b[0;34m)\u001b[0m \u001b[0;34m-\u001b[0m \u001b[0mrelativedelta\u001b[0m\u001b[0;34m(\u001b[0m\u001b[0mmonths\u001b[0m\u001b[0;34m=\u001b[0m\u001b[0mi\u001b[0m\u001b[0;34m)\u001b[0m\u001b[0;34m\u001b[0m\u001b[0m\n\u001b[0;32m---> 70\u001b[0;31m             \u001b[0mtolist\u001b[0m \u001b[0;34m=\u001b[0m \u001b[0mself\u001b[0m\u001b[0;34m.\u001b[0m\u001b[0mto_list\u001b[0m\u001b[0;34m(\u001b[0m\u001b[0mself\u001b[0m\u001b[0;34m.\u001b[0m\u001b[0mfetch_data\u001b[0m\u001b[0;34m(\u001b[0m\u001b[0mstock_no\u001b[0m\u001b[0;34m,\u001b[0m \u001b[0mnowdatetime\u001b[0m\u001b[0;34m)\u001b[0m\u001b[0;34m)\u001b[0m\u001b[0;34m\u001b[0m\u001b[0m\n\u001b[0m\u001b[1;32m     71\u001b[0m             \u001b[0mresult\u001b[0m \u001b[0;34m=\u001b[0m \u001b[0mtolist\u001b[0m \u001b[0;34m+\u001b[0m \u001b[0mresult\u001b[0m\u001b[0;34m\u001b[0m\u001b[0m\n\u001b[1;32m     72\u001b[0m         \u001b[0;32mreturn\u001b[0m \u001b[0mtuple\u001b[0m\u001b[0;34m(\u001b[0m\u001b[0mresult\u001b[0m\u001b[0;34m)\u001b[0m\u001b[0;34m\u001b[0m\u001b[0m\n",
        "\u001b[0;32m//anaconda/lib/python2.7/site-packages/grs/fetch_data.pyc\u001b[0m in \u001b[0;36mfetch_data\u001b[0;34m(self, stock_no, nowdatetime)\u001b[0m\n\u001b[1;32m    204\u001b[0m                                        'rand': random.randrange(1, 1000000)}\n\u001b[1;32m    205\u001b[0m         \u001b[0mlogging\u001b[0m\u001b[0;34m.\u001b[0m\u001b[0minfo\u001b[0m\u001b[0;34m(\u001b[0m\u001b[0murl\u001b[0m\u001b[0;34m)\u001b[0m\u001b[0;34m\u001b[0m\u001b[0m\n\u001b[0;32m--> 206\u001b[0;31m         \u001b[0mresult\u001b[0m \u001b[0;34m=\u001b[0m \u001b[0mTWSE_CONNECTIONS\u001b[0m\u001b[0;34m.\u001b[0m\u001b[0murlopen\u001b[0m\u001b[0;34m(\u001b[0m\u001b[0;34m'GET'\u001b[0m\u001b[0;34m,\u001b[0m \u001b[0murl\u001b[0m\u001b[0;34m)\u001b[0m\u001b[0;34m\u001b[0m\u001b[0m\n\u001b[0m\u001b[1;32m    207\u001b[0m         \u001b[0mcsv_files\u001b[0m \u001b[0;34m=\u001b[0m \u001b[0mcsv\u001b[0m\u001b[0;34m.\u001b[0m\u001b[0mreader\u001b[0m\u001b[0;34m(\u001b[0m\u001b[0mStringIO\u001b[0m\u001b[0;34m(\u001b[0m\u001b[0mresult\u001b[0m\u001b[0;34m.\u001b[0m\u001b[0mdata\u001b[0m\u001b[0;34m)\u001b[0m\u001b[0;34m)\u001b[0m\u001b[0;34m\u001b[0m\u001b[0m\n\u001b[1;32m    208\u001b[0m         \u001b[0mself\u001b[0m\u001b[0;34m.\u001b[0m\u001b[0m__url\u001b[0m\u001b[0;34m.\u001b[0m\u001b[0mappend\u001b[0m\u001b[0;34m(\u001b[0m\u001b[0mTWSE_HOST\u001b[0m \u001b[0;34m+\u001b[0m \u001b[0murl\u001b[0m\u001b[0;34m)\u001b[0m\u001b[0;34m\u001b[0m\u001b[0m\n",
        "\u001b[0;32m//anaconda/lib/python2.7/site-packages/urllib3/connectionpool.pyc\u001b[0m in \u001b[0;36murlopen\u001b[0;34m(self, method, url, body, headers, retries, redirect, assert_same_host, timeout, pool_timeout, release_conn, **response_kw)\u001b[0m\n\u001b[1;32m    514\u001b[0m             httplib_response = self._make_request(conn, method, url,\n\u001b[1;32m    515\u001b[0m                                                   \u001b[0mtimeout\u001b[0m\u001b[0;34m=\u001b[0m\u001b[0mtimeout\u001b[0m\u001b[0;34m,\u001b[0m\u001b[0;34m\u001b[0m\u001b[0m\n\u001b[0;32m--> 516\u001b[0;31m                                                   body=body, headers=headers)\n\u001b[0m\u001b[1;32m    517\u001b[0m \u001b[0;34m\u001b[0m\u001b[0m\n\u001b[1;32m    518\u001b[0m             \u001b[0;31m# If we're going to release the connection in ``finally:``, then\u001b[0m\u001b[0;34m\u001b[0m\u001b[0;34m\u001b[0m\u001b[0m\n",
        "\u001b[0;32m//anaconda/lib/python2.7/site-packages/urllib3/connectionpool.pyc\u001b[0m in \u001b[0;36m_make_request\u001b[0;34m(self, conn, method, url, timeout, **httplib_request_kw)\u001b[0m\n\u001b[1;32m    329\u001b[0m         \u001b[0;32mtry\u001b[0m\u001b[0;34m:\u001b[0m\u001b[0;34m\u001b[0m\u001b[0m\n\u001b[1;32m    330\u001b[0m             \u001b[0;32mtry\u001b[0m\u001b[0;34m:\u001b[0m  \u001b[0;31m# Python 2.7+, use buffering of HTTP responses\u001b[0m\u001b[0;34m\u001b[0m\u001b[0m\n\u001b[0;32m--> 331\u001b[0;31m                 \u001b[0mhttplib_response\u001b[0m \u001b[0;34m=\u001b[0m \u001b[0mconn\u001b[0m\u001b[0;34m.\u001b[0m\u001b[0mgetresponse\u001b[0m\u001b[0;34m(\u001b[0m\u001b[0mbuffering\u001b[0m\u001b[0;34m=\u001b[0m\u001b[0mTrue\u001b[0m\u001b[0;34m)\u001b[0m\u001b[0;34m\u001b[0m\u001b[0m\n\u001b[0m\u001b[1;32m    332\u001b[0m             \u001b[0;32mexcept\u001b[0m \u001b[0mTypeError\u001b[0m\u001b[0;34m:\u001b[0m  \u001b[0;31m# Python 2.6 and older\u001b[0m\u001b[0;34m\u001b[0m\u001b[0m\n\u001b[1;32m    333\u001b[0m                 \u001b[0mhttplib_response\u001b[0m \u001b[0;34m=\u001b[0m \u001b[0mconn\u001b[0m\u001b[0;34m.\u001b[0m\u001b[0mgetresponse\u001b[0m\u001b[0;34m(\u001b[0m\u001b[0;34m)\u001b[0m\u001b[0;34m\u001b[0m\u001b[0m\n",
        "\u001b[0;32m//anaconda/lib/python2.7/httplib.pyc\u001b[0m in \u001b[0;36mgetresponse\u001b[0;34m(self, buffering)\u001b[0m\n\u001b[1;32m   1065\u001b[0m         \u001b[0mresponse\u001b[0m \u001b[0;34m=\u001b[0m \u001b[0mself\u001b[0m\u001b[0;34m.\u001b[0m\u001b[0mresponse_class\u001b[0m\u001b[0;34m(\u001b[0m\u001b[0;34m*\u001b[0m\u001b[0margs\u001b[0m\u001b[0;34m,\u001b[0m \u001b[0;34m**\u001b[0m\u001b[0mkwds\u001b[0m\u001b[0;34m)\u001b[0m\u001b[0;34m\u001b[0m\u001b[0m\n\u001b[1;32m   1066\u001b[0m \u001b[0;34m\u001b[0m\u001b[0m\n\u001b[0;32m-> 1067\u001b[0;31m         \u001b[0mresponse\u001b[0m\u001b[0;34m.\u001b[0m\u001b[0mbegin\u001b[0m\u001b[0;34m(\u001b[0m\u001b[0;34m)\u001b[0m\u001b[0;34m\u001b[0m\u001b[0m\n\u001b[0m\u001b[1;32m   1068\u001b[0m         \u001b[0;32massert\u001b[0m \u001b[0mresponse\u001b[0m\u001b[0;34m.\u001b[0m\u001b[0mwill_close\u001b[0m \u001b[0;34m!=\u001b[0m \u001b[0m_UNKNOWN\u001b[0m\u001b[0;34m\u001b[0m\u001b[0m\n\u001b[1;32m   1069\u001b[0m         \u001b[0mself\u001b[0m\u001b[0;34m.\u001b[0m\u001b[0m__state\u001b[0m \u001b[0;34m=\u001b[0m \u001b[0m_CS_IDLE\u001b[0m\u001b[0;34m\u001b[0m\u001b[0m\n",
        "\u001b[0;32m//anaconda/lib/python2.7/httplib.pyc\u001b[0m in \u001b[0;36mbegin\u001b[0;34m(self)\u001b[0m\n\u001b[1;32m    407\u001b[0m         \u001b[0;31m# read until we get a non-100 response\u001b[0m\u001b[0;34m\u001b[0m\u001b[0;34m\u001b[0m\u001b[0m\n\u001b[1;32m    408\u001b[0m         \u001b[0;32mwhile\u001b[0m \u001b[0mTrue\u001b[0m\u001b[0;34m:\u001b[0m\u001b[0;34m\u001b[0m\u001b[0m\n\u001b[0;32m--> 409\u001b[0;31m             \u001b[0mversion\u001b[0m\u001b[0;34m,\u001b[0m \u001b[0mstatus\u001b[0m\u001b[0;34m,\u001b[0m \u001b[0mreason\u001b[0m \u001b[0;34m=\u001b[0m \u001b[0mself\u001b[0m\u001b[0;34m.\u001b[0m\u001b[0m_read_status\u001b[0m\u001b[0;34m(\u001b[0m\u001b[0;34m)\u001b[0m\u001b[0;34m\u001b[0m\u001b[0m\n\u001b[0m\u001b[1;32m    410\u001b[0m             \u001b[0;32mif\u001b[0m \u001b[0mstatus\u001b[0m \u001b[0;34m!=\u001b[0m \u001b[0mCONTINUE\u001b[0m\u001b[0;34m:\u001b[0m\u001b[0;34m\u001b[0m\u001b[0m\n\u001b[1;32m    411\u001b[0m                 \u001b[0;32mbreak\u001b[0m\u001b[0;34m\u001b[0m\u001b[0m\n",
        "\u001b[0;32m//anaconda/lib/python2.7/httplib.pyc\u001b[0m in \u001b[0;36m_read_status\u001b[0;34m(self)\u001b[0m\n\u001b[1;32m    363\u001b[0m     \u001b[0;32mdef\u001b[0m \u001b[0m_read_status\u001b[0m\u001b[0;34m(\u001b[0m\u001b[0mself\u001b[0m\u001b[0;34m)\u001b[0m\u001b[0;34m:\u001b[0m\u001b[0;34m\u001b[0m\u001b[0m\n\u001b[1;32m    364\u001b[0m         \u001b[0;31m# Initialize with Simple-Response defaults\u001b[0m\u001b[0;34m\u001b[0m\u001b[0;34m\u001b[0m\u001b[0m\n\u001b[0;32m--> 365\u001b[0;31m         \u001b[0mline\u001b[0m \u001b[0;34m=\u001b[0m \u001b[0mself\u001b[0m\u001b[0;34m.\u001b[0m\u001b[0mfp\u001b[0m\u001b[0;34m.\u001b[0m\u001b[0mreadline\u001b[0m\u001b[0;34m(\u001b[0m\u001b[0m_MAXLINE\u001b[0m \u001b[0;34m+\u001b[0m \u001b[0;36m1\u001b[0m\u001b[0;34m)\u001b[0m\u001b[0;34m\u001b[0m\u001b[0m\n\u001b[0m\u001b[1;32m    366\u001b[0m         \u001b[0;32mif\u001b[0m \u001b[0mlen\u001b[0m\u001b[0;34m(\u001b[0m\u001b[0mline\u001b[0m\u001b[0;34m)\u001b[0m \u001b[0;34m>\u001b[0m \u001b[0m_MAXLINE\u001b[0m\u001b[0;34m:\u001b[0m\u001b[0;34m\u001b[0m\u001b[0m\n\u001b[1;32m    367\u001b[0m             \u001b[0;32mraise\u001b[0m \u001b[0mLineTooLong\u001b[0m\u001b[0;34m(\u001b[0m\u001b[0;34m\"header line\"\u001b[0m\u001b[0;34m)\u001b[0m\u001b[0;34m\u001b[0m\u001b[0m\n",
        "\u001b[0;32m//anaconda/lib/python2.7/socket.pyc\u001b[0m in \u001b[0;36mreadline\u001b[0;34m(self, size)\u001b[0m\n\u001b[1;32m    474\u001b[0m             \u001b[0;32mwhile\u001b[0m \u001b[0mTrue\u001b[0m\u001b[0;34m:\u001b[0m\u001b[0;34m\u001b[0m\u001b[0m\n\u001b[1;32m    475\u001b[0m                 \u001b[0;32mtry\u001b[0m\u001b[0;34m:\u001b[0m\u001b[0;34m\u001b[0m\u001b[0m\n\u001b[0;32m--> 476\u001b[0;31m                     \u001b[0mdata\u001b[0m \u001b[0;34m=\u001b[0m \u001b[0mself\u001b[0m\u001b[0;34m.\u001b[0m\u001b[0m_sock\u001b[0m\u001b[0;34m.\u001b[0m\u001b[0mrecv\u001b[0m\u001b[0;34m(\u001b[0m\u001b[0mself\u001b[0m\u001b[0;34m.\u001b[0m\u001b[0m_rbufsize\u001b[0m\u001b[0;34m)\u001b[0m\u001b[0;34m\u001b[0m\u001b[0m\n\u001b[0m\u001b[1;32m    477\u001b[0m                 \u001b[0;32mexcept\u001b[0m \u001b[0merror\u001b[0m\u001b[0;34m,\u001b[0m \u001b[0me\u001b[0m\u001b[0;34m:\u001b[0m\u001b[0;34m\u001b[0m\u001b[0m\n\u001b[1;32m    478\u001b[0m                     \u001b[0;32mif\u001b[0m \u001b[0me\u001b[0m\u001b[0;34m.\u001b[0m\u001b[0margs\u001b[0m\u001b[0;34m[\u001b[0m\u001b[0;36m0\u001b[0m\u001b[0;34m]\u001b[0m \u001b[0;34m==\u001b[0m \u001b[0mEINTR\u001b[0m\u001b[0;34m:\u001b[0m\u001b[0;34m\u001b[0m\u001b[0m\n",
        "\u001b[0;31mKeyboardInterrupt\u001b[0m: "
       ]
      }
     ],
     "prompt_number": 7
    },
    {
     "cell_type": "code",
     "collapsed": false,
     "input": [
      "#Environment Setting\n",
      "import grs\n",
      "from grs import TWSENo\n",
      "from grs import Stock\n",
      "obj_list = []\n",
      "remove_obj_list = []\n",
      "twse_no = TWSENo()\n",
      "unable = []\n",
      "month = 168\n",
      "\n",
      "\n",
      "#Build Stock List\n",
      "for i in twse_no.all_stock_no:\n",
      "\tif len(i) <= 4 :\n",
      "\t\tobj_list.append(i)\n",
      "\n",
      "#Helping Function\n",
      "def diff(a, b):\n",
      "        b = set(b)\n",
      "        return [aa for aa in a if aa not in b]\n",
      "\n",
      "#Getting Data\n",
      "def DBuild():\n",
      "\tglobal remove_obj_list, obj_list, month\n",
      "\tif len(obj_list) > 0:\n",
      "\t\tfor i in obj_list:\t\t\t\n",
      "\t\t\ttry:\n",
      "\t\t\t\tstock = Stock(i, month)\n",
      "\t\t\t\tfile_locate = \"/Users/Mac/Desktop/Stock Research/DataBase_test/\" + i + \".csv\"\n",
      "\t\t\t\tstock.out_putfile(file_locate)\n",
      "\t\t\texcept AttributeError:\n",
      "\t\t\t\tprint \"Error >>\", i, \"can not fetch month = \", month\n",
      "\t\t\telse:\n",
      "\t\t\t\tprint \"Get stock no.\", i, \"info for\", month, \"month\"\n",
      "\t\t\t\tremove_obj_list.append(i)\n",
      "\tprint \"Month = \", month, \" : Fetching finished!\"\n",
      "\tmonth = month - 12\t\n",
      "\n",
      "while month > 0:\n",
      "\tprint \"Fetching Start\"\n",
      "\tDBuild()\n",
      "\tobj_list = diff(obj_list, remove_obj_list)\n",
      "else:\n",
      "\tprint \"////////////////////FINISHED////////////////////\"\n"
     ],
     "language": "python",
     "metadata": {},
     "outputs": [
      {
       "output_type": "stream",
       "stream": "stdout",
       "text": [
        "Fetching Start\n",
        "list index out of range"
       ]
      },
      {
       "output_type": "stream",
       "stream": "stdout",
       "text": [
        "\n",
        "Error >> 0059 can not fetch month =  168\n",
        "list index out of range"
       ]
      },
      {
       "output_type": "stream",
       "stream": "stdout",
       "text": [
        "\n",
        "Error >> 0058 can not fetch month =  168\n",
        "list index out of range"
       ]
      },
      {
       "output_type": "stream",
       "stream": "stdout",
       "text": [
        "\n",
        "Error >> 0053 can not fetch month =  168\n",
        "list index out of range"
       ]
      },
      {
       "output_type": "stream",
       "stream": "stdout",
       "text": [
        "\n",
        "Error >> 0052 can not fetch month =  168\n",
        "list index out of range"
       ]
      },
      {
       "output_type": "stream",
       "stream": "stdout",
       "text": [
        "\n",
        "Error >> 0051 can not fetch month =  168\n",
        "list index out of range"
       ]
      },
      {
       "output_type": "stream",
       "stream": "stdout",
       "text": [
        "\n",
        "Error >> 0050 can not fetch month =  168\n",
        "list index out of range"
       ]
      },
      {
       "output_type": "stream",
       "stream": "stdout",
       "text": [
        "\n",
        "Error >> 0057 can not fetch month =  168\n",
        "list index out of range"
       ]
      },
      {
       "output_type": "stream",
       "stream": "stdout",
       "text": [
        "\n",
        "Error >> 0056 can not fetch month =  168\n",
        "list index out of range"
       ]
      },
      {
       "output_type": "stream",
       "stream": "stdout",
       "text": [
        "\n",
        "Error >> 0055 can not fetch month =  168\n",
        "list index out of range"
       ]
      },
      {
       "output_type": "stream",
       "stream": "stdout",
       "text": [
        "\n",
        "Error >> 0054 can not fetch month =  168\n",
        "list index out of range"
       ]
      },
      {
       "output_type": "stream",
       "stream": "stdout",
       "text": [
        "\n",
        "Error >> 3519 can not fetch month =  168\n",
        "list index out of range"
       ]
      },
      {
       "output_type": "stream",
       "stream": "stdout",
       "text": [
        "\n",
        "Error >> 3518 can not fetch month =  168\n",
        "list index out of range"
       ]
      },
      {
       "output_type": "stream",
       "stream": "stdout",
       "text": [
        "\n",
        "Error >> 8016 can not fetch month =  168\n",
        "list index out of range"
       ]
      },
      {
       "output_type": "stream",
       "stream": "stdout",
       "text": [
        "\n",
        "Error >> 8011 can not fetch month =  168\n",
        "Get stock no."
       ]
      },
      {
       "output_type": "stream",
       "stream": "stdout",
       "text": [
        " 2308 info for 168 month\n",
        "Get stock no."
       ]
      },
      {
       "output_type": "stream",
       "stream": "stdout",
       "text": [
        " 2301 info for 168 month\n",
        "Get stock no."
       ]
      },
      {
       "output_type": "stream",
       "stream": "stdout",
       "text": [
        " 2303 info for 168 month\n",
        "Get stock no."
       ]
      },
      {
       "output_type": "stream",
       "stream": "stdout",
       "text": [
        " 2302 info for 168 month\n",
        "list index out of range"
       ]
      },
      {
       "output_type": "stream",
       "stream": "stdout",
       "text": [
        "\n",
        "Error >> 2305 can not fetch month =  168\n",
        "list index out of range"
       ]
      },
      {
       "output_type": "stream",
       "stream": "stdout",
       "text": [
        "\n",
        "Error >> 3622 can not fetch month =  168\n",
        "list index out of range"
       ]
      },
      {
       "output_type": "stream",
       "stream": "stdout",
       "text": [
        "\n",
        "Error >> 4722 can not fetch month =  168\n",
        "list index out of range"
       ]
      },
      {
       "output_type": "stream",
       "stream": "stdout",
       "text": [
        "\n",
        "Error >> 6216 can not fetch month =  168\n",
        "list index out of range"
       ]
      },
      {
       "output_type": "stream",
       "stream": "stdout",
       "text": [
        "\n",
        "Error >> 6215 can not fetch month =  168\n",
        "list index out of range"
       ]
      },
      {
       "output_type": "stream",
       "stream": "stdout",
       "text": [
        "\n",
        "Error >> 6214 can not fetch month =  168\n",
        "list index out of range"
       ]
      },
      {
       "output_type": "stream",
       "stream": "stdout",
       "text": [
        "\n",
        "Error >> 6213 can not fetch month =  168\n",
        "list index out of range"
       ]
      },
      {
       "output_type": "stream",
       "stream": "stdout",
       "text": [
        "\n",
        "Error >> 1762 can not fetch month =  168\n",
        "list index out of range"
       ]
      },
      {
       "output_type": "stream",
       "stream": "stdout",
       "text": [
        "\n",
        "Error >> 1540 can not fetch month =  168\n",
        "list index out of range"
       ]
      },
      {
       "output_type": "stream",
       "stream": "stdout",
       "text": [
        "\n",
        "Error >> 1541 can not fetch month =  168\n",
        "Get stock no."
       ]
      },
      {
       "output_type": "stream",
       "stream": "stdout",
       "text": [
        " 2514 info for 168 month\n",
        "Get stock no."
       ]
      },
      {
       "output_type": "stream",
       "stream": "stdout",
       "text": [
        " 2515 info for 168 month\n",
        "Get stock no."
       ]
      },
      {
       "output_type": "stream",
       "stream": "stdout",
       "text": [
        " 2516 info for 168 month\n",
        "Get stock no."
       ]
      },
      {
       "output_type": "stream",
       "stream": "stdout",
       "text": [
        " 2511 info for 168 month\n",
        "list index out of range"
       ]
      },
      {
       "output_type": "stream",
       "stream": "stdout",
       "text": [
        "\n",
        "Error >> 3533 can not fetch month =  168\n",
        "list index out of range"
       ]
      },
      {
       "output_type": "stream",
       "stream": "stdout",
       "text": [
        "\n",
        "Error >> 3532 can not fetch month =  168\n",
        "list index out of range"
       ]
      },
      {
       "output_type": "stream",
       "stream": "stdout",
       "text": [
        "\n",
        "Error >> 3535 can not fetch month =  168\n",
        "list index out of range"
       ]
      },
      {
       "output_type": "stream",
       "stream": "stdout",
       "text": [
        "\n",
        "Error >> 3536 can not fetch month =  168\n",
        "list index out of range"
       ]
      },
      {
       "output_type": "stream",
       "stream": "stdout",
       "text": [
        "\n",
        "Error >> 3515 can not fetch month =  168\n",
        "list index out of range"
       ]
      },
      {
       "output_type": "stream",
       "stream": "stdout",
       "text": [
        "\n",
        "Error >> 3514 can not fetch month =  168\n",
        "list index out of range"
       ]
      },
      {
       "output_type": "stream",
       "stream": "stdout",
       "text": [
        "\n",
        "Error >> 4746 can not fetch month =  168\n",
        "list index out of range"
       ]
      },
      {
       "output_type": "stream",
       "stream": "stdout",
       "text": [
        "\n",
        "Error >> 6184 can not fetch month =  168\n",
        "list index out of range"
       ]
      },
      {
       "output_type": "stream",
       "stream": "stdout",
       "text": [
        "\n",
        "Error >> 6183 can not fetch month =  168\n",
        "list index out of range"
       ]
      },
      {
       "output_type": "stream",
       "stream": "stdout",
       "text": [
        "\n",
        "Error >> 6189 can not fetch month =  168\n",
        "list index out of range"
       ]
      },
      {
       "output_type": "stream",
       "stream": "stdout",
       "text": [
        "\n",
        "Error >> 2727 can not fetch month =  168\n",
        "list index out of range"
       ]
      },
      {
       "output_type": "stream",
       "stream": "stdout",
       "text": [
        "\n",
        "Error >> 2723 can not fetch month =  168\n",
        "list index out of range"
       ]
      },
      {
       "output_type": "stream",
       "stream": "stdout",
       "text": [
        "\n",
        "Error >> 2722 can not fetch month =  168\n",
        "list index out of range"
       ]
      },
      {
       "output_type": "stream",
       "stream": "stdout",
       "text": [
        "\n",
        "Error >> 6235 can not fetch month =  168\n",
        "Get stock no."
       ]
      },
      {
       "output_type": "stream",
       "stream": "stdout",
       "text": [
        " 1701 info for 168 month\n",
        "Get stock no."
       ]
      },
      {
       "output_type": "stream",
       "stream": "stdout",
       "text": [
        " 1702 info for 168 month\n",
        "list index out of range"
       ]
      },
      {
       "output_type": "stream",
       "stream": "stdout",
       "text": [
        "\n",
        "Error >> 5264 can not fetch month =  168\n",
        "Get stock no."
       ]
      },
      {
       "output_type": "stream",
       "stream": "stdout",
       "text": [
        " 1704 info for 168 month\n",
        "Get stock no."
       ]
      },
      {
       "output_type": "stream",
       "stream": "stdout",
       "text": [
        " 1707 info for 168 month\n",
        "Get stock no."
       ]
      },
      {
       "output_type": "stream",
       "stream": "stdout",
       "text": [
        " 1708 info for 168 month\n",
        "Get stock no."
       ]
      },
      {
       "output_type": "stream",
       "stream": "stdout",
       "text": [
        " 1709 info for 168 month\n",
        "list index out of range"
       ]
      },
      {
       "output_type": "stream",
       "stream": "stdout",
       "text": [
        "\n",
        "Error >> 5269 can not fetch month =  168\n",
        "list index out of range"
       ]
      },
      {
       "output_type": "stream",
       "stream": "stdout",
       "text": [
        "\n",
        "Error >> 3029 can not fetch month =  168\n",
        "list index out of range"
       ]
      },
      {
       "output_type": "stream",
       "stream": "stdout",
       "text": [
        "\n",
        "Error >> 3028 can not fetch month =  168\n",
        "list index out of range"
       ]
      },
      {
       "output_type": "stream",
       "stream": "stdout",
       "text": [
        "\n",
        "Error >> 3027 can not fetch month =  168\n",
        "list index out of range"
       ]
      },
      {
       "output_type": "stream",
       "stream": "stdout",
       "text": [
        "\n",
        "Error >> 3026 can not fetch month =  168\n",
        "list index out of range"
       ]
      },
      {
       "output_type": "stream",
       "stream": "stdout",
       "text": [
        "\n",
        "Error >> 3025 can not fetch month =  168\n",
        "list index out of range"
       ]
      },
      {
       "output_type": "stream",
       "stream": "stdout",
       "text": [
        "\n",
        "Error >> 3024 can not fetch month =  168\n",
        "list index out of range"
       ]
      },
      {
       "output_type": "stream",
       "stream": "stdout",
       "text": [
        "\n",
        "Error >> 3023 can not fetch month =  168\n",
        "list index out of range"
       ]
      },
      {
       "output_type": "stream",
       "stream": "stdout",
       "text": [
        "\n",
        "Error >> 3022 can not fetch month =  168\n",
        "list index out of range"
       ]
      },
      {
       "output_type": "stream",
       "stream": "stdout",
       "text": [
        "\n",
        "Error >> 3021 can not fetch month =  168\n",
        "Get stock no."
       ]
      },
      {
       "output_type": "stream",
       "stream": "stdout",
       "text": [
        " 2538 info for 168 month\n",
        "list index out of range"
       ]
      },
      {
       "output_type": "stream",
       "stream": "stdout",
       "text": [
        "\n",
        "Error >> 2539 can not fetch month =  168\n",
        "Get stock no."
       ]
      },
      {
       "output_type": "stream",
       "stream": "stdout",
       "text": [
        " 2530 info for 168 month\n",
        "Get stock no."
       ]
      },
      {
       "output_type": "stream",
       "stream": "stdout",
       "text": [
        " 2536 info for 168 month\n",
        "Get stock no."
       ]
      },
      {
       "output_type": "stream",
       "stream": "stdout",
       "text": [
        " 2537 info for 168 month\n",
        "Get stock no."
       ]
      },
      {
       "output_type": "stream",
       "stream": "stdout",
       "text": [
        " 2534 info for 168 month\n",
        "Get stock no."
       ]
      },
      {
       "output_type": "stream",
       "stream": "stdout",
       "text": [
        " 2535 info for 168 month\n",
        "list index out of range"
       ]
      },
      {
       "output_type": "stream",
       "stream": "stdout",
       "text": [
        "\n",
        "Error >> 5388 can not fetch month =  168\n",
        "list index out of range"
       ]
      },
      {
       "output_type": "stream",
       "stream": "stdout",
       "text": [
        "\n",
        "Error >> 4976 can not fetch month =  168\n",
        "Get stock no."
       ]
      },
      {
       "output_type": "stream",
       "stream": "stdout",
       "text": [
        " 2820 info for 168 month\n",
        "list index out of range"
       ]
      },
      {
       "output_type": "stream",
       "stream": "stdout",
       "text": [
        "\n",
        "Error >> 2882 can not fetch month =  168\n",
        "list index out of range"
       ]
      },
      {
       "output_type": "stream",
       "stream": "stdout",
       "text": [
        "\n",
        "Error >> 2883 can not fetch month =  168\n",
        "list index out of range"
       ]
      },
      {
       "output_type": "stream",
       "stream": "stdout",
       "text": [
        "\n",
        "Error >> 2880 can not fetch month =  168\n",
        "list index out of range"
       ]
      },
      {
       "output_type": "stream",
       "stream": "stdout",
       "text": [
        "\n",
        "Error >> 2881 can not fetch month =  168\n",
        "list index out of range"
       ]
      },
      {
       "output_type": "stream",
       "stream": "stdout",
       "text": [
        "\n",
        "Error >> 2884 can not fetch month =  168\n",
        "list index out of range"
       ]
      },
      {
       "output_type": "stream",
       "stream": "stdout",
       "text": [
        "\n",
        "Error >> 2885 can not fetch month =  168\n",
        "Get stock no."
       ]
      },
      {
       "output_type": "stream",
       "stream": "stdout",
       "text": [
        " 2823 info for 168 month\n",
        "Get stock no."
       ]
      },
      {
       "output_type": "stream",
       "stream": "stdout",
       "text": [
        " 2611 info for 168 month\n",
        "Get stock no."
       ]
      },
      {
       "output_type": "stream",
       "stream": "stdout",
       "text": [
        " 2705 info for 168 month\n",
        "Get stock no."
       ]
      },
      {
       "output_type": "stream",
       "stream": "stdout",
       "text": [
        " 2704 info for 168 month\n",
        "Get stock no."
       ]
      },
      {
       "output_type": "stream",
       "stream": "stdout",
       "text": [
        " 2707 info for 168 month\n",
        "Get stock no."
       ]
      },
      {
       "output_type": "stream",
       "stream": "stdout",
       "text": [
        " 2706 info for 168 month\n",
        "Get stock no."
       ]
      },
      {
       "output_type": "stream",
       "stream": "stdout",
       "text": [
        " 2701 info for 168 month\n",
        "Get stock no."
       ]
      },
      {
       "output_type": "stream",
       "stream": "stdout",
       "text": [
        " 2702 info for 168 month\n",
        "list index out of range"
       ]
      },
      {
       "output_type": "stream",
       "stream": "stdout",
       "text": [
        "\n",
        "Error >> 3474 can not fetch month =  168\n",
        "list index out of range"
       ]
      },
      {
       "output_type": "stream",
       "stream": "stdout",
       "text": [
        "\n",
        "Error >> 1729 can not fetch month =  168\n",
        "Get stock no."
       ]
      },
      {
       "output_type": "stream",
       "stream": "stdout",
       "text": [
        " 1726 info for 168 month\n",
        "Get stock no."
       ]
      },
      {
       "output_type": "stream",
       "stream": "stdout",
       "text": [
        " 1727 info for 168 month\n",
        "Get stock no."
       ]
      },
      {
       "output_type": "stream",
       "stream": "stdout",
       "text": [
        " 1724 info for 168 month\n",
        "Get stock no."
       ]
      },
      {
       "output_type": "stream",
       "stream": "stdout",
       "text": [
        " 1725 info for 168 month\n",
        "Get stock no."
       ]
      },
      {
       "output_type": "stream",
       "stream": "stdout",
       "text": [
        " 1722 info for 168 month\n",
        "Get stock no."
       ]
      },
      {
       "output_type": "stream",
       "stream": "stdout",
       "text": [
        " 1723 info for 168 month\n",
        "Get stock no."
       ]
      },
      {
       "output_type": "stream",
       "stream": "stdout",
       "text": [
        " 1720 info for 168 month\n",
        "Get stock no."
       ]
      },
      {
       "output_type": "stream",
       "stream": "stdout",
       "text": [
        " 1721 info for 168 month\n",
        "list index out of range"
       ]
      },
      {
       "output_type": "stream",
       "stream": "stdout",
       "text": [
        "\n",
        "Error >> 3004 can not fetch month =  168\n",
        "list index out of range"
       ]
      },
      {
       "output_type": "stream",
       "stream": "stdout",
       "text": [
        "\n",
        "Error >> 3003 can not fetch month =  168\n",
        "list index out of range"
       ]
      },
      {
       "output_type": "stream",
       "stream": "stdout",
       "text": [
        "\n",
        "Error >> 3002 can not fetch month =  168\n",
        "list index out of range"
       ]
      },
      {
       "output_type": "stream",
       "stream": "stdout",
       "text": [
        "\n",
        "Error >> 3008 can not fetch month =  168\n",
        "list index out of range"
       ]
      },
      {
       "output_type": "stream",
       "stream": "stdout",
       "text": [
        "\n",
        "Error >> 1589 can not fetch month =  168\n",
        "list index out of range"
       ]
      },
      {
       "output_type": "stream",
       "stream": "stdout",
       "text": [
        "\n",
        "Error >> 1582 can not fetch month =  168\n",
        "list index out of range"
       ]
      },
      {
       "output_type": "stream",
       "stream": "stdout",
       "text": [
        "\n",
        "Error >> 1583 can not fetch month =  168\n",
        "list index out of range"
       ]
      },
      {
       "output_type": "stream",
       "stream": "stdout",
       "text": [
        "\n",
        "Error >> 6415 can not fetch month =  168\n",
        "list index out of range"
       ]
      },
      {
       "output_type": "stream",
       "stream": "stdout",
       "text": [
        "\n",
        "Error >> 6412 can not fetch month =  168\n",
        "Get stock no."
       ]
      },
      {
       "output_type": "stream",
       "stream": "stdout",
       "text": [
        " 9924 info for 168 month\n",
        "Get stock no."
       ]
      },
      {
       "output_type": "stream",
       "stream": "stdout",
       "text": [
        " 9925 info for 168 month\n",
        "Get stock no."
       ]
      },
      {
       "output_type": "stream",
       "stream": "stdout",
       "text": [
        " 9926 info for 168 month\n",
        "Get stock no."
       ]
      },
      {
       "output_type": "stream",
       "stream": "stdout",
       "text": [
        " 9927 info for 168 month\n",
        "list index out of range"
       ]
      },
      {
       "output_type": "stream",
       "stream": "stdout",
       "text": [
        "\n",
        "Error >> 3645 can not fetch month =  168\n",
        "list index out of range"
       ]
      },
      {
       "output_type": "stream",
       "stream": "stdout",
       "text": [
        "\n",
        "Error >> 2472 can not fetch month =  168\n",
        "list index out of range"
       ]
      },
      {
       "output_type": "stream",
       "stream": "stdout",
       "text": [
        "\n",
        "Error >> 8070 can not fetch month =  168\n",
        "list index out of range"
       ]
      },
      {
       "output_type": "stream",
       "stream": "stdout",
       "text": [
        "\n",
        "Error >> 8072 can not fetch month =  168\n",
        "Get stock no."
       ]
      },
      {
       "output_type": "stream",
       "stream": "stdout",
       "text": [
        " 1210 info for 168 month\n",
        "Get stock no."
       ]
      },
      {
       "output_type": "stream",
       "stream": "stdout",
       "text": [
        " 1806 info for 168 month\n",
        "Get stock no."
       ]
      },
      {
       "output_type": "stream",
       "stream": "stdout",
       "text": [
        " 1215 info for 168 month\n",
        "Get stock no."
       ]
      },
      {
       "output_type": "stream",
       "stream": "stdout",
       "text": [
        " 1447 info for 168 month\n",
        "Get stock no."
       ]
      },
      {
       "output_type": "stream",
       "stream": "stdout",
       "text": [
        " 1110 info for 168 month\n",
        "Get stock no."
       ]
      },
      {
       "output_type": "stream",
       "stream": "stdout",
       "text": [
        " 1445 info for 168 month\n",
        "Get stock no."
       ]
      },
      {
       "output_type": "stream",
       "stream": "stdout",
       "text": [
        " 1444 info for 168 month\n",
        "Get stock no."
       ]
      },
      {
       "output_type": "stream",
       "stream": "stdout",
       "text": [
        " 1443 info for 168 month\n",
        "list index out of range"
       ]
      },
      {
       "output_type": "stream",
       "stream": "stdout",
       "text": [
        "\n",
        "Error >> 1442 can not fetch month =  168\n",
        "Get stock no."
       ]
      },
      {
       "output_type": "stream",
       "stream": "stdout",
       "text": [
        " 1441 info for 168 month\n",
        "Get stock no."
       ]
      },
      {
       "output_type": "stream",
       "stream": "stdout",
       "text": [
        " 1440 info for 168 month\n",
        "list index out of range"
       ]
      },
      {
       "output_type": "stream",
       "stream": "stdout",
       "text": [
        "\n",
        "Error >> 1449 can not fetch month =  168\n",
        "Get stock no."
       ]
      },
      {
       "output_type": "stream",
       "stream": "stdout",
       "text": [
        " 2007 info for 168 month\n",
        "Get stock no."
       ]
      },
      {
       "output_type": "stream",
       "stream": "stdout",
       "text": [
        " 1805 info for 168 month\n",
        "list index out of range"
       ]
      },
      {
       "output_type": "stream",
       "stream": "stdout",
       "text": [
        "\n",
        "Error >> 4725 can not fetch month =  168\n",
        "list index out of range"
       ]
      },
      {
       "output_type": "stream",
       "stream": "stdout",
       "text": [
        "\n",
        "Error >> 3705 can not fetch month =  168\n",
        "Get stock no."
       ]
      },
      {
       "output_type": "stream",
       "stream": "stdout",
       "text": [
        " 1802 info for 168 month\n",
        "list index out of range"
       ]
      },
      {
       "output_type": "stream",
       "stream": "stdout",
       "text": [
        "\n",
        "Error >> 6277 can not fetch month =  168\n",
        "list index out of range"
       ]
      },
      {
       "output_type": "stream",
       "stream": "stdout",
       "text": [
        "\n",
        "Error >> 6278 can not fetch month =  168\n",
        "list index out of range"
       ]
      },
      {
       "output_type": "stream",
       "stream": "stdout",
       "text": [
        "\n",
        "Error >> 6115 can not fetch month =  168\n",
        "list index out of range"
       ]
      },
      {
       "output_type": "stream",
       "stream": "stdout",
       "text": [
        "\n",
        "Error >> 5225 can not fetch month =  168\n",
        "list index out of range"
       ]
      },
      {
       "output_type": "stream",
       "stream": "stdout",
       "text": [
        "\n",
        "Error >> 3062 can not fetch month =  168\n",
        "list index out of range"
       ]
      },
      {
       "output_type": "stream",
       "stream": "stdout",
       "text": [
        "\n",
        "Error >> 3061 can not fetch month =  168\n",
        "list index out of range"
       ]
      },
      {
       "output_type": "stream",
       "stream": "stdout",
       "text": [
        "\n",
        "Error >> 3060 can not fetch month =  168\n",
        "list index out of range"
       ]
      },
      {
       "output_type": "stream",
       "stream": "stdout",
       "text": [
        "\n",
        "Error >> 8404 can not fetch month =  168\n",
        "Get stock no."
       ]
      },
      {
       "output_type": "stream",
       "stream": "stdout",
       "text": [
        " 1304 info for 168 month\n",
        "Get stock no."
       ]
      },
      {
       "output_type": "stream",
       "stream": "stdout",
       "text": [
        " 1305 info for 168 month\n",
        "Get stock no."
       ]
      },
      {
       "output_type": "stream",
       "stream": "stdout",
       "text": [
        " 1307 info for 168 month\n",
        "Get stock no."
       ]
      },
      {
       "output_type": "stream",
       "stream": "stdout",
       "text": [
        " 1301 info for 168 month\n",
        "Get stock no."
       ]
      },
      {
       "output_type": "stream",
       "stream": "stdout",
       "text": [
        " 1303 info for 168 month\n",
        "Get stock no."
       ]
      },
      {
       "output_type": "stream",
       "stream": "stdout",
       "text": [
        " 1308 info for 168 month\n",
        "Get stock no."
       ]
      },
      {
       "output_type": "stream",
       "stream": "stdout",
       "text": [
        " 1309 info for 168 month\n",
        "Get stock no."
       ]
      },
      {
       "output_type": "stream",
       "stream": "stdout",
       "text": [
        " 9906 info for 168 month\n",
        "Get stock no."
       ]
      },
      {
       "output_type": "stream",
       "stream": "stdout",
       "text": [
        " 9907 info for 168 month\n",
        "Get stock no."
       ]
      },
      {
       "output_type": "stream",
       "stream": "stdout",
       "text": [
        " 9902 info for 168 month\n",
        "list index out of range"
       ]
      },
      {
       "output_type": "stream",
       "stream": "stdout",
       "text": [
        "\n",
        "Error >> 8374 can not fetch month =  168\n",
        "list index out of range"
       ]
      },
      {
       "output_type": "stream",
       "stream": "stdout",
       "text": [
        "\n",
        "Error >> 3665 can not fetch month =  168\n",
        "list index out of range"
       ]
      },
      {
       "output_type": "stream",
       "stream": "stdout",
       "text": [
        "\n",
        "Error >> 3669 can not fetch month =  168\n",
        "list index out of range"
       ]
      },
      {
       "output_type": "stream",
       "stream": "stdout",
       "text": [
        "\n",
        "Error >> 3593 can not fetch month =  168\n",
        "list index out of range"
       ]
      },
      {
       "output_type": "stream",
       "stream": "stdout",
       "text": [
        "\n",
        "Error >> 3591 can not fetch month =  168\n",
        "list index out of range"
       ]
      },
      {
       "output_type": "stream",
       "stream": "stdout",
       "text": [
        "\n",
        "Error >> 3596 can not fetch month =  168\n",
        "list index out of range"
       ]
      },
      {
       "output_type": "stream",
       "stream": "stdout",
       "text": [
        "\n",
        "Error >> 3598 can not fetch month =  168\n",
        "list index out of range"
       ]
      },
      {
       "output_type": "stream",
       "stream": "stdout",
       "text": [
        "\n",
        "Error >> 8081 can not fetch month =  168\n",
        "list index out of range"
       ]
      },
      {
       "output_type": "stream",
       "stream": "stdout",
       "text": [
        "\n",
        "Error >> 8926 can not fetch month =  168\n",
        "Get stock no."
       ]
      },
      {
       "output_type": "stream",
       "stream": "stdout",
       "text": [
        " 1469 info for 168 month\n",
        "Get stock no."
       ]
      },
      {
       "output_type": "stream",
       "stream": "stdout",
       "text": [
        " 1468 info for 168 month\n",
        "Get stock no."
       ]
      },
      {
       "output_type": "stream",
       "stream": "stdout",
       "text": [
        " 1465 info for 168 month\n",
        "Get stock no."
       ]
      },
      {
       "output_type": "stream",
       "stream": "stdout",
       "text": [
        " 1464 info for 168 month\n",
        "Get stock no."
       ]
      },
      {
       "output_type": "stream",
       "stream": "stdout",
       "text": [
        " 1467 info for 168 month\n",
        "Get stock no."
       ]
      },
      {
       "output_type": "stream",
       "stream": "stdout",
       "text": [
        " 1460 info for 168 month\n",
        "Get stock no."
       ]
      },
      {
       "output_type": "stream",
       "stream": "stdout",
       "text": [
        " 1463 info for 168 month\n",
        "list index out of range"
       ]
      },
      {
       "output_type": "stream",
       "stream": "stdout",
       "text": [
        "\n",
        "Error >> 3406 can not fetch month =  168\n",
        "list index out of range"
       ]
      },
      {
       "output_type": "stream",
       "stream": "stdout",
       "text": [
        "\n",
        "Error >> 3432 can not fetch month =  168\n",
        "list index out of range"
       ]
      },
      {
       "output_type": "stream",
       "stream": "stdout",
       "text": [
        "\n",
        "Error >> 2034 can not fetch month =  168\n",
        "Get stock no."
       ]
      },
      {
       "output_type": "stream",
       "stream": "stdout",
       "text": [
        " 2033 info for 168 month\n",
        "Get stock no."
       ]
      },
      {
       "output_type": "stream",
       "stream": "stdout",
       "text": [
        " 2032 info for 168 month\n",
        "Get stock no."
       ]
      },
      {
       "output_type": "stream",
       "stream": "stdout",
       "text": [
        " 2031 info for 168 month\n",
        "Get stock no."
       ]
      },
      {
       "output_type": "stream",
       "stream": "stdout",
       "text": [
        " 2030 info for 168 month\n",
        "list index out of range"
       ]
      },
      {
       "output_type": "stream",
       "stream": "stdout",
       "text": [
        "\n",
        "Error >> 2038 can not fetch month =  168\n",
        "list index out of range"
       ]
      },
      {
       "output_type": "stream",
       "stream": "stdout",
       "text": [
        "\n",
        "Error >> 5203 can not fetch month =  168\n",
        "list index out of range"
       ]
      },
      {
       "output_type": "stream",
       "stream": "stdout",
       "text": [
        "\n",
        "Error >> 3049 can not fetch month =  168\n",
        "list index out of range"
       ]
      },
      {
       "output_type": "stream",
       "stream": "stdout",
       "text": [
        "\n",
        "Error >> 3048 can not fetch month =  168\n",
        "list index out of range"
       ]
      },
      {
       "output_type": "stream",
       "stream": "stdout",
       "text": [
        "\n",
        "Error >> 3041 can not fetch month =  168\n",
        "list index out of range"
       ]
      },
      {
       "output_type": "stream",
       "stream": "stdout",
       "text": [
        "\n",
        "Error >> 3040 can not fetch month =  168\n",
        "list index out of range"
       ]
      },
      {
       "output_type": "stream",
       "stream": "stdout",
       "text": [
        "\n",
        "Error >> 3043 can not fetch month =  168\n",
        "list index out of range"
       ]
      },
      {
       "output_type": "stream",
       "stream": "stdout",
       "text": [
        "\n",
        "Error >> 3042 can not fetch month =  168\n",
        "list index out of range"
       ]
      },
      {
       "output_type": "stream",
       "stream": "stdout",
       "text": [
        "\n",
        "Error >> 3045 can not fetch month =  168\n",
        "list index out of range"
       ]
      },
      {
       "output_type": "stream",
       "stream": "stdout",
       "text": [
        "\n",
        "Error >> 3044 can not fetch month =  168\n",
        "list index out of range"
       ]
      },
      {
       "output_type": "stream",
       "stream": "stdout",
       "text": [
        "\n",
        "Error >> 3047 can not fetch month =  168\n",
        "list index out of range"
       ]
      },
      {
       "output_type": "stream",
       "stream": "stdout",
       "text": [
        "\n",
        "Error >> 3046 can not fetch month =  168\n",
        "Get stock no."
       ]
      },
      {
       "output_type": "stream",
       "stream": "stdout",
       "text": [
        " 1323 info for 168 month\n",
        "Get stock no."
       ]
      },
      {
       "output_type": "stream",
       "stream": "stdout",
       "text": [
        " 1321 info for 168 month\n",
        "list index out of range"
       ]
      },
      {
       "output_type": "stream",
       "stream": "stdout",
       "text": [
        "\n",
        "Error >> 1326 can not fetch month =  168\n",
        "Get stock no."
       ]
      },
      {
       "output_type": "stream",
       "stream": "stdout",
       "text": [
        " 1324 info for 168 month\n",
        "Get stock no."
       ]
      },
      {
       "output_type": "stream",
       "stream": "stdout",
       "text": [
        " 1325 info for 168 month\n",
        "list index out of range"
       ]
      },
      {
       "output_type": "stream",
       "stream": "stdout",
       "text": [
        "\n",
        "Error >> 8131 can not fetch month =  168\n",
        "list index out of range"
       ]
      },
      {
       "output_type": "stream",
       "stream": "stdout",
       "text": [
        "\n",
        "Error >> 3607 can not fetch month =  168\n",
        "list index out of range"
       ]
      },
      {
       "output_type": "stream",
       "stream": "stdout",
       "text": [
        "\n",
        "Error >> 3605 can not fetch month =  168\n",
        "list index out of range"
       ]
      },
      {
       "output_type": "stream",
       "stream": "stdout",
       "text": [
        "\n",
        "Error >> 3296 can not fetch month =  168\n",
        "list index out of range"
       ]
      },
      {
       "output_type": "stream",
       "stream": "stdout",
       "text": [
        "\n",
        "Error >> 3383 can not fetch month =  168\n",
        "list index out of range"
       ]
      },
      {
       "output_type": "stream",
       "stream": "stdout",
       "text": [
        "\n",
        "Error >> 3380 can not fetch month =  168\n",
        "Get stock no."
       ]
      },
      {
       "output_type": "stream",
       "stream": "stdout",
       "text": [
        " 1409 info for 168 month\n",
        "Get stock no."
       ]
      },
      {
       "output_type": "stream",
       "stream": "stdout",
       "text": [
        " 1402 info for 168 month\n",
        "list index out of range"
       ]
      },
      {
       "output_type": "stream",
       "stream": "stdout",
       "text": [
        "\n",
        "Error >> 5007 can not fetch month =  168\n",
        "list index out of range"
       ]
      },
      {
       "output_type": "stream",
       "stream": "stdout",
       "text": [
        "\n",
        "Error >> 6108 can not fetch month =  168\n",
        "list index out of range"
       ]
      },
      {
       "output_type": "stream",
       "stream": "stdout",
       "text": [
        "\n",
        "Error >> 3419 can not fetch month =  168\n",
        "Get stock no."
       ]
      },
      {
       "output_type": "stream",
       "stream": "stdout",
       "text": [
        " 2015 info for 168 month\n",
        "Get stock no."
       ]
      },
      {
       "output_type": "stream",
       "stream": "stdout",
       "text": [
        " 2017 info for 168 month\n",
        "Get stock no."
       ]
      },
      {
       "output_type": "stream",
       "stream": "stdout",
       "text": [
        " 2010 info for 168 month\n",
        "Get stock no."
       ]
      },
      {
       "output_type": "stream",
       "stream": "stdout",
       "text": [
        " 2013 info for 168 month\n",
        "list index out of range"
       ]
      },
      {
       "output_type": "stream",
       "stream": "stdout",
       "text": [
        "\n",
        "Error >> 2886 can not fetch month =  168\n",
        "list index out of range"
       ]
      },
      {
       "output_type": "stream",
       "stream": "stdout",
       "text": [
        "\n",
        "Error >> 9110 can not fetch month =  168\n",
        "list index out of range"
       ]
      },
      {
       "output_type": "stream",
       "stream": "stdout",
       "text": [
        "\n",
        "Error >> 8110 can not fetch month =  168\n",
        "list index out of range"
       ]
      },
      {
       "output_type": "stream",
       "stream": "stdout",
       "text": [
        "\n",
        "Error >> 8114 can not fetch month =  168\n",
        "list index out of range"
       ]
      },
      {
       "output_type": "stream",
       "stream": "stdout",
       "text": [
        "\n",
        "Error >> 2464 can not fetch month =  168\n",
        "list index out of range"
       ]
      },
      {
       "output_type": "stream",
       "stream": "stdout",
       "text": [
        "\n",
        "Error >> 2465 can not fetch month =  168\n",
        "list index out of range"
       ]
      },
      {
       "output_type": "stream",
       "stream": "stdout",
       "text": [
        "\n",
        "Error >> 2466 can not fetch month =  168\n",
        "list index out of range"
       ]
      },
      {
       "output_type": "stream",
       "stream": "stdout",
       "text": [
        "\n",
        "Error >> 2467 can not fetch month =  168\n",
        "list index out of range"
       ]
      },
      {
       "output_type": "stream",
       "stream": "stdout",
       "text": [
        "\n",
        "Error >> 2461 can not fetch month =  168\n",
        "list index out of range"
       ]
      },
      {
       "output_type": "stream",
       "stream": "stdout",
       "text": [
        "\n",
        "Error >> 2462 can not fetch month =  168\n",
        "list index out of range"
       ]
      },
      {
       "output_type": "stream",
       "stream": "stdout",
       "text": [
        "\n",
        "Error >> 2468 can not fetch month =  168\n",
        "Get stock no."
       ]
      },
      {
       "output_type": "stream",
       "stream": "stdout",
       "text": [
        " 2809 info for 168 month\n",
        "Get stock no."
       ]
      },
      {
       "output_type": "stream",
       "stream": "stdout",
       "text": [
        " 2801 info for 168 month\n",
        "Get stock no."
       ]
      },
      {
       "output_type": "stream",
       "stream": "stdout",
       "text": [
        " 1423 info for 168 month\n",
        "list index out of range"
       ]
      },
      {
       "output_type": "stream",
       "stream": "stdout",
       "text": [
        "\n",
        "Error >> 5434 can not fetch month =  168\n",
        "list index out of range"
       ]
      },
      {
       "output_type": "stream",
       "stream": "stdout",
       "text": [
        "\n",
        "Error >> 3501 can not fetch month =  168\n",
        "Get stock no."
       ]
      },
      {
       "output_type": "stream",
       "stream": "stdout",
       "text": [
        " 2014 info for 168 month\n",
        "list index out of range"
       ]
      },
      {
       "output_type": "stream",
       "stream": "stdout",
       "text": [
        "\n",
        "Error >> 5880 can not fetch month =  168\n",
        "list index out of range"
       ]
      },
      {
       "output_type": "stream",
       "stream": "stdout",
       "text": [
        "\n",
        "Error >> 4904 can not fetch month =  168\n",
        "list index out of range"
       ]
      },
      {
       "output_type": "stream",
       "stream": "stdout",
       "text": [
        "\n",
        "Error >> 6120 can not fetch month =  168\n",
        "list index out of range"
       ]
      },
      {
       "output_type": "stream",
       "stream": "stdout",
       "text": [
        "\n",
        "Error >> 6128 can not fetch month =  168\n",
        "list index out of range"
       ]
      },
      {
       "output_type": "stream",
       "stream": "stdout",
       "text": [
        "\n",
        "Error >> 3686 can not fetch month =  168\n",
        "list index out of range"
       ]
      },
      {
       "output_type": "stream",
       "stream": "stdout",
       "text": [
        "\n",
        "Error >> 8411 can not fetch month =  168\n",
        "Get stock no."
       ]
      },
      {
       "output_type": "stream",
       "stream": "stdout",
       "text": [
        " 2442 info for 168 month\n",
        "Get stock no."
       ]
      },
      {
       "output_type": "stream",
       "stream": "stdout",
       "text": [
        " 2443 info for 168 month\n",
        "Get stock no."
       ]
      },
      {
       "output_type": "stream",
       "stream": "stdout",
       "text": [
        " 2441 info for 168 month\n",
        "Get stock no."
       ]
      },
      {
       "output_type": "stream",
       "stream": "stdout",
       "text": [
        " 2444 info for 168 month\n",
        "list index out of range"
       ]
      },
      {
       "output_type": "stream",
       "stream": "stdout",
       "text": [
        "\n",
        "Error >> 2448 can not fetch month =  168\n",
        "list index out of range"
       ]
      },
      {
       "output_type": "stream",
       "stream": "stdout",
       "text": [
        "\n",
        "Error >> 2449 can not fetch month =  168\n",
        "list index out of range"
       ]
      },
      {
       "output_type": "stream",
       "stream": "stdout",
       "text": [
        "\n",
        "Error >> 8940 can not fetch month =  168\n",
        "list index out of range"
       ]
      },
      {
       "output_type": "stream",
       "stream": "stdout",
       "text": [
        "\n",
        "Error >> 1626 can not fetch month =  168\n",
        "list index out of range"
       ]
      },
      {
       "output_type": "stream",
       "stream": "stdout",
       "text": [
        "\n",
        "Error >> 3209 can not fetch month =  168\n",
        "Get stock no."
       ]
      },
      {
       "output_type": "stream",
       "stream": "stdout",
       "text": [
        " 9908 info for 168 month\n",
        "list index out of range"
       ]
      },
      {
       "output_type": "stream",
       "stream": "stdout",
       "text": [
        "\n",
        "Error >> 2867 can not fetch month =  168\n",
        "list index out of range"
       ]
      },
      {
       "output_type": "stream",
       "stream": "stdout",
       "text": [
        "\n",
        "Error >> 9188 can not fetch month =  168\n",
        "list index out of range"
       ]
      },
      {
       "output_type": "stream",
       "stream": "stdout",
       "text": [
        "\n",
        "Error >> 5533 can not fetch month =  168\n",
        "list index out of range"
       ]
      },
      {
       "output_type": "stream",
       "stream": "stdout",
       "text": [
        "\n",
        "Error >> 5531 can not fetch month =  168\n",
        "list index out of range"
       ]
      },
      {
       "output_type": "stream",
       "stream": "stdout",
       "text": [
        "\n",
        "Error >> 5534 can not fetch month =  168\n",
        "list index out of range"
       ]
      },
      {
       "output_type": "stream",
       "stream": "stdout",
       "text": [
        "\n",
        "Error >> 5538 can not fetch month =  168\n",
        "list index out of range"
       ]
      },
      {
       "output_type": "stream",
       "stream": "stdout",
       "text": [
        "\n",
        "Error >> 6142 can not fetch month =  168\n",
        "list index out of range"
       ]
      },
      {
       "output_type": "stream",
       "stream": "stdout",
       "text": [
        "\n",
        "Error >> 6141 can not fetch month =  168\n",
        "list index out of range"
       ]
      },
      {
       "output_type": "stream",
       "stream": "stdout",
       "text": [
        "\n",
        "Error >> 6145 can not fetch month =  168\n",
        "list index out of range"
       ]
      },
      {
       "output_type": "stream",
       "stream": "stdout",
       "text": [
        "\n",
        "Error >> 2059 can not fetch month =  168\n",
        "list index out of range"
       ]
      },
      {
       "output_type": "stream",
       "stream": "stdout",
       "text": [
        "\n",
        "Error >> 4536 can not fetch month =  168\n",
        "list index out of range"
       ]
      },
      {
       "output_type": "stream",
       "stream": "stdout",
       "text": [
        "\n",
        "Error >> 4532 can not fetch month =  168\n",
        "Get stock no."
       ]
      },
      {
       "output_type": "stream",
       "stream": "stdout",
       "text": [
        " 2382 info for 168 month\n",
        "Get stock no."
       ]
      },
      {
       "output_type": "stream",
       "stream": "stdout",
       "text": [
        " 2428 info for 168 month\n",
        "Get stock no."
       ]
      },
      {
       "output_type": "stream",
       "stream": "stdout",
       "text": [
        " 2429 info for 168 month\n",
        "Get stock no."
       ]
      },
      {
       "output_type": "stream",
       "stream": "stdout",
       "text": [
        " 2420 info for 168 month\n",
        "Get stock no."
       ]
      },
      {
       "output_type": "stream",
       "stream": "stdout",
       "text": [
        " 2421 info for 168 month\n",
        "Get stock no."
       ]
      },
      {
       "output_type": "stream",
       "stream": "stdout",
       "text": [
        " 2423 info for 168 month\n",
        "Get stock no."
       ]
      },
      {
       "output_type": "stream",
       "stream": "stdout",
       "text": [
        " 2425 info for 168 month\n",
        "Get stock no."
       ]
      },
      {
       "output_type": "stream",
       "stream": "stdout",
       "text": [
        " 2426 info for 168 month\n",
        "Get stock no."
       ]
      },
      {
       "output_type": "stream",
       "stream": "stdout",
       "text": [
        " 2427 info for 168 month\n",
        "list index out of range"
       ]
      },
      {
       "output_type": "stream",
       "stream": "stdout",
       "text": [
        "\n",
        "Error >> 4958 can not fetch month =  168\n",
        "Get stock no."
       ]
      },
      {
       "output_type": "stream",
       "stream": "stdout",
       "text": [
        " 1609 info for 168 month\n",
        "Get stock no."
       ]
      },
      {
       "output_type": "stream",
       "stream": "stdout",
       "text": [
        " 1608 info for 168 month\n",
        "list index out of range"
       ]
      },
      {
       "output_type": "stream",
       "stream": "stdout",
       "text": [
        "\n",
        "Error >> 3229 can not fetch month =  168\n",
        "Get stock no."
       ]
      },
      {
       "output_type": "stream",
       "stream": "stdout",
       "text": [
        " 1603 info for 168 month\n",
        "Get stock no."
       ]
      },
      {
       "output_type": "stream",
       "stream": "stdout",
       "text": [
        " 1605 info for 168 month\n",
        "Get stock no."
       ]
      },
      {
       "output_type": "stream",
       "stream": "stdout",
       "text": [
        " 1604 info for 168 month\n",
        "Get stock no."
       ]
      },
      {
       "output_type": "stream",
       "stream": "stdout",
       "text": [
        " 2849 info for 168 month\n",
        "Get stock no."
       ]
      },
      {
       "output_type": "stream",
       "stream": "stdout",
       "text": [
        " 2845 info for 168 month\n",
        "Get stock no."
       ]
      },
      {
       "output_type": "stream",
       "stream": "stdout",
       "text": [
        " 2841 info for 168 month\n",
        "list index out of range"
       ]
      },
      {
       "output_type": "stream",
       "stream": "stdout",
       "text": [
        "\n",
        "Error >> 5471 can not fetch month =  168\n",
        "list index out of range"
       ]
      },
      {
       "output_type": "stream",
       "stream": "stdout",
       "text": [
        "\n",
        "Error >> 5515 can not fetch month =  168\n",
        "list index out of range"
       ]
      },
      {
       "output_type": "stream",
       "stream": "stdout",
       "text": [
        "\n",
        "Error >> 3035 can not fetch month =  168\n",
        "Get stock no."
       ]
      },
      {
       "output_type": "stream",
       "stream": "stdout",
       "text": [
        " 1909 info for 168 month\n",
        "Get stock no."
       ]
      },
      {
       "output_type": "stream",
       "stream": "stdout",
       "text": [
        " 1903 info for 168 month\n",
        "list index out of range"
       ]
      },
      {
       "output_type": "stream",
       "stream": "stdout",
       "text": [
        "\n",
        "Error >> 6168 can not fetch month =  168\n",
        "list index out of range"
       ]
      },
      {
       "output_type": "stream",
       "stream": "stdout",
       "text": [
        "\n",
        "Error >> 6165 can not fetch month =  168\n",
        "list index out of range"
       ]
      },
      {
       "output_type": "stream",
       "stream": "stdout",
       "text": [
        "\n",
        "Error >> 6164 can not fetch month =  168\n",
        "list index out of range"
       ]
      },
      {
       "output_type": "stream",
       "stream": "stdout",
       "text": [
        "\n",
        "Error >> 6166 can not fetch month =  168\n",
        "list index out of range"
       ]
      },
      {
       "output_type": "stream",
       "stream": "stdout",
       "text": [
        "\n",
        "Error >> 8033 can not fetch month =  168\n",
        "list index out of range"
       ]
      },
      {
       "output_type": "stream",
       "stream": "stdout",
       "text": [
        "\n",
        "Error >> 8039 can not fetch month =  168\n",
        "list index out of range"
       ]
      },
      {
       "output_type": "stream",
       "stream": "stdout",
       "text": [
        "\n",
        "Error >> 6133 can not fetch month =  168\n",
        "Get stock no."
       ]
      },
      {
       "output_type": "stream",
       "stream": "stdout",
       "text": [
        " 9921 info for 168 month\n",
        "list index out of range"
       ]
      },
      {
       "output_type": "stream",
       "stream": "stdout",
       "text": [
        "\n",
        "Error >> 9945 can not fetch month =  168\n",
        "list index out of range"
       ]
      },
      {
       "output_type": "stream",
       "stream": "stdout",
       "text": [
        "\n",
        "Error >> 9105 can not fetch month =  168\n",
        "list index out of range"
       ]
      },
      {
       "output_type": "stream",
       "stream": "stdout",
       "text": [
        "\n",
        "Error >> 5706 can not fetch month =  168\n",
        "list index out of range"
       ]
      },
      {
       "output_type": "stream",
       "stream": "stdout",
       "text": [
        "\n",
        "Error >> 2460 can not fetch month =  168\n",
        "Get stock no."
       ]
      },
      {
       "output_type": "stream",
       "stream": "stdout",
       "text": [
        " 2406 info for 168 month\n",
        "Get stock no."
       ]
      },
      {
       "output_type": "stream",
       "stream": "stdout",
       "text": [
        " 2404 info for 168 month\n",
        "Get stock no."
       ]
      },
      {
       "output_type": "stream",
       "stream": "stdout",
       "text": [
        " 2405 info for 168 month\n",
        "Get stock no."
       ]
      },
      {
       "output_type": "stream",
       "stream": "stdout",
       "text": [
        " 2402 info for 168 month\n",
        "list index out of range"
       ]
      },
      {
       "output_type": "stream",
       "stream": "stdout",
       "text": [
        "\n",
        "Error >> 4984 can not fetch month =  168\n",
        "Get stock no."
       ]
      },
      {
       "output_type": "stream",
       "stream": "stdout",
       "text": [
        " 2401 info for 168 month\n",
        "Get stock no."
       ]
      },
      {
       "output_type": "stream",
       "stream": "stdout",
       "text": [
        " 2408 info for 168 month\n",
        "Get stock no."
       ]
      },
      {
       "output_type": "stream",
       "stream": "stdout",
       "text": [
        " 2409 info for 168 month\n",
        "list index out of range"
       ]
      },
      {
       "output_type": "stream",
       "stream": "stdout",
       "text": [
        "\n",
        "Error >> 3308 can not fetch month =  168\n",
        "list index out of range"
       ]
      },
      {
       "output_type": "stream",
       "stream": "stdout",
       "text": [
        "\n",
        "Error >> 3305 can not fetch month =  168\n",
        "list index out of range"
       ]
      },
      {
       "output_type": "stream",
       "stream": "stdout",
       "text": [
        "\n",
        "Error >> 8249 can not fetch month =  168\n",
        "Get stock no."
       ]
      },
      {
       "output_type": "stream",
       "stream": "stdout",
       "text": [
        " 1227 info for 168 month\n",
        "Get stock no."
       ]
      },
      {
       "output_type": "stream",
       "stream": "stdout",
       "text": [
        " 1225 info for 168 month\n",
        "Get stock no."
       ]
      },
      {
       "output_type": "stream",
       "stream": "stdout",
       "text": [
        " 1220 info for 168 month\n",
        "Get stock no."
       ]
      },
      {
       "output_type": "stream",
       "stream": "stdout",
       "text": [
        " 1229 info for 168 month\n",
        "list index out of range"
       ]
      },
      {
       "output_type": "stream",
       "stream": "stdout",
       "text": [
        "\n",
        "Error >> 4164 can not fetch month =  168\n",
        "list index out of range"
       ]
      },
      {
       "output_type": "stream",
       "stream": "stdout",
       "text": [
        "\n",
        "Error >> 9940 can not fetch month =  168\n",
        "list index out of range"
       ]
      },
      {
       "output_type": "stream",
       "stream": "stdout",
       "text": [
        "\n",
        "Error >> 2231 can not fetch month =  168\n",
        "list index out of range"
       ]
      },
      {
       "output_type": "stream",
       "stream": "stdout",
       "text": [
        "\n",
        "Error >> 8427 can not fetch month =  168\n",
        "list index out of range"
       ]
      },
      {
       "output_type": "stream",
       "stream": "stdout",
       "text": [
        "\n",
        "Error >> 3494 can not fetch month =  168\n",
        "list index out of range"
       ]
      },
      {
       "output_type": "stream",
       "stream": "stdout",
       "text": [
        "\n",
        "Error >> 8422 can not fetch month =  168\n",
        "list index out of range"
       ]
      },
      {
       "output_type": "stream",
       "stream": "stdout",
       "text": [
        "\n",
        "Error >> 3338 can not fetch month =  168\n",
        "Get stock no."
       ]
      },
      {
       "output_type": "stream",
       "stream": "stdout",
       "text": [
        " 2397 info for 168 month\n",
        "Get stock no."
       ]
      },
      {
       "output_type": "stream",
       "stream": "stdout",
       "text": [
        " 2395 info for 168 month\n",
        "Get stock no."
       ]
      },
      {
       "output_type": "stream",
       "stream": "stdout",
       "text": [
        " 2392 info for 168 month\n",
        "Get stock no."
       ]
      },
      {
       "output_type": "stream",
       "stream": "stdout",
       "text": [
        " 2393 info for 168 month\n",
        "Get stock no."
       ]
      },
      {
       "output_type": "stream",
       "stream": "stdout",
       "text": [
        " 2390 info for 168 month\n",
        "Get stock no."
       ]
      },
      {
       "output_type": "stream",
       "stream": "stdout",
       "text": [
        " 2399 info for 168 month\n",
        "list index out of range"
       ]
      },
      {
       "output_type": "stream",
       "stream": "stdout",
       "text": [
        "\n",
        "Error >> 4137 can not fetch month =  168\n",
        "list index out of range"
       ]
      },
      {
       "output_type": "stream",
       "stream": "stdout",
       "text": [
        "\n",
        "Error >> 4960 can not fetch month =  168\n",
        "Get stock no."
       ]
      },
      {
       "output_type": "stream",
       "stream": "stdout",
       "text": [
        " 1201 info for 168 month\n",
        "list index out of range"
       ]
      },
      {
       "output_type": "stream",
       "stream": "stdout",
       "text": [
        "\n",
        "Error >> 1203 can not fetch month =  168\n",
        "list index out of range"
       ]
      },
      {
       "output_type": "stream",
       "stream": "stdout",
       "text": [
        "\n",
        "Error >> 8271 can not fetch month =  168\n",
        "list index out of range"
       ]
      },
      {
       "output_type": "stream",
       "stream": "stdout",
       "text": [
        "\n",
        "Error >> 6239 can not fetch month =  168\n",
        "list index out of range"
       ]
      },
      {
       "output_type": "stream",
       "stream": "stdout",
       "text": [
        "\n",
        "Error >> 9802 can not fetch month =  168\n",
        "list index out of range"
       ]
      },
      {
       "output_type": "stream",
       "stream": "stdout",
       "text": [
        "\n",
        "Error >> 6230 can not fetch month =  168\n",
        "list index out of range"
       ]
      },
      {
       "output_type": "stream",
       "stream": "stdout",
       "text": [
        "\n",
        "Error >> 4144 can not fetch month =  168\n",
        "list index out of range"
       ]
      },
      {
       "output_type": "stream",
       "stream": "stdout",
       "text": [
        "\n",
        "Error >> 4141 can not fetch month =  168\n",
        "list index out of range"
       ]
      },
      {
       "output_type": "stream",
       "stream": "stdout",
       "text": [
        "\n",
        "Error >> 4142 can not fetch month =  168\n",
        "Get stock no."
       ]
      },
      {
       "output_type": "stream",
       "stream": "stdout",
       "text": [
        " 2617 info for 168 month\n",
        "Get stock no."
       ]
      },
      {
       "output_type": "stream",
       "stream": "stdout",
       "text": [
        " 2616 info for 168 month\n",
        "Get stock no."
       ]
      },
      {
       "output_type": "stream",
       "stream": "stdout",
       "text": [
        " 2615 info for 168 month\n",
        "Get stock no."
       ]
      },
      {
       "output_type": "stream",
       "stream": "stdout",
       "text": [
        " 2614 info for 168 month\n",
        "Get stock no."
       ]
      },
      {
       "output_type": "stream",
       "stream": "stdout",
       "text": [
        " 2613 info for 168 month\n",
        "Get stock no."
       ]
      },
      {
       "output_type": "stream",
       "stream": "stdout",
       "text": [
        " 2612 info for 168 month\n",
        "Get stock no."
       ]
      },
      {
       "output_type": "stream",
       "stream": "stdout",
       "text": [
        " 2610 info for 168 month\n",
        "list index out of range"
       ]
      },
      {
       "output_type": "stream",
       "stream": "stdout",
       "text": [
        "\n",
        "Error >> 2618 can not fetch month =  168\n",
        "list index out of range"
       ]
      },
      {
       "output_type": "stream",
       "stream": "stdout",
       "text": [
        "\n",
        "Error >> 9943 can not fetch month =  168\n",
        "Get stock no."
       ]
      },
      {
       "output_type": "stream",
       "stream": "stdout",
       "text": [
        " 2379 info for 168 month\n",
        "Get stock no."
       ]
      },
      {
       "output_type": "stream",
       "stream": "stdout",
       "text": [
        " 2374 info for 168 month\n",
        "Get stock no."
       ]
      },
      {
       "output_type": "stream",
       "stream": "stdout",
       "text": [
        " 2375 info for 168 month\n",
        "Get stock no."
       ]
      },
      {
       "output_type": "stream",
       "stream": "stdout",
       "text": [
        " 2376 info for 168 month\n",
        "Get stock no."
       ]
      },
      {
       "output_type": "stream",
       "stream": "stdout",
       "text": [
        " 2377 info for 168 month\n",
        "Get stock no."
       ]
      },
      {
       "output_type": "stream",
       "stream": "stdout",
       "text": [
        " 2371 info for 168 month\n",
        "Get stock no."
       ]
      },
      {
       "output_type": "stream",
       "stream": "stdout",
       "text": [
        " 2373 info for 168 month\n",
        "list index out of range"
       ]
      },
      {
       "output_type": "stream",
       "stream": "stdout",
       "text": [
        "\n",
        "Error >> 4942 can not fetch month =  168\n",
        "list index out of range"
       ]
      },
      {
       "output_type": "stream",
       "stream": "stdout",
       "text": [
        "\n",
        "Error >> 2114 can not fetch month =  168\n",
        "list index out of range"
       ]
      },
      {
       "output_type": "stream",
       "stream": "stdout",
       "text": [
        "\n",
        "Error >> 8046 can not fetch month =  168\n",
        "list index out of range"
       ]
      },
      {
       "output_type": "stream",
       "stream": "stdout",
       "text": [
        "\n",
        "Error >> 2637 can not fetch month =  168\n",
        "list index out of range"
       ]
      },
      {
       "output_type": "stream",
       "stream": "stdout",
       "text": [
        "\n",
        "Error >> 3545 can not fetch month =  168\n",
        "list index out of range"
       ]
      },
      {
       "output_type": "stream",
       "stream": "stdout",
       "text": [
        "\n",
        "Error >> 3130 can not fetch month =  168\n",
        "list index out of range"
       ]
      },
      {
       "output_type": "stream",
       "stream": "stdout",
       "text": [
        "\n",
        "Error >> 6605 can not fetch month =  168\n",
        "list index out of range"
       ]
      },
      {
       "output_type": "stream",
       "stream": "stdout",
       "text": [
        "\n",
        "Error >> 2358 can not fetch month =  168\n",
        "Get stock no."
       ]
      },
      {
       "output_type": "stream",
       "stream": "stdout",
       "text": [
        " 2359 info for 168 month\n",
        "Get stock no."
       ]
      },
      {
       "output_type": "stream",
       "stream": "stdout",
       "text": [
        " 2352 info for 168 month\n",
        "Get stock no."
       ]
      },
      {
       "output_type": "stream",
       "stream": "stdout",
       "text": [
        " 2353 info for 168 month\n",
        "Get stock no."
       ]
      },
      {
       "output_type": "stream",
       "stream": "stdout",
       "text": [
        " 2351 info for 168 month\n",
        "Get stock no."
       ]
      },
      {
       "output_type": "stream",
       "stream": "stdout",
       "text": [
        " 2356 info for 168 month\n",
        "Get stock no."
       ]
      },
      {
       "output_type": "stream",
       "stream": "stdout",
       "text": [
        " 2357 info for 168 month\n",
        "Get stock no."
       ]
      },
      {
       "output_type": "stream",
       "stream": "stdout",
       "text": [
        " 2354 info for 168 month\n",
        "Get stock no."
       ]
      },
      {
       "output_type": "stream",
       "stream": "stdout",
       "text": [
        " 2355 info for 168 month\n",
        "list index out of range"
       ]
      },
      {
       "output_type": "stream",
       "stream": "stdout",
       "text": [
        "\n",
        "Error >> 9942 can not fetch month =  168\n",
        "list index out of range"
       ]
      },
      {
       "output_type": "stream",
       "stream": "stdout",
       "text": [
        "\n",
        "Error >> 9941 can not fetch month =  168\n",
        "list index out of range"
       ]
      },
      {
       "output_type": "stream",
       "stream": "stdout",
       "text": [
        "\n",
        "Error >> 9946 can not fetch month =  168\n",
        "list index out of range"
       ]
      },
      {
       "output_type": "stream",
       "stream": "stdout",
       "text": [
        "\n",
        "Error >> 9944 can not fetch month =  168\n",
        "list index out of range"
       ]
      },
      {
       "output_type": "stream",
       "stream": "stdout",
       "text": [
        "\n",
        "Error >> 1537 can not fetch month =  168\n",
        "list index out of range"
       ]
      },
      {
       "output_type": "stream",
       "stream": "stdout",
       "text": [
        "\n",
        "Error >> 1535 can not fetch month =  168\n",
        "list index out of range"
       ]
      },
      {
       "output_type": "stream",
       "stream": "stdout",
       "text": [
        "\n",
        "Error >> 1533 can not fetch month =  168\n",
        "Get stock no."
       ]
      },
      {
       "output_type": "stream",
       "stream": "stdout",
       "text": [
        " 1532 info for 168 month\n",
        "Get stock no."
       ]
      },
      {
       "output_type": "stream",
       "stream": "stdout",
       "text": [
        " 1531 info for 168 month\n",
        "Get stock no."
       ]
      },
      {
       "output_type": "stream",
       "stream": "stdout",
       "text": [
        " 1530 info for 168 month\n",
        "list index out of range"
       ]
      },
      {
       "output_type": "stream",
       "stream": "stdout",
       "text": [
        "\n",
        "Error >> 1539 can not fetch month =  168\n",
        "list index out of range"
       ]
      },
      {
       "output_type": "stream",
       "stream": "stdout",
       "text": [
        "\n",
        "Error >> 4104 can not fetch month =  168\n",
        "list index out of range"
       ]
      },
      {
       "output_type": "stream",
       "stream": "stdout",
       "text": [
        "\n",
        "Error >> 4106 can not fetch month =  168\n",
        "Get stock no."
       ]
      },
      {
       "output_type": "stream",
       "stream": "stdout",
       "text": [
        " 1456 info for 168 month\n",
        "Get stock no."
       ]
      },
      {
       "output_type": "stream",
       "stream": "stdout",
       "text": [
        " 2903 info for 168 month\n",
        "Get stock no."
       ]
      },
      {
       "output_type": "stream",
       "stream": "stdout",
       "text": [
        " 2901 info for 168 month\n",
        "Get stock no."
       ]
      },
      {
       "output_type": "stream",
       "stream": "stdout",
       "text": [
        " 2906 info for 168 month\n",
        "Get stock no."
       ]
      },
      {
       "output_type": "stream",
       "stream": "stdout",
       "text": [
        " 2905 info for 168 month\n",
        "Get stock no."
       ]
      },
      {
       "output_type": "stream",
       "stream": "stdout",
       "text": [
        " 2904 info for 168 month\n",
        "Get stock no."
       ]
      },
      {
       "output_type": "stream",
       "stream": "stdout",
       "text": [
        " 2908 info for 168 month\n",
        "Get stock no."
       ]
      },
      {
       "output_type": "stream",
       "stream": "stdout",
       "text": [
        " 2330 info for 168 month\n",
        "Get stock no."
       ]
      },
      {
       "output_type": "stream",
       "stream": "stdout",
       "text": [
        " 2331 info for 168 month\n",
        "Get stock no."
       ]
      },
      {
       "output_type": "stream",
       "stream": "stdout",
       "text": [
        " 2332 info for 168 month\n",
        "Get stock no."
       ]
      },
      {
       "output_type": "stream",
       "stream": "stdout",
       "text": [
        " 2337 info for 168 month\n",
        "Get stock no."
       ]
      },
      {
       "output_type": "stream",
       "stream": "stdout",
       "text": [
        " 2338 info for 168 month\n",
        "list index out of range"
       ]
      },
      {
       "output_type": "stream",
       "stream": "stdout",
       "text": [
        "\n",
        "Error >> 2488 can not fetch month =  168\n",
        "list index out of range"
       ]
      },
      {
       "output_type": "stream",
       "stream": "stdout",
       "text": [
        "\n",
        "Error >> 2489 can not fetch month =  168\n",
        "list index out of range"
       ]
      },
      {
       "output_type": "stream",
       "stream": "stdout",
       "text": [
        "\n",
        "Error >> 2486 can not fetch month =  168\n",
        "list index out of range"
       ]
      },
      {
       "output_type": "stream",
       "stream": "stdout",
       "text": [
        "\n",
        "Error >> 2484 can not fetch month =  168\n",
        "list index out of range"
       ]
      },
      {
       "output_type": "stream",
       "stream": "stdout",
       "text": [
        "\n",
        "Error >> 2485 can not fetch month =  168\n",
        "list index out of range"
       ]
      },
      {
       "output_type": "stream",
       "stream": "stdout",
       "text": [
        "\n",
        "Error >> 2482 can not fetch month =  168\n",
        "list index out of range"
       ]
      },
      {
       "output_type": "stream",
       "stream": "stdout",
       "text": [
        "\n",
        "Error >> 2480 can not fetch month =  168\n",
        "list index out of range"
       ]
      },
      {
       "output_type": "stream",
       "stream": "stdout",
       "text": [
        "\n",
        "Error >> 2481 can not fetch month =  168\n",
        "Get stock no."
       ]
      },
      {
       "output_type": "stream",
       "stream": "stdout",
       "text": [
        " 2012 info for 168 month\n",
        "list index out of range"
       ]
      },
      {
       "output_type": "stream",
       "stream": "stdout",
       "text": [
        "\n",
        "Error >> 8210 can not fetch month =  168\n",
        "list index out of range"
       ]
      },
      {
       "output_type": "stream",
       "stream": "stdout",
       "text": [
        "\n",
        "Error >> 8213 can not fetch month =  168\n",
        "list index out of range"
       ]
      },
      {
       "output_type": "stream",
       "stream": "stdout",
       "text": [
        "\n",
        "Error >> 8215 can not fetch month =  168\n",
        "list index out of range"
       ]
      },
      {
       "output_type": "stream",
       "stream": "stdout",
       "text": [
        "\n",
        "Error >> 6243 can not fetch month =  168\n",
        "Get stock no."
       ]
      },
      {
       "output_type": "stream",
       "stream": "stdout",
       "text": [
        " 1519 info for 168 month\n",
        "Get stock no."
       ]
      },
      {
       "output_type": "stream",
       "stream": "stdout",
       "text": [
        " 1515 info for 168 month\n",
        "Get stock no."
       ]
      },
      {
       "output_type": "stream",
       "stream": "stdout",
       "text": [
        " 1514 info for 168 month\n",
        "Get stock no."
       ]
      },
      {
       "output_type": "stream",
       "stream": "stdout",
       "text": [
        " 1517 info for 168 month\n",
        "list index out of range"
       ]
      },
      {
       "output_type": "stream",
       "stream": "stdout",
       "text": [
        "\n",
        "Error >> 1516 can not fetch month =  168\n",
        "Get stock no."
       ]
      },
      {
       "output_type": "stream",
       "stream": "stdout",
       "text": [
        " 1513 info for 168 month\n",
        "Get stock no."
       ]
      },
      {
       "output_type": "stream",
       "stream": "stdout",
       "text": [
        " 1512 info for 168 month\n",
        "Get stock no."
       ]
      },
      {
       "output_type": "stream",
       "stream": "stdout",
       "text": [
        " 9911 info for 168 month\n",
        "list index out of range"
       ]
      },
      {
       "output_type": "stream",
       "stream": "stdout",
       "text": [
        "\n",
        "Error >> 2923 can not fetch month =  168\n",
        "Get stock no."
       ]
      },
      {
       "output_type": "stream",
       "stream": "stdout",
       "text": [
        " 9910 info for 168 month\n",
        "Get stock no."
       ]
      },
      {
       "output_type": "stream",
       "stream": "stdout",
       "text": [
        " 2365 info for 168 month\n",
        "Get stock no."
       ]
      },
      {
       "output_type": "stream",
       "stream": "stdout",
       "text": [
        " 1710 info for 168 month\n",
        "list index out of range"
       ]
      },
      {
       "output_type": "stream",
       "stream": "stdout",
       "text": [
        "\n",
        "Error >> 4733 can not fetch month =  168\n",
        "list index out of range"
       ]
      },
      {
       "output_type": "stream",
       "stream": "stdout",
       "text": [
        "\n",
        "Error >> 4737 can not fetch month =  168\n",
        "Get stock no."
       ]
      },
      {
       "output_type": "stream",
       "stream": "stdout",
       "text": [
        " 2316 info for 168 month\n",
        "Get stock no."
       ]
      },
      {
       "output_type": "stream",
       "stream": "stdout",
       "text": [
        " 2317 info for 168 month\n",
        "Get stock no."
       ]
      },
      {
       "output_type": "stream",
       "stream": "stdout",
       "text": [
        " 2314 info for 168 month\n",
        "Get stock no."
       ]
      },
      {
       "output_type": "stream",
       "stream": "stdout",
       "text": [
        " 2312 info for 168 month\n",
        "Get stock no."
       ]
      },
      {
       "output_type": "stream",
       "stream": "stdout",
       "text": [
        " 2313 info for 168 month\n",
        "Get stock no."
       ]
      },
      {
       "output_type": "stream",
       "stream": "stdout",
       "text": [
        " 2311 info for 168 month\n",
        "list index out of range"
       ]
      },
      {
       "output_type": "stream",
       "stream": "stdout",
       "text": [
        "\n",
        "Error >> 6205 can not fetch month =  168\n",
        "list index out of range"
       ]
      },
      {
       "output_type": "stream",
       "stream": "stdout",
       "text": [
        "\n",
        "Error >> 6206 can not fetch month =  168\n",
        "list index out of range"
       ]
      },
      {
       "output_type": "stream",
       "stream": "stdout",
       "text": [
        "\n",
        "Error >> 6201 can not fetch month =  168\n",
        "list index out of range"
       ]
      },
      {
       "output_type": "stream",
       "stream": "stdout",
       "text": [
        "\n",
        "Error >> 6202 can not fetch month =  168\n",
        "list index out of range"
       ]
      },
      {
       "output_type": "stream",
       "stream": "stdout",
       "text": [
        "\n",
        "Error >> 6209 can not fetch month =  168\n",
        "list index out of range"
       ]
      },
      {
       "output_type": "stream",
       "stream": "stdout",
       "text": [
        "\n",
        "Error >> 2887 can not fetch month =  168\n",
        "list index out of range"
       ]
      },
      {
       "output_type": "stream",
       "stream": "stdout",
       "text": [
        "\n",
        "Error >> 3698 can not fetch month =  168\n",
        "list index out of range"
       ]
      },
      {
       "output_type": "stream",
       "stream": "stdout",
       "text": [
        "\n",
        "Error >> 0060 can not fetch month =  168\n",
        "list index out of range"
       ]
      },
      {
       "output_type": "stream",
       "stream": "stdout",
       "text": [
        "\n",
        "Error >> 0061 can not fetch month =  168\n",
        "list index out of range"
       ]
      },
      {
       "output_type": "stream",
       "stream": "stdout",
       "text": [
        "\n",
        "Error >> 2528 can not fetch month =  168\n",
        "list index out of range"
       ]
      },
      {
       "output_type": "stream",
       "stream": "stdout",
       "text": [
        "\n",
        "Error >> 8021 can not fetch month =  168\n",
        "list index out of range"
       ]
      },
      {
       "output_type": "stream",
       "stream": "stdout",
       "text": [
        "\n",
        "Error >> 4755 can not fetch month =  168\n",
        "list index out of range"
       ]
      },
      {
       "output_type": "stream",
       "stream": "stdout",
       "text": [
        "\n",
        "Error >> 5871 can not fetch month =  168\n",
        "list index out of range"
       ]
      },
      {
       "output_type": "stream",
       "stream": "stdout",
       "text": [
        "\n",
        "Error >> 6196 can not fetch month =  168\n",
        "list index out of range"
       ]
      },
      {
       "output_type": "stream",
       "stream": "stdout",
       "text": [
        "\n",
        "Error >> 6197 can not fetch month =  168\n",
        "list index out of range"
       ]
      },
      {
       "output_type": "stream",
       "stream": "stdout",
       "text": [
        "\n",
        "Error >> 6191 can not fetch month =  168\n",
        "list index out of range"
       ]
      },
      {
       "output_type": "stream",
       "stream": "stdout",
       "text": [
        "\n",
        "Error >> 6192 can not fetch month =  168\n",
        "list index out of range"
       ]
      },
      {
       "output_type": "stream",
       "stream": "stdout",
       "text": [
        "\n",
        "Error >> 2731 can not fetch month =  168\n",
        "list index out of range"
       ]
      },
      {
       "output_type": "stream",
       "stream": "stdout",
       "text": [
        "\n",
        "Error >> 6226 can not fetch month =  168\n",
        "list index out of range"
       ]
      },
      {
       "output_type": "stream",
       "stream": "stdout",
       "text": [
        "\n",
        "Error >> 6224 can not fetch month =  168\n",
        "list index out of range"
       ]
      },
      {
       "output_type": "stream",
       "stream": "stdout",
       "text": [
        "\n",
        "Error >> 6225 can not fetch month =  168\n",
        "list index out of range"
       ]
      },
      {
       "output_type": "stream",
       "stream": "stdout",
       "text": [
        "\n",
        "Error >> 1773 can not fetch month =  168\n",
        "list index out of range"
       ]
      },
      {
       "output_type": "stream",
       "stream": "stdout",
       "text": [
        "\n",
        "Error >> 3038 can not fetch month =  168\n",
        "list index out of range"
       ]
      },
      {
       "output_type": "stream",
       "stream": "stdout",
       "text": [
        "\n",
        "Error >> 3034 can not fetch month =  168\n",
        "list index out of range"
       ]
      },
      {
       "output_type": "stream",
       "stream": "stdout",
       "text": [
        "\n",
        "Error >> 3036 can not fetch month =  168\n",
        "list index out of range"
       ]
      },
      {
       "output_type": "stream",
       "stream": "stdout",
       "text": [
        "\n",
        "Error >> 3037 can not fetch month =  168\n",
        "list index out of range"
       ]
      },
      {
       "output_type": "stream",
       "stream": "stdout",
       "text": [
        "\n",
        "Error >> 3030 can not fetch month =  168\n",
        "list index out of range"
       ]
      },
      {
       "output_type": "stream",
       "stream": "stdout",
       "text": [
        "\n",
        "Error >> 3031 can not fetch month =  168\n",
        "list index out of range"
       ]
      },
      {
       "output_type": "stream",
       "stream": "stdout",
       "text": [
        "\n",
        "Error >> 3032 can not fetch month =  168\n",
        "list index out of range"
       ]
      },
      {
       "output_type": "stream",
       "stream": "stdout",
       "text": [
        "\n",
        "Error >> 3033 can not fetch month =  168\n",
        "list index out of range"
       ]
      },
      {
       "output_type": "stream",
       "stream": "stdout",
       "text": [
        "\n",
        "Error >> 5607 can not fetch month =  168\n",
        "list index out of range"
       ]
      },
      {
       "output_type": "stream",
       "stream": "stdout",
       "text": [
        "\n",
        "Error >> 5608 can not fetch month =  168\n",
        "list index out of range"
       ]
      },
      {
       "output_type": "stream",
       "stream": "stdout",
       "text": [
        "\n",
        "Error >> 6257 can not fetch month =  168\n",
        "Get stock no."
       ]
      },
      {
       "output_type": "stream",
       "stream": "stdout",
       "text": [
        " 2509 info for 168 month\n",
        "Get stock no."
       ]
      },
      {
       "output_type": "stream",
       "stream": "stdout",
       "text": [
        " 2506 info for 168 month\n",
        "Get stock no."
       ]
      },
      {
       "output_type": "stream",
       "stream": "stdout",
       "text": [
        " 2505 info for 168 month\n",
        "Get stock no."
       ]
      },
      {
       "output_type": "stream",
       "stream": "stdout",
       "text": [
        " 2504 info for 168 month\n",
        "list index out of range"
       ]
      },
      {
       "output_type": "stream",
       "stream": "stdout",
       "text": [
        "\n",
        "Error >> 0080 can not fetch month =  168\n",
        "list index out of range"
       ]
      },
      {
       "output_type": "stream",
       "stream": "stdout",
       "text": [
        "\n",
        "Error >> 0081 can not fetch month =  168\n",
        "Get stock no."
       ]
      },
      {
       "output_type": "stream",
       "stream": "stdout",
       "text": [
        " 2501 info for 168 month\n",
        "list index out of range"
       ]
      },
      {
       "output_type": "stream",
       "stream": "stdout",
       "text": [
        "\n",
        "Error >> 3704 can not fetch month =  168\n",
        "list index out of range"
       ]
      },
      {
       "output_type": "stream",
       "stream": "stdout",
       "text": [
        "\n",
        "Error >> 4119 can not fetch month =  168\n",
        "list index out of range"
       ]
      },
      {
       "output_type": "stream",
       "stream": "stdout",
       "text": [
        "\n",
        "Error >> 2712 can not fetch month =  168\n",
        "Get stock no."
       ]
      },
      {
       "output_type": "stream",
       "stream": "stdout",
       "text": [
        " 1713 info for 168 month\n",
        "Get stock no."
       ]
      },
      {
       "output_type": "stream",
       "stream": "stdout",
       "text": [
        " 1712 info for 168 month\n",
        "Get stock no."
       ]
      },
      {
       "output_type": "stream",
       "stream": "stdout",
       "text": [
        " 1711 info for 168 month\n",
        "Get stock no."
       ]
      },
      {
       "output_type": "stream",
       "stream": "stdout",
       "text": [
        " 1717 info for 168 month\n",
        "Get stock no."
       ]
      },
      {
       "output_type": "stream",
       "stream": "stdout",
       "text": [
        " 1715 info for 168 month\n",
        "Get stock no."
       ]
      },
      {
       "output_type": "stream",
       "stream": "stdout",
       "text": [
        " 1714 info for 168 month\n",
        "Get stock no."
       ]
      },
      {
       "output_type": "stream",
       "stream": "stdout",
       "text": [
        " 1718 info for 168 month\n",
        "list index out of range"
       ]
      },
      {
       "output_type": "stream",
       "stream": "stdout",
       "text": [
        "\n",
        "Error >> 6251 can not fetch month =  168\n",
        "list index out of range"
       ]
      },
      {
       "output_type": "stream",
       "stream": "stdout",
       "text": [
        "\n",
        "Error >> 3018 can not fetch month =  168\n",
        "list index out of range"
       ]
      },
      {
       "output_type": "stream",
       "stream": "stdout",
       "text": [
        "\n",
        "Error >> 3019 can not fetch month =  168\n",
        "list index out of range"
       ]
      },
      {
       "output_type": "stream",
       "stream": "stdout",
       "text": [
        "\n",
        "Error >> 3013 can not fetch month =  168\n",
        "list index out of range"
       ]
      },
      {
       "output_type": "stream",
       "stream": "stdout",
       "text": [
        "\n",
        "Error >> 3010 can not fetch month =  168\n",
        "list index out of range"
       ]
      },
      {
       "output_type": "stream",
       "stream": "stdout",
       "text": [
        "\n",
        "Error >> 3011 can not fetch month =  168\n",
        "list index out of range"
       ]
      },
      {
       "output_type": "stream",
       "stream": "stdout",
       "text": [
        "\n",
        "Error >> 3016 can not fetch month =  168\n",
        "list index out of range"
       ]
      },
      {
       "output_type": "stream",
       "stream": "stdout",
       "text": [
        "\n",
        "Error >> 3017 can not fetch month =  168\n",
        "list index out of range"
       ]
      },
      {
       "output_type": "stream",
       "stream": "stdout",
       "text": [
        "\n",
        "Error >> 3014 can not fetch month =  168\n",
        "list index out of range"
       ]
      },
      {
       "output_type": "stream",
       "stream": "stdout",
       "text": [
        "\n",
        "Error >> 3015 can not fetch month =  168\n",
        "list index out of range"
       ]
      },
      {
       "output_type": "stream",
       "stream": "stdout",
       "text": [
        "\n",
        "Error >> 6405 can not fetch month =  168\n",
        "list index out of range"
       ]
      },
      {
       "output_type": "stream",
       "stream": "stdout",
       "text": [
        "\n",
        "Error >> 9955 can not fetch month =  168\n",
        "Get stock no."
       ]
      },
      {
       "output_type": "stream",
       "stream": "stdout",
       "text": [
        " 2440 info for 168 month\n",
        "list index out of range"
       ]
      },
      {
       "output_type": "stream",
       "stream": "stdout",
       "text": [
        "\n",
        "Error >> 3653 can not fetch month =  168\n",
        "Get stock no."
       ]
      },
      {
       "output_type": "stream",
       "stream": "stdout",
       "text": [
        " 2524 info for 168 month\n",
        "Get stock no."
       ]
      },
      {
       "output_type": "stream",
       "stream": "stdout",
       "text": [
        " 2527 info for 168 month\n",
        "Get stock no."
       ]
      },
      {
       "output_type": "stream",
       "stream": "stdout",
       "text": [
        " 2520 info for 168 month\n",
        "list index out of range"
       ]
      },
      {
       "output_type": "stream",
       "stream": "stdout",
       "text": [
        "\n",
        "Error >> 2471 can not fetch month =  168\n",
        "Get stock no."
       ]
      },
      {
       "output_type": "stream",
       "stream": "stdout",
       "text": [
        " 1454 info for 168 month\n",
        "Get stock no."
       ]
      },
      {
       "output_type": "stream",
       "stream": "stdout",
       "text": [
        " 1455 info for 168 month\n",
        "Get stock no."
       ]
      },
      {
       "output_type": "stream",
       "stream": "stdout",
       "text": [
        " 1457 info for 168 month\n",
        "Get stock no."
       ]
      },
      {
       "output_type": "stream",
       "stream": "stdout",
       "text": [
        " 1102 info for 168 month\n",
        "Get stock no."
       ]
      },
      {
       "output_type": "stream",
       "stream": "stdout",
       "text": [
        " 1103 info for 168 month\n",
        "Get stock no."
       ]
      },
      {
       "output_type": "stream",
       "stream": "stdout",
       "text": [
        " 1452 info for 168 month\n",
        "Get stock no."
       ]
      },
      {
       "output_type": "stream",
       "stream": "stdout",
       "text": [
        " 1101 info for 168 month\n",
        "Get stock no."
       ]
      },
      {
       "output_type": "stream",
       "stream": "stdout",
       "text": [
        " 1459 info for 168 month\n",
        "Get stock no."
       ]
      },
      {
       "output_type": "stream",
       "stream": "stdout",
       "text": [
        " 1108 info for 168 month\n",
        "Get stock no."
       ]
      },
      {
       "output_type": "stream",
       "stream": "stdout",
       "text": [
        " 1109 info for 168 month\n",
        "list index out of range"
       ]
      },
      {
       "output_type": "stream",
       "stream": "stdout",
       "text": [
        "\n",
        "Error >> 5243 can not fetch month =  168\n",
        "list index out of range"
       ]
      },
      {
       "output_type": "stream",
       "stream": "stdout",
       "text": [
        "\n",
        "Error >> 3005 can not fetch month =  168\n",
        "list index out of range"
       ]
      },
      {
       "output_type": "stream",
       "stream": "stdout",
       "text": [
        "\n",
        "Error >> 3006 can not fetch month =  168\n",
        "list index out of range"
       ]
      },
      {
       "output_type": "stream",
       "stream": "stdout",
       "text": [
        "\n",
        "Error >> 1731 can not fetch month =  168\n",
        "list index out of range"
       ]
      },
      {
       "output_type": "stream",
       "stream": "stdout",
       "text": [
        "\n",
        "Error >> 1730 can not fetch month =  168\n",
        "list index out of range"
       ]
      },
      {
       "output_type": "stream",
       "stream": "stdout",
       "text": [
        "\n",
        "Error >> 1733 can not fetch month =  168\n",
        "list index out of range"
       ]
      },
      {
       "output_type": "stream",
       "stream": "stdout",
       "text": [
        "\n",
        "Error >> 1732 can not fetch month =  168\n",
        "list index out of range"
       ]
      },
      {
       "output_type": "stream",
       "stream": "stdout",
       "text": [
        "\n",
        "Error >> 1735 can not fetch month =  168\n",
        "list index out of range"
       ]
      },
      {
       "output_type": "stream",
       "stream": "stdout",
       "text": [
        "\n",
        "Error >> 1734 can not fetch month =  168\n",
        "list index out of range"
       ]
      },
      {
       "output_type": "stream",
       "stream": "stdout",
       "text": [
        "\n",
        "Error >> 1736 can not fetch month =  168\n",
        "list index out of range"
       ]
      },
      {
       "output_type": "stream",
       "stream": "stdout",
       "text": [
        "\n",
        "Error >> 9939 can not fetch month =  168\n",
        "Get stock no."
       ]
      },
      {
       "output_type": "stream",
       "stream": "stdout",
       "text": [
        " 9938 info for 168 month\n",
        "list index out of range"
       ]
      },
      {
       "output_type": "stream",
       "stream": "stdout",
       "text": [
        "\n",
        "Error >> 3673 can not fetch month =  168\n",
        "list index out of range"
       ]
      },
      {
       "output_type": "stream",
       "stream": "stdout",
       "text": [
        "\n",
        "Error >> 2891 can not fetch month =  168\n",
        "list index out of range"
       ]
      },
      {
       "output_type": "stream",
       "stream": "stdout",
       "text": [
        "\n",
        "Error >> 2890 can not fetch month =  168\n",
        "list index out of range"
       ]
      },
      {
       "output_type": "stream",
       "stream": "stdout",
       "text": [
        "\n",
        "Error >> 3679 can not fetch month =  168\n",
        "Get stock no."
       ]
      },
      {
       "output_type": "stream",
       "stream": "stdout",
       "text": [
        " 2543 info for 168 month\n",
        "Get stock no."
       ]
      },
      {
       "output_type": "stream",
       "stream": "stdout",
       "text": [
        " 2542 info for 168 month\n",
        "Get stock no."
       ]
      },
      {
       "output_type": "stream",
       "stream": "stdout",
       "text": [
        " 2540 info for 168 month\n",
        "Get stock no."
       ]
      },
      {
       "output_type": "stream",
       "stream": "stdout",
       "text": [
        " 2547 info for 168 month\n",
        "Get stock no."
       ]
      },
      {
       "output_type": "stream",
       "stream": "stdout",
       "text": [
        " 2546 info for 168 month\n",
        "Get stock no."
       ]
      },
      {
       "output_type": "stream",
       "stream": "stdout",
       "text": [
        " 2545 info for 168 month\n",
        "list index out of range"
       ]
      },
      {
       "output_type": "stream",
       "stream": "stdout",
       "text": [
        "\n",
        "Error >> 2548 can not fetch month =  168\n",
        "Get stock no."
       ]
      },
      {
       "output_type": "stream",
       "stream": "stdout",
       "text": [
        " 1104 info for 168 month\n",
        "Get stock no."
       ]
      },
      {
       "output_type": "stream",
       "stream": "stdout",
       "text": [
        " 1451 info for 168 month\n",
        "list index out of range"
       ]
      },
      {
       "output_type": "stream",
       "stream": "stdout",
       "text": [
        "\n",
        "Error >> 3557 can not fetch month =  168\n",
        "list index out of range"
       ]
      },
      {
       "output_type": "stream",
       "stream": "stdout",
       "text": [
        "\n",
        "Error >> 3583 can not fetch month =  168\n",
        "list index out of range"
       ]
      },
      {
       "output_type": "stream",
       "stream": "stdout",
       "text": [
        "\n",
        "Error >> 3588 can not fetch month =  168\n",
        "Get stock no."
       ]
      },
      {
       "output_type": "stream",
       "stream": "stdout",
       "text": [
        " 1453 info for 168 month\n",
        "list index out of range"
       ]
      },
      {
       "output_type": "stream",
       "stream": "stdout",
       "text": [
        "\n",
        "Error >> 3550 can not fetch month =  168\n",
        "list index out of range"
       ]
      },
      {
       "output_type": "stream",
       "stream": "stdout",
       "text": [
        "\n",
        "Error >> 4426 can not fetch month =  168\n",
        "list index out of range"
       ]
      },
      {
       "output_type": "stream",
       "stream": "stdout",
       "text": [
        "\n",
        "Error >> 3559 can not fetch month =  168\n",
        "Get stock no."
       ]
      },
      {
       "output_type": "stream",
       "stream": "stdout",
       "text": [
        " 1472 info for 168 month\n",
        "Get stock no."
       ]
      },
      {
       "output_type": "stream",
       "stream": "stdout",
       "text": [
        " 1473 info for 168 month\n",
        "Get stock no."
       ]
      },
      {
       "output_type": "stream",
       "stream": "stdout",
       "text": [
        " 1470 info for 168 month\n",
        "Get stock no."
       ]
      },
      {
       "output_type": "stream",
       "stream": "stdout",
       "text": [
        " 1471 info for 168 month\n",
        "list index out of range"
       ]
      },
      {
       "output_type": "stream",
       "stream": "stdout",
       "text": [
        "\n",
        "Error >> 1476 can not fetch month =  168\n",
        "list index out of range"
       ]
      },
      {
       "output_type": "stream",
       "stream": "stdout",
       "text": [
        "\n",
        "Error >> 1477 can not fetch month =  168\n",
        "Get stock no."
       ]
      },
      {
       "output_type": "stream",
       "stream": "stdout",
       "text": [
        " 1474 info for 168 month\n",
        "Get stock no."
       ]
      },
      {
       "output_type": "stream",
       "stream": "stdout",
       "text": [
        " 1475 info for 168 month\n",
        "list index out of range"
       ]
      },
      {
       "output_type": "stream",
       "stream": "stdout",
       "text": [
        "\n",
        "Error >> 2458 can not fetch month =  168\n",
        "list index out of range"
       ]
      },
      {
       "output_type": "stream",
       "stream": "stdout",
       "text": [
        "\n",
        "Error >> 1817 can not fetch month =  168\n",
        "Get stock no."
       ]
      },
      {
       "output_type": "stream",
       "stream": "stdout",
       "text": [
        " 1810 info for 168 month\n",
        "list index out of range"
       ]
      },
      {
       "output_type": "stream",
       "stream": "stdout",
       "text": [
        "\n",
        "Error >> 5305 can not fetch month =  168\n",
        "list index out of range"
       ]
      },
      {
       "output_type": "stream",
       "stream": "stdout",
       "text": [
        "\n",
        "Error >> 6285 can not fetch month =  168\n",
        "list index out of range"
       ]
      },
      {
       "output_type": "stream",
       "stream": "stdout",
       "text": [
        "\n",
        "Error >> 6286 can not fetch month =  168\n",
        "list index out of range"
       ]
      },
      {
       "output_type": "stream",
       "stream": "stdout",
       "text": [
        "\n",
        "Error >> 6281 can not fetch month =  168\n",
        "list index out of range"
       ]
      },
      {
       "output_type": "stream",
       "stream": "stdout",
       "text": [
        "\n",
        "Error >> 3443 can not fetch month =  168\n",
        "list index out of range"
       ]
      },
      {
       "output_type": "stream",
       "stream": "stdout",
       "text": [
        "\n",
        "Error >> 2024 can not fetch month =  168\n",
        "Get stock no."
       ]
      },
      {
       "output_type": "stream",
       "stream": "stdout",
       "text": [
        " 2025 info for 168 month\n",
        "Get stock no."
       ]
      },
      {
       "output_type": "stream",
       "stream": "stdout",
       "text": [
        " 2027 info for 168 month\n",
        "Get stock no."
       ]
      },
      {
       "output_type": "stream",
       "stream": "stdout",
       "text": [
        " 2020 info for 168 month\n",
        "Get stock no."
       ]
      },
      {
       "output_type": "stream",
       "stream": "stdout",
       "text": [
        " 2022 info for 168 month\n",
        "Get stock no."
       ]
      },
      {
       "output_type": "stream",
       "stream": "stdout",
       "text": [
        " 2023 info for 168 month\n",
        "Get stock no."
       ]
      },
      {
       "output_type": "stream",
       "stream": "stdout",
       "text": [
        " 2028 info for 168 month\n",
        "Get stock no."
       ]
      },
      {
       "output_type": "stream",
       "stream": "stdout",
       "text": [
        " 2029 info for 168 month\n",
        "list index out of range"
       ]
      },
      {
       "output_type": "stream",
       "stream": "stdout",
       "text": [
        "\n",
        "Error >> 5215 can not fetch month =  168\n",
        "Get stock no."
       ]
      },
      {
       "output_type": "stream",
       "stream": "stdout",
       "text": [
        " 9928 info for 168 month\n",
        "Get stock no."
       ]
      },
      {
       "output_type": "stream",
       "stream": "stdout",
       "text": [
        " 9929 info for 168 month\n",
        "list index out of range"
       ]
      },
      {
       "output_type": "stream",
       "stream": "stdout",
       "text": [
        "\n",
        "Error >> 3058 can not fetch month =  168\n",
        "list index out of range"
       ]
      },
      {
       "output_type": "stream",
       "stream": "stdout",
       "text": [
        "\n",
        "Error >> 3056 can not fetch month =  168\n",
        "list index out of range"
       ]
      },
      {
       "output_type": "stream",
       "stream": "stdout",
       "text": [
        "\n",
        "Error >> 3057 can not fetch month =  168\n",
        "list index out of range"
       ]
      },
      {
       "output_type": "stream",
       "stream": "stdout",
       "text": [
        "\n",
        "Error >> 3055 can not fetch month =  168\n",
        "list index out of range"
       ]
      },
      {
       "output_type": "stream",
       "stream": "stdout",
       "text": [
        "\n",
        "Error >> 3052 can not fetch month =  168\n",
        "list index out of range"
       ]
      },
      {
       "output_type": "stream",
       "stream": "stdout",
       "text": [
        "\n",
        "Error >> 3050 can not fetch month =  168\n",
        "list index out of range"
       ]
      },
      {
       "output_type": "stream",
       "stream": "stdout",
       "text": [
        "\n",
        "Error >> 3051 can not fetch month =  168\n",
        "Get stock no."
       ]
      },
      {
       "output_type": "stream",
       "stream": "stdout",
       "text": [
        " 1316 info for 168 month\n",
        "Get stock no."
       ]
      },
      {
       "output_type": "stream",
       "stream": "stdout",
       "text": [
        " 1315 info for 168 month\n",
        "Get stock no."
       ]
      },
      {
       "output_type": "stream",
       "stream": "stdout",
       "text": [
        " 1314 info for 168 month\n",
        "Get stock no."
       ]
      },
      {
       "output_type": "stream",
       "stream": "stdout",
       "text": [
        " 1313 info for 168 month\n",
        "Get stock no."
       ]
      },
      {
       "output_type": "stream",
       "stream": "stdout",
       "text": [
        " 1312 info for 168 month\n",
        "Get stock no."
       ]
      },
      {
       "output_type": "stream",
       "stream": "stdout",
       "text": [
        " 1319 info for 168 month\n",
        "list index out of range"
       ]
      },
      {
       "output_type": "stream",
       "stream": "stdout",
       "text": [
        "\n",
        "Error >> 6702 can not fetch month =  168\n",
        "Get stock no."
       ]
      },
      {
       "output_type": "stream",
       "stream": "stdout",
       "text": [
        " 9912 info for 168 month\n",
        "Get stock no."
       ]
      },
      {
       "output_type": "stream",
       "stream": "stdout",
       "text": [
        " 9914 info for 168 month\n",
        "Get stock no."
       ]
      },
      {
       "output_type": "stream",
       "stream": "stdout",
       "text": [
        " 9917 info for 168 month\n",
        "list index out of range"
       ]
      },
      {
       "output_type": "stream",
       "stream": "stdout",
       "text": [
        "\n",
        "Error >> 3617 can not fetch month =  168\n",
        "list index out of range"
       ]
      },
      {
       "output_type": "stream",
       "stream": "stdout",
       "text": [
        "\n",
        "Error >> 1536 can not fetch month =  168\n",
        "list index out of range"
       ]
      },
      {
       "output_type": "stream",
       "stream": "stdout",
       "text": [
        "\n",
        "Error >> 3090 can not fetch month =  168\n",
        "list index out of range"
       ]
      },
      {
       "output_type": "stream",
       "stream": "stdout",
       "text": [
        "\n",
        "Error >> 3094 can not fetch month =  168\n",
        "list index out of range"
       ]
      },
      {
       "output_type": "stream",
       "stream": "stdout",
       "text": [
        "\n",
        "Error >> 3231 can not fetch month =  168\n",
        "Get stock no."
       ]
      },
      {
       "output_type": "stream",
       "stream": "stdout",
       "text": [
        " 1617 info for 168 month\n",
        "list index out of range"
       ]
      },
      {
       "output_type": "stream",
       "stream": "stdout",
       "text": [
        "\n",
        "Error >> 1538 can not fetch month =  168\n",
        "Get stock no."
       ]
      },
      {
       "output_type": "stream",
       "stream": "stdout",
       "text": [
        " 1615 info for 168 month\n",
        "Get stock no."
       ]
      },
      {
       "output_type": "stream",
       "stream": "stdout",
       "text": [
        " 1611 info for 168 month\n",
        "Get stock no."
       ]
      },
      {
       "output_type": "stream",
       "stream": "stdout",
       "text": [
        " 1418 info for 168 month\n",
        "Get stock no."
       ]
      },
      {
       "output_type": "stream",
       "stream": "stdout",
       "text": [
        " 1419 info for 168 month\n",
        "Get stock no."
       ]
      },
      {
       "output_type": "stream",
       "stream": "stdout",
       "text": [
        " 1410 info for 168 month\n",
        "Get stock no."
       ]
      },
      {
       "output_type": "stream",
       "stream": "stdout",
       "text": [
        " 1413 info for 168 month\n",
        "Get stock no."
       ]
      },
      {
       "output_type": "stream",
       "stream": "stdout",
       "text": [
        " 1414 info for 168 month\n",
        "Get stock no."
       ]
      },
      {
       "output_type": "stream",
       "stream": "stdout",
       "text": [
        " 1416 info for 168 month\n",
        "Get stock no."
       ]
      },
      {
       "output_type": "stream",
       "stream": "stdout",
       "text": [
        " 1417 info for 168 month\n",
        "list index out of range"
       ]
      },
      {
       "output_type": "stream",
       "stream": "stdout",
       "text": [
        "\n",
        "Error >> 4108 can not fetch month =  168\n",
        "list index out of range"
       ]
      },
      {
       "output_type": "stream",
       "stream": "stdout",
       "text": [
        "\n",
        "Error >> 6116 can not fetch month =  168\n",
        "list index out of range"
       ]
      },
      {
       "output_type": "stream",
       "stream": "stdout",
       "text": [
        "\n",
        "Error >> 6117 can not fetch month =  168\n",
        "list index out of range"
       ]
      },
      {
       "output_type": "stream",
       "stream": "stdout",
       "text": [
        "\n",
        "Error >> 6112 can not fetch month =  168\n",
        "list index out of range"
       ]
      },
      {
       "output_type": "stream",
       "stream": "stdout",
       "text": [
        "\n",
        "Error >> 9106 can not fetch month =  168\n",
        "list index out of range"
       ]
      },
      {
       "output_type": "stream",
       "stream": "stdout",
       "text": [
        "\n",
        "Error >> 9103 can not fetch month =  168\n",
        "Get stock no."
       ]
      },
      {
       "output_type": "stream",
       "stream": "stdout",
       "text": [
        " 2002 info for 168 month\n",
        "Get stock no."
       ]
      },
      {
       "output_type": "stream",
       "stream": "stdout",
       "text": [
        " 2006 info for 168 month\n",
        "Get stock no."
       ]
      },
      {
       "output_type": "stream",
       "stream": "stdout",
       "text": [
        " 2009 info for 168 month\n",
        "list index out of range"
       ]
      },
      {
       "output_type": "stream",
       "stream": "stdout",
       "text": [
        "\n",
        "Error >> 4414 can not fetch month =  168\n",
        "list index out of range"
       ]
      },
      {
       "output_type": "stream",
       "stream": "stdout",
       "text": [
        "\n",
        "Error >> 6269 can not fetch month =  168\n",
        "list index out of range"
       ]
      },
      {
       "output_type": "stream",
       "stream": "stdout",
       "text": [
        "\n",
        "Error >> 1339 can not fetch month =  168\n",
        "list index out of range"
       ]
      },
      {
       "output_type": "stream",
       "stream": "stdout",
       "text": [
        "\n",
        "Error >> 1338 can not fetch month =  168\n",
        "list index out of range"
       ]
      },
      {
       "output_type": "stream",
       "stream": "stdout",
       "text": [
        "\n",
        "Error >> 1337 can not fetch month =  168\n",
        "list index out of range"
       ]
      },
      {
       "output_type": "stream",
       "stream": "stdout",
       "text": [
        "\n",
        "Error >> 2892 can not fetch month =  168\n",
        "list index out of range"
       ]
      },
      {
       "output_type": "stream",
       "stream": "stdout",
       "text": [
        "\n",
        "Error >> 3638 can not fetch month =  168\n",
        "Get stock no."
       ]
      },
      {
       "output_type": "stream",
       "stream": "stdout",
       "text": [
        " 2345 info for 168 month\n",
        "Get stock no."
       ]
      },
      {
       "output_type": "stream",
       "stream": "stdout",
       "text": [
        " 2838 info for 168 month\n",
        "Get stock no."
       ]
      },
      {
       "output_type": "stream",
       "stream": "stdout",
       "text": [
        " 2837 info for 168 month\n",
        "Get stock no."
       ]
      },
      {
       "output_type": "stream",
       "stream": "stdout",
       "text": [
        " 2836 info for 168 month\n",
        "Get stock no."
       ]
      },
      {
       "output_type": "stream",
       "stream": "stdout",
       "text": [
        " 2834 info for 168 month\n",
        "Get stock no."
       ]
      },
      {
       "output_type": "stream",
       "stream": "stdout",
       "text": [
        " 2833 info for 168 month\n",
        "Get stock no."
       ]
      },
      {
       "output_type": "stream",
       "stream": "stdout",
       "text": [
        " 2832 info for 168 month\n",
        "Get stock no."
       ]
      },
      {
       "output_type": "stream",
       "stream": "stdout",
       "text": [
        " 1436 info for 168 month\n",
        "Get stock no."
       ]
      },
      {
       "output_type": "stream",
       "stream": "stdout",
       "text": [
        " 1437 info for 168 month\n",
        "Get stock no."
       ]
      },
      {
       "output_type": "stream",
       "stream": "stdout",
       "text": [
        " 1434 info for 168 month\n",
        "Get stock no."
       ]
      },
      {
       "output_type": "stream",
       "stream": "stdout",
       "text": [
        " 1435 info for 168 month\n",
        "list index out of range"
       ]
      },
      {
       "output_type": "stream",
       "stream": "stdout",
       "text": [
        "\n",
        "Error >> 1432 can not fetch month =  168\n",
        "Get stock no."
       ]
      },
      {
       "output_type": "stream",
       "stream": "stdout",
       "text": [
        " 1438 info for 168 month\n",
        "Get stock no."
       ]
      },
      {
       "output_type": "stream",
       "stream": "stdout",
       "text": [
        " 1439 info for 168 month\n",
        "list index out of range"
       ]
      },
      {
       "output_type": "stream",
       "stream": "stdout",
       "text": [
        "\n",
        "Error >> 5234 can not fetch month =  168\n",
        "list index out of range"
       ]
      },
      {
       "output_type": "stream",
       "stream": "stdout",
       "text": [
        "\n",
        "Error >> 3703 can not fetch month =  168\n",
        "list index out of range"
       ]
      },
      {
       "output_type": "stream",
       "stream": "stdout",
       "text": [
        "\n",
        "Error >> 3701 can not fetch month =  168\n",
        "list index out of range"
       ]
      },
      {
       "output_type": "stream",
       "stream": "stdout",
       "text": [
        "\n",
        "Error >> 3706 can not fetch month =  168\n",
        "list index out of range"
       ]
      },
      {
       "output_type": "stream",
       "stream": "stdout",
       "text": [
        "\n",
        "Error >> 6139 can not fetch month =  168\n",
        "list index out of range"
       ]
      },
      {
       "output_type": "stream",
       "stream": "stdout",
       "text": [
        "\n",
        "Error >> 6131 can not fetch month =  168\n",
        "list index out of range"
       ]
      },
      {
       "output_type": "stream",
       "stream": "stdout",
       "text": [
        "\n",
        "Error >> 6136 can not fetch month =  168\n",
        "list index out of range"
       ]
      },
      {
       "output_type": "stream",
       "stream": "stdout",
       "text": [
        "\n",
        "Error >> 1590 can not fetch month =  168\n",
        "list index out of range"
       ]
      },
      {
       "output_type": "stream",
       "stream": "stdout",
       "text": [
        "\n",
        "Error >> 2062 can not fetch month =  168\n",
        "list index out of range"
       ]
      },
      {
       "output_type": "stream",
       "stream": "stdout",
       "text": [
        "\n",
        "Error >> 3257 can not fetch month =  168\n",
        "list index out of range"
       ]
      },
      {
       "output_type": "stream",
       "stream": "stdout",
       "text": [
        "\n",
        "Error >> 8078 can not fetch month =  168\n",
        "list index out of range"
       ]
      },
      {
       "output_type": "stream",
       "stream": "stdout",
       "text": [
        "\n",
        "Error >> 8105 can not fetch month =  168\n",
        "list index out of range"
       ]
      },
      {
       "output_type": "stream",
       "stream": "stdout",
       "text": [
        "\n",
        "Error >> 8101 can not fetch month =  168\n",
        "list index out of range"
       ]
      },
      {
       "output_type": "stream",
       "stream": "stdout",
       "text": [
        "\n",
        "Error >> 8103 can not fetch month =  168\n",
        "Get stock no."
       ]
      },
      {
       "output_type": "stream",
       "stream": "stdout",
       "text": [
        " 9933 info for 168 month\n",
        "list index out of range"
       ]
      },
      {
       "output_type": "stream",
       "stream": "stdout",
       "text": [
        "\n",
        "Error >> 3189 can not fetch month =  168\n",
        "Get stock no."
       ]
      },
      {
       "output_type": "stream",
       "stream": "stdout",
       "text": [
        " 1446 info for 168 month\n",
        "list index out of range"
       ]
      },
      {
       "output_type": "stream",
       "stream": "stdout",
       "text": [
        "\n",
        "Error >> 3561 can not fetch month =  168\n",
        "list index out of range"
       ]
      },
      {
       "output_type": "stream",
       "stream": "stdout",
       "text": [
        "\n",
        "Error >> 2477 can not fetch month =  168\n",
        "list index out of range"
       ]
      },
      {
       "output_type": "stream",
       "stream": "stdout",
       "text": [
        "\n",
        "Error >> 2476 can not fetch month =  168\n",
        "list index out of range"
       ]
      },
      {
       "output_type": "stream",
       "stream": "stdout",
       "text": [
        "\n",
        "Error >> 2475 can not fetch month =  168\n",
        "list index out of range"
       ]
      },
      {
       "output_type": "stream",
       "stream": "stdout",
       "text": [
        "\n",
        "Error >> 2474 can not fetch month =  168\n",
        "list index out of range"
       ]
      },
      {
       "output_type": "stream",
       "stream": "stdout",
       "text": [
        "\n",
        "Error >> 2478 can not fetch month =  168\n",
        "Get stock no."
       ]
      },
      {
       "output_type": "stream",
       "stream": "stdout",
       "text": [
        " 2201 info for 168 month\n",
        "Get stock no."
       ]
      },
      {
       "output_type": "stream",
       "stream": "stdout",
       "text": [
        " 2816 info for 168 month\n",
        "list index out of range"
       ]
      },
      {
       "output_type": "stream",
       "stream": "stdout",
       "text": [
        "\n",
        "Error >> 2812 can not fetch month =  168\n",
        "list index out of range"
       ]
      },
      {
       "output_type": "stream",
       "stream": "stdout",
       "text": [
        "\n",
        "Error >> 3376 can not fetch month =  168\n",
        "list index out of range"
       ]
      },
      {
       "output_type": "stream",
       "stream": "stdout",
       "text": [
        "\n",
        "Error >> 5521 can not fetch month =  168\n",
        "list index out of range"
       ]
      },
      {
       "output_type": "stream",
       "stream": "stdout",
       "text": [
        "\n",
        "Error >> 5522 can not fetch month =  168\n",
        "list index out of range"
       ]
      },
      {
       "output_type": "stream",
       "stream": "stdout",
       "text": [
        "\n",
        "Error >> 5525 can not fetch month =  168\n",
        "Get stock no."
       ]
      },
      {
       "output_type": "stream",
       "stream": "stdout",
       "text": [
        " 2424 info for 168 month\n",
        "list index out of range"
       ]
      },
      {
       "output_type": "stream",
       "stream": "stdout",
       "text": [
        "\n",
        "Error >> 6152 can not fetch month =  168\n",
        "list index out of range"
       ]
      },
      {
       "output_type": "stream",
       "stream": "stdout",
       "text": [
        "\n",
        "Error >> 6153 can not fetch month =  168\n",
        "list index out of range"
       ]
      },
      {
       "output_type": "stream",
       "stream": "stdout",
       "text": [
        "\n",
        "Error >> 6155 can not fetch month =  168\n",
        "Get stock no."
       ]
      },
      {
       "output_type": "stream",
       "stream": "stdout",
       "text": [
        " 9935 info for 168 month\n",
        "list index out of range"
       ]
      },
      {
       "output_type": "stream",
       "stream": "stdout",
       "text": [
        "\n",
        "Error >> 2049 can not fetch month =  168\n",
        "Get stock no."
       ]
      },
      {
       "output_type": "stream",
       "stream": "stdout",
       "text": [
        " 9934 info for 168 month\n",
        "list index out of range"
       ]
      },
      {
       "output_type": "stream",
       "stream": "stdout",
       "text": [
        "\n",
        "Error >> 3697 can not fetch month =  168\n",
        "list index out of range"
       ]
      },
      {
       "output_type": "stream",
       "stream": "stdout",
       "text": [
        "\n",
        "Error >> 8163 can not fetch month =  168\n",
        "list index out of range"
       ]
      },
      {
       "output_type": "stream",
       "stream": "stdout",
       "text": [
        "\n",
        "Error >> 3450 can not fetch month =  168\n",
        "list index out of range"
       ]
      },
      {
       "output_type": "stream",
       "stream": "stdout",
       "text": [
        "\n",
        "Error >> 3454 can not fetch month =  168\n",
        "list index out of range"
       ]
      },
      {
       "output_type": "stream",
       "stream": "stdout",
       "text": [
        "\n",
        "Error >> 2459 can not fetch month =  168\n",
        "list index out of range"
       ]
      },
      {
       "output_type": "stream",
       "stream": "stdout",
       "text": [
        "\n",
        "Error >> 2455 can not fetch month =  168\n",
        "list index out of range"
       ]
      },
      {
       "output_type": "stream",
       "stream": "stdout",
       "text": [
        "\n",
        "Error >> 2454 can not fetch month =  168\n",
        "list index out of range"
       ]
      },
      {
       "output_type": "stream",
       "stream": "stdout",
       "text": [
        "\n",
        "Error >> 2457 can not fetch month =  168\n",
        "list index out of range"
       ]
      },
      {
       "output_type": "stream",
       "stream": "stdout",
       "text": [
        "\n",
        "Error >> 2456 can not fetch month =  168\n",
        "list index out of range"
       ]
      },
      {
       "output_type": "stream",
       "stream": "stdout",
       "text": [
        "\n",
        "Error >> 2451 can not fetch month =  168\n",
        "list index out of range"
       ]
      },
      {
       "output_type": "stream",
       "stream": "stdout",
       "text": [
        "\n",
        "Error >> 2450 can not fetch month =  168\n",
        "list index out of range"
       ]
      },
      {
       "output_type": "stream",
       "stream": "stdout",
       "text": [
        "\n",
        "Error >> 2453 can not fetch month =  168\n",
        "Get stock no."
       ]
      },
      {
       "output_type": "stream",
       "stream": "stdout",
       "text": [
        " 1503 info for 168 month\n",
        "Get stock no."
       ]
      },
      {
       "output_type": "stream",
       "stream": "stdout",
       "text": [
        " 1618 info for 168 month\n",
        "Get stock no."
       ]
      },
      {
       "output_type": "stream",
       "stream": "stdout",
       "text": [
        " 1616 info for 168 month\n",
        "Get stock no."
       ]
      },
      {
       "output_type": "stream",
       "stream": "stdout",
       "text": [
        " 1614 info for 168 month\n",
        "Get stock no."
       ]
      },
      {
       "output_type": "stream",
       "stream": "stdout",
       "text": [
        " 1612 info for 168 month\n",
        "Get stock no."
       ]
      },
      {
       "output_type": "stream",
       "stream": "stdout",
       "text": [
        " 1613 info for 168 month\n",
        "list index out of range"
       ]
      },
      {
       "output_type": "stream",
       "stream": "stdout",
       "text": [
        "\n",
        "Error >> 3356 can not fetch month =  168\n",
        "Get stock no."
       ]
      },
      {
       "output_type": "stream",
       "stream": "stdout",
       "text": [
        " 2847 info for 168 month\n",
        "list index out of range"
       ]
      },
      {
       "output_type": "stream",
       "stream": "stdout",
       "text": [
        "\n",
        "Error >> 3682 can not fetch month =  168\n",
        "list index out of range"
       ]
      },
      {
       "output_type": "stream",
       "stream": "stdout",
       "text": [
        "\n",
        "Error >> 9157 can not fetch month =  168\n",
        "list index out of range"
       ]
      },
      {
       "output_type": "stream",
       "stream": "stdout",
       "text": [
        "\n",
        "Error >> 3584 can not fetch month =  168\n",
        "list index out of range"
       ]
      },
      {
       "output_type": "stream",
       "stream": "stdout",
       "text": [
        "\n",
        "Error >> 6176 can not fetch month =  168\n",
        "list index out of range"
       ]
      },
      {
       "output_type": "stream",
       "stream": "stdout",
       "text": [
        "\n",
        "Error >> 6177 can not fetch month =  168\n",
        "list index out of range"
       ]
      },
      {
       "output_type": "stream",
       "stream": "stdout",
       "text": [
        "\n",
        "Error >> 6172 can not fetch month =  168\n",
        "Get stock no."
       ]
      },
      {
       "output_type": "stream",
       "stream": "stdout",
       "text": [
        " 2204 info for 168 month\n",
        "Get stock no."
       ]
      },
      {
       "output_type": "stream",
       "stream": "stdout",
       "text": [
        " 2206 info for 168 month\n",
        "Get stock no."
       ]
      },
      {
       "output_type": "stream",
       "stream": "stdout",
       "text": [
        " 2207 info for 168 month\n",
        "list index out of range"
       ]
      },
      {
       "output_type": "stream",
       "stream": "stdout",
       "text": [
        "\n",
        "Error >> 2208 can not fetch month =  168\n",
        "list index out of range"
       ]
      },
      {
       "output_type": "stream",
       "stream": "stdout",
       "text": [
        "\n",
        "Error >> 6271 can not fetch month =  168\n",
        "Get stock no."
       ]
      },
      {
       "output_type": "stream",
       "stream": "stdout",
       "text": [
        " 9931 info for 168 month\n",
        "list index out of range"
       ]
      },
      {
       "output_type": "stream",
       "stream": "stdout",
       "text": [
        "\n",
        "Error >> 4526 can not fetch month =  168\n",
        "Get stock no."
       ]
      },
      {
       "output_type": "stream",
       "stream": "stdout",
       "text": [
        " 9930 info for 168 month\n",
        "Get stock no."
       ]
      },
      {
       "output_type": "stream",
       "stream": "stdout",
       "text": [
        " 9937 info for 168 month\n",
        "Get stock no."
       ]
      },
      {
       "output_type": "stream",
       "stream": "stdout",
       "text": [
        " 2439 info for 168 month\n",
        "Get stock no."
       ]
      },
      {
       "output_type": "stream",
       "stream": "stdout",
       "text": [
        " 2438 info for 168 month\n",
        "Get stock no."
       ]
      },
      {
       "output_type": "stream",
       "stream": "stdout",
       "text": [
        " 2433 info for 168 month\n",
        "Get stock no."
       ]
      },
      {
       "output_type": "stream",
       "stream": "stdout",
       "text": [
        " 2430 info for 168 month\n",
        "Get stock no."
       ]
      },
      {
       "output_type": "stream",
       "stream": "stdout",
       "text": [
        " 2437 info for 168 month\n",
        "Get stock no."
       ]
      },
      {
       "output_type": "stream",
       "stream": "stdout",
       "text": [
        " 2436 info for 168 month\n",
        "Get stock no."
       ]
      },
      {
       "output_type": "stream",
       "stream": "stdout",
       "text": [
        " 2434 info for 168 month\n",
        "Get stock no."
       ]
      },
      {
       "output_type": "stream",
       "stream": "stdout",
       "text": [
        " 1809 info for 168 month\n",
        "list index out of range"
       ]
      },
      {
       "output_type": "stream",
       "stream": "stdout",
       "text": [
        "\n",
        "Error >> 1808 can not fetch month =  168\n",
        "list index out of range"
       ]
      },
      {
       "output_type": "stream",
       "stream": "stdout",
       "text": [
        "\n",
        "Error >> 4999 can not fetch month =  168\n",
        "Get stock no."
       ]
      },
      {
       "output_type": "stream",
       "stream": "stdout",
       "text": [
        " 2851 info for 168 month\n",
        "Get stock no."
       ]
      },
      {
       "output_type": "stream",
       "stream": "stdout",
       "text": [
        " 2850 info for 168 month\n",
        "Get stock no."
       ]
      },
      {
       "output_type": "stream",
       "stream": "stdout",
       "text": [
        " 2852 info for 168 month\n",
        "list index out of range"
       ]
      },
      {
       "output_type": "stream",
       "stream": "stdout",
       "text": [
        "\n",
        "Error >> 2855 can not fetch month =  168\n",
        "list index out of range"
       ]
      },
      {
       "output_type": "stream",
       "stream": "stdout",
       "text": [
        "\n",
        "Error >> 2856 can not fetch month =  168\n",
        "list index out of range"
       ]
      },
      {
       "output_type": "stream",
       "stream": "stdout",
       "text": [
        "\n",
        "Error >> 5469 can not fetch month =  168\n",
        "list index out of range"
       ]
      },
      {
       "output_type": "stream",
       "stream": "stdout",
       "text": [
        "\n",
        "Error >> 5484 can not fetch month =  168\n",
        "Get stock no."
       ]
      },
      {
       "output_type": "stream",
       "stream": "stdout",
       "text": [
        " 1234 info for 168 month\n",
        "Get stock no."
       ]
      },
      {
       "output_type": "stream",
       "stream": "stdout",
       "text": [
        " 1235 info for 168 month\n",
        "list index out of range"
       ]
      },
      {
       "output_type": "stream",
       "stream": "stdout",
       "text": [
        "\n",
        "Error >> 1236 can not fetch month =  168\n",
        "Get stock no."
       ]
      },
      {
       "output_type": "stream",
       "stream": "stdout",
       "text": [
        " 1231 info for 168 month\n",
        "Get stock no."
       ]
      },
      {
       "output_type": "stream",
       "stream": "stdout",
       "text": [
        " 1232 info for 168 month\n",
        "Get stock no."
       ]
      },
      {
       "output_type": "stream",
       "stream": "stdout",
       "text": [
        " 1233 info for 168 month\n",
        "list index out of range"
       ]
      },
      {
       "output_type": "stream",
       "stream": "stdout",
       "text": [
        "\n",
        "Error >> 6505 can not fetch month =  168\n",
        "list index out of range"
       ]
      },
      {
       "output_type": "stream",
       "stream": "stdout",
       "text": [
        "\n",
        "Error >> 6504 can not fetch month =  168\n",
        "list index out of range"
       ]
      },
      {
       "output_type": "stream",
       "stream": "stdout",
       "text": [
        "\n",
        "Error >> 2483 can not fetch month =  168\n",
        "list index out of range"
       ]
      },
      {
       "output_type": "stream",
       "stream": "stdout",
       "text": [
        "\n",
        "Error >> 4906 can not fetch month =  168\n",
        "list index out of range"
       ]
      },
      {
       "output_type": "stream",
       "stream": "stdout",
       "text": [
        "\n",
        "Error >> 9136 can not fetch month =  168\n",
        "list index out of range"
       ]
      },
      {
       "output_type": "stream",
       "stream": "stdout",
       "text": [
        "\n",
        "Error >> 2228 can not fetch month =  168\n",
        "list index out of range"
       ]
      },
      {
       "output_type": "stream",
       "stream": "stdout",
       "text": [
        "\n",
        "Error >> 2227 can not fetch month =  168\n",
        "list index out of range"
       ]
      },
      {
       "output_type": "stream",
       "stream": "stdout",
       "text": [
        "\n",
        "Error >> 8112 can not fetch month =  168\n",
        "list index out of range"
       ]
      },
      {
       "output_type": "stream",
       "stream": "stdout",
       "text": [
        "\n",
        "Error >> 3579 can not fetch month =  168\n",
        "list index out of range"
       ]
      },
      {
       "output_type": "stream",
       "stream": "stdout",
       "text": [
        "\n",
        "Error >> 3576 can not fetch month =  168\n",
        "list index out of range"
       ]
      },
      {
       "output_type": "stream",
       "stream": "stdout",
       "text": [
        "\n",
        "Error >> 9958 can not fetch month =  168\n",
        "Get stock no."
       ]
      },
      {
       "output_type": "stream",
       "stream": "stdout",
       "text": [
        " 2413 info for 168 month\n",
        "Get stock no."
       ]
      },
      {
       "output_type": "stream",
       "stream": "stdout",
       "text": [
        " 2412 info for 168 month\n",
        "Get stock no."
       ]
      },
      {
       "output_type": "stream",
       "stream": "stdout",
       "text": [
        " 2415 info for 168 month\n",
        "Get stock no."
       ]
      },
      {
       "output_type": "stream",
       "stream": "stdout",
       "text": [
        " 2414 info for 168 month\n",
        "Get stock no."
       ]
      },
      {
       "output_type": "stream",
       "stream": "stdout",
       "text": [
        " 2417 info for 168 month\n",
        "Get stock no."
       ]
      },
      {
       "output_type": "stream",
       "stream": "stdout",
       "text": [
        " 2419 info for 168 month\n",
        "list index out of range"
       ]
      },
      {
       "output_type": "stream",
       "stream": "stdout",
       "text": [
        "\n",
        "Error >> 4977 can not fetch month =  168\n",
        "list index out of range"
       ]
      },
      {
       "output_type": "stream",
       "stream": "stdout",
       "text": [
        "\n",
        "Error >> 3311 can not fetch month =  168\n",
        "list index out of range"
       ]
      },
      {
       "output_type": "stream",
       "stream": "stdout",
       "text": [
        "\n",
        "Error >> 3312 can not fetch month =  168\n",
        "list index out of range"
       ]
      },
      {
       "output_type": "stream",
       "stream": "stdout",
       "text": [
        "\n",
        "Error >> 3315 can not fetch month =  168\n",
        "Get stock no."
       ]
      },
      {
       "output_type": "stream",
       "stream": "stdout",
       "text": [
        " 2431 info for 168 month\n",
        "Get stock no."
       ]
      },
      {
       "output_type": "stream",
       "stream": "stdout",
       "text": [
        " 1213 info for 168 month\n",
        "Get stock no."
       ]
      },
      {
       "output_type": "stream",
       "stream": "stdout",
       "text": [
        " 1216 info for 168 month\n",
        "Get stock no."
       ]
      },
      {
       "output_type": "stream",
       "stream": "stdout",
       "text": [
        " 1217 info for 168 month\n",
        "Get stock no."
       ]
      },
      {
       "output_type": "stream",
       "stream": "stdout",
       "text": [
        " 1218 info for 168 month\n",
        "Get stock no."
       ]
      },
      {
       "output_type": "stream",
       "stream": "stdout",
       "text": [
        " 1219 info for 168 month\n",
        "list index out of range"
       ]
      },
      {
       "output_type": "stream",
       "stream": "stdout",
       "text": [
        "\n",
        "Error >> 8261 can not fetch month =  168\n",
        "list index out of range"
       ]
      },
      {
       "output_type": "stream",
       "stream": "stdout",
       "text": [
        "\n",
        "Error >> 5906 can not fetch month =  168\n",
        "list index out of range"
       ]
      },
      {
       "output_type": "stream",
       "stream": "stdout",
       "text": [
        "\n",
        "Error >> 5907 can not fetch month =  168\n",
        "list index out of range"
       ]
      },
      {
       "output_type": "stream",
       "stream": "stdout",
       "text": [
        "\n",
        "Error >> 3481 can not fetch month =  168\n",
        "Get stock no."
       ]
      },
      {
       "output_type": "stream",
       "stream": "stdout",
       "text": [
        " 9904 info for 168 month\n",
        "Get stock no."
       ]
      },
      {
       "output_type": "stream",
       "stream": "stdout",
       "text": [
        " 9905 info for 168 month\n",
        "list index out of range"
       ]
      },
      {
       "output_type": "stream",
       "stream": "stdout",
       "text": [
        "\n",
        "Error >> 5280 can not fetch month =  168\n",
        "Get stock no."
       ]
      },
      {
       "output_type": "stream",
       "stream": "stdout",
       "text": [
        " 2605 info for 168 month\n",
        "Get stock no."
       ]
      },
      {
       "output_type": "stream",
       "stream": "stdout",
       "text": [
        " 2606 info for 168 month\n",
        "Get stock no."
       ]
      },
      {
       "output_type": "stream",
       "stream": "stdout",
       "text": [
        " 2607 info for 168 month\n",
        "list index out of range"
       ]
      },
      {
       "output_type": "stream",
       "stream": "stdout",
       "text": [
        "\n",
        "Error >> 2601 can not fetch month =  168\n",
        "Get stock no."
       ]
      },
      {
       "output_type": "stream",
       "stream": "stdout",
       "text": [
        " 2603 info for 168 month\n",
        "Get stock no."
       ]
      },
      {
       "output_type": "stream",
       "stream": "stdout",
       "text": [
        " 2608 info for 168 month\n",
        "Get stock no."
       ]
      },
      {
       "output_type": "stream",
       "stream": "stdout",
       "text": [
        " 2609 info for 168 month\n",
        "Get stock no."
       ]
      },
      {
       "output_type": "stream",
       "stream": "stdout",
       "text": [
        " 2380 info for 168 month\n",
        "Get stock no."
       ]
      },
      {
       "output_type": "stream",
       "stream": "stdout",
       "text": [
        " 2383 info for 168 month\n",
        "Get stock no."
       ]
      },
      {
       "output_type": "stream",
       "stream": "stdout",
       "text": [
        " 2385 info for 168 month\n",
        "Get stock no."
       ]
      },
      {
       "output_type": "stream",
       "stream": "stdout",
       "text": [
        " 2384 info for 168 month\n",
        "Get stock no."
       ]
      },
      {
       "output_type": "stream",
       "stream": "stdout",
       "text": [
        " 2387 info for 168 month\n",
        "Get stock no."
       ]
      },
      {
       "output_type": "stream",
       "stream": "stdout",
       "text": [
        " 2388 info for 168 month\n",
        "list index out of range"
       ]
      },
      {
       "output_type": "stream",
       "stream": "stdout",
       "text": [
        "\n",
        "Error >> 4952 can not fetch month =  168\n",
        "list index out of range"
       ]
      },
      {
       "output_type": "stream",
       "stream": "stdout",
       "text": [
        "\n",
        "Error >> 4956 can not fetch month =  168\n",
        "Get stock no."
       ]
      },
      {
       "output_type": "stream",
       "stream": "stdout",
       "text": [
        " 1906 info for 168 month\n",
        "Get stock no."
       ]
      },
      {
       "output_type": "stream",
       "stream": "stdout",
       "text": [
        " 1907 info for 168 month\n",
        "Get stock no."
       ]
      },
      {
       "output_type": "stream",
       "stream": "stdout",
       "text": [
        " 1904 info for 168 month\n",
        "Get stock no."
       ]
      },
      {
       "output_type": "stream",
       "stream": "stdout",
       "text": [
        " 1905 info for 168 month\n",
        "Get stock no."
       ]
      },
      {
       "output_type": "stream",
       "stream": "stdout",
       "text": [
        " 1902 info for 168 month\n",
        "list index out of range"
       ]
      },
      {
       "output_type": "stream",
       "stream": "stdout",
       "text": [
        "\n",
        "Error >> 8429 can not fetch month =  168\n",
        "list index out of range"
       ]
      },
      {
       "output_type": "stream",
       "stream": "stdout",
       "text": [
        "\n",
        "Error >> 4133 can not fetch month =  168\n",
        "list index out of range"
       ]
      },
      {
       "output_type": "stream",
       "stream": "stdout",
       "text": [
        "\n",
        "Error >> 6289 can not fetch month =  168\n",
        "list index out of range"
       ]
      },
      {
       "output_type": "stream",
       "stream": "stdout",
       "text": [
        "\n",
        "Error >> 2597 can not fetch month =  168\n",
        "list index out of range"
       ]
      },
      {
       "output_type": "stream",
       "stream": "stdout",
       "text": [
        "\n",
        "Error >> 4306 can not fetch month =  168\n",
        "Get stock no."
       ]
      },
      {
       "output_type": "stream",
       "stream": "stdout",
       "text": [
        " 2369 info for 168 month\n",
        "Get stock no."
       ]
      },
      {
       "output_type": "stream",
       "stream": "stdout",
       "text": [
        " 2368 info for 168 month\n",
        "Get stock no."
       ]
      },
      {
       "output_type": "stream",
       "stream": "stdout",
       "text": [
        " 2367 info for 168 month\n",
        "Get stock no."
       ]
      },
      {
       "output_type": "stream",
       "stream": "stdout",
       "text": [
        " 2364 info for 168 month\n",
        "Get stock no."
       ]
      },
      {
       "output_type": "stream",
       "stream": "stdout",
       "text": [
        " 2363 info for 168 month\n",
        "Get stock no."
       ]
      },
      {
       "output_type": "stream",
       "stream": "stdout",
       "text": [
        " 2362 info for 168 month\n",
        "list index out of range"
       ]
      },
      {
       "output_type": "stream",
       "stream": "stdout",
       "text": [
        "\n",
        "Error >> 2361 can not fetch month =  168\n",
        "Get stock no."
       ]
      },
      {
       "output_type": "stream",
       "stream": "stdout",
       "text": [
        " 2360 info for 168 month\n",
        "list index out of range"
       ]
      },
      {
       "output_type": "stream",
       "stream": "stdout",
       "text": [
        "\n",
        "Error >> 4930 can not fetch month =  168\n",
        "list index out of range"
       ]
      },
      {
       "output_type": "stream",
       "stream": "stdout",
       "text": [
        "\n",
        "Error >> 4934 can not fetch month =  168\n",
        "list index out of range"
       ]
      },
      {
       "output_type": "stream",
       "stream": "stdout",
       "text": [
        "\n",
        "Error >> 4935 can not fetch month =  168\n",
        "list index out of range"
       ]
      },
      {
       "output_type": "stream",
       "stream": "stdout",
       "text": [
        "\n",
        "Error >> 4938 can not fetch month =  168\n",
        "Get stock no."
       ]
      },
      {
       "output_type": "stream",
       "stream": "stdout",
       "text": [
        " 2108 info for 168 month\n",
        "Get stock no."
       ]
      },
      {
       "output_type": "stream",
       "stream": "stdout",
       "text": [
        " 2103 info for 168 month\n",
        "Get stock no."
       ]
      },
      {
       "output_type": "stream",
       "stream": "stdout",
       "text": [
        " 2102 info for 168 month\n",
        "list index out of range"
       ]
      },
      {
       "output_type": "stream",
       "stream": "stdout",
       "text": [
        "\n",
        "Error >> 2101 can not fetch month =  168\n",
        "Get stock no."
       ]
      },
      {
       "output_type": "stream",
       "stream": "stdout",
       "text": [
        " 2107 info for 168 month\n",
        "Get stock no."
       ]
      },
      {
       "output_type": "stream",
       "stream": "stdout",
       "text": [
        " 2106 info for 168 month\n",
        "Get stock no."
       ]
      },
      {
       "output_type": "stream",
       "stream": "stdout",
       "text": [
        " 2105 info for 168 month\n",
        "Get stock no."
       ]
      },
      {
       "output_type": "stream",
       "stream": "stdout",
       "text": [
        " 2104 info for 168 month\n",
        "list index out of range"
       ]
      },
      {
       "output_type": "stream",
       "stream": "stdout",
       "text": [
        "\n",
        "Error >> 3702 can not fetch month =  168\n",
        "list index out of range"
       ]
      },
      {
       "output_type": "stream",
       "stream": "stdout",
       "text": [
        "\n",
        "Error >> 1789 can not fetch month =  168\n",
        "list index out of range"
       ]
      },
      {
       "output_type": "stream",
       "stream": "stdout",
       "text": [
        "\n",
        "Error >> 1786 can not fetch month =  168\n",
        "list index out of range"
       ]
      },
      {
       "output_type": "stream",
       "stream": "stdout",
       "text": [
        "\n",
        "Error >> 5259 can not fetch month =  168\n",
        "Get stock no."
       ]
      },
      {
       "output_type": "stream",
       "stream": "stdout",
       "text": [
        " 1524 info for 168 month\n",
        "Get stock no."
       ]
      },
      {
       "output_type": "stream",
       "stream": "stdout",
       "text": [
        " 1525 info for 168 month\n",
        "Get stock no."
       ]
      },
      {
       "output_type": "stream",
       "stream": "stdout",
       "text": [
        " 1526 info for 168 month\n",
        "Get stock no."
       ]
      },
      {
       "output_type": "stream",
       "stream": "stdout",
       "text": [
        " 1527 info for 168 month\n",
        "Get stock no."
       ]
      },
      {
       "output_type": "stream",
       "stream": "stdout",
       "text": [
        " 1521 info for 168 month\n",
        "Get stock no."
       ]
      },
      {
       "output_type": "stream",
       "stream": "stdout",
       "text": [
        " 1522 info for 168 month\n",
        "Get stock no."
       ]
      },
      {
       "output_type": "stream",
       "stream": "stdout",
       "text": [
        " 1528 info for 168 month\n",
        "Get stock no."
       ]
      },
      {
       "output_type": "stream",
       "stream": "stdout",
       "text": [
        " 1529 info for 168 month\n",
        "list index out of range"
       ]
      },
      {
       "output_type": "stream",
       "stream": "stdout",
       "text": [
        "\n",
        "Error >> 2888 can not fetch month =  168\n",
        "list index out of range"
       ]
      },
      {
       "output_type": "stream",
       "stream": "stdout",
       "text": [
        "\n",
        "Error >> 3059 can not fetch month =  168\n",
        "list index out of range"
       ]
      },
      {
       "output_type": "stream",
       "stream": "stdout",
       "text": [
        "\n",
        "Error >> 3054 can not fetch month =  168\n",
        "list index out of range"
       ]
      },
      {
       "output_type": "stream",
       "stream": "stdout",
       "text": [
        "\n",
        "Error >> 2889 can not fetch month =  168\n",
        "Get stock no."
       ]
      },
      {
       "output_type": "stream",
       "stream": "stdout",
       "text": [
        " 0015 info for 168 month\n",
        "list index out of range"
       ]
      },
      {
       "output_type": "stream",
       "stream": "stdout",
       "text": [
        "\n",
        "Error >> 2642 can not fetch month =  168\n",
        "Get stock no."
       ]
      },
      {
       "output_type": "stream",
       "stream": "stdout",
       "text": [
        " 2910 info for 168 month\n",
        "Get stock no."
       ]
      },
      {
       "output_type": "stream",
       "stream": "stdout",
       "text": [
        " 2911 info for 168 month\n",
        "Get stock no."
       ]
      },
      {
       "output_type": "stream",
       "stream": "stdout",
       "text": [
        " 2912 info for 168 month\n",
        "Get stock no."
       ]
      },
      {
       "output_type": "stream",
       "stream": "stdout",
       "text": [
        " 2913 info for 168 month\n",
        "list index out of range"
       ]
      },
      {
       "output_type": "stream",
       "stream": "stdout",
       "text": [
        "\n",
        "Error >> 2915 can not fetch month =  168\n",
        "list index out of range"
       ]
      },
      {
       "output_type": "stream",
       "stream": "stdout",
       "text": [
        "\n",
        "Error >> 3149 can not fetch month =  168\n",
        "list index out of range"
       ]
      },
      {
       "output_type": "stream",
       "stream": "stdout",
       "text": [
        "\n",
        "Error >> 1466 can not fetch month =  168\n",
        "list index out of range"
       ]
      },
      {
       "output_type": "stream",
       "stream": "stdout",
       "text": [
        "\n",
        "Error >> 3504 can not fetch month =  168\n",
        "Get stock no."
       ]
      },
      {
       "output_type": "stream",
       "stream": "stdout",
       "text": [
        " 2344 info for 168 month\n",
        "Get stock no."
       ]
      },
      {
       "output_type": "stream",
       "stream": "stdout",
       "text": [
        " 2347 info for 168 month\n",
        "Get stock no."
       ]
      },
      {
       "output_type": "stream",
       "stream": "stdout",
       "text": [
        " 2340 info for 168 month\n",
        "list index out of range"
       ]
      },
      {
       "output_type": "stream",
       "stream": "stdout",
       "text": [
        "\n",
        "Error >> 2342 can not fetch month =  168\n",
        "Get stock no."
       ]
      },
      {
       "output_type": "stream",
       "stream": "stdout",
       "text": [
        " 1310 info for 168 month\n",
        "Get stock no."
       ]
      },
      {
       "output_type": "stream",
       "stream": "stdout",
       "text": [
        " 2349 info for 168 month\n",
        "Get stock no."
       ]
      },
      {
       "output_type": "stream",
       "stream": "stdout",
       "text": [
        " 2348 info for 168 month\n",
        "list index out of range"
       ]
      },
      {
       "output_type": "stream",
       "stream": "stdout",
       "text": [
        "\n",
        "Error >> 4919 can not fetch month =  168\n",
        "list index out of range"
       ]
      },
      {
       "output_type": "stream",
       "stream": "stdout",
       "text": [
        "\n",
        "Error >> 4916 can not fetch month =  168\n",
        "list index out of range"
       ]
      },
      {
       "output_type": "stream",
       "stream": "stdout",
       "text": [
        "\n",
        "Error >> 4915 can not fetch month =  168\n",
        "list index out of range"
       ]
      },
      {
       "output_type": "stream",
       "stream": "stdout",
       "text": [
        "\n",
        "Error >> 3694 can not fetch month =  168\n",
        "list index out of range"
       ]
      },
      {
       "output_type": "stream",
       "stream": "stdout",
       "text": [
        "\n",
        "Error >> 8201 can not fetch month =  168\n",
        "Get stock no."
       ]
      },
      {
       "output_type": "stream",
       "stream": "stdout",
       "text": [
        " 1506 info for 168 month\n",
        "Get stock no."
       ]
      },
      {
       "output_type": "stream",
       "stream": "stdout",
       "text": [
        " 1507 info for 168 month\n",
        "Get stock no."
       ]
      },
      {
       "output_type": "stream",
       "stream": "stdout",
       "text": [
        " 1504 info for 168 month\n",
        "Get stock no."
       ]
      },
      {
       "output_type": "stream",
       "stream": "stdout",
       "text": [
        " 9919 info for 168 month\n",
        "Get stock no."
       ]
      },
      {
       "output_type": "stream",
       "stream": "stdout",
       "text": [
        " 9918 info for 168 month\n",
        "list index out of range"
       ]
      },
      {
       "output_type": "stream",
       "stream": "stdout",
       "text": [
        "\n",
        "Error >> 6005 can not fetch month =  168\n",
        "list index out of range"
       ]
      },
      {
       "output_type": "stream",
       "stream": "stdout",
       "text": [
        "\n",
        "Error >> 3573 can not fetch month =  168\n",
        "list index out of range"
       ]
      },
      {
       "output_type": "stream",
       "stream": "stdout",
       "text": [
        "\n",
        "Error >> 3167 can not fetch month =  168\n",
        "list index out of range"
       ]
      },
      {
       "output_type": "stream",
       "stream": "stdout",
       "text": [
        "\n",
        "Error >> 3164 can not fetch month =  168\n",
        "list index out of range"
       ]
      },
      {
       "output_type": "stream",
       "stream": "stdout",
       "text": [
        "\n",
        "Error >> 6282 can not fetch month =  168\n",
        "Get stock no."
       ]
      },
      {
       "output_type": "stream",
       "stream": "stdout",
       "text": [
        " 2323 info for 168 month\n",
        "list index out of range"
       ]
      },
      {
       "output_type": "stream",
       "stream": "stdout",
       "text": [
        "\n",
        "Error >> 6283 can not fetch month =  168\n",
        "Get stock no."
       ]
      },
      {
       "output_type": "stream",
       "stream": "stdout",
       "text": [
        " 2321 info for 168 month\n",
        "Get stock no."
       ]
      },
      {
       "output_type": "stream",
       "stream": "stdout",
       "text": [
        " 2327 info for 168 month\n",
        "Get stock no."
       ]
      },
      {
       "output_type": "stream",
       "stream": "stdout",
       "text": [
        " 2325 info for 168 month\n",
        "Get stock no."
       ]
      },
      {
       "output_type": "stream",
       "stream": "stdout",
       "text": [
        " 2324 info for 168 month\n",
        "Get stock no."
       ]
      },
      {
       "output_type": "stream",
       "stream": "stdout",
       "text": [
        " 2329 info for 168 month\n",
        "Get stock no."
       ]
      },
      {
       "output_type": "stream",
       "stream": "stdout",
       "text": [
        " 2328 info for 168 month\n",
        "list index out of range"
       ]
      },
      {
       "output_type": "stream",
       "stream": "stdout",
       "text": [
        "\n",
        "Error >> 2499 can not fetch month =  168\n",
        "list index out of range"
       ]
      },
      {
       "output_type": "stream",
       "stream": "stdout",
       "text": [
        "\n",
        "Error >> 2498 can not fetch month =  168\n",
        "list index out of range"
       ]
      },
      {
       "output_type": "stream",
       "stream": "stdout",
       "text": [
        "\n",
        "Error >> 2491 can not fetch month =  168\n",
        "list index out of range"
       ]
      },
      {
       "output_type": "stream",
       "stream": "stdout",
       "text": [
        "\n",
        "Error >> 2493 can not fetch month =  168\n",
        "list index out of range"
       ]
      },
      {
       "output_type": "stream",
       "stream": "stdout",
       "text": [
        "\n",
        "Error >> 2492 can not fetch month =  168\n",
        "list index out of range"
       ]
      },
      {
       "output_type": "stream",
       "stream": "stdout",
       "text": [
        "\n",
        "Error >> 2495 can not fetch month =  168\n",
        "list index out of range"
       ]
      },
      {
       "output_type": "stream",
       "stream": "stdout",
       "text": [
        "\n",
        "Error >> 2497 can not fetch month =  168\n",
        "list index out of range"
       ]
      },
      {
       "output_type": "stream",
       "stream": "stdout",
       "text": [
        "\n",
        "Error >> 2496 can not fetch month =  168\n",
        "list index out of range"
       ]
      },
      {
       "output_type": "stream",
       "stream": "stdout",
       "text": [
        "\n",
        "Error >> 1560 can not fetch month =  168\n",
        "Month =  168  : Fetching finished!\n",
        "Fetching Start\n",
        "list index out of range"
       ]
      },
      {
       "output_type": "stream",
       "stream": "stdout",
       "text": [
        "\n",
        "Error >> 0059 can not fetch month =  156\n",
        "list index out of range"
       ]
      },
      {
       "output_type": "stream",
       "stream": "stdout",
       "text": [
        "\n",
        "Error >> 0058 can not fetch month =  156\n",
        "list index out of range"
       ]
      },
      {
       "output_type": "stream",
       "stream": "stdout",
       "text": [
        "\n",
        "Error >> 0053 can not fetch month =  156\n",
        "list index out of range"
       ]
      },
      {
       "output_type": "stream",
       "stream": "stdout",
       "text": [
        "\n",
        "Error >> 0052 can not fetch month =  156\n",
        "list index out of range"
       ]
      },
      {
       "output_type": "stream",
       "stream": "stdout",
       "text": [
        "\n",
        "Error >> 0051 can not fetch month =  156\n",
        "list index out of range"
       ]
      },
      {
       "output_type": "stream",
       "stream": "stdout",
       "text": [
        "\n",
        "Error >> 0050 can not fetch month =  156\n",
        "list index out of range"
       ]
      },
      {
       "output_type": "stream",
       "stream": "stdout",
       "text": [
        "\n",
        "Error >> 0057 can not fetch month =  156\n",
        "list index out of range"
       ]
      },
      {
       "output_type": "stream",
       "stream": "stdout",
       "text": [
        "\n",
        "Error >> 0056 can not fetch month =  156\n",
        "list index out of range"
       ]
      },
      {
       "output_type": "stream",
       "stream": "stdout",
       "text": [
        "\n",
        "Error >> 0055 can not fetch month =  156\n",
        "list index out of range"
       ]
      },
      {
       "output_type": "stream",
       "stream": "stdout",
       "text": [
        "\n",
        "Error >> 0054 can not fetch month =  156\n",
        "list index out of range"
       ]
      },
      {
       "output_type": "stream",
       "stream": "stdout",
       "text": [
        "\n",
        "Error >> 3519 can not fetch month =  156\n",
        "list index out of range"
       ]
      },
      {
       "output_type": "stream",
       "stream": "stdout",
       "text": [
        "\n",
        "Error >> 3518 can not fetch month =  156\n",
        "list index out of range"
       ]
      },
      {
       "output_type": "stream",
       "stream": "stdout",
       "text": [
        "\n",
        "Error >> 8016 can not fetch month =  156\n",
        "list index out of range"
       ]
      },
      {
       "output_type": "stream",
       "stream": "stdout",
       "text": [
        "\n",
        "Error >> 8011 can not fetch month =  156\n",
        "list index out of range"
       ]
      },
      {
       "output_type": "stream",
       "stream": "stdout",
       "text": [
        "\n",
        "Error >> 2305 can not fetch month =  156\n",
        "list index out of range"
       ]
      },
      {
       "output_type": "stream",
       "stream": "stdout",
       "text": [
        "\n",
        "Error >> 3622 can not fetch month =  156\n",
        "list index out of range"
       ]
      },
      {
       "output_type": "stream",
       "stream": "stdout",
       "text": [
        "\n",
        "Error >> 4722 can not fetch month =  156\n",
        "list index out of range"
       ]
      },
      {
       "output_type": "stream",
       "stream": "stdout",
       "text": [
        "\n",
        "Error >> 6216 can not fetch month =  156\n",
        "list index out of range"
       ]
      },
      {
       "output_type": "stream",
       "stream": "stdout",
       "text": [
        "\n",
        "Error >> 6215 can not fetch month =  156\n",
        "list index out of range"
       ]
      },
      {
       "output_type": "stream",
       "stream": "stdout",
       "text": [
        "\n",
        "Error >> 6214 can not fetch month =  156\n",
        "list index out of range"
       ]
      },
      {
       "output_type": "stream",
       "stream": "stdout",
       "text": [
        "\n",
        "Error >> 6213 can not fetch month =  156\n",
        "list index out of range"
       ]
      },
      {
       "output_type": "stream",
       "stream": "stdout",
       "text": [
        "\n",
        "Error >> 1762 can not fetch month =  156\n",
        "list index out of range"
       ]
      },
      {
       "output_type": "stream",
       "stream": "stdout",
       "text": [
        "\n",
        "Error >> 1540 can not fetch month =  156\n",
        "list index out of range"
       ]
      },
      {
       "output_type": "stream",
       "stream": "stdout",
       "text": [
        "\n",
        "Error >> 1541 can not fetch month =  156\n",
        "list index out of range"
       ]
      },
      {
       "output_type": "stream",
       "stream": "stdout",
       "text": [
        "\n",
        "Error >> 3533 can not fetch month =  156\n",
        "list index out of range"
       ]
      },
      {
       "output_type": "stream",
       "stream": "stdout",
       "text": [
        "\n",
        "Error >> 3532 can not fetch month =  156\n",
        "list index out of range"
       ]
      },
      {
       "output_type": "stream",
       "stream": "stdout",
       "text": [
        "\n",
        "Error >> 3535 can not fetch month =  156\n",
        "list index out of range"
       ]
      },
      {
       "output_type": "stream",
       "stream": "stdout",
       "text": [
        "\n",
        "Error >> 3536 can not fetch month =  156\n",
        "list index out of range"
       ]
      },
      {
       "output_type": "stream",
       "stream": "stdout",
       "text": [
        "\n",
        "Error >> 3515 can not fetch month =  156\n",
        "list index out of range"
       ]
      },
      {
       "output_type": "stream",
       "stream": "stdout",
       "text": [
        "\n",
        "Error >> 3514 can not fetch month =  156\n",
        "list index out of range"
       ]
      },
      {
       "output_type": "stream",
       "stream": "stdout",
       "text": [
        "\n",
        "Error >> 4746 can not fetch month =  156\n",
        "list index out of range"
       ]
      },
      {
       "output_type": "stream",
       "stream": "stdout",
       "text": [
        "\n",
        "Error >> 6184 can not fetch month =  156\n",
        "list index out of range"
       ]
      },
      {
       "output_type": "stream",
       "stream": "stdout",
       "text": [
        "\n",
        "Error >> 6183 can not fetch month =  156\n",
        "list index out of range"
       ]
      },
      {
       "output_type": "stream",
       "stream": "stdout",
       "text": [
        "\n",
        "Error >> 6189 can not fetch month =  156\n",
        "list index out of range"
       ]
      },
      {
       "output_type": "stream",
       "stream": "stdout",
       "text": [
        "\n",
        "Error >> 2727 can not fetch month =  156\n",
        "list index out of range"
       ]
      },
      {
       "output_type": "stream",
       "stream": "stdout",
       "text": [
        "\n",
        "Error >> 2723 can not fetch month =  156\n",
        "list index out of range"
       ]
      },
      {
       "output_type": "stream",
       "stream": "stdout",
       "text": [
        "\n",
        "Error >> 2722 can not fetch month =  156\n",
        "list index out of range"
       ]
      },
      {
       "output_type": "stream",
       "stream": "stdout",
       "text": [
        "\n",
        "Error >> 6235 can not fetch month =  156\n",
        "list index out of range"
       ]
      },
      {
       "output_type": "stream",
       "stream": "stdout",
       "text": [
        "\n",
        "Error >> 5264 can not fetch month =  156\n",
        "list index out of range"
       ]
      },
      {
       "output_type": "stream",
       "stream": "stdout",
       "text": [
        "\n",
        "Error >> 5269 can not fetch month =  156\n",
        "list index out of range"
       ]
      },
      {
       "output_type": "stream",
       "stream": "stdout",
       "text": [
        "\n",
        "Error >> 3029 can not fetch month =  156\n",
        "list index out of range"
       ]
      },
      {
       "output_type": "stream",
       "stream": "stdout",
       "text": [
        "\n",
        "Error >> 3028 can not fetch month =  156\n",
        "list index out of range"
       ]
      },
      {
       "output_type": "stream",
       "stream": "stdout",
       "text": [
        "\n",
        "Error >> 3027 can not fetch month =  156\n",
        "list index out of range"
       ]
      },
      {
       "output_type": "stream",
       "stream": "stdout",
       "text": [
        "\n",
        "Error >> 3026 can not fetch month =  156\n",
        "list index out of range"
       ]
      },
      {
       "output_type": "stream",
       "stream": "stdout",
       "text": [
        "\n",
        "Error >> 3025 can not fetch month =  156\n",
        "list index out of range"
       ]
      },
      {
       "output_type": "stream",
       "stream": "stdout",
       "text": [
        "\n",
        "Error >> 3024 can not fetch month =  156\n",
        "list index out of range"
       ]
      },
      {
       "output_type": "stream",
       "stream": "stdout",
       "text": [
        "\n",
        "Error >> 3023 can not fetch month =  156\n",
        "list index out of range"
       ]
      },
      {
       "output_type": "stream",
       "stream": "stdout",
       "text": [
        "\n",
        "Error >> 3022 can not fetch month =  156\n",
        "list index out of range"
       ]
      },
      {
       "output_type": "stream",
       "stream": "stdout",
       "text": [
        "\n",
        "Error >> 3021 can not fetch month =  156\n",
        "Get stock no."
       ]
      },
      {
       "output_type": "stream",
       "stream": "stdout",
       "text": [
        " 2539 info for 156 month\n",
        "list index out of range"
       ]
      },
      {
       "output_type": "stream",
       "stream": "stdout",
       "text": [
        "\n",
        "Error >> 5388 can not fetch month =  156\n",
        "list index out of range"
       ]
      },
      {
       "output_type": "stream",
       "stream": "stdout",
       "text": [
        "\n",
        "Error >> 4976 can not fetch month =  156\n",
        "Get stock no."
       ]
      },
      {
       "output_type": "stream",
       "stream": "stdout",
       "text": [
        " 2882 info for 156 month\n",
        "Get stock no."
       ]
      },
      {
       "output_type": "stream",
       "stream": "stdout",
       "text": [
        " 2883 info for 156 month\n",
        "Get stock no."
       ]
      },
      {
       "output_type": "stream",
       "stream": "stdout",
       "text": [
        " 2880 info for 156 month\n",
        "Get stock no."
       ]
      },
      {
       "output_type": "stream",
       "stream": "stdout",
       "text": [
        " 2881 info for 156 month\n",
        "Get stock no."
       ]
      },
      {
       "output_type": "stream",
       "stream": "stdout",
       "text": [
        " 2884 info for 156 month\n",
        "list index out of range"
       ]
      },
      {
       "output_type": "stream",
       "stream": "stdout",
       "text": [
        "\n",
        "Error >> 2885 can not fetch month =  156\n",
        "list index out of range"
       ]
      },
      {
       "output_type": "stream",
       "stream": "stdout",
       "text": [
        "\n",
        "Error >> 3474 can not fetch month =  156\n",
        "Get stock no."
       ]
      },
      {
       "output_type": "stream",
       "stream": "stdout",
       "text": [
        " 1729 info for 156 month\n",
        "list index out of range"
       ]
      },
      {
       "output_type": "stream",
       "stream": "stdout",
       "text": [
        "\n",
        "Error >> 3004 can not fetch month =  156\n",
        "list index out of range"
       ]
      },
      {
       "output_type": "stream",
       "stream": "stdout",
       "text": [
        "\n",
        "Error >> 3003 can not fetch month =  156\n",
        "Get stock no."
       ]
      },
      {
       "output_type": "stream",
       "stream": "stdout",
       "text": [
        " 3002 info for 156 month\n",
        "list index out of range"
       ]
      },
      {
       "output_type": "stream",
       "stream": "stdout",
       "text": [
        "\n",
        "Error >> 3008 can not fetch month =  156\n",
        "list index out of range"
       ]
      },
      {
       "output_type": "stream",
       "stream": "stdout",
       "text": [
        "\n",
        "Error >> 1589 can not fetch month =  156\n",
        "list index out of range"
       ]
      },
      {
       "output_type": "stream",
       "stream": "stdout",
       "text": [
        "\n",
        "Error >> 1582 can not fetch month =  156\n",
        "list index out of range"
       ]
      },
      {
       "output_type": "stream",
       "stream": "stdout",
       "text": [
        "\n",
        "Error >> 1583 can not fetch month =  156\n",
        "list index out of range"
       ]
      },
      {
       "output_type": "stream",
       "stream": "stdout",
       "text": [
        "\n",
        "Error >> 6415 can not fetch month =  156\n",
        "list index out of range"
       ]
      },
      {
       "output_type": "stream",
       "stream": "stdout",
       "text": [
        "\n",
        "Error >> 6412 can not fetch month =  156\n",
        "list index out of range"
       ]
      },
      {
       "output_type": "stream",
       "stream": "stdout",
       "text": [
        "\n",
        "Error >> 3645 can not fetch month =  156\n",
        "Get stock no."
       ]
      },
      {
       "output_type": "stream",
       "stream": "stdout",
       "text": [
        " 2472 info for 156 month\n",
        "list index out of range"
       ]
      },
      {
       "output_type": "stream",
       "stream": "stdout",
       "text": [
        "\n",
        "Error >> 8070 can not fetch month =  156\n",
        "list index out of range"
       ]
      },
      {
       "output_type": "stream",
       "stream": "stdout",
       "text": [
        "\n",
        "Error >> 8072 can not fetch month =  156\n",
        "Get stock no."
       ]
      },
      {
       "output_type": "stream",
       "stream": "stdout",
       "text": [
        " 1442 info for 156 month\n",
        "list index out of range"
       ]
      },
      {
       "output_type": "stream",
       "stream": "stdout",
       "text": [
        "\n",
        "Error >> 1449 can not fetch month =  156\n",
        "list index out of range"
       ]
      },
      {
       "output_type": "stream",
       "stream": "stdout",
       "text": [
        "\n",
        "Error >> 4725 can not fetch month =  156\n",
        "list index out of range"
       ]
      },
      {
       "output_type": "stream",
       "stream": "stdout",
       "text": [
        "\n",
        "Error >> 3705 can not fetch month =  156\n",
        "list index out of range"
       ]
      },
      {
       "output_type": "stream",
       "stream": "stdout",
       "text": [
        "\n",
        "Error >> 6277 can not fetch month =  156\n",
        "list index out of range"
       ]
      },
      {
       "output_type": "stream",
       "stream": "stdout",
       "text": [
        "\n",
        "Error >> 6278 can not fetch month =  156\n",
        "list index out of range"
       ]
      },
      {
       "output_type": "stream",
       "stream": "stdout",
       "text": [
        "\n",
        "Error >> 6115 can not fetch month =  156\n",
        "list index out of range"
       ]
      },
      {
       "output_type": "stream",
       "stream": "stdout",
       "text": [
        "\n",
        "Error >> 5225 can not fetch month =  156\n",
        "list index out of range"
       ]
      },
      {
       "output_type": "stream",
       "stream": "stdout",
       "text": [
        "\n",
        "Error >> 3062 can not fetch month =  156\n",
        "list index out of range"
       ]
      },
      {
       "output_type": "stream",
       "stream": "stdout",
       "text": [
        "\n",
        "Error >> 3061 can not fetch month =  156\n",
        "list index out of range"
       ]
      },
      {
       "output_type": "stream",
       "stream": "stdout",
       "text": [
        "\n",
        "Error >> 3060 can not fetch month =  156\n",
        "list index out of range"
       ]
      },
      {
       "output_type": "stream",
       "stream": "stdout",
       "text": [
        "\n",
        "Error >> 8404 can not fetch month =  156\n",
        "list index out of range"
       ]
      },
      {
       "output_type": "stream",
       "stream": "stdout",
       "text": [
        "\n",
        "Error >> 8374 can not fetch month =  156\n",
        "list index out of range"
       ]
      },
      {
       "output_type": "stream",
       "stream": "stdout",
       "text": [
        "\n",
        "Error >> 3665 can not fetch month =  156\n",
        "list index out of range"
       ]
      },
      {
       "output_type": "stream",
       "stream": "stdout",
       "text": [
        "\n",
        "Error >> 3669 can not fetch month =  156\n",
        "list index out of range"
       ]
      },
      {
       "output_type": "stream",
       "stream": "stdout",
       "text": [
        "\n",
        "Error >> 3593 can not fetch month =  156\n",
        "list index out of range"
       ]
      },
      {
       "output_type": "stream",
       "stream": "stdout",
       "text": [
        "\n",
        "Error >> 3591 can not fetch month =  156\n",
        "list index out of range"
       ]
      },
      {
       "output_type": "stream",
       "stream": "stdout",
       "text": [
        "\n",
        "Error >> 3596 can not fetch month =  156\n",
        "list index out of range"
       ]
      },
      {
       "output_type": "stream",
       "stream": "stdout",
       "text": [
        "\n",
        "Error >> 3598 can not fetch month =  156\n",
        "list index out of range"
       ]
      },
      {
       "output_type": "stream",
       "stream": "stdout",
       "text": [
        "\n",
        "Error >> 8081 can not fetch month =  156\n",
        "list index out of range"
       ]
      },
      {
       "output_type": "stream",
       "stream": "stdout",
       "text": [
        "\n",
        "Error >> 8926 can not fetch month =  156\n",
        "list index out of range"
       ]
      },
      {
       "output_type": "stream",
       "stream": "stdout",
       "text": [
        "\n",
        "Error >> 3406 can not fetch month =  156\n",
        "list index out of range"
       ]
      },
      {
       "output_type": "stream",
       "stream": "stdout",
       "text": [
        "\n",
        "Error >> 3432 can not fetch month =  156\n",
        "Get stock no."
       ]
      },
      {
       "output_type": "stream",
       "stream": "stdout",
       "text": [
        " 2034 info for 156 month\n",
        "list index out of range"
       ]
      },
      {
       "output_type": "stream",
       "stream": "stdout",
       "text": [
        "\n",
        "Error >> 2038 can not fetch month =  156\n",
        "list index out of range"
       ]
      },
      {
       "output_type": "stream",
       "stream": "stdout",
       "text": [
        "\n",
        "Error >> 5203 can not fetch month =  156\n",
        "list index out of range"
       ]
      },
      {
       "output_type": "stream",
       "stream": "stdout",
       "text": [
        "\n",
        "Error >> 3049 can not fetch month =  156\n",
        "list index out of range"
       ]
      },
      {
       "output_type": "stream",
       "stream": "stdout",
       "text": [
        "\n",
        "Error >> 3048 can not fetch month =  156\n",
        "list index out of range"
       ]
      },
      {
       "output_type": "stream",
       "stream": "stdout",
       "text": [
        "\n",
        "Error >> 3041 can not fetch month =  156\n",
        "list index out of range"
       ]
      },
      {
       "output_type": "stream",
       "stream": "stdout",
       "text": [
        "\n",
        "Error >> 3040 can not fetch month =  156\n",
        "list index out of range"
       ]
      },
      {
       "output_type": "stream",
       "stream": "stdout",
       "text": [
        "\n",
        "Error >> 3043 can not fetch month =  156\n",
        "list index out of range"
       ]
      },
      {
       "output_type": "stream",
       "stream": "stdout",
       "text": [
        "\n",
        "Error >> 3042 can not fetch month =  156\n",
        "list index out of range"
       ]
      },
      {
       "output_type": "stream",
       "stream": "stdout",
       "text": [
        "\n",
        "Error >> 3045 can not fetch month =  156\n",
        "list index out of range"
       ]
      },
      {
       "output_type": "stream",
       "stream": "stdout",
       "text": [
        "\n",
        "Error >> 3044 can not fetch month =  156\n",
        "list index out of range"
       ]
      },
      {
       "output_type": "stream",
       "stream": "stdout",
       "text": [
        "\n",
        "Error >> 3047 can not fetch month =  156\n",
        "list index out of range"
       ]
      },
      {
       "output_type": "stream",
       "stream": "stdout",
       "text": [
        "\n",
        "Error >> 3046 can not fetch month =  156\n",
        "list index out of range"
       ]
      },
      {
       "output_type": "stream",
       "stream": "stdout",
       "text": [
        "\n",
        "Error >> 1326 can not fetch month =  156\n",
        "list index out of range"
       ]
      },
      {
       "output_type": "stream",
       "stream": "stdout",
       "text": [
        "\n",
        "Error >> 8131 can not fetch month =  156\n",
        "list index out of range"
       ]
      },
      {
       "output_type": "stream",
       "stream": "stdout",
       "text": [
        "\n",
        "Error >> 3607 can not fetch month =  156\n",
        "list index out of range"
       ]
      },
      {
       "output_type": "stream",
       "stream": "stdout",
       "text": [
        "\n",
        "Error >> 3605 can not fetch month =  156\n",
        "list index out of range"
       ]
      },
      {
       "output_type": "stream",
       "stream": "stdout",
       "text": [
        "\n",
        "Error >> 3296 can not fetch month =  156\n",
        "list index out of range"
       ]
      },
      {
       "output_type": "stream",
       "stream": "stdout",
       "text": [
        "\n",
        "Error >> 3383 can not fetch month =  156\n",
        "list index out of range"
       ]
      },
      {
       "output_type": "stream",
       "stream": "stdout",
       "text": [
        "\n",
        "Error >> 3380 can not fetch month =  156\n",
        "list index out of range"
       ]
      },
      {
       "output_type": "stream",
       "stream": "stdout",
       "text": [
        "\n",
        "Error >> 5007 can not fetch month =  156\n",
        "list index out of range"
       ]
      },
      {
       "output_type": "stream",
       "stream": "stdout",
       "text": [
        "\n",
        "Error >> 6108 can not fetch month =  156\n",
        "list index out of range"
       ]
      },
      {
       "output_type": "stream",
       "stream": "stdout",
       "text": [
        "\n",
        "Error >> 3419 can not fetch month =  156\n",
        "list index out of range"
       ]
      },
      {
       "output_type": "stream",
       "stream": "stdout",
       "text": [
        "\n",
        "Error >> 2886 can not fetch month =  156\n",
        "list index out of range"
       ]
      },
      {
       "output_type": "stream",
       "stream": "stdout",
       "text": [
        "\n",
        "Error >> 9110 can not fetch month =  156\n",
        "list index out of range"
       ]
      },
      {
       "output_type": "stream",
       "stream": "stdout",
       "text": [
        "\n",
        "Error >> 8110 can not fetch month =  156\n",
        "list index out of range"
       ]
      },
      {
       "output_type": "stream",
       "stream": "stdout",
       "text": [
        "\n",
        "Error >> 8114 can not fetch month =  156\n",
        "Get stock no."
       ]
      },
      {
       "output_type": "stream",
       "stream": "stdout",
       "text": [
        " 2464 info for 156 month\n",
        "Get stock no."
       ]
      },
      {
       "output_type": "stream",
       "stream": "stdout",
       "text": [
        " 2465 info for 156 month\n",
        "Get stock no."
       ]
      },
      {
       "output_type": "stream",
       "stream": "stdout",
       "text": [
        " 2466 info for 156 month\n",
        "Get stock no."
       ]
      },
      {
       "output_type": "stream",
       "stream": "stdout",
       "text": [
        " 2467 info for 156 month\n",
        "Get stock no."
       ]
      },
      {
       "output_type": "stream",
       "stream": "stdout",
       "text": [
        " 2461 info for 156 month\n",
        "Get stock no."
       ]
      },
      {
       "output_type": "stream",
       "stream": "stdout",
       "text": [
        " 2462 info for 156 month\n",
        "Get stock no."
       ]
      },
      {
       "output_type": "stream",
       "stream": "stdout",
       "text": [
        " 2468 info for 156 month\n",
        "list index out of range"
       ]
      },
      {
       "output_type": "stream",
       "stream": "stdout",
       "text": [
        "\n",
        "Error >> 5434 can not fetch month =  156\n",
        "list index out of range"
       ]
      },
      {
       "output_type": "stream",
       "stream": "stdout",
       "text": [
        "\n",
        "Error >> 3501 can not fetch month =  156\n",
        "list index out of range"
       ]
      },
      {
       "output_type": "stream",
       "stream": "stdout",
       "text": [
        "\n",
        "Error >> 5880 can not fetch month =  156\n",
        "list index out of range"
       ]
      },
      {
       "output_type": "stream",
       "stream": "stdout",
       "text": [
        "\n",
        "Error >> 4904 can not fetch month =  156\n",
        "list index out of range"
       ]
      },
      {
       "output_type": "stream",
       "stream": "stdout",
       "text": [
        "\n",
        "Error >> 6120 can not fetch month =  156\n",
        "list index out of range"
       ]
      },
      {
       "output_type": "stream",
       "stream": "stdout",
       "text": [
        "\n",
        "Error >> 6128 can not fetch month =  156\n",
        "list index out of range"
       ]
      },
      {
       "output_type": "stream",
       "stream": "stdout",
       "text": [
        "\n",
        "Error >> 3686 can not fetch month =  156\n",
        "list index out of range"
       ]
      },
      {
       "output_type": "stream",
       "stream": "stdout",
       "text": [
        "\n",
        "Error >> 8411 can not fetch month =  156\n",
        "Get stock no."
       ]
      },
      {
       "output_type": "stream",
       "stream": "stdout",
       "text": [
        " 2448 info for 156 month\n",
        "Get stock no."
       ]
      },
      {
       "output_type": "stream",
       "stream": "stdout",
       "text": [
        " 2449 info for 156 month\n",
        "list index out of range"
       ]
      },
      {
       "output_type": "stream",
       "stream": "stdout",
       "text": [
        "\n",
        "Error >> 8940 can not fetch month =  156\n",
        "list index out of range"
       ]
      },
      {
       "output_type": "stream",
       "stream": "stdout",
       "text": [
        "\n",
        "Error >> 1626 can not fetch month =  156\n",
        "list index out of range"
       ]
      },
      {
       "output_type": "stream",
       "stream": "stdout",
       "text": [
        "\n",
        "Error >> 3209 can not fetch month =  156\n",
        "list index out of range"
       ]
      },
      {
       "output_type": "stream",
       "stream": "stdout",
       "text": [
        "\n",
        "Error >> 2867 can not fetch month =  156\n",
        "list index out of range"
       ]
      },
      {
       "output_type": "stream",
       "stream": "stdout",
       "text": [
        "\n",
        "Error >> 9188 can not fetch month =  156\n",
        "list index out of range"
       ]
      },
      {
       "output_type": "stream",
       "stream": "stdout",
       "text": [
        "\n",
        "Error >> 5533 can not fetch month =  156\n",
        "list index out of range"
       ]
      },
      {
       "output_type": "stream",
       "stream": "stdout",
       "text": [
        "\n",
        "Error >> 5531 can not fetch month =  156\n",
        "list index out of range"
       ]
      },
      {
       "output_type": "stream",
       "stream": "stdout",
       "text": [
        "\n",
        "Error >> 5534 can not fetch month =  156\n",
        "list index out of range"
       ]
      },
      {
       "output_type": "stream",
       "stream": "stdout",
       "text": [
        "\n",
        "Error >> 5538 can not fetch month =  156\n",
        "list index out of range"
       ]
      },
      {
       "output_type": "stream",
       "stream": "stdout",
       "text": [
        "\n",
        "Error >> 6142 can not fetch month =  156\n",
        "list index out of range"
       ]
      },
      {
       "output_type": "stream",
       "stream": "stdout",
       "text": [
        "\n",
        "Error >> 6141 can not fetch month =  156\n",
        "list index out of range"
       ]
      },
      {
       "output_type": "stream",
       "stream": "stdout",
       "text": [
        "\n",
        "Error >> 6145 can not fetch month =  156\n",
        "list index out of range"
       ]
      },
      {
       "output_type": "stream",
       "stream": "stdout",
       "text": [
        "\n",
        "Error >> 2059 can not fetch month =  156\n",
        "list index out of range"
       ]
      },
      {
       "output_type": "stream",
       "stream": "stdout",
       "text": [
        "\n",
        "Error >> 4536 can not fetch month =  156\n",
        "list index out of range"
       ]
      },
      {
       "output_type": "stream",
       "stream": "stdout",
       "text": [
        "\n",
        "Error >> 4532 can not fetch month =  156\n",
        "list index out of range"
       ]
      },
      {
       "output_type": "stream",
       "stream": "stdout",
       "text": [
        "\n",
        "Error >> 4958 can not fetch month =  156\n",
        "list index out of range"
       ]
      },
      {
       "output_type": "stream",
       "stream": "stdout",
       "text": [
        "\n",
        "Error >> 3229 can not fetch month =  156\n",
        "list index out of range"
       ]
      },
      {
       "output_type": "stream",
       "stream": "stdout",
       "text": [
        "\n",
        "Error >> 5471 can not fetch month =  156\n",
        "list index out of range"
       ]
      },
      {
       "output_type": "stream",
       "stream": "stdout",
       "text": [
        "\n",
        "Error >> 5515 can not fetch month =  156\n",
        "list index out of range"
       ]
      },
      {
       "output_type": "stream",
       "stream": "stdout",
       "text": [
        "\n",
        "Error >> 3035 can not fetch month =  156\n",
        "list index out of range"
       ]
      },
      {
       "output_type": "stream",
       "stream": "stdout",
       "text": [
        "\n",
        "Error >> 6168 can not fetch month =  156\n",
        "list index out of range"
       ]
      },
      {
       "output_type": "stream",
       "stream": "stdout",
       "text": [
        "\n",
        "Error >> 6165 can not fetch month =  156\n",
        "list index out of range"
       ]
      },
      {
       "output_type": "stream",
       "stream": "stdout",
       "text": [
        "\n",
        "Error >> 6164 can not fetch month =  156\n",
        "list index out of range"
       ]
      },
      {
       "output_type": "stream",
       "stream": "stdout",
       "text": [
        "\n",
        "Error >> 6166 can not fetch month =  156\n",
        "list index out of range"
       ]
      },
      {
       "output_type": "stream",
       "stream": "stdout",
       "text": [
        "\n",
        "Error >> 8033 can not fetch month =  156\n",
        "list index out of range"
       ]
      },
      {
       "output_type": "stream",
       "stream": "stdout",
       "text": [
        "\n",
        "Error >> 8039 can not fetch month =  156\n",
        "list index out of range"
       ]
      },
      {
       "output_type": "stream",
       "stream": "stdout",
       "text": [
        "\n",
        "Error >> 6133 can not fetch month =  156\n",
        "list index out of range"
       ]
      },
      {
       "output_type": "stream",
       "stream": "stdout",
       "text": [
        "\n",
        "Error >> 9945 can not fetch month =  156\n",
        "list index out of range"
       ]
      },
      {
       "output_type": "stream",
       "stream": "stdout",
       "text": [
        "\n",
        "Error >> 9105 can not fetch month =  156\n",
        "list index out of range"
       ]
      },
      {
       "output_type": "stream",
       "stream": "stdout",
       "text": [
        "\n",
        "Error >> 5706 can not fetch month =  156\n",
        "Get stock no."
       ]
      },
      {
       "output_type": "stream",
       "stream": "stdout",
       "text": [
        " 2460 info for 156 month\n",
        "list index out of range"
       ]
      },
      {
       "output_type": "stream",
       "stream": "stdout",
       "text": [
        "\n",
        "Error >> 4984 can not fetch month =  156\n",
        "list index out of range"
       ]
      },
      {
       "output_type": "stream",
       "stream": "stdout",
       "text": [
        "\n",
        "Error >> 3308 can not fetch month =  156\n",
        "list index out of range"
       ]
      },
      {
       "output_type": "stream",
       "stream": "stdout",
       "text": [
        "\n",
        "Error >> 3305 can not fetch month =  156\n",
        "list index out of range"
       ]
      },
      {
       "output_type": "stream",
       "stream": "stdout",
       "text": [
        "\n",
        "Error >> 8249 can not fetch month =  156\n",
        "list index out of range"
       ]
      },
      {
       "output_type": "stream",
       "stream": "stdout",
       "text": [
        "\n",
        "Error >> 4164 can not fetch month =  156\n",
        "Get stock no."
       ]
      },
      {
       "output_type": "stream",
       "stream": "stdout",
       "text": [
        " 9940 info for 156 month\n",
        "list index out of range"
       ]
      },
      {
       "output_type": "stream",
       "stream": "stdout",
       "text": [
        "\n",
        "Error >> 2231 can not fetch month =  156\n",
        "list index out of range"
       ]
      },
      {
       "output_type": "stream",
       "stream": "stdout",
       "text": [
        "\n",
        "Error >> 8427 can not fetch month =  156\n",
        "list index out of range"
       ]
      },
      {
       "output_type": "stream",
       "stream": "stdout",
       "text": [
        "\n",
        "Error >> 3494 can not fetch month =  156\n",
        "list index out of range"
       ]
      },
      {
       "output_type": "stream",
       "stream": "stdout",
       "text": [
        "\n",
        "Error >> 8422 can not fetch month =  156\n",
        "list index out of range"
       ]
      },
      {
       "output_type": "stream",
       "stream": "stdout",
       "text": [
        "\n",
        "Error >> 3338 can not fetch month =  156\n",
        "list index out of range"
       ]
      },
      {
       "output_type": "stream",
       "stream": "stdout",
       "text": [
        "\n",
        "Error >> 4137 can not fetch month =  156\n",
        "list index out of range"
       ]
      },
      {
       "output_type": "stream",
       "stream": "stdout",
       "text": [
        "\n",
        "Error >> 4960 can not fetch month =  156\n",
        "list index out of range"
       ]
      },
      {
       "output_type": "stream",
       "stream": "stdout",
       "text": [
        "\n",
        "Error >> 1203 can not fetch month =  156\n",
        "list index out of range"
       ]
      },
      {
       "output_type": "stream",
       "stream": "stdout",
       "text": [
        "\n",
        "Error >> 8271 can not fetch month =  156\n",
        "list index out of range"
       ]
      },
      {
       "output_type": "stream",
       "stream": "stdout",
       "text": [
        "\n",
        "Error >> 6239 can not fetch month =  156\n",
        "list index out of range"
       ]
      },
      {
       "output_type": "stream",
       "stream": "stdout",
       "text": [
        "\n",
        "Error >> 9802 can not fetch month =  156\n",
        "list index out of range"
       ]
      },
      {
       "output_type": "stream",
       "stream": "stdout",
       "text": [
        "\n",
        "Error >> 6230 can not fetch month =  156\n",
        "list index out of range"
       ]
      },
      {
       "output_type": "stream",
       "stream": "stdout",
       "text": [
        "\n",
        "Error >> 4144 can not fetch month =  156\n",
        "list index out of range"
       ]
      },
      {
       "output_type": "stream",
       "stream": "stdout",
       "text": [
        "\n",
        "Error >> 4141 can not fetch month =  156\n",
        "list index out of range"
       ]
      },
      {
       "output_type": "stream",
       "stream": "stdout",
       "text": [
        "\n",
        "Error >> 4142 can not fetch month =  156\n",
        "Get stock no."
       ]
      },
      {
       "output_type": "stream",
       "stream": "stdout",
       "text": [
        " 2618 info for 156 month\n",
        "list index out of range"
       ]
      },
      {
       "output_type": "stream",
       "stream": "stdout",
       "text": [
        "\n",
        "Error >> 9943 can not fetch month =  156\n",
        "list index out of range"
       ]
      },
      {
       "output_type": "stream",
       "stream": "stdout",
       "text": [
        "\n",
        "Error >> 4942 can not fetch month =  156\n",
        "list index out of range"
       ]
      },
      {
       "output_type": "stream",
       "stream": "stdout",
       "text": [
        "\n",
        "Error >> 2114 can not fetch month =  156\n",
        "list index out of range"
       ]
      },
      {
       "output_type": "stream",
       "stream": "stdout",
       "text": [
        "\n",
        "Error >> 8046 can not fetch month =  156\n",
        "list index out of range"
       ]
      },
      {
       "output_type": "stream",
       "stream": "stdout",
       "text": [
        "\n",
        "Error >> 2637 can not fetch month =  156\n",
        "list index out of range"
       ]
      },
      {
       "output_type": "stream",
       "stream": "stdout",
       "text": [
        "\n",
        "Error >> 3545 can not fetch month =  156\n",
        "list index out of range"
       ]
      },
      {
       "output_type": "stream",
       "stream": "stdout",
       "text": [
        "\n",
        "Error >> 3130 can not fetch month =  156\n",
        "list index out of range"
       ]
      },
      {
       "output_type": "stream",
       "stream": "stdout",
       "text": [
        "\n",
        "Error >> 6605 can not fetch month =  156\n",
        "Get stock no."
       ]
      },
      {
       "output_type": "stream",
       "stream": "stdout",
       "text": [
        " 2358 info for 156 month\n",
        "Get stock no."
       ]
      },
      {
       "output_type": "stream",
       "stream": "stdout",
       "text": [
        " 9942 info for 156 month\n",
        "Get stock no."
       ]
      },
      {
       "output_type": "stream",
       "stream": "stdout",
       "text": [
        " 9941 info for 156 month\n",
        "list index out of range"
       ]
      },
      {
       "output_type": "stream",
       "stream": "stdout",
       "text": [
        "\n",
        "Error >> 9946 can not fetch month =  156\n",
        "list index out of range"
       ]
      },
      {
       "output_type": "stream",
       "stream": "stdout",
       "text": [
        "\n",
        "Error >> 9944 can not fetch month =  156\n",
        "Get stock no."
       ]
      },
      {
       "output_type": "stream",
       "stream": "stdout",
       "text": [
        " 1537 info for 156 month\n",
        "Get stock no."
       ]
      },
      {
       "output_type": "stream",
       "stream": "stdout",
       "text": [
        " 1535 info for 156 month\n",
        "Get stock no."
       ]
      },
      {
       "output_type": "stream",
       "stream": "stdout",
       "text": [
        " 1533 info for 156 month\n",
        "list index out of range"
       ]
      },
      {
       "output_type": "stream",
       "stream": "stdout",
       "text": [
        "\n",
        "Error >> 1539 can not fetch month =  156\n",
        "list index out of range"
       ]
      },
      {
       "output_type": "stream",
       "stream": "stdout",
       "text": [
        "\n",
        "Error >> 4104 can not fetch month =  156\n",
        "list index out of range"
       ]
      },
      {
       "output_type": "stream",
       "stream": "stdout",
       "text": [
        "\n",
        "Error >> 4106 can not fetch month =  156\n",
        "Get stock no."
       ]
      },
      {
       "output_type": "stream",
       "stream": "stdout",
       "text": [
        " 2488 info for 156 month\n",
        "Get stock no."
       ]
      },
      {
       "output_type": "stream",
       "stream": "stdout",
       "text": [
        " 2489 info for 156 month\n",
        "Get stock no."
       ]
      },
      {
       "output_type": "stream",
       "stream": "stdout",
       "text": [
        " 2486 info for 156 month\n",
        "Get stock no."
       ]
      },
      {
       "output_type": "stream",
       "stream": "stdout",
       "text": [
        " 2484 info for 156 month\n",
        "Get stock no."
       ]
      },
      {
       "output_type": "stream",
       "stream": "stdout",
       "text": [
        " 2485 info for 156 month\n",
        "Get stock no."
       ]
      },
      {
       "output_type": "stream",
       "stream": "stdout",
       "text": [
        " 2482 info for 156 month\n",
        "Get stock no."
       ]
      },
      {
       "output_type": "stream",
       "stream": "stdout",
       "text": [
        " 2480 info for 156 month\n",
        "Get stock no."
       ]
      },
      {
       "output_type": "stream",
       "stream": "stdout",
       "text": [
        " 2481 info for 156 month\n",
        "list index out of range"
       ]
      },
      {
       "output_type": "stream",
       "stream": "stdout",
       "text": [
        "\n",
        "Error >> 8210 can not fetch month =  156\n",
        "list index out of range"
       ]
      },
      {
       "output_type": "stream",
       "stream": "stdout",
       "text": [
        "\n",
        "Error >> 8213 can not fetch month =  156\n",
        "list index out of range"
       ]
      },
      {
       "output_type": "stream",
       "stream": "stdout",
       "text": [
        "\n",
        "Error >> 8215 can not fetch month =  156\n",
        "list index out of range"
       ]
      },
      {
       "output_type": "stream",
       "stream": "stdout",
       "text": [
        "\n",
        "Error >> 6243 can not fetch month =  156\n",
        "list index out of range"
       ]
      },
      {
       "output_type": "stream",
       "stream": "stdout",
       "text": [
        "\n",
        "Error >> 1516 can not fetch month =  156\n",
        "list index out of range"
       ]
      },
      {
       "output_type": "stream",
       "stream": "stdout",
       "text": [
        "\n",
        "Error >> 2923 can not fetch month =  156\n",
        "list index out of range"
       ]
      },
      {
       "output_type": "stream",
       "stream": "stdout",
       "text": [
        "\n",
        "Error >> 4733 can not fetch month =  156\n",
        "list index out of range"
       ]
      },
      {
       "output_type": "stream",
       "stream": "stdout",
       "text": [
        "\n",
        "Error >> 4737 can not fetch month =  156\n",
        "list index out of range"
       ]
      },
      {
       "output_type": "stream",
       "stream": "stdout",
       "text": [
        "\n",
        "Error >> 6205 can not fetch month =  156\n",
        "list index out of range"
       ]
      },
      {
       "output_type": "stream",
       "stream": "stdout",
       "text": [
        "\n",
        "Error >> 6206 can not fetch month =  156\n",
        "list index out of range"
       ]
      },
      {
       "output_type": "stream",
       "stream": "stdout",
       "text": [
        "\n",
        "Error >> 6201 can not fetch month =  156\n",
        "list index out of range"
       ]
      },
      {
       "output_type": "stream",
       "stream": "stdout",
       "text": [
        "\n",
        "Error >> 6202 can not fetch month =  156\n",
        "list index out of range"
       ]
      },
      {
       "output_type": "stream",
       "stream": "stdout",
       "text": [
        "\n",
        "Error >> 6209 can not fetch month =  156\n",
        "list index out of range"
       ]
      },
      {
       "output_type": "stream",
       "stream": "stdout",
       "text": [
        "\n",
        "Error >> 2887 can not fetch month =  156\n",
        "list index out of range"
       ]
      },
      {
       "output_type": "stream",
       "stream": "stdout",
       "text": [
        "\n",
        "Error >> 3698 can not fetch month =  156\n",
        "list index out of range"
       ]
      },
      {
       "output_type": "stream",
       "stream": "stdout",
       "text": [
        "\n",
        "Error >> 0060 can not fetch month =  156\n",
        "list index out of range"
       ]
      },
      {
       "output_type": "stream",
       "stream": "stdout",
       "text": [
        "\n",
        "Error >> 0061 can not fetch month =  156\n",
        "list index out of range"
       ]
      },
      {
       "output_type": "stream",
       "stream": "stdout",
       "text": [
        "\n",
        "Error >> 2528 can not fetch month =  156\n",
        "list index out of range"
       ]
      },
      {
       "output_type": "stream",
       "stream": "stdout",
       "text": [
        "\n",
        "Error >> 8021 can not fetch month =  156\n",
        "list index out of range"
       ]
      },
      {
       "output_type": "stream",
       "stream": "stdout",
       "text": [
        "\n",
        "Error >> 4755 can not fetch month =  156\n",
        "list index out of range"
       ]
      },
      {
       "output_type": "stream",
       "stream": "stdout",
       "text": [
        "\n",
        "Error >> 5871 can not fetch month =  156\n",
        "list index out of range"
       ]
      },
      {
       "output_type": "stream",
       "stream": "stdout",
       "text": [
        "\n",
        "Error >> 6196 can not fetch month =  156\n",
        "list index out of range"
       ]
      },
      {
       "output_type": "stream",
       "stream": "stdout",
       "text": [
        "\n",
        "Error >> 6197 can not fetch month =  156\n",
        "list index out of range"
       ]
      },
      {
       "output_type": "stream",
       "stream": "stdout",
       "text": [
        "\n",
        "Error >> 6191 can not fetch month =  156\n",
        "list index out of range"
       ]
      },
      {
       "output_type": "stream",
       "stream": "stdout",
       "text": [
        "\n",
        "Error >> 6192 can not fetch month =  156\n",
        "list index out of range"
       ]
      },
      {
       "output_type": "stream",
       "stream": "stdout",
       "text": [
        "\n",
        "Error >> 2731 can not fetch month =  156\n",
        "list index out of range"
       ]
      },
      {
       "output_type": "stream",
       "stream": "stdout",
       "text": [
        "\n",
        "Error >> 6226 can not fetch month =  156\n",
        "list index out of range"
       ]
      },
      {
       "output_type": "stream",
       "stream": "stdout",
       "text": [
        "\n",
        "Error >> 6224 can not fetch month =  156\n",
        "list index out of range"
       ]
      },
      {
       "output_type": "stream",
       "stream": "stdout",
       "text": [
        "\n",
        "Error >> 6225 can not fetch month =  156\n",
        "list index out of range"
       ]
      },
      {
       "output_type": "stream",
       "stream": "stdout",
       "text": [
        "\n",
        "Error >> 1773 can not fetch month =  156\n",
        "list index out of range"
       ]
      },
      {
       "output_type": "stream",
       "stream": "stdout",
       "text": [
        "\n",
        "Error >> 3038 can not fetch month =  156\n",
        "list index out of range"
       ]
      },
      {
       "output_type": "stream",
       "stream": "stdout",
       "text": [
        "\n",
        "Error >> 3034 can not fetch month =  156\n",
        "list index out of range"
       ]
      },
      {
       "output_type": "stream",
       "stream": "stdout",
       "text": [
        "\n",
        "Error >> 3036 can not fetch month =  156\n",
        "list index out of range"
       ]
      },
      {
       "output_type": "stream",
       "stream": "stdout",
       "text": [
        "\n",
        "Error >> 3037 can not fetch month =  156\n",
        "list index out of range"
       ]
      },
      {
       "output_type": "stream",
       "stream": "stdout",
       "text": [
        "\n",
        "Error >> 3030 can not fetch month =  156\n",
        "list index out of range"
       ]
      },
      {
       "output_type": "stream",
       "stream": "stdout",
       "text": [
        "\n",
        "Error >> 3031 can not fetch month =  156\n",
        "list index out of range"
       ]
      },
      {
       "output_type": "stream",
       "stream": "stdout",
       "text": [
        "\n",
        "Error >> 3032 can not fetch month =  156\n",
        "list index out of range"
       ]
      },
      {
       "output_type": "stream",
       "stream": "stdout",
       "text": [
        "\n",
        "Error >> 3033 can not fetch month =  156\n",
        "list index out of range"
       ]
      },
      {
       "output_type": "stream",
       "stream": "stdout",
       "text": [
        "\n",
        "Error >> 5607 can not fetch month =  156\n",
        "list index out of range"
       ]
      },
      {
       "output_type": "stream",
       "stream": "stdout",
       "text": [
        "\n",
        "Error >> 5608 can not fetch month =  156\n",
        "list index out of range"
       ]
      },
      {
       "output_type": "stream",
       "stream": "stdout",
       "text": [
        "\n",
        "Error >> 6257 can not fetch month =  156\n",
        "list index out of range"
       ]
      },
      {
       "output_type": "stream",
       "stream": "stdout",
       "text": [
        "\n",
        "Error >> 0080 can not fetch month =  156\n",
        "list index out of range"
       ]
      },
      {
       "output_type": "stream",
       "stream": "stdout",
       "text": [
        "\n",
        "Error >> 0081 can not fetch month =  156\n",
        "list index out of range"
       ]
      },
      {
       "output_type": "stream",
       "stream": "stdout",
       "text": [
        "\n",
        "Error >> 3704 can not fetch month =  156\n",
        "list index out of range"
       ]
      },
      {
       "output_type": "stream",
       "stream": "stdout",
       "text": [
        "\n",
        "Error >> 4119 can not fetch month =  156\n",
        "list index out of range"
       ]
      },
      {
       "output_type": "stream",
       "stream": "stdout",
       "text": [
        "\n",
        "Error >> 2712 can not fetch month =  156\n",
        "list index out of range"
       ]
      },
      {
       "output_type": "stream",
       "stream": "stdout",
       "text": [
        "\n",
        "Error >> 6251 can not fetch month =  156\n",
        "list index out of range"
       ]
      },
      {
       "output_type": "stream",
       "stream": "stdout",
       "text": [
        "\n",
        "Error >> 3018 can not fetch month =  156\n",
        "list index out of range"
       ]
      },
      {
       "output_type": "stream",
       "stream": "stdout",
       "text": [
        "\n",
        "Error >> 3019 can not fetch month =  156\n",
        "list index out of range"
       ]
      },
      {
       "output_type": "stream",
       "stream": "stdout",
       "text": [
        "\n",
        "Error >> 3013 can not fetch month =  156\n",
        "list index out of range"
       ]
      },
      {
       "output_type": "stream",
       "stream": "stdout",
       "text": [
        "\n",
        "Error >> 3010 can not fetch month =  156\n",
        "list index out of range"
       ]
      },
      {
       "output_type": "stream",
       "stream": "stdout",
       "text": [
        "\n",
        "Error >> 3011 can not fetch month =  156\n",
        "list index out of range"
       ]
      },
      {
       "output_type": "stream",
       "stream": "stdout",
       "text": [
        "\n",
        "Error >> 3016 can not fetch month =  156\n",
        "list index out of range"
       ]
      },
      {
       "output_type": "stream",
       "stream": "stdout",
       "text": [
        "\n",
        "Error >> 3017 can not fetch month =  156\n",
        "list index out of range"
       ]
      },
      {
       "output_type": "stream",
       "stream": "stdout",
       "text": [
        "\n",
        "Error >> 3014 can not fetch month =  156\n",
        "list index out of range"
       ]
      },
      {
       "output_type": "stream",
       "stream": "stdout",
       "text": [
        "\n",
        "Error >> 3015 can not fetch month =  156\n",
        "list index out of range"
       ]
      },
      {
       "output_type": "stream",
       "stream": "stdout",
       "text": [
        "\n",
        "Error >> 6405 can not fetch month =  156\n",
        "list index out of range"
       ]
      },
      {
       "output_type": "stream",
       "stream": "stdout",
       "text": [
        "\n",
        "Error >> 9955 can not fetch month =  156\n",
        "list index out of range"
       ]
      },
      {
       "output_type": "stream",
       "stream": "stdout",
       "text": [
        "\n",
        "Error >> 3653 can not fetch month =  156\n",
        "Get stock no."
       ]
      },
      {
       "output_type": "stream",
       "stream": "stdout",
       "text": [
        " 2471 info for 156 month\n",
        "list index out of range"
       ]
      },
      {
       "output_type": "stream",
       "stream": "stdout",
       "text": [
        "\n",
        "Error >> 5243 can not fetch month =  156\n",
        "list index out of range"
       ]
      },
      {
       "output_type": "stream",
       "stream": "stdout",
       "text": [
        "\n",
        "Error >> 3005 can not fetch month =  156\n",
        "list index out of range"
       ]
      },
      {
       "output_type": "stream",
       "stream": "stdout",
       "text": [
        "\n",
        "Error >> 3006 can not fetch month =  156\n",
        "Get stock no."
       ]
      },
      {
       "output_type": "stream",
       "stream": "stdout",
       "text": [
        " 1731 info for 156 month\n",
        "Get stock no."
       ]
      },
      {
       "output_type": "stream",
       "stream": "stdout",
       "text": [
        " 1730 info for 156 month\n",
        "Get stock no."
       ]
      },
      {
       "output_type": "stream",
       "stream": "stdout",
       "text": [
        " 1733 info for 156 month\n",
        "Get stock no."
       ]
      },
      {
       "output_type": "stream",
       "stream": "stdout",
       "text": [
        " 1732 info for 156 month\n",
        "list index out of range"
       ]
      },
      {
       "output_type": "stream",
       "stream": "stdout",
       "text": [
        "\n",
        "Error >> 1735 can not fetch month =  156\n",
        "list index out of range"
       ]
      },
      {
       "output_type": "stream",
       "stream": "stdout",
       "text": [
        "\n",
        "Error >> 1734 can not fetch month =  156\n",
        "list index out of range"
       ]
      },
      {
       "output_type": "stream",
       "stream": "stdout",
       "text": [
        "\n",
        "Error >> 1736 can not fetch month =  156\n",
        "Get stock no."
       ]
      },
      {
       "output_type": "stream",
       "stream": "stdout",
       "text": [
        " 9939 info for 156 month\n",
        "list index out of range"
       ]
      },
      {
       "output_type": "stream",
       "stream": "stdout",
       "text": [
        "\n",
        "Error >> 3673 can not fetch month =  156\n",
        "list index out of range"
       ]
      },
      {
       "output_type": "stream",
       "stream": "stdout",
       "text": [
        "\n",
        "Error >> 2891 can not fetch month =  156\n",
        "list index out of range"
       ]
      },
      {
       "output_type": "stream",
       "stream": "stdout",
       "text": [
        "\n",
        "Error >> 2890 can not fetch month =  156\n",
        "list index out of range"
       ]
      },
      {
       "output_type": "stream",
       "stream": "stdout",
       "text": [
        "\n",
        "Error >> 3679 can not fetch month =  156\n",
        "list index out of range"
       ]
      },
      {
       "output_type": "stream",
       "stream": "stdout",
       "text": [
        "\n",
        "Error >> 2548 can not fetch month =  156\n",
        "list index out of range"
       ]
      },
      {
       "output_type": "stream",
       "stream": "stdout",
       "text": [
        "\n",
        "Error >> 3557 can not fetch month =  156\n",
        "list index out of range"
       ]
      },
      {
       "output_type": "stream",
       "stream": "stdout",
       "text": [
        "\n",
        "Error >> 3583 can not fetch month =  156\n",
        "list index out of range"
       ]
      },
      {
       "output_type": "stream",
       "stream": "stdout",
       "text": [
        "\n",
        "Error >> 3588 can not fetch month =  156\n",
        "list index out of range"
       ]
      },
      {
       "output_type": "stream",
       "stream": "stdout",
       "text": [
        "\n",
        "Error >> 3550 can not fetch month =  156\n",
        "list index out of range"
       ]
      },
      {
       "output_type": "stream",
       "stream": "stdout",
       "text": [
        "\n",
        "Error >> 4426 can not fetch month =  156\n",
        "list index out of range"
       ]
      },
      {
       "output_type": "stream",
       "stream": "stdout",
       "text": [
        "\n",
        "Error >> 3559 can not fetch month =  156\n",
        "Get stock no."
       ]
      },
      {
       "output_type": "stream",
       "stream": "stdout",
       "text": [
        " 1476 info for 156 month\n",
        "list index out of range"
       ]
      },
      {
       "output_type": "stream",
       "stream": "stdout",
       "text": [
        "\n",
        "Error >> 1477 can not fetch month =  156\n",
        "Get stock no."
       ]
      },
      {
       "output_type": "stream",
       "stream": "stdout",
       "text": [
        " 2458 info for 156 month\n",
        "list index out of range"
       ]
      },
      {
       "output_type": "stream",
       "stream": "stdout",
       "text": [
        "\n",
        "Error >> 1817 can not fetch month =  156\n",
        "list index out of range"
       ]
      },
      {
       "output_type": "stream",
       "stream": "stdout",
       "text": [
        "\n",
        "Error >> 5305 can not fetch month =  156\n",
        "list index out of range"
       ]
      },
      {
       "output_type": "stream",
       "stream": "stdout",
       "text": [
        "\n",
        "Error >> 6285 can not fetch month =  156\n",
        "list index out of range"
       ]
      },
      {
       "output_type": "stream",
       "stream": "stdout",
       "text": [
        "\n",
        "Error >> 6286 can not fetch month =  156\n",
        "list index out of range"
       ]
      },
      {
       "output_type": "stream",
       "stream": "stdout",
       "text": [
        "\n",
        "Error >> 6281 can not fetch month =  156\n",
        "list index out of range"
       ]
      },
      {
       "output_type": "stream",
       "stream": "stdout",
       "text": [
        "\n",
        "Error >> 3443 can not fetch month =  156\n",
        "list index out of range"
       ]
      },
      {
       "output_type": "stream",
       "stream": "stdout",
       "text": [
        "\n",
        "Error >> 2024 can not fetch month =  156\n",
        "list index out of range"
       ]
      },
      {
       "output_type": "stream",
       "stream": "stdout",
       "text": [
        "\n",
        "Error >> 5215 can not fetch month =  156\n",
        "list index out of range"
       ]
      },
      {
       "output_type": "stream",
       "stream": "stdout",
       "text": [
        "\n",
        "Error >> 3058 can not fetch month =  156\n",
        "list index out of range"
       ]
      },
      {
       "output_type": "stream",
       "stream": "stdout",
       "text": [
        "\n",
        "Error >> 3056 can not fetch month =  156\n",
        "list index out of range"
       ]
      },
      {
       "output_type": "stream",
       "stream": "stdout",
       "text": [
        "\n",
        "Error >> 3057 can not fetch month =  156\n",
        "list index out of range"
       ]
      },
      {
       "output_type": "stream",
       "stream": "stdout",
       "text": [
        "\n",
        "Error >> 3055 can not fetch month =  156\n",
        "list index out of range"
       ]
      },
      {
       "output_type": "stream",
       "stream": "stdout",
       "text": [
        "\n",
        "Error >> 3052 can not fetch month =  156\n",
        "list index out of range"
       ]
      },
      {
       "output_type": "stream",
       "stream": "stdout",
       "text": [
        "\n",
        "Error >> 3050 can not fetch month =  156\n",
        "list index out of range"
       ]
      },
      {
       "output_type": "stream",
       "stream": "stdout",
       "text": [
        "\n",
        "Error >> 3051 can not fetch month =  156\n",
        "list index out of range"
       ]
      },
      {
       "output_type": "stream",
       "stream": "stdout",
       "text": [
        "\n",
        "Error >> 6702 can not fetch month =  156\n",
        "list index out of range"
       ]
      },
      {
       "output_type": "stream",
       "stream": "stdout",
       "text": [
        "\n",
        "Error >> 3617 can not fetch month =  156\n",
        "Get stock no."
       ]
      },
      {
       "output_type": "stream",
       "stream": "stdout",
       "text": [
        " 1536 info for 156 month\n",
        "list index out of range"
       ]
      },
      {
       "output_type": "stream",
       "stream": "stdout",
       "text": [
        "\n",
        "Error >> 3090 can not fetch month =  156\n",
        "list index out of range"
       ]
      },
      {
       "output_type": "stream",
       "stream": "stdout",
       "text": [
        "\n",
        "Error >> 3094 can not fetch month =  156\n",
        "list index out of range"
       ]
      },
      {
       "output_type": "stream",
       "stream": "stdout",
       "text": [
        "\n",
        "Error >> 3231 can not fetch month =  156\n",
        "list index out of range"
       ]
      },
      {
       "output_type": "stream",
       "stream": "stdout",
       "text": [
        "\n",
        "Error >> 1538 can not fetch month =  156\n",
        "list index out of range"
       ]
      },
      {
       "output_type": "stream",
       "stream": "stdout",
       "text": [
        "\n",
        "Error >> 4108 can not fetch month =  156\n",
        "list index out of range"
       ]
      },
      {
       "output_type": "stream",
       "stream": "stdout",
       "text": [
        "\n",
        "Error >> 6116 can not fetch month =  156\n",
        "list index out of range"
       ]
      },
      {
       "output_type": "stream",
       "stream": "stdout",
       "text": [
        "\n",
        "Error >> 6117 can not fetch month =  156\n",
        "list index out of range"
       ]
      },
      {
       "output_type": "stream",
       "stream": "stdout",
       "text": [
        "\n",
        "Error >> 6112 can not fetch month =  156\n",
        "list index out of range"
       ]
      },
      {
       "output_type": "stream",
       "stream": "stdout",
       "text": [
        "\n",
        "Error >> 9106 can not fetch month =  156\n",
        "list index out of range"
       ]
      },
      {
       "output_type": "stream",
       "stream": "stdout",
       "text": [
        "\n",
        "Error >> 9103 can not fetch month =  156\n",
        "list index out of range"
       ]
      },
      {
       "output_type": "stream",
       "stream": "stdout",
       "text": [
        "\n",
        "Error >> 4414 can not fetch month =  156\n",
        "list index out of range"
       ]
      },
      {
       "output_type": "stream",
       "stream": "stdout",
       "text": [
        "\n",
        "Error >> 6269 can not fetch month =  156\n",
        "list index out of range"
       ]
      },
      {
       "output_type": "stream",
       "stream": "stdout",
       "text": [
        "\n",
        "Error >> 1339 can not fetch month =  156\n",
        "list index out of range"
       ]
      },
      {
       "output_type": "stream",
       "stream": "stdout",
       "text": [
        "\n",
        "Error >> 1338 can not fetch month =  156\n",
        "list index out of range"
       ]
      },
      {
       "output_type": "stream",
       "stream": "stdout",
       "text": [
        "\n",
        "Error >> 1337 can not fetch month =  156\n",
        "list index out of range"
       ]
      },
      {
       "output_type": "stream",
       "stream": "stdout",
       "text": [
        "\n",
        "Error >> 2892 can not fetch month =  156\n",
        "list index out of range"
       ]
      },
      {
       "output_type": "stream",
       "stream": "stdout",
       "text": [
        "\n",
        "Error >> 3638 can not fetch month =  156\n",
        "list index out of range"
       ]
      },
      {
       "output_type": "stream",
       "stream": "stdout",
       "text": [
        "\n",
        "Error >> 1432 can not fetch month =  156\n",
        "list index out of range"
       ]
      },
      {
       "output_type": "stream",
       "stream": "stdout",
       "text": [
        "\n",
        "Error >> 5234 can not fetch month =  156\n",
        "list index out of range"
       ]
      },
      {
       "output_type": "stream",
       "stream": "stdout",
       "text": [
        "\n",
        "Error >> 3703 can not fetch month =  156\n",
        "list index out of range"
       ]
      },
      {
       "output_type": "stream",
       "stream": "stdout",
       "text": [
        "\n",
        "Error >> 3701 can not fetch month =  156\n",
        "list index out of range"
       ]
      },
      {
       "output_type": "stream",
       "stream": "stdout",
       "text": [
        "\n",
        "Error >> 3706 can not fetch month =  156\n",
        "list index out of range"
       ]
      },
      {
       "output_type": "stream",
       "stream": "stdout",
       "text": [
        "\n",
        "Error >> 6139 can not fetch month =  156\n",
        "list index out of range"
       ]
      },
      {
       "output_type": "stream",
       "stream": "stdout",
       "text": [
        "\n",
        "Error >> 6131 can not fetch month =  156\n",
        "list index out of range"
       ]
      },
      {
       "output_type": "stream",
       "stream": "stdout",
       "text": [
        "\n",
        "Error >> 6136 can not fetch month =  156\n",
        "list index out of range"
       ]
      },
      {
       "output_type": "stream",
       "stream": "stdout",
       "text": [
        "\n",
        "Error >> 1590 can not fetch month =  156\n",
        "list index out of range"
       ]
      },
      {
       "output_type": "stream",
       "stream": "stdout",
       "text": [
        "\n",
        "Error >> 2062 can not fetch month =  156\n",
        "list index out of range"
       ]
      },
      {
       "output_type": "stream",
       "stream": "stdout",
       "text": [
        "\n",
        "Error >> 3257 can not fetch month =  156\n",
        "list index out of range"
       ]
      },
      {
       "output_type": "stream",
       "stream": "stdout",
       "text": [
        "\n",
        "Error >> 8078 can not fetch month =  156\n",
        "list index out of range"
       ]
      },
      {
       "output_type": "stream",
       "stream": "stdout",
       "text": [
        "\n",
        "Error >> 8105 can not fetch month =  156\n",
        "list index out of range"
       ]
      },
      {
       "output_type": "stream",
       "stream": "stdout",
       "text": [
        "\n",
        "Error >> 8101 can not fetch month =  156\n",
        "list index out of range"
       ]
      },
      {
       "output_type": "stream",
       "stream": "stdout",
       "text": [
        "\n",
        "Error >> 8103 can not fetch month =  156\n",
        "list index out of range"
       ]
      },
      {
       "output_type": "stream",
       "stream": "stdout",
       "text": [
        "\n",
        "Error >> 3189 can not fetch month =  156\n",
        "list index out of range"
       ]
      },
      {
       "output_type": "stream",
       "stream": "stdout",
       "text": [
        "\n",
        "Error >> 3561 can not fetch month =  156\n",
        "Get stock no."
       ]
      },
      {
       "output_type": "stream",
       "stream": "stdout",
       "text": [
        " 2477 info for 156 month\n",
        "Get stock no."
       ]
      },
      {
       "output_type": "stream",
       "stream": "stdout",
       "text": [
        " 2476 info for 156 month\n",
        "Get stock no."
       ]
      },
      {
       "output_type": "stream",
       "stream": "stdout",
       "text": [
        " 2475 info for 156 month\n",
        "Get stock no."
       ]
      },
      {
       "output_type": "stream",
       "stream": "stdout",
       "text": [
        " 2474 info for 156 month\n",
        "Get stock no."
       ]
      },
      {
       "output_type": "stream",
       "stream": "stdout",
       "text": [
        " 2478 info for 156 month\n",
        "list index out of range"
       ]
      },
      {
       "output_type": "stream",
       "stream": "stdout",
       "text": [
        "\n",
        "Error >> 2812 can not fetch month =  156\n",
        "list index out of range"
       ]
      },
      {
       "output_type": "stream",
       "stream": "stdout",
       "text": [
        "\n",
        "Error >> 3376 can not fetch month =  156\n",
        "list index out of range"
       ]
      },
      {
       "output_type": "stream",
       "stream": "stdout",
       "text": [
        "\n",
        "Error >> 5521 can not fetch month =  156\n",
        "list index out of range"
       ]
      },
      {
       "output_type": "stream",
       "stream": "stdout",
       "text": [
        "\n",
        "Error >> 5522 can not fetch month =  156\n",
        "list index out of range"
       ]
      },
      {
       "output_type": "stream",
       "stream": "stdout",
       "text": [
        "\n",
        "Error >> 5525 can not fetch month =  156\n",
        "list index out of range"
       ]
      },
      {
       "output_type": "stream",
       "stream": "stdout",
       "text": [
        "\n",
        "Error >> 6152 can not fetch month =  156\n",
        "list index out of range"
       ]
      },
      {
       "output_type": "stream",
       "stream": "stdout",
       "text": [
        "\n",
        "Error >> 6153 can not fetch month =  156\n",
        "list index out of range"
       ]
      },
      {
       "output_type": "stream",
       "stream": "stdout",
       "text": [
        "\n",
        "Error >> 6155 can not fetch month =  156\n",
        "list index out of range"
       ]
      },
      {
       "output_type": "stream",
       "stream": "stdout",
       "text": [
        "\n",
        "Error >> 2049 can not fetch month =  156\n",
        "list index out of range"
       ]
      },
      {
       "output_type": "stream",
       "stream": "stdout",
       "text": [
        "\n",
        "Error >> 3697 can not fetch month =  156\n",
        "list index out of range"
       ]
      },
      {
       "output_type": "stream",
       "stream": "stdout",
       "text": [
        "\n",
        "Error >> 8163 can not fetch month =  156\n",
        "list index out of range"
       ]
      },
      {
       "output_type": "stream",
       "stream": "stdout",
       "text": [
        "\n",
        "Error >> 3450 can not fetch month =  156\n",
        "list index out of range"
       ]
      },
      {
       "output_type": "stream",
       "stream": "stdout",
       "text": [
        "\n",
        "Error >> 3454 can not fetch month =  156\n",
        "Get stock no."
       ]
      },
      {
       "output_type": "stream",
       "stream": "stdout",
       "text": [
        " 2459 info for 156 month\n",
        "Get stock no."
       ]
      },
      {
       "output_type": "stream",
       "stream": "stdout",
       "text": [
        " 2455 info for 156 month\n",
        "Get stock no."
       ]
      },
      {
       "output_type": "stream",
       "stream": "stdout",
       "text": [
        " 2454 info for 156 month\n",
        "Get stock no."
       ]
      },
      {
       "output_type": "stream",
       "stream": "stdout",
       "text": [
        " 2457 info for 156 month\n",
        "Get stock no."
       ]
      },
      {
       "output_type": "stream",
       "stream": "stdout",
       "text": [
        " 2456 info for 156 month\n",
        "Get stock no."
       ]
      },
      {
       "output_type": "stream",
       "stream": "stdout",
       "text": [
        " 2451 info for 156 month\n",
        "Get stock no."
       ]
      },
      {
       "output_type": "stream",
       "stream": "stdout",
       "text": [
        " 2450 info for 156 month\n",
        "Get stock no."
       ]
      },
      {
       "output_type": "stream",
       "stream": "stdout",
       "text": [
        " 2453 info for 156 month\n",
        "list index out of range"
       ]
      },
      {
       "output_type": "stream",
       "stream": "stdout",
       "text": [
        "\n",
        "Error >> 3356 can not fetch month =  156\n",
        "list index out of range"
       ]
      },
      {
       "output_type": "stream",
       "stream": "stdout",
       "text": [
        "\n",
        "Error >> 3682 can not fetch month =  156\n",
        "list index out of range"
       ]
      },
      {
       "output_type": "stream",
       "stream": "stdout",
       "text": [
        "\n",
        "Error >> 9157 can not fetch month =  156\n",
        "list index out of range"
       ]
      },
      {
       "output_type": "stream",
       "stream": "stdout",
       "text": [
        "\n",
        "Error >> 3584 can not fetch month =  156\n",
        "list index out of range"
       ]
      },
      {
       "output_type": "stream",
       "stream": "stdout",
       "text": [
        "\n",
        "Error >> 6176 can not fetch month =  156\n",
        "list index out of range"
       ]
      },
      {
       "output_type": "stream",
       "stream": "stdout",
       "text": [
        "\n",
        "Error >> 6177 can not fetch month =  156\n",
        "list index out of range"
       ]
      },
      {
       "output_type": "stream",
       "stream": "stdout",
       "text": [
        "\n",
        "Error >> 6172 can not fetch month =  156\n",
        "list index out of range"
       ]
      },
      {
       "output_type": "stream",
       "stream": "stdout",
       "text": [
        "\n",
        "Error >> 2208 can not fetch month =  156\n",
        "list index out of range"
       ]
      },
      {
       "output_type": "stream",
       "stream": "stdout",
       "text": [
        "\n",
        "Error >> 6271 can not fetch month =  156\n",
        "list index out of range"
       ]
      },
      {
       "output_type": "stream",
       "stream": "stdout",
       "text": [
        "\n",
        "Error >> 4526 can not fetch month =  156\n",
        "Get stock no."
       ]
      },
      {
       "output_type": "stream",
       "stream": "stdout",
       "text": [
        " 1808 info for 156 month\n",
        "list index out of range"
       ]
      },
      {
       "output_type": "stream",
       "stream": "stdout",
       "text": [
        "\n",
        "Error >> 4999 can not fetch month =  156\n",
        "list index out of range"
       ]
      },
      {
       "output_type": "stream",
       "stream": "stdout",
       "text": [
        "\n",
        "Error >> 2855 can not fetch month =  156\n",
        "list index out of range"
       ]
      },
      {
       "output_type": "stream",
       "stream": "stdout",
       "text": [
        "\n",
        "Error >> 2856 can not fetch month =  156\n",
        "list index out of range"
       ]
      },
      {
       "output_type": "stream",
       "stream": "stdout",
       "text": [
        "\n",
        "Error >> 5469 can not fetch month =  156\n",
        "list index out of range"
       ]
      },
      {
       "output_type": "stream",
       "stream": "stdout",
       "text": [
        "\n",
        "Error >> 5484 can not fetch month =  156\n",
        "Get stock no."
       ]
      },
      {
       "output_type": "stream",
       "stream": "stdout",
       "text": [
        " 1236 info for 156 month\n",
        "list index out of range"
       ]
      },
      {
       "output_type": "stream",
       "stream": "stdout",
       "text": [
        "\n",
        "Error >> 6505 can not fetch month =  156\n",
        "list index out of range"
       ]
      },
      {
       "output_type": "stream",
       "stream": "stdout",
       "text": [
        "\n",
        "Error >> 6504 can not fetch month =  156\n",
        "Get stock no."
       ]
      },
      {
       "output_type": "stream",
       "stream": "stdout",
       "text": [
        " 2483 info for 156 month\n",
        "list index out of range"
       ]
      },
      {
       "output_type": "stream",
       "stream": "stdout",
       "text": [
        "\n",
        "Error >> 4906 can not fetch month =  156\n",
        "list index out of range"
       ]
      },
      {
       "output_type": "stream",
       "stream": "stdout",
       "text": [
        "\n",
        "Error >> 9136 can not fetch month =  156\n",
        "list index out of range"
       ]
      },
      {
       "output_type": "stream",
       "stream": "stdout",
       "text": [
        "\n",
        "Error >> 2228 can not fetch month =  156\n",
        "list index out of range"
       ]
      },
      {
       "output_type": "stream",
       "stream": "stdout",
       "text": [
        "\n",
        "Error >> 2227 can not fetch month =  156\n",
        "list index out of range"
       ]
      },
      {
       "output_type": "stream",
       "stream": "stdout",
       "text": [
        "\n",
        "Error >> 8112 can not fetch month =  156\n",
        "list index out of range"
       ]
      },
      {
       "output_type": "stream",
       "stream": "stdout",
       "text": [
        "\n",
        "Error >> 3579 can not fetch month =  156\n",
        "list index out of range"
       ]
      },
      {
       "output_type": "stream",
       "stream": "stdout",
       "text": [
        "\n",
        "Error >> 3576 can not fetch month =  156\n",
        "list index out of range"
       ]
      },
      {
       "output_type": "stream",
       "stream": "stdout",
       "text": [
        "\n",
        "Error >> 9958 can not fetch month =  156\n",
        "list index out of range"
       ]
      },
      {
       "output_type": "stream",
       "stream": "stdout",
       "text": [
        "\n",
        "Error >> 4977 can not fetch month =  156\n",
        "list index out of range"
       ]
      },
      {
       "output_type": "stream",
       "stream": "stdout",
       "text": [
        "\n",
        "Error >> 3311 can not fetch month =  156\n",
        "list index out of range"
       ]
      },
      {
       "output_type": "stream",
       "stream": "stdout",
       "text": [
        "\n",
        "Error >> 3312 can not fetch month =  156\n",
        "list index out of range"
       ]
      },
      {
       "output_type": "stream",
       "stream": "stdout",
       "text": [
        "\n",
        "Error >> 3315 can not fetch month =  156\n",
        "list index out of range"
       ]
      },
      {
       "output_type": "stream",
       "stream": "stdout",
       "text": [
        "\n",
        "Error >> 8261 can not fetch month =  156\n",
        "list index out of range"
       ]
      },
      {
       "output_type": "stream",
       "stream": "stdout",
       "text": [
        "\n",
        "Error >> 5906 can not fetch month =  156\n",
        "list index out of range"
       ]
      },
      {
       "output_type": "stream",
       "stream": "stdout",
       "text": [
        "\n",
        "Error >> 5907 can not fetch month =  156\n",
        "list index out of range"
       ]
      },
      {
       "output_type": "stream",
       "stream": "stdout",
       "text": [
        "\n",
        "Error >> 3481 can not fetch month =  156\n",
        "list index out of range"
       ]
      },
      {
       "output_type": "stream",
       "stream": "stdout",
       "text": [
        "\n",
        "Error >> 5280 can not fetch month =  156\n",
        "list index out of range"
       ]
      },
      {
       "output_type": "stream",
       "stream": "stdout",
       "text": [
        "\n",
        "Error >> 2601 can not fetch month =  156\n",
        "list index out of range"
       ]
      },
      {
       "output_type": "stream",
       "stream": "stdout",
       "text": [
        "\n",
        "Error >> 4952 can not fetch month =  156\n",
        "list index out of range"
       ]
      },
      {
       "output_type": "stream",
       "stream": "stdout",
       "text": [
        "\n",
        "Error >> 4956 can not fetch month =  156\n",
        "list index out of range"
       ]
      },
      {
       "output_type": "stream",
       "stream": "stdout",
       "text": [
        "\n",
        "Error >> 8429 can not fetch month =  156\n",
        "list index out of range"
       ]
      },
      {
       "output_type": "stream",
       "stream": "stdout",
       "text": [
        "\n",
        "Error >> 4133 can not fetch month =  156\n",
        "list index out of range"
       ]
      },
      {
       "output_type": "stream",
       "stream": "stdout",
       "text": [
        "\n",
        "Error >> 6289 can not fetch month =  156\n",
        "list index out of range"
       ]
      },
      {
       "output_type": "stream",
       "stream": "stdout",
       "text": [
        "\n",
        "Error >> 2597 can not fetch month =  156\n",
        "list index out of range"
       ]
      },
      {
       "output_type": "stream",
       "stream": "stdout",
       "text": [
        "\n",
        "Error >> 4306 can not fetch month =  156\n",
        "list index out of range"
       ]
      },
      {
       "output_type": "stream",
       "stream": "stdout",
       "text": [
        "\n",
        "Error >> 2361 can not fetch month =  156\n",
        "list index out of range"
       ]
      },
      {
       "output_type": "stream",
       "stream": "stdout",
       "text": [
        "\n",
        "Error >> 4930 can not fetch month =  156\n",
        "list index out of range"
       ]
      },
      {
       "output_type": "stream",
       "stream": "stdout",
       "text": [
        "\n",
        "Error >> 4934 can not fetch month =  156\n",
        "list index out of range"
       ]
      },
      {
       "output_type": "stream",
       "stream": "stdout",
       "text": [
        "\n",
        "Error >> 4935 can not fetch month =  156\n",
        "list index out of range"
       ]
      },
      {
       "output_type": "stream",
       "stream": "stdout",
       "text": [
        "\n",
        "Error >> 4938 can not fetch month =  156\n",
        "Get stock no."
       ]
      },
      {
       "output_type": "stream",
       "stream": "stdout",
       "text": [
        " 2101 info for 156 month\n",
        "list index out of range"
       ]
      },
      {
       "output_type": "stream",
       "stream": "stdout",
       "text": [
        "\n",
        "Error >> 3702 can not fetch month =  156\n",
        "list index out of range"
       ]
      },
      {
       "output_type": "stream",
       "stream": "stdout",
       "text": [
        "\n",
        "Error >> 1789 can not fetch month =  156\n",
        "list index out of range"
       ]
      },
      {
       "output_type": "stream",
       "stream": "stdout",
       "text": [
        "\n",
        "Error >> 1786 can not fetch month =  156\n",
        "list index out of range"
       ]
      },
      {
       "output_type": "stream",
       "stream": "stdout",
       "text": [
        "\n",
        "Error >> 5259 can not fetch month =  156\n",
        "list index out of range"
       ]
      },
      {
       "output_type": "stream",
       "stream": "stdout",
       "text": [
        "\n",
        "Error >> 2888 can not fetch month =  156\n",
        "list index out of range"
       ]
      },
      {
       "output_type": "stream",
       "stream": "stdout",
       "text": [
        "\n",
        "Error >> 3059 can not fetch month =  156\n",
        "list index out of range"
       ]
      },
      {
       "output_type": "stream",
       "stream": "stdout",
       "text": [
        "\n",
        "Error >> 3054 can not fetch month =  156\n",
        "list index out of range"
       ]
      },
      {
       "output_type": "stream",
       "stream": "stdout",
       "text": [
        "\n",
        "Error >> 2889 can not fetch month =  156\n",
        "list index out of range"
       ]
      },
      {
       "output_type": "stream",
       "stream": "stdout",
       "text": [
        "\n",
        "Error >> 2642 can not fetch month =  156\n",
        "list index out of range"
       ]
      },
      {
       "output_type": "stream",
       "stream": "stdout",
       "text": [
        "\n",
        "Error >> 2915 can not fetch month =  156\n",
        "list index out of range"
       ]
      },
      {
       "output_type": "stream",
       "stream": "stdout",
       "text": [
        "\n",
        "Error >> 3149 can not fetch month =  156\n",
        "list index out of range"
       ]
      },
      {
       "output_type": "stream",
       "stream": "stdout",
       "text": [
        "\n",
        "Error >> 1466 can not fetch month =  156\n",
        "list index out of range"
       ]
      },
      {
       "output_type": "stream",
       "stream": "stdout",
       "text": [
        "\n",
        "Error >> 3504 can not fetch month =  156\n",
        "list index out of range"
       ]
      },
      {
       "output_type": "stream",
       "stream": "stdout",
       "text": [
        "\n",
        "Error >> 2342 can not fetch month =  156\n",
        "list index out of range"
       ]
      },
      {
       "output_type": "stream",
       "stream": "stdout",
       "text": [
        "\n",
        "Error >> 4919 can not fetch month =  156\n",
        "list index out of range"
       ]
      },
      {
       "output_type": "stream",
       "stream": "stdout",
       "text": [
        "\n",
        "Error >> 4916 can not fetch month =  156\n",
        "list index out of range"
       ]
      },
      {
       "output_type": "stream",
       "stream": "stdout",
       "text": [
        "\n",
        "Error >> 4915 can not fetch month =  156\n",
        "list index out of range"
       ]
      },
      {
       "output_type": "stream",
       "stream": "stdout",
       "text": [
        "\n",
        "Error >> 3694 can not fetch month =  156\n",
        "list index out of range"
       ]
      },
      {
       "output_type": "stream",
       "stream": "stdout",
       "text": [
        "\n",
        "Error >> 8201 can not fetch month =  156\n",
        "list index out of range"
       ]
      },
      {
       "output_type": "stream",
       "stream": "stdout",
       "text": [
        "\n",
        "Error >> 6005 can not fetch month =  156\n",
        "list index out of range"
       ]
      },
      {
       "output_type": "stream",
       "stream": "stdout",
       "text": [
        "\n",
        "Error >> 3573 can not fetch month =  156\n",
        "list index out of range"
       ]
      },
      {
       "output_type": "stream",
       "stream": "stdout",
       "text": [
        "\n",
        "Error >> 3167 can not fetch month =  156\n",
        "list index out of range"
       ]
      },
      {
       "output_type": "stream",
       "stream": "stdout",
       "text": [
        "\n",
        "Error >> 3164 can not fetch month =  156\n",
        "list index out of range"
       ]
      },
      {
       "output_type": "stream",
       "stream": "stdout",
       "text": [
        "\n",
        "Error >> 6282 can not fetch month =  156\n",
        "list index out of range"
       ]
      },
      {
       "output_type": "stream",
       "stream": "stdout",
       "text": [
        "\n",
        "Error >> 6283 can not fetch month =  156\n",
        "list index out of range"
       ]
      },
      {
       "output_type": "stream",
       "stream": "stdout",
       "text": [
        "\n",
        "Error >> 2499 can not fetch month =  156\n",
        "list index out of range"
       ]
      },
      {
       "output_type": "stream",
       "stream": "stdout",
       "text": [
        "\n",
        "Error >> 2498 can not fetch month =  156\n",
        "list index out of range"
       ]
      },
      {
       "output_type": "stream",
       "stream": "stdout",
       "text": [
        "\n",
        "Error >> 2491 can not fetch month =  156\n",
        "Get stock no."
       ]
      },
      {
       "output_type": "stream",
       "stream": "stdout",
       "text": [
        " 2493 info for 156 month\n",
        "Get stock no."
       ]
      },
      {
       "output_type": "stream",
       "stream": "stdout",
       "text": [
        " 2492 info for 156 month\n",
        "list index out of range"
       ]
      },
      {
       "output_type": "stream",
       "stream": "stdout",
       "text": [
        "\n",
        "Error >> 2495 can not fetch month =  156\n",
        "list index out of range"
       ]
      },
      {
       "output_type": "stream",
       "stream": "stdout",
       "text": [
        "\n",
        "Error >> 2497 can not fetch month =  156\n",
        "list index out of range"
       ]
      },
      {
       "output_type": "stream",
       "stream": "stdout",
       "text": [
        "\n",
        "Error >> 2496 can not fetch month =  156\n",
        "list index out of range"
       ]
      },
      {
       "output_type": "stream",
       "stream": "stdout",
       "text": [
        "\n",
        "Error >> 1560 can not fetch month =  156\n",
        "Month =  156  : Fetching finished!\n",
        "Fetching Start\n",
        "list index out of range"
       ]
      },
      {
       "output_type": "stream",
       "stream": "stdout",
       "text": [
        "\n",
        "Error >> 0059 can not fetch month =  144\n",
        "list index out of range"
       ]
      },
      {
       "output_type": "stream",
       "stream": "stdout",
       "text": [
        "\n",
        "Error >> 0058 can not fetch month =  144\n",
        "list index out of range"
       ]
      },
      {
       "output_type": "stream",
       "stream": "stdout",
       "text": [
        "\n",
        "Error >> 0053 can not fetch month =  144\n",
        "list index out of range"
       ]
      },
      {
       "output_type": "stream",
       "stream": "stdout",
       "text": [
        "\n",
        "Error >> 0052 can not fetch month =  144\n",
        "list index out of range"
       ]
      },
      {
       "output_type": "stream",
       "stream": "stdout",
       "text": [
        "\n",
        "Error >> 0051 can not fetch month =  144\n",
        "list index out of range"
       ]
      },
      {
       "output_type": "stream",
       "stream": "stdout",
       "text": [
        "\n",
        "Error >> 0050 can not fetch month =  144\n",
        "list index out of range"
       ]
      },
      {
       "output_type": "stream",
       "stream": "stdout",
       "text": [
        "\n",
        "Error >> 0057 can not fetch month =  144\n",
        "list index out of range"
       ]
      },
      {
       "output_type": "stream",
       "stream": "stdout",
       "text": [
        "\n",
        "Error >> 0056 can not fetch month =  144\n",
        "list index out of range"
       ]
      },
      {
       "output_type": "stream",
       "stream": "stdout",
       "text": [
        "\n",
        "Error >> 0055 can not fetch month =  144\n",
        "list index out of range"
       ]
      },
      {
       "output_type": "stream",
       "stream": "stdout",
       "text": [
        "\n",
        "Error >> 0054 can not fetch month =  144\n",
        "list index out of range"
       ]
      },
      {
       "output_type": "stream",
       "stream": "stdout",
       "text": [
        "\n",
        "Error >> 3519 can not fetch month =  144\n",
        "list index out of range"
       ]
      },
      {
       "output_type": "stream",
       "stream": "stdout",
       "text": [
        "\n",
        "Error >> 3518 can not fetch month =  144\n",
        "list index out of range"
       ]
      },
      {
       "output_type": "stream",
       "stream": "stdout",
       "text": [
        "\n",
        "Error >> 8016 can not fetch month =  144\n",
        "list index out of range"
       ]
      },
      {
       "output_type": "stream",
       "stream": "stdout",
       "text": [
        "\n",
        "Error >> 8011 can not fetch month =  144\n",
        "Get stock no."
       ]
      },
      {
       "output_type": "stream",
       "stream": "stdout",
       "text": [
        " 2305 info for 144 month\n",
        "list index out of range"
       ]
      },
      {
       "output_type": "stream",
       "stream": "stdout",
       "text": [
        "\n",
        "Error >> 3622 can not fetch month =  144\n",
        "list index out of range"
       ]
      },
      {
       "output_type": "stream",
       "stream": "stdout",
       "text": [
        "\n",
        "Error >> 4722 can not fetch month =  144\n",
        "list index out of range"
       ]
      },
      {
       "output_type": "stream",
       "stream": "stdout",
       "text": [
        "\n",
        "Error >> 6216 can not fetch month =  144\n",
        "list index out of range"
       ]
      },
      {
       "output_type": "stream",
       "stream": "stdout",
       "text": [
        "\n",
        "Error >> 6215 can not fetch month =  144\n",
        "list index out of range"
       ]
      },
      {
       "output_type": "stream",
       "stream": "stdout",
       "text": [
        "\n",
        "Error >> 6214 can not fetch month =  144\n",
        "list index out of range"
       ]
      },
      {
       "output_type": "stream",
       "stream": "stdout",
       "text": [
        "\n",
        "Error >> 6213 can not fetch month =  144\n",
        "list index out of range"
       ]
      },
      {
       "output_type": "stream",
       "stream": "stdout",
       "text": [
        "\n",
        "Error >> 1762 can not fetch month =  144\n",
        "Get stock no."
       ]
      },
      {
       "output_type": "stream",
       "stream": "stdout",
       "text": [
        " 1540 info for 144 month\n",
        "list index out of range"
       ]
      },
      {
       "output_type": "stream",
       "stream": "stdout",
       "text": [
        "\n",
        "Error >> 1541 can not fetch month =  144\n",
        "list index out of range"
       ]
      },
      {
       "output_type": "stream",
       "stream": "stdout",
       "text": [
        "\n",
        "Error >> 3533 can not fetch month =  144\n",
        "list index out of range"
       ]
      },
      {
       "output_type": "stream",
       "stream": "stdout",
       "text": [
        "\n",
        "Error >> 3532 can not fetch month =  144\n",
        "list index out of range"
       ]
      },
      {
       "output_type": "stream",
       "stream": "stdout",
       "text": [
        "\n",
        "Error >> 3535 can not fetch month =  144\n",
        "list index out of range"
       ]
      },
      {
       "output_type": "stream",
       "stream": "stdout",
       "text": [
        "\n",
        "Error >> 3536 can not fetch month =  144\n",
        "list index out of range"
       ]
      },
      {
       "output_type": "stream",
       "stream": "stdout",
       "text": [
        "\n",
        "Error >> 3515 can not fetch month =  144\n",
        "list index out of range"
       ]
      },
      {
       "output_type": "stream",
       "stream": "stdout",
       "text": [
        "\n",
        "Error >> 3514 can not fetch month =  144\n",
        "list index out of range"
       ]
      },
      {
       "output_type": "stream",
       "stream": "stdout",
       "text": [
        "\n",
        "Error >> 4746 can not fetch month =  144\n",
        "list index out of range"
       ]
      },
      {
       "output_type": "stream",
       "stream": "stdout",
       "text": [
        "\n",
        "Error >> 6184 can not fetch month =  144\n",
        "list index out of range"
       ]
      },
      {
       "output_type": "stream",
       "stream": "stdout",
       "text": [
        "\n",
        "Error >> 6183 can not fetch month =  144\n",
        "list index out of range"
       ]
      },
      {
       "output_type": "stream",
       "stream": "stdout",
       "text": [
        "\n",
        "Error >> 6189 can not fetch month =  144\n",
        "list index out of range"
       ]
      },
      {
       "output_type": "stream",
       "stream": "stdout",
       "text": [
        "\n",
        "Error >> 2727 can not fetch month =  144\n",
        "list index out of range"
       ]
      },
      {
       "output_type": "stream",
       "stream": "stdout",
       "text": [
        "\n",
        "Error >> 2723 can not fetch month =  144\n",
        "list index out of range"
       ]
      },
      {
       "output_type": "stream",
       "stream": "stdout",
       "text": [
        "\n",
        "Error >> 2722 can not fetch month =  144\n",
        "list index out of range"
       ]
      },
      {
       "output_type": "stream",
       "stream": "stdout",
       "text": [
        "\n",
        "Error >> 6235 can not fetch month =  144\n",
        "list index out of range"
       ]
      },
      {
       "output_type": "stream",
       "stream": "stdout",
       "text": [
        "\n",
        "Error >> 5264 can not fetch month =  144\n",
        "list index out of range"
       ]
      },
      {
       "output_type": "stream",
       "stream": "stdout",
       "text": [
        "\n",
        "Error >> 5269 can not fetch month =  144\n",
        "Get stock no."
       ]
      },
      {
       "output_type": "stream",
       "stream": "stdout",
       "text": [
        " 3029 info for 144 month\n",
        "Get stock no."
       ]
      },
      {
       "output_type": "stream",
       "stream": "stdout",
       "text": [
        " 3028 info for 144 month\n",
        "Get stock no."
       ]
      },
      {
       "output_type": "stream",
       "stream": "stdout",
       "text": [
        " 3027 info for 144 month\n",
        "Get stock no."
       ]
      },
      {
       "output_type": "stream",
       "stream": "stdout",
       "text": [
        " 3026 info for 144 month\n",
        "Get stock no."
       ]
      },
      {
       "output_type": "stream",
       "stream": "stdout",
       "text": [
        " 3025 info for 144 month\n",
        "Get stock no."
       ]
      },
      {
       "output_type": "stream",
       "stream": "stdout",
       "text": [
        " 3024 info for 144 month\n",
        "Get stock no."
       ]
      },
      {
       "output_type": "stream",
       "stream": "stdout",
       "text": [
        " 3023 info for 144 month\n",
        "Get stock no."
       ]
      },
      {
       "output_type": "stream",
       "stream": "stdout",
       "text": [
        " 3022 info for 144 month\n",
        "list index out of range"
       ]
      },
      {
       "output_type": "stream",
       "stream": "stdout",
       "text": [
        "\n",
        "Error >> 3021 can not fetch month =  144\n",
        "list index out of range"
       ]
      },
      {
       "output_type": "stream",
       "stream": "stdout",
       "text": [
        "\n",
        "Error >> 5388 can not fetch month =  144\n",
        "list index out of range"
       ]
      },
      {
       "output_type": "stream",
       "stream": "stdout",
       "text": [
        "\n",
        "Error >> 4976 can not fetch month =  144\n",
        "Get stock no."
       ]
      },
      {
       "output_type": "stream",
       "stream": "stdout",
       "text": [
        " 2885 info for 144 month\n",
        "list index out of range"
       ]
      },
      {
       "output_type": "stream",
       "stream": "stdout",
       "text": [
        "\n",
        "Error >> 3474 can not fetch month =  144\n",
        "list index out of range"
       ]
      },
      {
       "output_type": "stream",
       "stream": "stdout",
       "text": [
        "\n",
        "Error >> 3004 can not fetch month =  144\n",
        "Get stock no."
       ]
      },
      {
       "output_type": "stream",
       "stream": "stdout",
       "text": [
        " 3003 info for 144 month\n",
        "Get stock no."
       ]
      },
      {
       "output_type": "stream",
       "stream": "stdout",
       "text": [
        " 3008 info for 144 month\n",
        "list index out of range"
       ]
      },
      {
       "output_type": "stream",
       "stream": "stdout",
       "text": [
        "\n",
        "Error >> 1589 can not fetch month =  144\n",
        "list index out of range"
       ]
      },
      {
       "output_type": "stream",
       "stream": "stdout",
       "text": [
        "\n",
        "Error >> 1582 can not fetch month =  144\n",
        "list index out of range"
       ]
      },
      {
       "output_type": "stream",
       "stream": "stdout",
       "text": [
        "\n",
        "Error >> 1583 can not fetch month =  144\n",
        "list index out of range"
       ]
      },
      {
       "output_type": "stream",
       "stream": "stdout",
       "text": [
        "\n",
        "Error >> 6415 can not fetch month =  144\n",
        "list index out of range"
       ]
      },
      {
       "output_type": "stream",
       "stream": "stdout",
       "text": [
        "\n",
        "Error >> 6412 can not fetch month =  144\n",
        "list index out of range"
       ]
      },
      {
       "output_type": "stream",
       "stream": "stdout",
       "text": [
        "\n",
        "Error >> 3645 can not fetch month =  144\n",
        "list index out of range"
       ]
      },
      {
       "output_type": "stream",
       "stream": "stdout",
       "text": [
        "\n",
        "Error >> 8070 can not fetch month =  144\n",
        "list index out of range"
       ]
      },
      {
       "output_type": "stream",
       "stream": "stdout",
       "text": [
        "\n",
        "Error >> 8072 can not fetch month =  144\n",
        "list index out of range"
       ]
      },
      {
       "output_type": "stream",
       "stream": "stdout",
       "text": [
        "\n",
        "Error >> 1449 can not fetch month =  144\n",
        "list index out of range"
       ]
      },
      {
       "output_type": "stream",
       "stream": "stdout",
       "text": [
        "\n",
        "Error >> 4725 can not fetch month =  144\n",
        "list index out of range"
       ]
      },
      {
       "output_type": "stream",
       "stream": "stdout",
       "text": [
        "\n",
        "Error >> 3705 can not fetch month =  144\n",
        "list index out of range"
       ]
      },
      {
       "output_type": "stream",
       "stream": "stdout",
       "text": [
        "\n",
        "Error >> 6277 can not fetch month =  144\n",
        "list index out of range"
       ]
      },
      {
       "output_type": "stream",
       "stream": "stdout",
       "text": [
        "\n",
        "Error >> 6278 can not fetch month =  144\n",
        "list index out of range"
       ]
      },
      {
       "output_type": "stream",
       "stream": "stdout",
       "text": [
        "\n",
        "Error >> 6115 can not fetch month =  144\n",
        "list index out of range"
       ]
      },
      {
       "output_type": "stream",
       "stream": "stdout",
       "text": [
        "\n",
        "Error >> 5225 can not fetch month =  144\n",
        "list index out of range"
       ]
      },
      {
       "output_type": "stream",
       "stream": "stdout",
       "text": [
        "\n",
        "Error >> 3062 can not fetch month =  144\n",
        "list index out of range"
       ]
      },
      {
       "output_type": "stream",
       "stream": "stdout",
       "text": [
        "\n",
        "Error >> 3061 can not fetch month =  144\n",
        "list index out of range"
       ]
      },
      {
       "output_type": "stream",
       "stream": "stdout",
       "text": [
        "\n",
        "Error >> 3060 can not fetch month =  144\n",
        "list index out of range"
       ]
      },
      {
       "output_type": "stream",
       "stream": "stdout",
       "text": [
        "\n",
        "Error >> 8404 can not fetch month =  144\n",
        "list index out of range"
       ]
      },
      {
       "output_type": "stream",
       "stream": "stdout",
       "text": [
        "\n",
        "Error >> 8374 can not fetch month =  144\n",
        "list index out of range"
       ]
      },
      {
       "output_type": "stream",
       "stream": "stdout",
       "text": [
        "\n",
        "Error >> 3665 can not fetch month =  144\n",
        "list index out of range"
       ]
      },
      {
       "output_type": "stream",
       "stream": "stdout",
       "text": [
        "\n",
        "Error >> 3669 can not fetch month =  144\n",
        "list index out of range"
       ]
      },
      {
       "output_type": "stream",
       "stream": "stdout",
       "text": [
        "\n",
        "Error >> 3593 can not fetch month =  144\n",
        "list index out of range"
       ]
      },
      {
       "output_type": "stream",
       "stream": "stdout",
       "text": [
        "\n",
        "Error >> 3591 can not fetch month =  144\n",
        "list index out of range"
       ]
      },
      {
       "output_type": "stream",
       "stream": "stdout",
       "text": [
        "\n",
        "Error >> 3596 can not fetch month =  144\n",
        "list index out of range"
       ]
      },
      {
       "output_type": "stream",
       "stream": "stdout",
       "text": [
        "\n",
        "Error >> 3598 can not fetch month =  144\n",
        "list index out of range"
       ]
      },
      {
       "output_type": "stream",
       "stream": "stdout",
       "text": [
        "\n",
        "Error >> 8081 can not fetch month =  144\n",
        "list index out of range"
       ]
      },
      {
       "output_type": "stream",
       "stream": "stdout",
       "text": [
        "\n",
        "Error >> 8926 can not fetch month =  144\n",
        "list index out of range"
       ]
      },
      {
       "output_type": "stream",
       "stream": "stdout",
       "text": [
        "\n",
        "Error >> 3406 can not fetch month =  144\n",
        "list index out of range"
       ]
      },
      {
       "output_type": "stream",
       "stream": "stdout",
       "text": [
        "\n",
        "Error >> 3432 can not fetch month =  144\n",
        "list index out of range"
       ]
      },
      {
       "output_type": "stream",
       "stream": "stdout",
       "text": [
        "\n",
        "Error >> 2038 can not fetch month =  144\n",
        "list index out of range"
       ]
      },
      {
       "output_type": "stream",
       "stream": "stdout",
       "text": [
        "\n",
        "Error >> 5203 can not fetch month =  144\n",
        "Get stock no."
       ]
      },
      {
       "output_type": "stream",
       "stream": "stdout",
       "text": [
        " 3049 info for 144 month\n",
        "Get stock no."
       ]
      },
      {
       "output_type": "stream",
       "stream": "stdout",
       "text": [
        " 3048 info for 144 month\n",
        "Get stock no."
       ]
      },
      {
       "output_type": "stream",
       "stream": "stdout",
       "text": [
        " 3041 info for 144 month\n",
        "Get stock no."
       ]
      },
      {
       "output_type": "stream",
       "stream": "stdout",
       "text": [
        " 3040 info for 144 month\n",
        "Get stock no."
       ]
      },
      {
       "output_type": "stream",
       "stream": "stdout",
       "text": [
        " 3043 info for 144 month\n",
        "Get stock no."
       ]
      },
      {
       "output_type": "stream",
       "stream": "stdout",
       "text": [
        " 3042 info for 144 month\n",
        "Get stock no."
       ]
      },
      {
       "output_type": "stream",
       "stream": "stdout",
       "text": [
        " 3045 info for 144 month\n",
        "Get stock no."
       ]
      },
      {
       "output_type": "stream",
       "stream": "stdout",
       "text": [
        " 3044 info for 144 month\n",
        "Get stock no."
       ]
      },
      {
       "output_type": "stream",
       "stream": "stdout",
       "text": [
        " 3047 info for 144 month\n",
        "Get stock no."
       ]
      },
      {
       "output_type": "stream",
       "stream": "stdout",
       "text": [
        " 3046 info for 144 month\n",
        "Get stock no."
       ]
      },
      {
       "output_type": "stream",
       "stream": "stdout",
       "text": [
        " 1326 info for 144 month\n",
        "list index out of range"
       ]
      },
      {
       "output_type": "stream",
       "stream": "stdout",
       "text": [
        "\n",
        "Error >> 8131 can not fetch month =  144\n",
        "list index out of range"
       ]
      },
      {
       "output_type": "stream",
       "stream": "stdout",
       "text": [
        "\n",
        "Error >> 3607 can not fetch month =  144\n",
        "list index out of range"
       ]
      },
      {
       "output_type": "stream",
       "stream": "stdout",
       "text": [
        "\n",
        "Error >> 3605 can not fetch month =  144\n",
        "list index out of range"
       ]
      },
      {
       "output_type": "stream",
       "stream": "stdout",
       "text": [
        "\n",
        "Error >> 3296 can not fetch month =  144\n",
        "list index out of range"
       ]
      },
      {
       "output_type": "stream",
       "stream": "stdout",
       "text": [
        "\n",
        "Error >> 3383 can not fetch month =  144\n",
        "list index out of range"
       ]
      },
      {
       "output_type": "stream",
       "stream": "stdout",
       "text": [
        "\n",
        "Error >> 3380 can not fetch month =  144\n",
        "list index out of range"
       ]
      },
      {
       "output_type": "stream",
       "stream": "stdout",
       "text": [
        "\n",
        "Error >> 5007 can not fetch month =  144\n",
        "list index out of range"
       ]
      },
      {
       "output_type": "stream",
       "stream": "stdout",
       "text": [
        "\n",
        "Error >> 6108 can not fetch month =  144\n",
        "list index out of range"
       ]
      },
      {
       "output_type": "stream",
       "stream": "stdout",
       "text": [
        "\n",
        "Error >> 3419 can not fetch month =  144\n",
        "Get stock no."
       ]
      },
      {
       "output_type": "stream",
       "stream": "stdout",
       "text": [
        " 2886 info for 144 month\n",
        "list index out of range"
       ]
      },
      {
       "output_type": "stream",
       "stream": "stdout",
       "text": [
        "\n",
        "Error >> 9110 can not fetch month =  144\n",
        "list index out of range"
       ]
      },
      {
       "output_type": "stream",
       "stream": "stdout",
       "text": [
        "\n",
        "Error >> 8110 can not fetch month =  144\n",
        "list index out of range"
       ]
      },
      {
       "output_type": "stream",
       "stream": "stdout",
       "text": [
        "\n",
        "Error >> 8114 can not fetch month =  144\n",
        "list index out of range"
       ]
      },
      {
       "output_type": "stream",
       "stream": "stdout",
       "text": [
        "\n",
        "Error >> 5434 can not fetch month =  144\n",
        "list index out of range"
       ]
      },
      {
       "output_type": "stream",
       "stream": "stdout",
       "text": [
        "\n",
        "Error >> 3501 can not fetch month =  144\n",
        "list index out of range"
       ]
      },
      {
       "output_type": "stream",
       "stream": "stdout",
       "text": [
        "\n",
        "Error >> 5880 can not fetch month =  144\n",
        "list index out of range"
       ]
      },
      {
       "output_type": "stream",
       "stream": "stdout",
       "text": [
        "\n",
        "Error >> 4904 can not fetch month =  144\n",
        "list index out of range"
       ]
      },
      {
       "output_type": "stream",
       "stream": "stdout",
       "text": [
        "\n",
        "Error >> 6120 can not fetch month =  144\n",
        "list index out of range"
       ]
      },
      {
       "output_type": "stream",
       "stream": "stdout",
       "text": [
        "\n",
        "Error >> 6128 can not fetch month =  144\n",
        "list index out of range"
       ]
      },
      {
       "output_type": "stream",
       "stream": "stdout",
       "text": [
        "\n",
        "Error >> 3686 can not fetch month =  144\n",
        "list index out of range"
       ]
      },
      {
       "output_type": "stream",
       "stream": "stdout",
       "text": [
        "\n",
        "Error >> 8411 can not fetch month =  144\n",
        "list index out of range"
       ]
      },
      {
       "output_type": "stream",
       "stream": "stdout",
       "text": [
        "\n",
        "Error >> 8940 can not fetch month =  144\n",
        "list index out of range"
       ]
      },
      {
       "output_type": "stream",
       "stream": "stdout",
       "text": [
        "\n",
        "Error >> 1626 can not fetch month =  144\n",
        "list index out of range"
       ]
      },
      {
       "output_type": "stream",
       "stream": "stdout",
       "text": [
        "\n",
        "Error >> 3209 can not fetch month =  144\n",
        "list index out of range"
       ]
      },
      {
       "output_type": "stream",
       "stream": "stdout",
       "text": [
        "\n",
        "Error >> 2867 can not fetch month =  144\n",
        "list index out of range"
       ]
      },
      {
       "output_type": "stream",
       "stream": "stdout",
       "text": [
        "\n",
        "Error >> 9188 can not fetch month =  144\n",
        "list index out of range"
       ]
      },
      {
       "output_type": "stream",
       "stream": "stdout",
       "text": [
        "\n",
        "Error >> 5533 can not fetch month =  144\n",
        "list index out of range"
       ]
      },
      {
       "output_type": "stream",
       "stream": "stdout",
       "text": [
        "\n",
        "Error >> 5531 can not fetch month =  144\n",
        "list index out of range"
       ]
      },
      {
       "output_type": "stream",
       "stream": "stdout",
       "text": [
        "\n",
        "Error >> 5534 can not fetch month =  144\n",
        "list index out of range"
       ]
      },
      {
       "output_type": "stream",
       "stream": "stdout",
       "text": [
        "\n",
        "Error >> 5538 can not fetch month =  144\n",
        "list index out of range"
       ]
      },
      {
       "output_type": "stream",
       "stream": "stdout",
       "text": [
        "\n",
        "Error >> 6142 can not fetch month =  144\n",
        "list index out of range"
       ]
      },
      {
       "output_type": "stream",
       "stream": "stdout",
       "text": [
        "\n",
        "Error >> 6141 can not fetch month =  144\n",
        "list index out of range"
       ]
      },
      {
       "output_type": "stream",
       "stream": "stdout",
       "text": [
        "\n",
        "Error >> 6145 can not fetch month =  144\n",
        "list index out of range"
       ]
      },
      {
       "output_type": "stream",
       "stream": "stdout",
       "text": [
        "\n",
        "Error >> 2059 can not fetch month =  144\n",
        "list index out of range"
       ]
      },
      {
       "output_type": "stream",
       "stream": "stdout",
       "text": [
        "\n",
        "Error >> 4536 can not fetch month =  144\n",
        "list index out of range"
       ]
      },
      {
       "output_type": "stream",
       "stream": "stdout",
       "text": [
        "\n",
        "Error >> 4532 can not fetch month =  144\n",
        "list index out of range"
       ]
      },
      {
       "output_type": "stream",
       "stream": "stdout",
       "text": [
        "\n",
        "Error >> 4958 can not fetch month =  144\n",
        "list index out of range"
       ]
      },
      {
       "output_type": "stream",
       "stream": "stdout",
       "text": [
        "\n",
        "Error >> 3229 can not fetch month =  144\n",
        "list index out of range"
       ]
      },
      {
       "output_type": "stream",
       "stream": "stdout",
       "text": [
        "\n",
        "Error >> 5471 can not fetch month =  144\n",
        "list index out of range"
       ]
      },
      {
       "output_type": "stream",
       "stream": "stdout",
       "text": [
        "\n",
        "Error >> 5515 can not fetch month =  144\n",
        "Get stock no."
       ]
      },
      {
       "output_type": "stream",
       "stream": "stdout",
       "text": [
        " 3035 info for 144 month\n",
        "list index out of range"
       ]
      },
      {
       "output_type": "stream",
       "stream": "stdout",
       "text": [
        "\n",
        "Error >> 6168 can not fetch month =  144\n",
        "list index out of range"
       ]
      },
      {
       "output_type": "stream",
       "stream": "stdout",
       "text": [
        "\n",
        "Error >> 6165 can not fetch month =  144\n",
        "list index out of range"
       ]
      },
      {
       "output_type": "stream",
       "stream": "stdout",
       "text": [
        "\n",
        "Error >> 6164 can not fetch month =  144\n",
        "list index out of range"
       ]
      },
      {
       "output_type": "stream",
       "stream": "stdout",
       "text": [
        "\n",
        "Error >> 6166 can not fetch month =  144\n",
        "list index out of range"
       ]
      },
      {
       "output_type": "stream",
       "stream": "stdout",
       "text": [
        "\n",
        "Error >> 8033 can not fetch month =  144\n",
        "list index out of range"
       ]
      },
      {
       "output_type": "stream",
       "stream": "stdout",
       "text": [
        "\n",
        "Error >> 8039 can not fetch month =  144\n",
        "list index out of range"
       ]
      },
      {
       "output_type": "stream",
       "stream": "stdout",
       "text": [
        "\n",
        "Error >> 6133 can not fetch month =  144\n",
        "Get stock no."
       ]
      },
      {
       "output_type": "stream",
       "stream": "stdout",
       "text": [
        " 9945 info for 144 month\n",
        "list index out of range"
       ]
      },
      {
       "output_type": "stream",
       "stream": "stdout",
       "text": [
        "\n",
        "Error >> 9105 can not fetch month =  144\n",
        "list index out of range"
       ]
      },
      {
       "output_type": "stream",
       "stream": "stdout",
       "text": [
        "\n",
        "Error >> 5706 can not fetch month =  144\n",
        "list index out of range"
       ]
      },
      {
       "output_type": "stream",
       "stream": "stdout",
       "text": [
        "\n",
        "Error >> 4984 can not fetch month =  144\n",
        "list index out of range"
       ]
      },
      {
       "output_type": "stream",
       "stream": "stdout",
       "text": [
        "\n",
        "Error >> 3308 can not fetch month =  144\n",
        "list index out of range"
       ]
      },
      {
       "output_type": "stream",
       "stream": "stdout",
       "text": [
        "\n",
        "Error >> 3305 can not fetch month =  144\n",
        "list index out of range"
       ]
      },
      {
       "output_type": "stream",
       "stream": "stdout",
       "text": [
        "\n",
        "Error >> 8249 can not fetch month =  144\n",
        "list index out of range"
       ]
      },
      {
       "output_type": "stream",
       "stream": "stdout",
       "text": [
        "\n",
        "Error >> 4164 can not fetch month =  144\n",
        "list index out of range"
       ]
      },
      {
       "output_type": "stream",
       "stream": "stdout",
       "text": [
        "\n",
        "Error >> 2231 can not fetch month =  144\n",
        "list index out of range"
       ]
      },
      {
       "output_type": "stream",
       "stream": "stdout",
       "text": [
        "\n",
        "Error >> 8427 can not fetch month =  144\n",
        "list index out of range"
       ]
      },
      {
       "output_type": "stream",
       "stream": "stdout",
       "text": [
        "\n",
        "Error >> 3494 can not fetch month =  144\n",
        "list index out of range"
       ]
      },
      {
       "output_type": "stream",
       "stream": "stdout",
       "text": [
        "\n",
        "Error >> 8422 can not fetch month =  144\n",
        "list index out of range"
       ]
      },
      {
       "output_type": "stream",
       "stream": "stdout",
       "text": [
        "\n",
        "Error >> 3338 can not fetch month =  144\n",
        "list index out of range"
       ]
      },
      {
       "output_type": "stream",
       "stream": "stdout",
       "text": [
        "\n",
        "Error >> 4137 can not fetch month =  144\n",
        "list index out of range"
       ]
      },
      {
       "output_type": "stream",
       "stream": "stdout",
       "text": [
        "\n",
        "Error >> 4960 can not fetch month =  144\n",
        "Get stock no."
       ]
      },
      {
       "output_type": "stream",
       "stream": "stdout",
       "text": [
        " 1203 info for 144 month\n",
        "list index out of range"
       ]
      },
      {
       "output_type": "stream",
       "stream": "stdout",
       "text": [
        "\n",
        "Error >> 8271 can not fetch month =  144\n",
        "list index out of range"
       ]
      },
      {
       "output_type": "stream",
       "stream": "stdout",
       "text": [
        "\n",
        "Error >> 6239 can not fetch month =  144\n",
        "list index out of range"
       ]
      },
      {
       "output_type": "stream",
       "stream": "stdout",
       "text": [
        "\n",
        "Error >> 9802 can not fetch month =  144\n",
        "list index out of range"
       ]
      },
      {
       "output_type": "stream",
       "stream": "stdout",
       "text": [
        "\n",
        "Error >> 6230 can not fetch month =  144\n",
        "list index out of range"
       ]
      },
      {
       "output_type": "stream",
       "stream": "stdout",
       "text": [
        "\n",
        "Error >> 4144 can not fetch month =  144\n",
        "list index out of range"
       ]
      },
      {
       "output_type": "stream",
       "stream": "stdout",
       "text": [
        "\n",
        "Error >> 4141 can not fetch month =  144\n",
        "list index out of range"
       ]
      },
      {
       "output_type": "stream",
       "stream": "stdout",
       "text": [
        "\n",
        "Error >> 4142 can not fetch month =  144\n",
        "Get stock no."
       ]
      },
      {
       "output_type": "stream",
       "stream": "stdout",
       "text": [
        " 9943 info for 144 month\n",
        "list index out of range"
       ]
      },
      {
       "output_type": "stream",
       "stream": "stdout",
       "text": [
        "\n",
        "Error >> 4942 can not fetch month =  144\n",
        "list index out of range"
       ]
      },
      {
       "output_type": "stream",
       "stream": "stdout",
       "text": [
        "\n",
        "Error >> 2114 can not fetch month =  144\n",
        "list index out of range"
       ]
      },
      {
       "output_type": "stream",
       "stream": "stdout",
       "text": [
        "\n",
        "Error >> 8046 can not fetch month =  144\n",
        "list index out of range"
       ]
      },
      {
       "output_type": "stream",
       "stream": "stdout",
       "text": [
        "\n",
        "Error >> 2637 can not fetch month =  144\n",
        "list index out of range"
       ]
      },
      {
       "output_type": "stream",
       "stream": "stdout",
       "text": [
        "\n",
        "Error >> 3545 can not fetch month =  144\n",
        "list index out of range"
       ]
      },
      {
       "output_type": "stream",
       "stream": "stdout",
       "text": [
        "\n",
        "Error >> 3130 can not fetch month =  144\n",
        "list index out of range"
       ]
      },
      {
       "output_type": "stream",
       "stream": "stdout",
       "text": [
        "\n",
        "Error >> 6605 can not fetch month =  144\n",
        "list index out of range"
       ]
      },
      {
       "output_type": "stream",
       "stream": "stdout",
       "text": [
        "\n",
        "Error >> 9946 can not fetch month =  144\n",
        "Get stock no."
       ]
      },
      {
       "output_type": "stream",
       "stream": "stdout",
       "text": [
        " 9944 info for 144 month\n",
        "Get stock no."
       ]
      },
      {
       "output_type": "stream",
       "stream": "stdout",
       "text": [
        " 1539 info for 144 month\n",
        "list index out of range"
       ]
      },
      {
       "output_type": "stream",
       "stream": "stdout",
       "text": [
        "\n",
        "Error >> 4104 can not fetch month =  144\n",
        "list index out of range"
       ]
      },
      {
       "output_type": "stream",
       "stream": "stdout",
       "text": [
        "\n",
        "Error >> 4106 can not fetch month =  144\n",
        "list index out of range"
       ]
      },
      {
       "output_type": "stream",
       "stream": "stdout",
       "text": [
        "\n",
        "Error >> 8210 can not fetch month =  144\n",
        "list index out of range"
       ]
      },
      {
       "output_type": "stream",
       "stream": "stdout",
       "text": [
        "\n",
        "Error >> 8213 can not fetch month =  144\n",
        "list index out of range"
       ]
      },
      {
       "output_type": "stream",
       "stream": "stdout",
       "text": [
        "\n",
        "Error >> 8215 can not fetch month =  144\n",
        "list index out of range"
       ]
      },
      {
       "output_type": "stream",
       "stream": "stdout",
       "text": [
        "\n",
        "Error >> 6243 can not fetch month =  144\n",
        "list index out of range"
       ]
      },
      {
       "output_type": "stream",
       "stream": "stdout",
       "text": [
        "\n",
        "Error >> 1516 can not fetch month =  144\n",
        "list index out of range"
       ]
      },
      {
       "output_type": "stream",
       "stream": "stdout",
       "text": [
        "\n",
        "Error >> 2923 can not fetch month =  144\n",
        "list index out of range"
       ]
      },
      {
       "output_type": "stream",
       "stream": "stdout",
       "text": [
        "\n",
        "Error >> 4733 can not fetch month =  144\n",
        "list index out of range"
       ]
      },
      {
       "output_type": "stream",
       "stream": "stdout",
       "text": [
        "\n",
        "Error >> 4737 can not fetch month =  144\n",
        "list index out of range"
       ]
      },
      {
       "output_type": "stream",
       "stream": "stdout",
       "text": [
        "\n",
        "Error >> 6205 can not fetch month =  144\n",
        "list index out of range"
       ]
      },
      {
       "output_type": "stream",
       "stream": "stdout",
       "text": [
        "\n",
        "Error >> 6206 can not fetch month =  144\n",
        "list index out of range"
       ]
      },
      {
       "output_type": "stream",
       "stream": "stdout",
       "text": [
        "\n",
        "Error >> 6201 can not fetch month =  144\n",
        "list index out of range"
       ]
      },
      {
       "output_type": "stream",
       "stream": "stdout",
       "text": [
        "\n",
        "Error >> 6202 can not fetch month =  144\n",
        "list index out of range"
       ]
      },
      {
       "output_type": "stream",
       "stream": "stdout",
       "text": [
        "\n",
        "Error >> 6209 can not fetch month =  144\n",
        "Get stock no."
       ]
      },
      {
       "output_type": "stream",
       "stream": "stdout",
       "text": [
        " 2887 info for 144 month\n",
        "list index out of range"
       ]
      },
      {
       "output_type": "stream",
       "stream": "stdout",
       "text": [
        "\n",
        "Error >> 3698 can not fetch month =  144\n",
        "list index out of range"
       ]
      },
      {
       "output_type": "stream",
       "stream": "stdout",
       "text": [
        "\n",
        "Error >> 0060 can not fetch month =  144\n",
        "list index out of range"
       ]
      },
      {
       "output_type": "stream",
       "stream": "stdout",
       "text": [
        "\n",
        "Error >> 0061 can not fetch month =  144\n",
        "list index out of range"
       ]
      },
      {
       "output_type": "stream",
       "stream": "stdout",
       "text": [
        "\n",
        "Error >> 2528 can not fetch month =  144\n",
        "list index out of range"
       ]
      },
      {
       "output_type": "stream",
       "stream": "stdout",
       "text": [
        "\n",
        "Error >> 8021 can not fetch month =  144\n",
        "list index out of range"
       ]
      },
      {
       "output_type": "stream",
       "stream": "stdout",
       "text": [
        "\n",
        "Error >> 4755 can not fetch month =  144\n",
        "list index out of range"
       ]
      },
      {
       "output_type": "stream",
       "stream": "stdout",
       "text": [
        "\n",
        "Error >> 5871 can not fetch month =  144\n",
        "list index out of range"
       ]
      },
      {
       "output_type": "stream",
       "stream": "stdout",
       "text": [
        "\n",
        "Error >> 6196 can not fetch month =  144\n",
        "list index out of range"
       ]
      },
      {
       "output_type": "stream",
       "stream": "stdout",
       "text": [
        "\n",
        "Error >> 6197 can not fetch month =  144\n",
        "list index out of range"
       ]
      },
      {
       "output_type": "stream",
       "stream": "stdout",
       "text": [
        "\n",
        "Error >> 6191 can not fetch month =  144\n",
        "list index out of range"
       ]
      },
      {
       "output_type": "stream",
       "stream": "stdout",
       "text": [
        "\n",
        "Error >> 6192 can not fetch month =  144\n",
        "list index out of range"
       ]
      },
      {
       "output_type": "stream",
       "stream": "stdout",
       "text": [
        "\n",
        "Error >> 2731 can not fetch month =  144\n",
        "list index out of range"
       ]
      },
      {
       "output_type": "stream",
       "stream": "stdout",
       "text": [
        "\n",
        "Error >> 6226 can not fetch month =  144\n",
        "list index out of range"
       ]
      },
      {
       "output_type": "stream",
       "stream": "stdout",
       "text": [
        "\n",
        "Error >> 6224 can not fetch month =  144\n",
        "list index out of range"
       ]
      },
      {
       "output_type": "stream",
       "stream": "stdout",
       "text": [
        "\n",
        "Error >> 6225 can not fetch month =  144\n",
        "list index out of range"
       ]
      },
      {
       "output_type": "stream",
       "stream": "stdout",
       "text": [
        "\n",
        "Error >> 1773 can not fetch month =  144\n",
        "Get stock no."
       ]
      },
      {
       "output_type": "stream",
       "stream": "stdout",
       "text": [
        " 3038 info for 144 month\n",
        "Get stock no."
       ]
      },
      {
       "output_type": "stream",
       "stream": "stdout",
       "text": [
        " 3034 info for 144 month\n",
        "Get stock no."
       ]
      },
      {
       "output_type": "stream",
       "stream": "stdout",
       "text": [
        " 3036 info for 144 month\n",
        "Get stock no."
       ]
      },
      {
       "output_type": "stream",
       "stream": "stdout",
       "text": [
        " 3037 info for 144 month\n",
        "Get stock no."
       ]
      },
      {
       "output_type": "stream",
       "stream": "stdout",
       "text": [
        " 3030 info for 144 month\n",
        "Get stock no."
       ]
      },
      {
       "output_type": "stream",
       "stream": "stdout",
       "text": [
        " 3031 info for 144 month\n",
        "Get stock no."
       ]
      },
      {
       "output_type": "stream",
       "stream": "stdout",
       "text": [
        " 3032 info for 144 month\n",
        "Get stock no."
       ]
      },
      {
       "output_type": "stream",
       "stream": "stdout",
       "text": [
        " 3033 info for 144 month\n",
        "list index out of range"
       ]
      },
      {
       "output_type": "stream",
       "stream": "stdout",
       "text": [
        "\n",
        "Error >> 5607 can not fetch month =  144\n",
        "list index out of range"
       ]
      },
      {
       "output_type": "stream",
       "stream": "stdout",
       "text": [
        "\n",
        "Error >> 5608 can not fetch month =  144\n",
        "list index out of range"
       ]
      },
      {
       "output_type": "stream",
       "stream": "stdout",
       "text": [
        "\n",
        "Error >> 6257 can not fetch month =  144\n",
        "list index out of range"
       ]
      },
      {
       "output_type": "stream",
       "stream": "stdout",
       "text": [
        "\n",
        "Error >> 0080 can not fetch month =  144\n",
        "list index out of range"
       ]
      },
      {
       "output_type": "stream",
       "stream": "stdout",
       "text": [
        "\n",
        "Error >> 0081 can not fetch month =  144\n",
        "list index out of range"
       ]
      },
      {
       "output_type": "stream",
       "stream": "stdout",
       "text": [
        "\n",
        "Error >> 3704 can not fetch month =  144\n",
        "list index out of range"
       ]
      },
      {
       "output_type": "stream",
       "stream": "stdout",
       "text": [
        "\n",
        "Error >> 4119 can not fetch month =  144\n",
        "list index out of range"
       ]
      },
      {
       "output_type": "stream",
       "stream": "stdout",
       "text": [
        "\n",
        "Error >> 2712 can not fetch month =  144\n",
        "list index out of range"
       ]
      },
      {
       "output_type": "stream",
       "stream": "stdout",
       "text": [
        "\n",
        "Error >> 6251 can not fetch month =  144\n",
        "Get stock no."
       ]
      },
      {
       "output_type": "stream",
       "stream": "stdout",
       "text": [
        " 3018 info for 144 month\n",
        "Get stock no."
       ]
      },
      {
       "output_type": "stream",
       "stream": "stdout",
       "text": [
        " 3019 info for 144 month\n",
        "Get stock no."
       ]
      },
      {
       "output_type": "stream",
       "stream": "stdout",
       "text": [
        " 3013 info for 144 month\n",
        "Get stock no."
       ]
      },
      {
       "output_type": "stream",
       "stream": "stdout",
       "text": [
        " 3010 info for 144 month\n",
        "Get stock no."
       ]
      },
      {
       "output_type": "stream",
       "stream": "stdout",
       "text": [
        " 3011 info for 144 month\n",
        "Get stock no."
       ]
      },
      {
       "output_type": "stream",
       "stream": "stdout",
       "text": [
        " 3016 info for 144 month\n",
        "Get stock no."
       ]
      },
      {
       "output_type": "stream",
       "stream": "stdout",
       "text": [
        " 3017 info for 144 month\n",
        "Get stock no."
       ]
      },
      {
       "output_type": "stream",
       "stream": "stdout",
       "text": [
        " 3014 info for 144 month\n",
        "Get stock no."
       ]
      },
      {
       "output_type": "stream",
       "stream": "stdout",
       "text": [
        " 3015 info for 144 month\n",
        "list index out of range"
       ]
      },
      {
       "output_type": "stream",
       "stream": "stdout",
       "text": [
        "\n",
        "Error >> 6405 can not fetch month =  144\n",
        "list index out of range"
       ]
      },
      {
       "output_type": "stream",
       "stream": "stdout",
       "text": [
        "\n",
        "Error >> 9955 can not fetch month =  144\n",
        "list index out of range"
       ]
      },
      {
       "output_type": "stream",
       "stream": "stdout",
       "text": [
        "\n",
        "Error >> 3653 can not fetch month =  144\n",
        "list index out of range"
       ]
      },
      {
       "output_type": "stream",
       "stream": "stdout",
       "text": [
        "\n",
        "Error >> 5243 can not fetch month =  144\n",
        "Get stock no."
       ]
      },
      {
       "output_type": "stream",
       "stream": "stdout",
       "text": [
        " 3005 info for 144 month\n",
        "Get stock no."
       ]
      },
      {
       "output_type": "stream",
       "stream": "stdout",
       "text": [
        " 3006 info for 144 month\n",
        "Get stock no."
       ]
      },
      {
       "output_type": "stream",
       "stream": "stdout",
       "text": [
        " 1735 info for 144 month\n",
        "Get stock no."
       ]
      },
      {
       "output_type": "stream",
       "stream": "stdout",
       "text": [
        " 1734 info for 144 month\n",
        "Get stock no."
       ]
      },
      {
       "output_type": "stream",
       "stream": "stdout",
       "text": [
        " 1736 info for 144 month\n",
        "list index out of range"
       ]
      },
      {
       "output_type": "stream",
       "stream": "stdout",
       "text": [
        "\n",
        "Error >> 3673 can not fetch month =  144\n",
        "Get stock no."
       ]
      },
      {
       "output_type": "stream",
       "stream": "stdout",
       "text": [
        " 2891 info for 144 month\n",
        "Get stock no."
       ]
      },
      {
       "output_type": "stream",
       "stream": "stdout",
       "text": [
        " 2890 info for 144 month\n",
        "list index out of range"
       ]
      },
      {
       "output_type": "stream",
       "stream": "stdout",
       "text": [
        "\n",
        "Error >> 3679 can not fetch month =  144\n",
        "Get stock no."
       ]
      },
      {
       "output_type": "stream",
       "stream": "stdout",
       "text": [
        " 2548 info for 144 month\n",
        "list index out of range"
       ]
      },
      {
       "output_type": "stream",
       "stream": "stdout",
       "text": [
        "\n",
        "Error >> 3557 can not fetch month =  144\n",
        "list index out of range"
       ]
      },
      {
       "output_type": "stream",
       "stream": "stdout",
       "text": [
        "\n",
        "Error >> 3583 can not fetch month =  144\n",
        "list index out of range"
       ]
      },
      {
       "output_type": "stream",
       "stream": "stdout",
       "text": [
        "\n",
        "Error >> 3588 can not fetch month =  144\n",
        "list index out of range"
       ]
      },
      {
       "output_type": "stream",
       "stream": "stdout",
       "text": [
        "\n",
        "Error >> 3550 can not fetch month =  144\n",
        "list index out of range"
       ]
      },
      {
       "output_type": "stream",
       "stream": "stdout",
       "text": [
        "\n",
        "Error >> 4426 can not fetch month =  144\n",
        "list index out of range"
       ]
      },
      {
       "output_type": "stream",
       "stream": "stdout",
       "text": [
        "\n",
        "Error >> 3559 can not fetch month =  144\n",
        "Get stock no."
       ]
      },
      {
       "output_type": "stream",
       "stream": "stdout",
       "text": [
        " 1477 info for 144 month\n",
        "list index out of range"
       ]
      },
      {
       "output_type": "stream",
       "stream": "stdout",
       "text": [
        "\n",
        "Error >> 1817 can not fetch month =  144\n",
        "list index out of range"
       ]
      },
      {
       "output_type": "stream",
       "stream": "stdout",
       "text": [
        "\n",
        "Error >> 5305 can not fetch month =  144\n",
        "list index out of range"
       ]
      },
      {
       "output_type": "stream",
       "stream": "stdout",
       "text": [
        "\n",
        "Error >> 6285 can not fetch month =  144\n",
        "list index out of range"
       ]
      },
      {
       "output_type": "stream",
       "stream": "stdout",
       "text": [
        "\n",
        "Error >> 6286 can not fetch month =  144\n",
        "list index out of range"
       ]
      },
      {
       "output_type": "stream",
       "stream": "stdout",
       "text": [
        "\n",
        "Error >> 6281 can not fetch month =  144\n",
        "list index out of range"
       ]
      },
      {
       "output_type": "stream",
       "stream": "stdout",
       "text": [
        "\n",
        "Error >> 3443 can not fetch month =  144\n",
        "Get stock no."
       ]
      },
      {
       "output_type": "stream",
       "stream": "stdout",
       "text": [
        " 2024 info for 144 month\n",
        "list index out of range"
       ]
      },
      {
       "output_type": "stream",
       "stream": "stdout",
       "text": [
        "\n",
        "Error >> 5215 can not fetch month =  144\n",
        "Get stock no."
       ]
      },
      {
       "output_type": "stream",
       "stream": "stdout",
       "text": [
        " 3058 info for 144 month\n",
        "list index out of range"
       ]
      },
      {
       "output_type": "stream",
       "stream": "stdout",
       "text": [
        "\n",
        "Error >> 3056 can not fetch month =  144\n",
        "Get stock no."
       ]
      },
      {
       "output_type": "stream",
       "stream": "stdout",
       "text": [
        " 3057 info for 144 month\n",
        "Get stock no."
       ]
      },
      {
       "output_type": "stream",
       "stream": "stdout",
       "text": [
        " 3055 info for 144 month\n",
        "Get stock no."
       ]
      },
      {
       "output_type": "stream",
       "stream": "stdout",
       "text": [
        " 3052 info for 144 month\n",
        "Get stock no."
       ]
      },
      {
       "output_type": "stream",
       "stream": "stdout",
       "text": [
        " 3050 info for 144 month\n",
        "Get stock no."
       ]
      },
      {
       "output_type": "stream",
       "stream": "stdout",
       "text": [
        " 3051 info for 144 month\n",
        "list index out of range"
       ]
      },
      {
       "output_type": "stream",
       "stream": "stdout",
       "text": [
        "\n",
        "Error >> 6702 can not fetch month =  144\n",
        "list index out of range"
       ]
      },
      {
       "output_type": "stream",
       "stream": "stdout",
       "text": [
        "\n",
        "Error >> 3617 can not fetch month =  144\n",
        "list index out of range"
       ]
      },
      {
       "output_type": "stream",
       "stream": "stdout",
       "text": [
        "\n",
        "Error >> 3090 can not fetch month =  144\n",
        "list index out of range"
       ]
      },
      {
       "output_type": "stream",
       "stream": "stdout",
       "text": [
        "\n",
        "Error >> 3094 can not fetch month =  144\n",
        "list index out of range"
       ]
      },
      {
       "output_type": "stream",
       "stream": "stdout",
       "text": [
        "\n",
        "Error >> 3231 can not fetch month =  144\n",
        "Get stock no."
       ]
      },
      {
       "output_type": "stream",
       "stream": "stdout",
       "text": [
        " 1538 info for 144 month\n",
        "list index out of range"
       ]
      },
      {
       "output_type": "stream",
       "stream": "stdout",
       "text": [
        "\n",
        "Error >> 4108 can not fetch month =  144\n",
        "list index out of range"
       ]
      },
      {
       "output_type": "stream",
       "stream": "stdout",
       "text": [
        "\n",
        "Error >> 6116 can not fetch month =  144\n",
        "list index out of range"
       ]
      },
      {
       "output_type": "stream",
       "stream": "stdout",
       "text": [
        "\n",
        "Error >> 6117 can not fetch month =  144\n",
        "list index out of range"
       ]
      },
      {
       "output_type": "stream",
       "stream": "stdout",
       "text": [
        "\n",
        "Error >> 6112 can not fetch month =  144\n",
        "list index out of range"
       ]
      },
      {
       "output_type": "stream",
       "stream": "stdout",
       "text": [
        "\n",
        "Error >> 9106 can not fetch month =  144\n",
        "Get stock no."
       ]
      },
      {
       "output_type": "stream",
       "stream": "stdout",
       "text": [
        " 9103 info for 144 month\n",
        "list index out of range"
       ]
      },
      {
       "output_type": "stream",
       "stream": "stdout",
       "text": [
        "\n",
        "Error >> 4414 can not fetch month =  144\n",
        "list index out of range"
       ]
      },
      {
       "output_type": "stream",
       "stream": "stdout",
       "text": [
        "\n",
        "Error >> 6269 can not fetch month =  144\n",
        "list index out of range"
       ]
      },
      {
       "output_type": "stream",
       "stream": "stdout",
       "text": [
        "\n",
        "Error >> 1339 can not fetch month =  144\n",
        "list index out of range"
       ]
      },
      {
       "output_type": "stream",
       "stream": "stdout",
       "text": [
        "\n",
        "Error >> 1338 can not fetch month =  144\n",
        "list index out of range"
       ]
      },
      {
       "output_type": "stream",
       "stream": "stdout",
       "text": [
        "\n",
        "Error >> 1337 can not fetch month =  144\n",
        "Get stock no."
       ]
      },
      {
       "output_type": "stream",
       "stream": "stdout",
       "text": [
        " 2892 info for 144 month\n",
        "list index out of range"
       ]
      },
      {
       "output_type": "stream",
       "stream": "stdout",
       "text": [
        "\n",
        "Error >> 3638 can not fetch month =  144\n",
        "list index out of range"
       ]
      },
      {
       "output_type": "stream",
       "stream": "stdout",
       "text": [
        "\n",
        "Error >> 1432 can not fetch month =  144\n",
        "list index out of range"
       ]
      },
      {
       "output_type": "stream",
       "stream": "stdout",
       "text": [
        "\n",
        "Error >> 5234 can not fetch month =  144\n",
        "list index out of range"
       ]
      },
      {
       "output_type": "stream",
       "stream": "stdout",
       "text": [
        "\n",
        "Error >> 3703 can not fetch month =  144\n",
        "list index out of range"
       ]
      },
      {
       "output_type": "stream",
       "stream": "stdout",
       "text": [
        "\n",
        "Error >> 3701 can not fetch month =  144\n",
        "list index out of range"
       ]
      },
      {
       "output_type": "stream",
       "stream": "stdout",
       "text": [
        "\n",
        "Error >> 3706 can not fetch month =  144\n",
        "list index out of range"
       ]
      },
      {
       "output_type": "stream",
       "stream": "stdout",
       "text": [
        "\n",
        "Error >> 6139 can not fetch month =  144\n",
        "list index out of range"
       ]
      },
      {
       "output_type": "stream",
       "stream": "stdout",
       "text": [
        "\n",
        "Error >> 6131 can not fetch month =  144\n",
        "list index out of range"
       ]
      },
      {
       "output_type": "stream",
       "stream": "stdout",
       "text": [
        "\n",
        "Error >> 6136 can not fetch month =  144\n",
        "list index out of range"
       ]
      },
      {
       "output_type": "stream",
       "stream": "stdout",
       "text": [
        "\n",
        "Error >> 1590 can not fetch month =  144\n",
        "list index out of range"
       ]
      },
      {
       "output_type": "stream",
       "stream": "stdout",
       "text": [
        "\n",
        "Error >> 2062 can not fetch month =  144\n",
        "list index out of range"
       ]
      },
      {
       "output_type": "stream",
       "stream": "stdout",
       "text": [
        "\n",
        "Error >> 3257 can not fetch month =  144\n",
        "list index out of range"
       ]
      },
      {
       "output_type": "stream",
       "stream": "stdout",
       "text": [
        "\n",
        "Error >> 8078 can not fetch month =  144\n",
        "list index out of range"
       ]
      },
      {
       "output_type": "stream",
       "stream": "stdout",
       "text": [
        "\n",
        "Error >> 8105 can not fetch month =  144\n",
        "list index out of range"
       ]
      },
      {
       "output_type": "stream",
       "stream": "stdout",
       "text": [
        "\n",
        "Error >> 8101 can not fetch month =  144\n",
        "list index out of range"
       ]
      },
      {
       "output_type": "stream",
       "stream": "stdout",
       "text": [
        "\n",
        "Error >> 8103 can not fetch month =  144\n",
        "list index out of range"
       ]
      },
      {
       "output_type": "stream",
       "stream": "stdout",
       "text": [
        "\n",
        "Error >> 3189 can not fetch month =  144\n",
        "list index out of range"
       ]
      },
      {
       "output_type": "stream",
       "stream": "stdout",
       "text": [
        "\n",
        "Error >> 3561 can not fetch month =  144\n",
        "list index out of range"
       ]
      },
      {
       "output_type": "stream",
       "stream": "stdout",
       "text": [
        "\n",
        "Error >> 2812 can not fetch month =  144\n",
        "list index out of range"
       ]
      },
      {
       "output_type": "stream",
       "stream": "stdout",
       "text": [
        "\n",
        "Error >> 3376 can not fetch month =  144\n",
        "list index out of range"
       ]
      },
      {
       "output_type": "stream",
       "stream": "stdout",
       "text": [
        "\n",
        "Error >> 5521 can not fetch month =  144\n",
        "list index out of range"
       ]
      },
      {
       "output_type": "stream",
       "stream": "stdout",
       "text": [
        "\n",
        "Error >> 5522 can not fetch month =  144\n",
        "list index out of range"
       ]
      },
      {
       "output_type": "stream",
       "stream": "stdout",
       "text": [
        "\n",
        "Error >> 5525 can not fetch month =  144\n",
        "list index out of range"
       ]
      },
      {
       "output_type": "stream",
       "stream": "stdout",
       "text": [
        "\n",
        "Error >> 6152 can not fetch month =  144\n",
        "list index out of range"
       ]
      },
      {
       "output_type": "stream",
       "stream": "stdout",
       "text": [
        "\n",
        "Error >> 6153 can not fetch month =  144\n",
        "list index out of range"
       ]
      },
      {
       "output_type": "stream",
       "stream": "stdout",
       "text": [
        "\n",
        "Error >> 6155 can not fetch month =  144\n",
        "list index out of range"
       ]
      },
      {
       "output_type": "stream",
       "stream": "stdout",
       "text": [
        "\n",
        "Error >> 2049 can not fetch month =  144\n",
        "list index out of range"
       ]
      },
      {
       "output_type": "stream",
       "stream": "stdout",
       "text": [
        "\n",
        "Error >> 3697 can not fetch month =  144\n",
        "list index out of range"
       ]
      },
      {
       "output_type": "stream",
       "stream": "stdout",
       "text": [
        "\n",
        "Error >> 8163 can not fetch month =  144\n",
        "list index out of range"
       ]
      },
      {
       "output_type": "stream",
       "stream": "stdout",
       "text": [
        "\n",
        "Error >> 3450 can not fetch month =  144\n",
        "list index out of range"
       ]
      },
      {
       "output_type": "stream",
       "stream": "stdout",
       "text": [
        "\n",
        "Error >> 3454 can not fetch month =  144\n",
        "list index out of range"
       ]
      },
      {
       "output_type": "stream",
       "stream": "stdout",
       "text": [
        "\n",
        "Error >> 3356 can not fetch month =  144\n",
        "list index out of range"
       ]
      },
      {
       "output_type": "stream",
       "stream": "stdout",
       "text": [
        "\n",
        "Error >> 3682 can not fetch month =  144\n",
        "list index out of range"
       ]
      },
      {
       "output_type": "stream",
       "stream": "stdout",
       "text": [
        "\n",
        "Error >> 9157 can not fetch month =  144\n",
        "list index out of range"
       ]
      },
      {
       "output_type": "stream",
       "stream": "stdout",
       "text": [
        "\n",
        "Error >> 3584 can not fetch month =  144\n",
        "list index out of range"
       ]
      },
      {
       "output_type": "stream",
       "stream": "stdout",
       "text": [
        "\n",
        "Error >> 6176 can not fetch month =  144\n",
        "list index out of range"
       ]
      },
      {
       "output_type": "stream",
       "stream": "stdout",
       "text": [
        "\n",
        "Error >> 6177 can not fetch month =  144\n",
        "list index out of range"
       ]
      },
      {
       "output_type": "stream",
       "stream": "stdout",
       "text": [
        "\n",
        "Error >> 6172 can not fetch month =  144\n",
        "list index out of range"
       ]
      },
      {
       "output_type": "stream",
       "stream": "stdout",
       "text": [
        "\n",
        "Error >> 2208 can not fetch month =  144\n",
        "list index out of range"
       ]
      },
      {
       "output_type": "stream",
       "stream": "stdout",
       "text": [
        "\n",
        "Error >> 6271 can not fetch month =  144\n",
        "list index out of range"
       ]
      },
      {
       "output_type": "stream",
       "stream": "stdout",
       "text": [
        "\n",
        "Error >> 4526 can not fetch month =  144\n",
        "list index out of range"
       ]
      },
      {
       "output_type": "stream",
       "stream": "stdout",
       "text": [
        "\n",
        "Error >> 4999 can not fetch month =  144\n",
        "Get stock no."
       ]
      },
      {
       "output_type": "stream",
       "stream": "stdout",
       "text": [
        " 2855 info for 144 month\n",
        "Get stock no."
       ]
      },
      {
       "output_type": "stream",
       "stream": "stdout",
       "text": [
        " 2856 info for 144 month\n",
        "list index out of range"
       ]
      },
      {
       "output_type": "stream",
       "stream": "stdout",
       "text": [
        "\n",
        "Error >> 5469 can not fetch month =  144\n",
        "list index out of range"
       ]
      },
      {
       "output_type": "stream",
       "stream": "stdout",
       "text": [
        "\n",
        "Error >> 5484 can not fetch month =  144\n",
        "list index out of range"
       ]
      },
      {
       "output_type": "stream",
       "stream": "stdout",
       "text": [
        "\n",
        "Error >> 6505 can not fetch month =  144\n",
        "list index out of range"
       ]
      },
      {
       "output_type": "stream",
       "stream": "stdout",
       "text": [
        "\n",
        "Error >> 6504 can not fetch month =  144\n",
        "list index out of range"
       ]
      },
      {
       "output_type": "stream",
       "stream": "stdout",
       "text": [
        "\n",
        "Error >> 4906 can not fetch month =  144\n",
        "list index out of range"
       ]
      },
      {
       "output_type": "stream",
       "stream": "stdout",
       "text": [
        "\n",
        "Error >> 9136 can not fetch month =  144\n",
        "list index out of range"
       ]
      },
      {
       "output_type": "stream",
       "stream": "stdout",
       "text": [
        "\n",
        "Error >> 2228 can not fetch month =  144\n",
        "list index out of range"
       ]
      },
      {
       "output_type": "stream",
       "stream": "stdout",
       "text": [
        "\n",
        "Error >> 2227 can not fetch month =  144\n",
        "list index out of range"
       ]
      },
      {
       "output_type": "stream",
       "stream": "stdout",
       "text": [
        "\n",
        "Error >> 8112 can not fetch month =  144\n",
        "list index out of range"
       ]
      },
      {
       "output_type": "stream",
       "stream": "stdout",
       "text": [
        "\n",
        "Error >> 3579 can not fetch month =  144\n",
        "list index out of range"
       ]
      },
      {
       "output_type": "stream",
       "stream": "stdout",
       "text": [
        "\n",
        "Error >> 3576 can not fetch month =  144\n",
        "list index out of range"
       ]
      },
      {
       "output_type": "stream",
       "stream": "stdout",
       "text": [
        "\n",
        "Error >> 9958 can not fetch month =  144\n",
        "list index out of range"
       ]
      },
      {
       "output_type": "stream",
       "stream": "stdout",
       "text": [
        "\n",
        "Error >> 4977 can not fetch month =  144\n",
        "list index out of range"
       ]
      },
      {
       "output_type": "stream",
       "stream": "stdout",
       "text": [
        "\n",
        "Error >> 3311 can not fetch month =  144\n",
        "list index out of range"
       ]
      },
      {
       "output_type": "stream",
       "stream": "stdout",
       "text": [
        "\n",
        "Error >> 3312 can not fetch month =  144\n",
        "list index out of range"
       ]
      },
      {
       "output_type": "stream",
       "stream": "stdout",
       "text": [
        "\n",
        "Error >> 3315 can not fetch month =  144\n",
        "list index out of range"
       ]
      },
      {
       "output_type": "stream",
       "stream": "stdout",
       "text": [
        "\n",
        "Error >> 8261 can not fetch month =  144\n",
        "list index out of range"
       ]
      },
      {
       "output_type": "stream",
       "stream": "stdout",
       "text": [
        "\n",
        "Error >> 5906 can not fetch month =  144\n",
        "list index out of range"
       ]
      },
      {
       "output_type": "stream",
       "stream": "stdout",
       "text": [
        "\n",
        "Error >> 5907 can not fetch month =  144\n",
        "list index out of range"
       ]
      },
      {
       "output_type": "stream",
       "stream": "stdout",
       "text": [
        "\n",
        "Error >> 3481 can not fetch month =  144\n",
        "list index out of range"
       ]
      },
      {
       "output_type": "stream",
       "stream": "stdout",
       "text": [
        "\n",
        "Error >> 5280 can not fetch month =  144\n",
        "Get stock no."
       ]
      },
      {
       "output_type": "stream",
       "stream": "stdout",
       "text": [
        " 2601 info for 144 month\n",
        "list index out of range"
       ]
      },
      {
       "output_type": "stream",
       "stream": "stdout",
       "text": [
        "\n",
        "Error >> 4952 can not fetch month =  144\n",
        "list index out of range"
       ]
      },
      {
       "output_type": "stream",
       "stream": "stdout",
       "text": [
        "\n",
        "Error >> 4956 can not fetch month =  144\n",
        "list index out of range"
       ]
      },
      {
       "output_type": "stream",
       "stream": "stdout",
       "text": [
        "\n",
        "Error >> 8429 can not fetch month =  144\n",
        "list index out of range"
       ]
      },
      {
       "output_type": "stream",
       "stream": "stdout",
       "text": [
        "\n",
        "Error >> 4133 can not fetch month =  144\n",
        "list index out of range"
       ]
      },
      {
       "output_type": "stream",
       "stream": "stdout",
       "text": [
        "\n",
        "Error >> 6289 can not fetch month =  144\n",
        "list index out of range"
       ]
      },
      {
       "output_type": "stream",
       "stream": "stdout",
       "text": [
        "\n",
        "Error >> 2597 can not fetch month =  144\n",
        "list index out of range"
       ]
      },
      {
       "output_type": "stream",
       "stream": "stdout",
       "text": [
        "\n",
        "Error >> 4306 can not fetch month =  144\n",
        "list index out of range"
       ]
      },
      {
       "output_type": "stream",
       "stream": "stdout",
       "text": [
        "\n",
        "Error >> 2361 can not fetch month =  144\n",
        "list index out of range"
       ]
      },
      {
       "output_type": "stream",
       "stream": "stdout",
       "text": [
        "\n",
        "Error >> 4930 can not fetch month =  144\n",
        "list index out of range"
       ]
      },
      {
       "output_type": "stream",
       "stream": "stdout",
       "text": [
        "\n",
        "Error >> 4934 can not fetch month =  144\n",
        "list index out of range"
       ]
      },
      {
       "output_type": "stream",
       "stream": "stdout",
       "text": [
        "\n",
        "Error >> 4935 can not fetch month =  144\n",
        "list index out of range"
       ]
      },
      {
       "output_type": "stream",
       "stream": "stdout",
       "text": [
        "\n",
        "Error >> 4938 can not fetch month =  144\n",
        "list index out of range"
       ]
      },
      {
       "output_type": "stream",
       "stream": "stdout",
       "text": [
        "\n",
        "Error >> 3702 can not fetch month =  144\n",
        "list index out of range"
       ]
      },
      {
       "output_type": "stream",
       "stream": "stdout",
       "text": [
        "\n",
        "Error >> 1789 can not fetch month =  144\n",
        "list index out of range"
       ]
      },
      {
       "output_type": "stream",
       "stream": "stdout",
       "text": [
        "\n",
        "Error >> 1786 can not fetch month =  144\n",
        "list index out of range"
       ]
      },
      {
       "output_type": "stream",
       "stream": "stdout",
       "text": [
        "\n",
        "Error >> 5259 can not fetch month =  144\n",
        "Get stock no."
       ]
      },
      {
       "output_type": "stream",
       "stream": "stdout",
       "text": [
        " 2888 info for 144 month\n",
        "Get stock no."
       ]
      },
      {
       "output_type": "stream",
       "stream": "stdout",
       "text": [
        " 3059 info for 144 month\n",
        "Get stock no."
       ]
      },
      {
       "output_type": "stream",
       "stream": "stdout",
       "text": [
        " 3054 info for 144 month\n",
        "Get stock no."
       ]
      },
      {
       "output_type": "stream",
       "stream": "stdout",
       "text": [
        " 2889 info for 144 month\n",
        "list index out of range"
       ]
      },
      {
       "output_type": "stream",
       "stream": "stdout",
       "text": [
        "\n",
        "Error >> 2642 can not fetch month =  144\n",
        "Get stock no."
       ]
      },
      {
       "output_type": "stream",
       "stream": "stdout",
       "text": [
        " 2915 info for 144 month\n",
        "list index out of range"
       ]
      },
      {
       "output_type": "stream",
       "stream": "stdout",
       "text": [
        "\n",
        "Error >> 3149 can not fetch month =  144\n",
        "list index out of range"
       ]
      },
      {
       "output_type": "stream",
       "stream": "stdout",
       "text": [
        "\n",
        "Error >> 1466 can not fetch month =  144\n",
        "list index out of range"
       ]
      },
      {
       "output_type": "stream",
       "stream": "stdout",
       "text": [
        "\n",
        "Error >> 3504 can not fetch month =  144\n",
        "list index out of range"
       ]
      },
      {
       "output_type": "stream",
       "stream": "stdout",
       "text": [
        "\n",
        "Error >> 2342 can not fetch month =  144\n",
        "list index out of range"
       ]
      },
      {
       "output_type": "stream",
       "stream": "stdout",
       "text": [
        "\n",
        "Error >> 4919 can not fetch month =  144\n",
        "list index out of range"
       ]
      },
      {
       "output_type": "stream",
       "stream": "stdout",
       "text": [
        "\n",
        "Error >> 4916 can not fetch month =  144\n",
        "list index out of range"
       ]
      },
      {
       "output_type": "stream",
       "stream": "stdout",
       "text": [
        "\n",
        "Error >> 4915 can not fetch month =  144\n",
        "list index out of range"
       ]
      },
      {
       "output_type": "stream",
       "stream": "stdout",
       "text": [
        "\n",
        "Error >> 3694 can not fetch month =  144\n",
        "list index out of range"
       ]
      },
      {
       "output_type": "stream",
       "stream": "stdout",
       "text": [
        "\n",
        "Error >> 8201 can not fetch month =  144\n",
        "list index out of range"
       ]
      },
      {
       "output_type": "stream",
       "stream": "stdout",
       "text": [
        "\n",
        "Error >> 6005 can not fetch month =  144\n",
        "list index out of range"
       ]
      },
      {
       "output_type": "stream",
       "stream": "stdout",
       "text": [
        "\n",
        "Error >> 3573 can not fetch month =  144\n",
        "list index out of range"
       ]
      },
      {
       "output_type": "stream",
       "stream": "stdout",
       "text": [
        "\n",
        "Error >> 3167 can not fetch month =  144\n",
        "list index out of range"
       ]
      },
      {
       "output_type": "stream",
       "stream": "stdout",
       "text": [
        "\n",
        "Error >> 3164 can not fetch month =  144\n",
        "list index out of range"
       ]
      },
      {
       "output_type": "stream",
       "stream": "stdout",
       "text": [
        "\n",
        "Error >> 6282 can not fetch month =  144\n",
        "list index out of range"
       ]
      },
      {
       "output_type": "stream",
       "stream": "stdout",
       "text": [
        "\n",
        "Error >> 6283 can not fetch month =  144\n",
        "Get stock no."
       ]
      },
      {
       "output_type": "stream",
       "stream": "stdout",
       "text": [
        " 2499 info for 144 month\n",
        "Get stock no."
       ]
      },
      {
       "output_type": "stream",
       "stream": "stdout",
       "text": [
        " 2498 info for 144 month\n",
        "list index out of range"
       ]
      },
      {
       "output_type": "stream",
       "stream": "stdout",
       "text": [
        "\n",
        "Error >> 2491 can not fetch month =  144\n",
        "Get stock no."
       ]
      },
      {
       "output_type": "stream",
       "stream": "stdout",
       "text": [
        " 2495 info for 144 month\n",
        "Get stock no."
       ]
      },
      {
       "output_type": "stream",
       "stream": "stdout",
       "text": [
        " 2497 info for 144 month\n",
        "Get stock no."
       ]
      },
      {
       "output_type": "stream",
       "stream": "stdout",
       "text": [
        " 2496 info for 144 month\n",
        "list index out of range"
       ]
      },
      {
       "output_type": "stream",
       "stream": "stdout",
       "text": [
        "\n",
        "Error >> 1560 can not fetch month =  144\n",
        "Month =  144  : Fetching finished!\n",
        "Fetching Start\n",
        "list index out of range"
       ]
      },
      {
       "output_type": "stream",
       "stream": "stdout",
       "text": [
        "\n",
        "Error >> 0059 can not fetch month =  132\n",
        "list index out of range"
       ]
      },
      {
       "output_type": "stream",
       "stream": "stdout",
       "text": [
        "\n",
        "Error >> 0058 can not fetch month =  132\n",
        "list index out of range"
       ]
      },
      {
       "output_type": "stream",
       "stream": "stdout",
       "text": [
        "\n",
        "Error >> 0053 can not fetch month =  132\n",
        "list index out of range"
       ]
      },
      {
       "output_type": "stream",
       "stream": "stdout",
       "text": [
        "\n",
        "Error >> 0052 can not fetch month =  132\n",
        "list index out of range"
       ]
      },
      {
       "output_type": "stream",
       "stream": "stdout",
       "text": [
        "\n",
        "Error >> 0051 can not fetch month =  132\n",
        "Get stock no."
       ]
      },
      {
       "output_type": "stream",
       "stream": "stdout",
       "text": [
        " 0050 info for 132 month\n",
        "list index out of range"
       ]
      },
      {
       "output_type": "stream",
       "stream": "stdout",
       "text": [
        "\n",
        "Error >> 0057 can not fetch month =  132\n",
        "list index out of range"
       ]
      },
      {
       "output_type": "stream",
       "stream": "stdout",
       "text": [
        "\n",
        "Error >> 0056 can not fetch month =  132\n",
        "list index out of range"
       ]
      },
      {
       "output_type": "stream",
       "stream": "stdout",
       "text": [
        "\n",
        "Error >> 0055 can not fetch month =  132\n",
        "list index out of range"
       ]
      },
      {
       "output_type": "stream",
       "stream": "stdout",
       "text": [
        "\n",
        "Error >> 0054 can not fetch month =  132\n",
        "list index out of range"
       ]
      },
      {
       "output_type": "stream",
       "stream": "stdout",
       "text": [
        "\n",
        "Error >> 3519 can not fetch month =  132\n",
        "list index out of range"
       ]
      },
      {
       "output_type": "stream",
       "stream": "stdout",
       "text": [
        "\n",
        "Error >> 3518 can not fetch month =  132\n",
        "Get stock no."
       ]
      },
      {
       "output_type": "stream",
       "stream": "stdout",
       "text": [
        " 8016 info for 132 month\n",
        "list index out of range"
       ]
      },
      {
       "output_type": "stream",
       "stream": "stdout",
       "text": [
        "\n",
        "Error >> 8011 can not fetch month =  132\n",
        "list index out of range"
       ]
      },
      {
       "output_type": "stream",
       "stream": "stdout",
       "text": [
        "\n",
        "Error >> 3622 can not fetch month =  132\n",
        "list index out of range"
       ]
      },
      {
       "output_type": "stream",
       "stream": "stdout",
       "text": [
        "\n",
        "Error >> 4722 can not fetch month =  132\n",
        "list index out of range"
       ]
      },
      {
       "output_type": "stream",
       "stream": "stdout",
       "text": [
        "\n",
        "Error >> 6216 can not fetch month =  132\n",
        "list index out of range"
       ]
      },
      {
       "output_type": "stream",
       "stream": "stdout",
       "text": [
        "\n",
        "Error >> 6215 can not fetch month =  132\n",
        "list index out of range"
       ]
      },
      {
       "output_type": "stream",
       "stream": "stdout",
       "text": [
        "\n",
        "Error >> 6214 can not fetch month =  132\n",
        "list index out of range"
       ]
      },
      {
       "output_type": "stream",
       "stream": "stdout",
       "text": [
        "\n",
        "Error >> 6213 can not fetch month =  132\n",
        "list index out of range"
       ]
      },
      {
       "output_type": "stream",
       "stream": "stdout",
       "text": [
        "\n",
        "Error >> 1762 can not fetch month =  132\n",
        "Get stock no."
       ]
      },
      {
       "output_type": "stream",
       "stream": "stdout",
       "text": [
        " 1541 info for 132 month\n",
        "list index out of range"
       ]
      },
      {
       "output_type": "stream",
       "stream": "stdout",
       "text": [
        "\n",
        "Error >> 3533 can not fetch month =  132\n",
        "list index out of range"
       ]
      },
      {
       "output_type": "stream",
       "stream": "stdout",
       "text": [
        "\n",
        "Error >> 3532 can not fetch month =  132\n",
        "list index out of range"
       ]
      },
      {
       "output_type": "stream",
       "stream": "stdout",
       "text": [
        "\n",
        "Error >> 3535 can not fetch month =  132\n",
        "list index out of range"
       ]
      },
      {
       "output_type": "stream",
       "stream": "stdout",
       "text": [
        "\n",
        "Error >> 3536 can not fetch month =  132\n",
        "list index out of range"
       ]
      },
      {
       "output_type": "stream",
       "stream": "stdout",
       "text": [
        "\n",
        "Error >> 3515 can not fetch month =  132\n",
        "list index out of range"
       ]
      },
      {
       "output_type": "stream",
       "stream": "stdout",
       "text": [
        "\n",
        "Error >> 3514 can not fetch month =  132\n",
        "list index out of range"
       ]
      },
      {
       "output_type": "stream",
       "stream": "stdout",
       "text": [
        "\n",
        "Error >> 4746 can not fetch month =  132\n",
        "list index out of range"
       ]
      },
      {
       "output_type": "stream",
       "stream": "stdout",
       "text": [
        "\n",
        "Error >> 6184 can not fetch month =  132\n",
        "list index out of range"
       ]
      },
      {
       "output_type": "stream",
       "stream": "stdout",
       "text": [
        "\n",
        "Error >> 6183 can not fetch month =  132\n",
        "list index out of range"
       ]
      },
      {
       "output_type": "stream",
       "stream": "stdout",
       "text": [
        "\n",
        "Error >> 6189 can not fetch month =  132\n",
        "list index out of range"
       ]
      },
      {
       "output_type": "stream",
       "stream": "stdout",
       "text": [
        "\n",
        "Error >> 2727 can not fetch month =  132\n",
        "list index out of range"
       ]
      },
      {
       "output_type": "stream",
       "stream": "stdout",
       "text": [
        "\n",
        "Error >> 2723 can not fetch month =  132\n",
        "list index out of range"
       ]
      },
      {
       "output_type": "stream",
       "stream": "stdout",
       "text": [
        "\n",
        "Error >> 2722 can not fetch month =  132\n",
        "list index out of range"
       ]
      },
      {
       "output_type": "stream",
       "stream": "stdout",
       "text": [
        "\n",
        "Error >> 6235 can not fetch month =  132\n",
        "list index out of range"
       ]
      },
      {
       "output_type": "stream",
       "stream": "stdout",
       "text": [
        "\n",
        "Error >> 5264 can not fetch month =  132\n",
        "list index out of range"
       ]
      },
      {
       "output_type": "stream",
       "stream": "stdout",
       "text": [
        "\n",
        "Error >> 5269 can not fetch month =  132\n",
        "list index out of range"
       ]
      },
      {
       "output_type": "stream",
       "stream": "stdout",
       "text": [
        "\n",
        "Error >> 3021 can not fetch month =  132\n",
        "list index out of range"
       ]
      },
      {
       "output_type": "stream",
       "stream": "stdout",
       "text": [
        "\n",
        "Error >> 5388 can not fetch month =  132\n",
        "list index out of range"
       ]
      },
      {
       "output_type": "stream",
       "stream": "stdout",
       "text": [
        "\n",
        "Error >> 4976 can not fetch month =  132\n",
        "list index out of range"
       ]
      },
      {
       "output_type": "stream",
       "stream": "stdout",
       "text": [
        "\n",
        "Error >> 3474 can not fetch month =  132\n",
        "list index out of range"
       ]
      },
      {
       "output_type": "stream",
       "stream": "stdout",
       "text": [
        "\n",
        "Error >> 3004 can not fetch month =  132\n",
        "list index out of range"
       ]
      },
      {
       "output_type": "stream",
       "stream": "stdout",
       "text": [
        "\n",
        "Error >> 1589 can not fetch month =  132\n",
        "list index out of range"
       ]
      },
      {
       "output_type": "stream",
       "stream": "stdout",
       "text": [
        "\n",
        "Error >> 1582 can not fetch month =  132\n",
        "list index out of range"
       ]
      },
      {
       "output_type": "stream",
       "stream": "stdout",
       "text": [
        "\n",
        "Error >> 1583 can not fetch month =  132\n",
        "list index out of range"
       ]
      },
      {
       "output_type": "stream",
       "stream": "stdout",
       "text": [
        "\n",
        "Error >> 6415 can not fetch month =  132\n",
        "list index out of range"
       ]
      },
      {
       "output_type": "stream",
       "stream": "stdout",
       "text": [
        "\n",
        "Error >> 6412 can not fetch month =  132\n",
        "list index out of range"
       ]
      },
      {
       "output_type": "stream",
       "stream": "stdout",
       "text": [
        "\n",
        "Error >> 3645 can not fetch month =  132\n",
        "list index out of range"
       ]
      },
      {
       "output_type": "stream",
       "stream": "stdout",
       "text": [
        "\n",
        "Error >> 8070 can not fetch month =  132\n",
        "list index out of range"
       ]
      },
      {
       "output_type": "stream",
       "stream": "stdout",
       "text": [
        "\n",
        "Error >> 8072 can not fetch month =  132\n",
        "list index out of range"
       ]
      },
      {
       "output_type": "stream",
       "stream": "stdout",
       "text": [
        "\n",
        "Error >> 1449 can not fetch month =  132\n",
        "list index out of range"
       ]
      },
      {
       "output_type": "stream",
       "stream": "stdout",
       "text": [
        "\n",
        "Error >> 4725 can not fetch month =  132\n",
        "list index out of range"
       ]
      },
      {
       "output_type": "stream",
       "stream": "stdout",
       "text": [
        "\n",
        "Error >> 3705 can not fetch month =  132\n",
        "Get stock no."
       ]
      },
      {
       "output_type": "stream",
       "stream": "stdout",
       "text": [
        " 6277 info for 132 month\n",
        "list index out of range"
       ]
      },
      {
       "output_type": "stream",
       "stream": "stdout",
       "text": [
        "\n",
        "Error >> 6278 can not fetch month =  132\n",
        "list index out of range"
       ]
      },
      {
       "output_type": "stream",
       "stream": "stdout",
       "text": [
        "\n",
        "Error >> 6115 can not fetch month =  132\n",
        "list index out of range"
       ]
      },
      {
       "output_type": "stream",
       "stream": "stdout",
       "text": [
        "\n",
        "Error >> 5225 can not fetch month =  132\n",
        "Get stock no."
       ]
      },
      {
       "output_type": "stream",
       "stream": "stdout",
       "text": [
        " 3062 info for 132 month\n",
        "Get stock no."
       ]
      },
      {
       "output_type": "stream",
       "stream": "stdout",
       "text": [
        " 3061 info for 132 month\n",
        "Get stock no."
       ]
      },
      {
       "output_type": "stream",
       "stream": "stdout",
       "text": [
        " 3060 info for 132 month\n",
        "list index out of range"
       ]
      },
      {
       "output_type": "stream",
       "stream": "stdout",
       "text": [
        "\n",
        "Error >> 8404 can not fetch month =  132\n",
        "list index out of range"
       ]
      },
      {
       "output_type": "stream",
       "stream": "stdout",
       "text": [
        "\n",
        "Error >> 8374 can not fetch month =  132\n",
        "list index out of range"
       ]
      },
      {
       "output_type": "stream",
       "stream": "stdout",
       "text": [
        "\n",
        "Error >> 3665 can not fetch month =  132\n",
        "list index out of range"
       ]
      },
      {
       "output_type": "stream",
       "stream": "stdout",
       "text": [
        "\n",
        "Error >> 3669 can not fetch month =  132\n",
        "list index out of range"
       ]
      },
      {
       "output_type": "stream",
       "stream": "stdout",
       "text": [
        "\n",
        "Error >> 3593 can not fetch month =  132\n",
        "list index out of range"
       ]
      },
      {
       "output_type": "stream",
       "stream": "stdout",
       "text": [
        "\n",
        "Error >> 3591 can not fetch month =  132\n",
        "list index out of range"
       ]
      },
      {
       "output_type": "stream",
       "stream": "stdout",
       "text": [
        "\n",
        "Error >> 3596 can not fetch month =  132\n",
        "list index out of range"
       ]
      },
      {
       "output_type": "stream",
       "stream": "stdout",
       "text": [
        "\n",
        "Error >> 3598 can not fetch month =  132\n",
        "list index out of range"
       ]
      },
      {
       "output_type": "stream",
       "stream": "stdout",
       "text": [
        "\n",
        "Error >> 8081 can not fetch month =  132\n",
        "Get stock no."
       ]
      },
      {
       "output_type": "stream",
       "stream": "stdout",
       "text": [
        " 8926 info for 132 month\n",
        "list index out of range"
       ]
      },
      {
       "output_type": "stream",
       "stream": "stdout",
       "text": [
        "\n",
        "Error >> 3406 can not fetch month =  132\n",
        "list index out of range"
       ]
      },
      {
       "output_type": "stream",
       "stream": "stdout",
       "text": [
        "\n",
        "Error >> 3432 can not fetch month =  132\n",
        "list index out of range"
       ]
      },
      {
       "output_type": "stream",
       "stream": "stdout",
       "text": [
        "\n",
        "Error >> 2038 can not fetch month =  132\n",
        "list index out of range"
       ]
      },
      {
       "output_type": "stream",
       "stream": "stdout",
       "text": [
        "\n",
        "Error >> 5203 can not fetch month =  132\n",
        "list index out of range"
       ]
      },
      {
       "output_type": "stream",
       "stream": "stdout",
       "text": [
        "\n",
        "Error >> 8131 can not fetch month =  132\n",
        "list index out of range"
       ]
      },
      {
       "output_type": "stream",
       "stream": "stdout",
       "text": [
        "\n",
        "Error >> 3607 can not fetch month =  132\n",
        "list index out of range"
       ]
      },
      {
       "output_type": "stream",
       "stream": "stdout",
       "text": [
        "\n",
        "Error >> 3605 can not fetch month =  132\n",
        "list index out of range"
       ]
      },
      {
       "output_type": "stream",
       "stream": "stdout",
       "text": [
        "\n",
        "Error >> 3296 can not fetch month =  132\n",
        "list index out of range"
       ]
      },
      {
       "output_type": "stream",
       "stream": "stdout",
       "text": [
        "\n",
        "Error >> 3383 can not fetch month =  132\n",
        "list index out of range"
       ]
      },
      {
       "output_type": "stream",
       "stream": "stdout",
       "text": [
        "\n",
        "Error >> 3380 can not fetch month =  132\n",
        "list index out of range"
       ]
      },
      {
       "output_type": "stream",
       "stream": "stdout",
       "text": [
        "\n",
        "Error >> 5007 can not fetch month =  132\n",
        "list index out of range"
       ]
      },
      {
       "output_type": "stream",
       "stream": "stdout",
       "text": [
        "\n",
        "Error >> 6108 can not fetch month =  132\n",
        "list index out of range"
       ]
      },
      {
       "output_type": "stream",
       "stream": "stdout",
       "text": [
        "\n",
        "Error >> 3419 can not fetch month =  132\n",
        "list index out of range"
       ]
      },
      {
       "output_type": "stream",
       "stream": "stdout",
       "text": [
        "\n",
        "Error >> 9110 can not fetch month =  132\n",
        "list index out of range"
       ]
      },
      {
       "output_type": "stream",
       "stream": "stdout",
       "text": [
        "\n",
        "Error >> 8110 can not fetch month =  132\n",
        "list index out of range"
       ]
      },
      {
       "output_type": "stream",
       "stream": "stdout",
       "text": [
        "\n",
        "Error >> 8114 can not fetch month =  132\n",
        "Get stock no."
       ]
      },
      {
       "output_type": "stream",
       "stream": "stdout",
       "text": [
        " 5434 info for 132 month\n",
        "list index out of range"
       ]
      },
      {
       "output_type": "stream",
       "stream": "stdout",
       "text": [
        "\n",
        "Error >> 3501 can not fetch month =  132\n",
        "list index out of range"
       ]
      },
      {
       "output_type": "stream",
       "stream": "stdout",
       "text": [
        "\n",
        "Error >> 5880 can not fetch month =  132\n",
        "list index out of range"
       ]
      },
      {
       "output_type": "stream",
       "stream": "stdout",
       "text": [
        "\n",
        "Error >> 4904 can not fetch month =  132\n",
        "list index out of range"
       ]
      },
      {
       "output_type": "stream",
       "stream": "stdout",
       "text": [
        "\n",
        "Error >> 6120 can not fetch month =  132\n",
        "Get stock no."
       ]
      },
      {
       "output_type": "stream",
       "stream": "stdout",
       "text": [
        " 6128 info for 132 month\n",
        "list index out of range"
       ]
      },
      {
       "output_type": "stream",
       "stream": "stdout",
       "text": [
        "\n",
        "Error >> 3686 can not fetch month =  132\n",
        "list index out of range"
       ]
      },
      {
       "output_type": "stream",
       "stream": "stdout",
       "text": [
        "\n",
        "Error >> 8411 can not fetch month =  132\n",
        "list index out of range"
       ]
      },
      {
       "output_type": "stream",
       "stream": "stdout",
       "text": [
        "\n",
        "Error >> 8940 can not fetch month =  132\n",
        "list index out of range"
       ]
      },
      {
       "output_type": "stream",
       "stream": "stdout",
       "text": [
        "\n",
        "Error >> 1626 can not fetch month =  132\n",
        "list index out of range"
       ]
      },
      {
       "output_type": "stream",
       "stream": "stdout",
       "text": [
        "\n",
        "Error >> 3209 can not fetch month =  132\n",
        "list index out of range"
       ]
      },
      {
       "output_type": "stream",
       "stream": "stdout",
       "text": [
        "\n",
        "Error >> 2867 can not fetch month =  132\n",
        "list index out of range"
       ]
      },
      {
       "output_type": "stream",
       "stream": "stdout",
       "text": [
        "\n",
        "Error >> 9188 can not fetch month =  132\n",
        "list index out of range"
       ]
      },
      {
       "output_type": "stream",
       "stream": "stdout",
       "text": [
        "\n",
        "Error >> 5533 can not fetch month =  132\n",
        "list index out of range"
       ]
      },
      {
       "output_type": "stream",
       "stream": "stdout",
       "text": [
        "\n",
        "Error >> 5531 can not fetch month =  132\n",
        "list index out of range"
       ]
      },
      {
       "output_type": "stream",
       "stream": "stdout",
       "text": [
        "\n",
        "Error >> 5534 can not fetch month =  132\n",
        "list index out of range"
       ]
      },
      {
       "output_type": "stream",
       "stream": "stdout",
       "text": [
        "\n",
        "Error >> 5538 can not fetch month =  132\n",
        "Get stock no."
       ]
      },
      {
       "output_type": "stream",
       "stream": "stdout",
       "text": [
        " 6142 info for 132 month\n",
        "Get stock no."
       ]
      },
      {
       "output_type": "stream",
       "stream": "stdout",
       "text": [
        " 6141 info for 132 month\n",
        "Get stock no."
       ]
      },
      {
       "output_type": "stream",
       "stream": "stdout",
       "text": [
        " 6145 info for 132 month\n",
        "list index out of range"
       ]
      },
      {
       "output_type": "stream",
       "stream": "stdout",
       "text": [
        "\n",
        "Error >> 2059 can not fetch month =  132\n",
        "list index out of range"
       ]
      },
      {
       "output_type": "stream",
       "stream": "stdout",
       "text": [
        "\n",
        "Error >> 4536 can not fetch month =  132\n",
        "list index out of range"
       ]
      },
      {
       "output_type": "stream",
       "stream": "stdout",
       "text": [
        "\n",
        "Error >> 4532 can not fetch month =  132\n",
        "list index out of range"
       ]
      },
      {
       "output_type": "stream",
       "stream": "stdout",
       "text": [
        "\n",
        "Error >> 4958 can not fetch month =  132\n",
        "list index out of range"
       ]
      },
      {
       "output_type": "stream",
       "stream": "stdout",
       "text": [
        "\n",
        "Error >> 3229 can not fetch month =  132\n",
        "Get stock no."
       ]
      },
      {
       "output_type": "stream",
       "stream": "stdout",
       "text": [
        " 5471 info for 132 month\n",
        "Get stock no."
       ]
      },
      {
       "output_type": "stream",
       "stream": "stdout",
       "text": [
        " 5515 info for 132 month\n",
        "Get stock no."
       ]
      },
      {
       "output_type": "stream",
       "stream": "stdout",
       "text": [
        " 6168 info for 132 month\n",
        "Get stock no."
       ]
      },
      {
       "output_type": "stream",
       "stream": "stdout",
       "text": [
        " 6165 info for 132 month\n",
        "list index out of range"
       ]
      },
      {
       "output_type": "stream",
       "stream": "stdout",
       "text": [
        "\n",
        "Error >> 6164 can not fetch month =  132\n",
        "list index out of range"
       ]
      },
      {
       "output_type": "stream",
       "stream": "stdout",
       "text": [
        "\n",
        "Error >> 6166 can not fetch month =  132\n",
        "list index out of range"
       ]
      },
      {
       "output_type": "stream",
       "stream": "stdout",
       "text": [
        "\n",
        "Error >> 8033 can not fetch month =  132\n",
        "list index out of range"
       ]
      },
      {
       "output_type": "stream",
       "stream": "stdout",
       "text": [
        "\n",
        "Error >> 8039 can not fetch month =  132\n",
        "Get stock no."
       ]
      },
      {
       "output_type": "stream",
       "stream": "stdout",
       "text": [
        " 6133 info for 132 month\n",
        "Get stock no."
       ]
      },
      {
       "output_type": "stream",
       "stream": "stdout",
       "text": [
        " 9105 info for 132 month\n",
        "list index out of range"
       ]
      },
      {
       "output_type": "stream",
       "stream": "stdout",
       "text": [
        "\n",
        "Error >> 5706 can not fetch month =  132\n",
        "list index out of range"
       ]
      },
      {
       "output_type": "stream",
       "stream": "stdout",
       "text": [
        "\n",
        "Error >> 4984 can not fetch month =  132\n",
        "list index out of range"
       ]
      },
      {
       "output_type": "stream",
       "stream": "stdout",
       "text": [
        "\n",
        "Error >> 3308 can not fetch month =  132\n",
        "list index out of range"
       ]
      },
      {
       "output_type": "stream",
       "stream": "stdout",
       "text": [
        "\n",
        "Error >> 3305 can not fetch month =  132\n",
        "list index out of range"
       ]
      },
      {
       "output_type": "stream",
       "stream": "stdout",
       "text": [
        "\n",
        "Error >> 8249 can not fetch month =  132\n",
        "list index out of range"
       ]
      },
      {
       "output_type": "stream",
       "stream": "stdout",
       "text": [
        "\n",
        "Error >> 4164 can not fetch month =  132\n",
        "list index out of range"
       ]
      },
      {
       "output_type": "stream",
       "stream": "stdout",
       "text": [
        "\n",
        "Error >> 2231 can not fetch month =  132\n",
        "list index out of range"
       ]
      },
      {
       "output_type": "stream",
       "stream": "stdout",
       "text": [
        "\n",
        "Error >> 8427 can not fetch month =  132\n",
        "list index out of range"
       ]
      },
      {
       "output_type": "stream",
       "stream": "stdout",
       "text": [
        "\n",
        "Error >> 3494 can not fetch month =  132\n",
        "list index out of range"
       ]
      },
      {
       "output_type": "stream",
       "stream": "stdout",
       "text": [
        "\n",
        "Error >> 8422 can not fetch month =  132\n",
        "list index out of range"
       ]
      },
      {
       "output_type": "stream",
       "stream": "stdout",
       "text": [
        "\n",
        "Error >> 3338 can not fetch month =  132\n",
        "list index out of range"
       ]
      },
      {
       "output_type": "stream",
       "stream": "stdout",
       "text": [
        "\n",
        "Error >> 4137 can not fetch month =  132\n",
        "list index out of range"
       ]
      },
      {
       "output_type": "stream",
       "stream": "stdout",
       "text": [
        "\n",
        "Error >> 4960 can not fetch month =  132\n",
        "list index out of range"
       ]
      },
      {
       "output_type": "stream",
       "stream": "stdout",
       "text": [
        "\n",
        "Error >> 8271 can not fetch month =  132\n",
        "list index out of range"
       ]
      },
      {
       "output_type": "stream",
       "stream": "stdout",
       "text": [
        "\n",
        "Error >> 6239 can not fetch month =  132\n",
        "list index out of range"
       ]
      },
      {
       "output_type": "stream",
       "stream": "stdout",
       "text": [
        "\n",
        "Error >> 9802 can not fetch month =  132\n",
        "list index out of range"
       ]
      },
      {
       "output_type": "stream",
       "stream": "stdout",
       "text": [
        "\n",
        "Error >> 6230 can not fetch month =  132\n",
        "list index out of range"
       ]
      },
      {
       "output_type": "stream",
       "stream": "stdout",
       "text": [
        "\n",
        "Error >> 4144 can not fetch month =  132\n",
        "list index out of range"
       ]
      },
      {
       "output_type": "stream",
       "stream": "stdout",
       "text": [
        "\n",
        "Error >> 4141 can not fetch month =  132\n",
        "list index out of range"
       ]
      },
      {
       "output_type": "stream",
       "stream": "stdout",
       "text": [
        "\n",
        "Error >> 4142 can not fetch month =  132\n",
        "list index out of range"
       ]
      },
      {
       "output_type": "stream",
       "stream": "stdout",
       "text": [
        "\n",
        "Error >> 4942 can not fetch month =  132\n",
        "list index out of range"
       ]
      },
      {
       "output_type": "stream",
       "stream": "stdout",
       "text": [
        "\n",
        "Error >> 2114 can not fetch month =  132\n",
        "list index out of range"
       ]
      },
      {
       "output_type": "stream",
       "stream": "stdout",
       "text": [
        "\n",
        "Error >> 8046 can not fetch month =  132\n",
        "list index out of range"
       ]
      },
      {
       "output_type": "stream",
       "stream": "stdout",
       "text": [
        "\n",
        "Error >> 2637 can not fetch month =  132\n",
        "list index out of range"
       ]
      },
      {
       "output_type": "stream",
       "stream": "stdout",
       "text": [
        "\n",
        "Error >> 3545 can not fetch month =  132\n",
        "list index out of range"
       ]
      },
      {
       "output_type": "stream",
       "stream": "stdout",
       "text": [
        "\n",
        "Error >> 3130 can not fetch month =  132\n",
        "list index out of range"
       ]
      },
      {
       "output_type": "stream",
       "stream": "stdout",
       "text": [
        "\n",
        "Error >> 6605 can not fetch month =  132\n",
        "list index out of range"
       ]
      },
      {
       "output_type": "stream",
       "stream": "stdout",
       "text": [
        "\n",
        "Error >> 9946 can not fetch month =  132\n",
        "list index out of range"
       ]
      },
      {
       "output_type": "stream",
       "stream": "stdout",
       "text": [
        "\n",
        "Error >> 4104 can not fetch month =  132\n",
        "list index out of range"
       ]
      },
      {
       "output_type": "stream",
       "stream": "stdout",
       "text": [
        "\n",
        "Error >> 4106 can not fetch month =  132\n",
        "list index out of range"
       ]
      },
      {
       "output_type": "stream",
       "stream": "stdout",
       "text": [
        "\n",
        "Error >> 8210 can not fetch month =  132\n",
        "list index out of range"
       ]
      },
      {
       "output_type": "stream",
       "stream": "stdout",
       "text": [
        "\n",
        "Error >> 8213 can not fetch month =  132\n",
        "list index out of range"
       ]
      },
      {
       "output_type": "stream",
       "stream": "stdout",
       "text": [
        "\n",
        "Error >> 8215 can not fetch month =  132\n",
        "list index out of range"
       ]
      },
      {
       "output_type": "stream",
       "stream": "stdout",
       "text": [
        "\n",
        "Error >> 6243 can not fetch month =  132\n",
        "Get stock no."
       ]
      },
      {
       "output_type": "stream",
       "stream": "stdout",
       "text": [
        " 1516 info for 132 month\n",
        "list index out of range"
       ]
      },
      {
       "output_type": "stream",
       "stream": "stdout",
       "text": [
        "\n",
        "Error >> 2923 can not fetch month =  132\n",
        "list index out of range"
       ]
      },
      {
       "output_type": "stream",
       "stream": "stdout",
       "text": [
        "\n",
        "Error >> 4733 can not fetch month =  132\n",
        "list index out of range"
       ]
      },
      {
       "output_type": "stream",
       "stream": "stdout",
       "text": [
        "\n",
        "Error >> 4737 can not fetch month =  132\n",
        "list index out of range"
       ]
      },
      {
       "output_type": "stream",
       "stream": "stdout",
       "text": [
        "\n",
        "Error >> 6205 can not fetch month =  132\n",
        "list index out of range"
       ]
      },
      {
       "output_type": "stream",
       "stream": "stdout",
       "text": [
        "\n",
        "Error >> 6206 can not fetch month =  132\n",
        "list index out of range"
       ]
      },
      {
       "output_type": "stream",
       "stream": "stdout",
       "text": [
        "\n",
        "Error >> 6201 can not fetch month =  132\n",
        "list index out of range"
       ]
      },
      {
       "output_type": "stream",
       "stream": "stdout",
       "text": [
        "\n",
        "Error >> 6202 can not fetch month =  132\n",
        "list index out of range"
       ]
      },
      {
       "output_type": "stream",
       "stream": "stdout",
       "text": [
        "\n",
        "Error >> 6209 can not fetch month =  132\n",
        "list index out of range"
       ]
      },
      {
       "output_type": "stream",
       "stream": "stdout",
       "text": [
        "\n",
        "Error >> 3698 can not fetch month =  132\n",
        "list index out of range"
       ]
      },
      {
       "output_type": "stream",
       "stream": "stdout",
       "text": [
        "\n",
        "Error >> 0060 can not fetch month =  132\n",
        "list index out of range"
       ]
      },
      {
       "output_type": "stream",
       "stream": "stdout",
       "text": [
        "\n",
        "Error >> 0061 can not fetch month =  132\n",
        "list index out of range"
       ]
      },
      {
       "output_type": "stream",
       "stream": "stdout",
       "text": [
        "\n",
        "Error >> 2528 can not fetch month =  132\n",
        "list index out of range"
       ]
      },
      {
       "output_type": "stream",
       "stream": "stdout",
       "text": [
        "\n",
        "Error >> 8021 can not fetch month =  132\n",
        "list index out of range"
       ]
      },
      {
       "output_type": "stream",
       "stream": "stdout",
       "text": [
        "\n",
        "Error >> 4755 can not fetch month =  132\n",
        "list index out of range"
       ]
      },
      {
       "output_type": "stream",
       "stream": "stdout",
       "text": [
        "\n",
        "Error >> 5871 can not fetch month =  132\n",
        "list index out of range"
       ]
      },
      {
       "output_type": "stream",
       "stream": "stdout",
       "text": [
        "\n",
        "Error >> 6196 can not fetch month =  132\n",
        "list index out of range"
       ]
      },
      {
       "output_type": "stream",
       "stream": "stdout",
       "text": [
        "\n",
        "Error >> 6197 can not fetch month =  132\n",
        "list index out of range"
       ]
      },
      {
       "output_type": "stream",
       "stream": "stdout",
       "text": [
        "\n",
        "Error >> 6191 can not fetch month =  132\n",
        "list index out of range"
       ]
      },
      {
       "output_type": "stream",
       "stream": "stdout",
       "text": [
        "\n",
        "Error >> 6192 can not fetch month =  132\n",
        "list index out of range"
       ]
      },
      {
       "output_type": "stream",
       "stream": "stdout",
       "text": [
        "\n",
        "Error >> 2731 can not fetch month =  132\n",
        "list index out of range"
       ]
      },
      {
       "output_type": "stream",
       "stream": "stdout",
       "text": [
        "\n",
        "Error >> 6226 can not fetch month =  132\n",
        "list index out of range"
       ]
      },
      {
       "output_type": "stream",
       "stream": "stdout",
       "text": [
        "\n",
        "Error >> 6224 can not fetch month =  132\n",
        "list index out of range"
       ]
      },
      {
       "output_type": "stream",
       "stream": "stdout",
       "text": [
        "\n",
        "Error >> 6225 can not fetch month =  132\n",
        "list index out of range"
       ]
      },
      {
       "output_type": "stream",
       "stream": "stdout",
       "text": [
        "\n",
        "Error >> 1773 can not fetch month =  132\n",
        "list index out of range"
       ]
      },
      {
       "output_type": "stream",
       "stream": "stdout",
       "text": [
        "\n",
        "Error >> 5607 can not fetch month =  132\n",
        "Get stock no."
       ]
      },
      {
       "output_type": "stream",
       "stream": "stdout",
       "text": [
        " 5608 info for 132 month\n",
        "Get stock no."
       ]
      },
      {
       "output_type": "stream",
       "stream": "stdout",
       "text": [
        " 6257 info for 132 month\n",
        "list index out of range"
       ]
      },
      {
       "output_type": "stream",
       "stream": "stdout",
       "text": [
        "\n",
        "Error >> 0080 can not fetch month =  132\n",
        "list index out of range"
       ]
      },
      {
       "output_type": "stream",
       "stream": "stdout",
       "text": [
        "\n",
        "Error >> 0081 can not fetch month =  132\n",
        "list index out of range"
       ]
      },
      {
       "output_type": "stream",
       "stream": "stdout",
       "text": [
        "\n",
        "Error >> 3704 can not fetch month =  132\n",
        "Get stock no."
       ]
      },
      {
       "output_type": "stream",
       "stream": "stdout",
       "text": [
        " 4119 info for 132 month\n",
        "list index out of range"
       ]
      },
      {
       "output_type": "stream",
       "stream": "stdout",
       "text": [
        "\n",
        "Error >> 2712 can not fetch month =  132\n",
        "list index out of range"
       ]
      },
      {
       "output_type": "stream",
       "stream": "stdout",
       "text": [
        "\n",
        "Error >> 6251 can not fetch month =  132\n",
        "list index out of range"
       ]
      },
      {
       "output_type": "stream",
       "stream": "stdout",
       "text": [
        "\n",
        "Error >> 6405 can not fetch month =  132\n",
        "list index out of range"
       ]
      },
      {
       "output_type": "stream",
       "stream": "stdout",
       "text": [
        "\n",
        "Error >> 9955 can not fetch month =  132\n",
        "list index out of range"
       ]
      },
      {
       "output_type": "stream",
       "stream": "stdout",
       "text": [
        "\n",
        "Error >> 3653 can not fetch month =  132\n",
        "list index out of range"
       ]
      },
      {
       "output_type": "stream",
       "stream": "stdout",
       "text": [
        "\n",
        "Error >> 5243 can not fetch month =  132\n",
        "list index out of range"
       ]
      },
      {
       "output_type": "stream",
       "stream": "stdout",
       "text": [
        "\n",
        "Error >> 3673 can not fetch month =  132\n",
        "list index out of range"
       ]
      },
      {
       "output_type": "stream",
       "stream": "stdout",
       "text": [
        "\n",
        "Error >> 3679 can not fetch month =  132\n",
        "list index out of range"
       ]
      },
      {
       "output_type": "stream",
       "stream": "stdout",
       "text": [
        "\n",
        "Error >> 3557 can not fetch month =  132\n",
        "list index out of range"
       ]
      },
      {
       "output_type": "stream",
       "stream": "stdout",
       "text": [
        "\n",
        "Error >> 3583 can not fetch month =  132\n",
        "list index out of range"
       ]
      },
      {
       "output_type": "stream",
       "stream": "stdout",
       "text": [
        "\n",
        "Error >> 3588 can not fetch month =  132\n",
        "list index out of range"
       ]
      },
      {
       "output_type": "stream",
       "stream": "stdout",
       "text": [
        "\n",
        "Error >> 3550 can not fetch month =  132\n",
        "list index out of range"
       ]
      },
      {
       "output_type": "stream",
       "stream": "stdout",
       "text": [
        "\n",
        "Error >> 4426 can not fetch month =  132\n",
        "list index out of range"
       ]
      },
      {
       "output_type": "stream",
       "stream": "stdout",
       "text": [
        "\n",
        "Error >> 3559 can not fetch month =  132\n",
        "list index out of range"
       ]
      },
      {
       "output_type": "stream",
       "stream": "stdout",
       "text": [
        "\n",
        "Error >> 1817 can not fetch month =  132\n",
        "list index out of range"
       ]
      },
      {
       "output_type": "stream",
       "stream": "stdout",
       "text": [
        "\n",
        "Error >> 5305 can not fetch month =  132\n",
        "Get stock no."
       ]
      },
      {
       "output_type": "stream",
       "stream": "stdout",
       "text": [
        " 6285 info for 132 month\n",
        "Get stock no."
       ]
      },
      {
       "output_type": "stream",
       "stream": "stdout",
       "text": [
        " 6286 info for 132 month\n",
        "list index out of range"
       ]
      },
      {
       "output_type": "stream",
       "stream": "stdout",
       "text": [
        "\n",
        "Error >> 6281 can not fetch month =  132\n",
        "list index out of range"
       ]
      },
      {
       "output_type": "stream",
       "stream": "stdout",
       "text": [
        "\n",
        "Error >> 3443 can not fetch month =  132\n",
        "list index out of range"
       ]
      },
      {
       "output_type": "stream",
       "stream": "stdout",
       "text": [
        "\n",
        "Error >> 5215 can not fetch month =  132\n",
        "Get stock no."
       ]
      },
      {
       "output_type": "stream",
       "stream": "stdout",
       "text": [
        " 3056 info for 132 month\n",
        "list index out of range"
       ]
      },
      {
       "output_type": "stream",
       "stream": "stdout",
       "text": [
        "\n",
        "Error >> 6702 can not fetch month =  132\n",
        "list index out of range"
       ]
      },
      {
       "output_type": "stream",
       "stream": "stdout",
       "text": [
        "\n",
        "Error >> 3617 can not fetch month =  132\n",
        "list index out of range"
       ]
      },
      {
       "output_type": "stream",
       "stream": "stdout",
       "text": [
        "\n",
        "Error >> 3090 can not fetch month =  132\n",
        "list index out of range"
       ]
      },
      {
       "output_type": "stream",
       "stream": "stdout",
       "text": [
        "\n",
        "Error >> 3094 can not fetch month =  132\n",
        "Get stock no."
       ]
      },
      {
       "output_type": "stream",
       "stream": "stdout",
       "text": [
        " 3231 info for 132 month\n",
        "list index out of range"
       ]
      },
      {
       "output_type": "stream",
       "stream": "stdout",
       "text": [
        "\n",
        "Error >> 4108 can not fetch month =  132\n",
        "list index out of range"
       ]
      },
      {
       "output_type": "stream",
       "stream": "stdout",
       "text": [
        "\n",
        "Error >> 6116 can not fetch month =  132\n",
        "Get stock no."
       ]
      },
      {
       "output_type": "stream",
       "stream": "stdout",
       "text": [
        " 6117 info for 132 month\n",
        "Get stock no."
       ]
      },
      {
       "output_type": "stream",
       "stream": "stdout",
       "text": [
        " 6112 info for 132 month\n",
        "list index out of range"
       ]
      },
      {
       "output_type": "stream",
       "stream": "stdout",
       "text": [
        "\n",
        "Error >> 9106 can not fetch month =  132\n",
        "list index out of range"
       ]
      },
      {
       "output_type": "stream",
       "stream": "stdout",
       "text": [
        "\n",
        "Error >> 4414 can not fetch month =  132\n",
        "Get stock no."
       ]
      },
      {
       "output_type": "stream",
       "stream": "stdout",
       "text": [
        " 6269 info for 132 month\n",
        "list index out of range"
       ]
      },
      {
       "output_type": "stream",
       "stream": "stdout",
       "text": [
        "\n",
        "Error >> 1339 can not fetch month =  132\n",
        "list index out of range"
       ]
      },
      {
       "output_type": "stream",
       "stream": "stdout",
       "text": [
        "\n",
        "Error >> 1338 can not fetch month =  132\n",
        "list index out of range"
       ]
      },
      {
       "output_type": "stream",
       "stream": "stdout",
       "text": [
        "\n",
        "Error >> 1337 can not fetch month =  132\n",
        "list index out of range"
       ]
      },
      {
       "output_type": "stream",
       "stream": "stdout",
       "text": [
        "\n",
        "Error >> 3638 can not fetch month =  132\n",
        "list index out of range"
       ]
      },
      {
       "output_type": "stream",
       "stream": "stdout",
       "text": [
        "\n",
        "Error >> 1432 can not fetch month =  132\n",
        "list index out of range"
       ]
      },
      {
       "output_type": "stream",
       "stream": "stdout",
       "text": [
        "\n",
        "Error >> 5234 can not fetch month =  132\n",
        "list index out of range"
       ]
      },
      {
       "output_type": "stream",
       "stream": "stdout",
       "text": [
        "\n",
        "Error >> 3703 can not fetch month =  132\n",
        "list index out of range"
       ]
      },
      {
       "output_type": "stream",
       "stream": "stdout",
       "text": [
        "\n",
        "Error >> 3701 can not fetch month =  132\n",
        "list index out of range"
       ]
      },
      {
       "output_type": "stream",
       "stream": "stdout",
       "text": [
        "\n",
        "Error >> 3706 can not fetch month =  132\n",
        "Get stock no."
       ]
      },
      {
       "output_type": "stream",
       "stream": "stdout",
       "text": [
        " 6139 info for 132 month\n",
        "list index out of range"
       ]
      },
      {
       "output_type": "stream",
       "stream": "stdout",
       "text": [
        "\n",
        "Error >> 6131 can not fetch month =  132\n",
        "Get stock no."
       ]
      },
      {
       "output_type": "stream",
       "stream": "stdout",
       "text": [
        " 6136 info for 132 month\n",
        "list index out of range"
       ]
      },
      {
       "output_type": "stream",
       "stream": "stdout",
       "text": [
        "\n",
        "Error >> 1590 can not fetch month =  132\n",
        "list index out of range"
       ]
      },
      {
       "output_type": "stream",
       "stream": "stdout",
       "text": [
        "\n",
        "Error >> 2062 can not fetch month =  132\n",
        "list index out of range"
       ]
      },
      {
       "output_type": "stream",
       "stream": "stdout",
       "text": [
        "\n",
        "Error >> 3257 can not fetch month =  132\n",
        "Get stock no."
       ]
      },
      {
       "output_type": "stream",
       "stream": "stdout",
       "text": [
        " 8078 info for 132 month\n",
        "list index out of range"
       ]
      },
      {
       "output_type": "stream",
       "stream": "stdout",
       "text": [
        "\n",
        "Error >> 8105 can not fetch month =  132\n",
        "list index out of range"
       ]
      },
      {
       "output_type": "stream",
       "stream": "stdout",
       "text": [
        "\n",
        "Error >> 8101 can not fetch month =  132\n",
        "list index out of range"
       ]
      },
      {
       "output_type": "stream",
       "stream": "stdout",
       "text": [
        "\n",
        "Error >> 8103 can not fetch month =  132\n",
        "list index out of range"
       ]
      },
      {
       "output_type": "stream",
       "stream": "stdout",
       "text": [
        "\n",
        "Error >> 3189 can not fetch month =  132\n",
        "list index out of range"
       ]
      },
      {
       "output_type": "stream",
       "stream": "stdout",
       "text": [
        "\n",
        "Error >> 3561 can not fetch month =  132\n",
        "list index out of range"
       ]
      },
      {
       "output_type": "stream",
       "stream": "stdout",
       "text": [
        "\n",
        "Error >> 2812 can not fetch month =  132\n",
        "list index out of range"
       ]
      },
      {
       "output_type": "stream",
       "stream": "stdout",
       "text": [
        "\n",
        "Error >> 3376 can not fetch month =  132\n",
        "list index out of range"
       ]
      },
      {
       "output_type": "stream",
       "stream": "stdout",
       "text": [
        "\n",
        "Error >> 5521 can not fetch month =  132\n",
        "list index out of range"
       ]
      },
      {
       "output_type": "stream",
       "stream": "stdout",
       "text": [
        "\n",
        "Error >> 5522 can not fetch month =  132\n",
        "list index out of range"
       ]
      },
      {
       "output_type": "stream",
       "stream": "stdout",
       "text": [
        "\n",
        "Error >> 5525 can not fetch month =  132\n",
        "list index out of range"
       ]
      },
      {
       "output_type": "stream",
       "stream": "stdout",
       "text": [
        "\n",
        "Error >> 6152 can not fetch month =  132\n",
        "list index out of range"
       ]
      },
      {
       "output_type": "stream",
       "stream": "stdout",
       "text": [
        "\n",
        "Error >> 6153 can not fetch month =  132\n",
        "list index out of range"
       ]
      },
      {
       "output_type": "stream",
       "stream": "stdout",
       "text": [
        "\n",
        "Error >> 6155 can not fetch month =  132\n",
        "list index out of range"
       ]
      },
      {
       "output_type": "stream",
       "stream": "stdout",
       "text": [
        "\n",
        "Error >> 2049 can not fetch month =  132\n",
        "list index out of range"
       ]
      },
      {
       "output_type": "stream",
       "stream": "stdout",
       "text": [
        "\n",
        "Error >> 3697 can not fetch month =  132\n",
        "list index out of range"
       ]
      },
      {
       "output_type": "stream",
       "stream": "stdout",
       "text": [
        "\n",
        "Error >> 8163 can not fetch month =  132\n",
        "list index out of range"
       ]
      },
      {
       "output_type": "stream",
       "stream": "stdout",
       "text": [
        "\n",
        "Error >> 3450 can not fetch month =  132\n",
        "list index out of range"
       ]
      },
      {
       "output_type": "stream",
       "stream": "stdout",
       "text": [
        "\n",
        "Error >> 3454 can not fetch month =  132\n",
        "list index out of range"
       ]
      },
      {
       "output_type": "stream",
       "stream": "stdout",
       "text": [
        "\n",
        "Error >> 3356 can not fetch month =  132\n",
        "list index out of range"
       ]
      },
      {
       "output_type": "stream",
       "stream": "stdout",
       "text": [
        "\n",
        "Error >> 3682 can not fetch month =  132\n",
        "list index out of range"
       ]
      },
      {
       "output_type": "stream",
       "stream": "stdout",
       "text": [
        "\n",
        "Error >> 9157 can not fetch month =  132\n",
        "list index out of range"
       ]
      },
      {
       "output_type": "stream",
       "stream": "stdout",
       "text": [
        "\n",
        "Error >> 3584 can not fetch month =  132\n",
        "list index out of range"
       ]
      },
      {
       "output_type": "stream",
       "stream": "stdout",
       "text": [
        "\n",
        "Error >> 6176 can not fetch month =  132\n",
        "list index out of range"
       ]
      },
      {
       "output_type": "stream",
       "stream": "stdout",
       "text": [
        "\n",
        "Error >> 6177 can not fetch month =  132\n",
        "list index out of range"
       ]
      },
      {
       "output_type": "stream",
       "stream": "stdout",
       "text": [
        "\n",
        "Error >> 6172 can not fetch month =  132\n",
        "list index out of range"
       ]
      },
      {
       "output_type": "stream",
       "stream": "stdout",
       "text": [
        "\n",
        "Error >> 2208 can not fetch month =  132\n",
        "list index out of range"
       ]
      },
      {
       "output_type": "stream",
       "stream": "stdout",
       "text": [
        "\n",
        "Error >> 6271 can not fetch month =  132\n",
        "Get stock no."
       ]
      },
      {
       "output_type": "stream",
       "stream": "stdout",
       "text": [
        " 4526 info for 132 month\n",
        "list index out of range"
       ]
      },
      {
       "output_type": "stream",
       "stream": "stdout",
       "text": [
        "\n",
        "Error >> 4999 can not fetch month =  132\n",
        "Get stock no."
       ]
      },
      {
       "output_type": "stream",
       "stream": "stdout",
       "text": [
        " 5469 info for 132 month\n",
        "Get stock no."
       ]
      },
      {
       "output_type": "stream",
       "stream": "stdout",
       "text": [
        " 5484 info for 132 month\n",
        "Get stock no."
       ]
      },
      {
       "output_type": "stream",
       "stream": "stdout",
       "text": [
        " 6505 info for 132 month\n",
        "list index out of range"
       ]
      },
      {
       "output_type": "stream",
       "stream": "stdout",
       "text": [
        "\n",
        "Error >> 6504 can not fetch month =  132\n",
        "Get stock no."
       ]
      },
      {
       "output_type": "stream",
       "stream": "stdout",
       "text": [
        " 4906 info for 132 month\n",
        "list index out of range"
       ]
      },
      {
       "output_type": "stream",
       "stream": "stdout",
       "text": [
        "\n",
        "Error >> 9136 can not fetch month =  132\n",
        "list index out of range"
       ]
      },
      {
       "output_type": "stream",
       "stream": "stdout",
       "text": [
        "\n",
        "Error >> 2228 can not fetch month =  132\n",
        "list index out of range"
       ]
      },
      {
       "output_type": "stream",
       "stream": "stdout",
       "text": [
        "\n",
        "Error >> 2227 can not fetch month =  132\n",
        "list index out of range"
       ]
      },
      {
       "output_type": "stream",
       "stream": "stdout",
       "text": [
        "\n",
        "Error >> 8112 can not fetch month =  132\n",
        "list index out of range"
       ]
      },
      {
       "output_type": "stream",
       "stream": "stdout",
       "text": [
        "\n",
        "Error >> 3579 can not fetch month =  132\n",
        "list index out of range"
       ]
      },
      {
       "output_type": "stream",
       "stream": "stdout",
       "text": [
        "\n",
        "Error >> 3576 can not fetch month =  132\n",
        "list index out of range"
       ]
      },
      {
       "output_type": "stream",
       "stream": "stdout",
       "text": [
        "\n",
        "Error >> 9958 can not fetch month =  132\n",
        "list index out of range"
       ]
      },
      {
       "output_type": "stream",
       "stream": "stdout",
       "text": [
        "\n",
        "Error >> 4977 can not fetch month =  132\n",
        "list index out of range"
       ]
      },
      {
       "output_type": "stream",
       "stream": "stdout",
       "text": [
        "\n",
        "Error >> 3311 can not fetch month =  132\n",
        "list index out of range"
       ]
      },
      {
       "output_type": "stream",
       "stream": "stdout",
       "text": [
        "\n",
        "Error >> 3312 can not fetch month =  132\n",
        "list index out of range"
       ]
      },
      {
       "output_type": "stream",
       "stream": "stdout",
       "text": [
        "\n",
        "Error >> 3315 can not fetch month =  132\n",
        "list index out of range"
       ]
      },
      {
       "output_type": "stream",
       "stream": "stdout",
       "text": [
        "\n",
        "Error >> 8261 can not fetch month =  132\n",
        "list index out of range"
       ]
      },
      {
       "output_type": "stream",
       "stream": "stdout",
       "text": [
        "\n",
        "Error >> 5906 can not fetch month =  132\n",
        "list index out of range"
       ]
      },
      {
       "output_type": "stream",
       "stream": "stdout",
       "text": [
        "\n",
        "Error >> 5907 can not fetch month =  132\n",
        "list index out of range"
       ]
      },
      {
       "output_type": "stream",
       "stream": "stdout",
       "text": [
        "\n",
        "Error >> 3481 can not fetch month =  132\n",
        "list index out of range"
       ]
      },
      {
       "output_type": "stream",
       "stream": "stdout",
       "text": [
        "\n",
        "Error >> 5280 can not fetch month =  132\n",
        "list index out of range"
       ]
      },
      {
       "output_type": "stream",
       "stream": "stdout",
       "text": [
        "\n",
        "Error >> 4952 can not fetch month =  132\n",
        "list index out of range"
       ]
      },
      {
       "output_type": "stream",
       "stream": "stdout",
       "text": [
        "\n",
        "Error >> 4956 can not fetch month =  132\n",
        "list index out of range"
       ]
      },
      {
       "output_type": "stream",
       "stream": "stdout",
       "text": [
        "\n",
        "Error >> 8429 can not fetch month =  132\n",
        "list index out of range"
       ]
      },
      {
       "output_type": "stream",
       "stream": "stdout",
       "text": [
        "\n",
        "Error >> 4133 can not fetch month =  132\n",
        "Get stock no."
       ]
      },
      {
       "output_type": "stream",
       "stream": "stdout",
       "text": [
        " 6289 info for 132 month\n",
        "list index out of range"
       ]
      },
      {
       "output_type": "stream",
       "stream": "stdout",
       "text": [
        "\n",
        "Error >> 2597 can not fetch month =  132\n",
        "list index out of range"
       ]
      },
      {
       "output_type": "stream",
       "stream": "stdout",
       "text": [
        "\n",
        "Error >> 4306 can not fetch month =  132\n",
        "list index out of range"
       ]
      },
      {
       "output_type": "stream",
       "stream": "stdout",
       "text": [
        "\n",
        "Error >> 2361 can not fetch month =  132\n",
        "list index out of range"
       ]
      },
      {
       "output_type": "stream",
       "stream": "stdout",
       "text": [
        "\n",
        "Error >> 4930 can not fetch month =  132\n",
        "list index out of range"
       ]
      },
      {
       "output_type": "stream",
       "stream": "stdout",
       "text": [
        "\n",
        "Error >> 4934 can not fetch month =  132\n",
        "list index out of range"
       ]
      },
      {
       "output_type": "stream",
       "stream": "stdout",
       "text": [
        "\n",
        "Error >> 4935 can not fetch month =  132\n",
        "list index out of range"
       ]
      },
      {
       "output_type": "stream",
       "stream": "stdout",
       "text": [
        "\n",
        "Error >> 4938 can not fetch month =  132\n",
        "list index out of range"
       ]
      },
      {
       "output_type": "stream",
       "stream": "stdout",
       "text": [
        "\n",
        "Error >> 3702 can not fetch month =  132\n",
        "list index out of range"
       ]
      },
      {
       "output_type": "stream",
       "stream": "stdout",
       "text": [
        "\n",
        "Error >> 1789 can not fetch month =  132\n",
        "list index out of range"
       ]
      },
      {
       "output_type": "stream",
       "stream": "stdout",
       "text": [
        "\n",
        "Error >> 1786 can not fetch month =  132\n",
        "list index out of range"
       ]
      },
      {
       "output_type": "stream",
       "stream": "stdout",
       "text": [
        "\n",
        "Error >> 5259 can not fetch month =  132\n",
        "list index out of range"
       ]
      },
      {
       "output_type": "stream",
       "stream": "stdout",
       "text": [
        "\n",
        "Error >> 2642 can not fetch month =  132\n",
        "list index out of range"
       ]
      },
      {
       "output_type": "stream",
       "stream": "stdout",
       "text": [
        "\n",
        "Error >> 3149 can not fetch month =  132\n",
        "Get stock no."
       ]
      },
      {
       "output_type": "stream",
       "stream": "stdout",
       "text": [
        " 1466 info for 132 month\n",
        "list index out of range"
       ]
      },
      {
       "output_type": "stream",
       "stream": "stdout",
       "text": [
        "\n",
        "Error >> 3504 can not fetch month =  132\n",
        "Get stock no."
       ]
      },
      {
       "output_type": "stream",
       "stream": "stdout",
       "text": [
        " 2342 info for 132 month\n",
        "list index out of range"
       ]
      },
      {
       "output_type": "stream",
       "stream": "stdout",
       "text": [
        "\n",
        "Error >> 4919 can not fetch month =  132\n",
        "list index out of range"
       ]
      },
      {
       "output_type": "stream",
       "stream": "stdout",
       "text": [
        "\n",
        "Error >> 4916 can not fetch month =  132\n",
        "list index out of range"
       ]
      },
      {
       "output_type": "stream",
       "stream": "stdout",
       "text": [
        "\n",
        "Error >> 4915 can not fetch month =  132\n",
        "list index out of range"
       ]
      },
      {
       "output_type": "stream",
       "stream": "stdout",
       "text": [
        "\n",
        "Error >> 3694 can not fetch month =  132\n",
        "list index out of range"
       ]
      },
      {
       "output_type": "stream",
       "stream": "stdout",
       "text": [
        "\n",
        "Error >> 8201 can not fetch month =  132\n",
        "list index out of range"
       ]
      },
      {
       "output_type": "stream",
       "stream": "stdout",
       "text": [
        "\n",
        "Error >> 6005 can not fetch month =  132\n",
        "list index out of range"
       ]
      },
      {
       "output_type": "stream",
       "stream": "stdout",
       "text": [
        "\n",
        "Error >> 3573 can not fetch month =  132\n",
        "list index out of range"
       ]
      },
      {
       "output_type": "stream",
       "stream": "stdout",
       "text": [
        "\n",
        "Error >> 3167 can not fetch month =  132\n",
        "list index out of range"
       ]
      },
      {
       "output_type": "stream",
       "stream": "stdout",
       "text": [
        "\n",
        "Error >> 3164 can not fetch month =  132\n",
        "Get stock no."
       ]
      },
      {
       "output_type": "stream",
       "stream": "stdout",
       "text": [
        " 6282 info for 132 month\n",
        "list index out of range"
       ]
      },
      {
       "output_type": "stream",
       "stream": "stdout",
       "text": [
        "\n",
        "Error >> 6283 can not fetch month =  132\n",
        "list index out of range"
       ]
      },
      {
       "output_type": "stream",
       "stream": "stdout",
       "text": [
        "\n",
        "Error >> 2491 can not fetch month =  132\n",
        "list index out of range"
       ]
      },
      {
       "output_type": "stream",
       "stream": "stdout",
       "text": [
        "\n",
        "Error >> 1560 can not fetch month =  132\n",
        "Month =  132  : Fetching finished!\n",
        "Fetching Start\n",
        "list index out of range"
       ]
      },
      {
       "output_type": "stream",
       "stream": "stdout",
       "text": [
        "\n",
        "Error >> 0059 can not fetch month =  120\n",
        "list index out of range"
       ]
      },
      {
       "output_type": "stream",
       "stream": "stdout",
       "text": [
        "\n",
        "Error >> 0058 can not fetch month =  120\n",
        "list index out of range"
       ]
      },
      {
       "output_type": "stream",
       "stream": "stdout",
       "text": [
        "\n",
        "Error >> 0053 can not fetch month =  120\n",
        "list index out of range"
       ]
      },
      {
       "output_type": "stream",
       "stream": "stdout",
       "text": [
        "\n",
        "Error >> 0052 can not fetch month =  120\n",
        "list index out of range"
       ]
      },
      {
       "output_type": "stream",
       "stream": "stdout",
       "text": [
        "\n",
        "Error >> 0051 can not fetch month =  120\n",
        "list index out of range"
       ]
      },
      {
       "output_type": "stream",
       "stream": "stdout",
       "text": [
        "\n",
        "Error >> 0057 can not fetch month =  120\n",
        "list index out of range"
       ]
      },
      {
       "output_type": "stream",
       "stream": "stdout",
       "text": [
        "\n",
        "Error >> 0056 can not fetch month =  120\n",
        "list index out of range"
       ]
      },
      {
       "output_type": "stream",
       "stream": "stdout",
       "text": [
        "\n",
        "Error >> 0055 can not fetch month =  120\n",
        "list index out of range"
       ]
      },
      {
       "output_type": "stream",
       "stream": "stdout",
       "text": [
        "\n",
        "Error >> 0054 can not fetch month =  120\n",
        "list index out of range"
       ]
      },
      {
       "output_type": "stream",
       "stream": "stdout",
       "text": [
        "\n",
        "Error >> 3519 can not fetch month =  120\n",
        "list index out of range"
       ]
      },
      {
       "output_type": "stream",
       "stream": "stdout",
       "text": [
        "\n",
        "Error >> 3518 can not fetch month =  120\n",
        "list index out of range"
       ]
      },
      {
       "output_type": "stream",
       "stream": "stdout",
       "text": [
        "\n",
        "Error >> 8011 can not fetch month =  120\n",
        "list index out of range"
       ]
      },
      {
       "output_type": "stream",
       "stream": "stdout",
       "text": [
        "\n",
        "Error >> 3622 can not fetch month =  120\n",
        "list index out of range"
       ]
      },
      {
       "output_type": "stream",
       "stream": "stdout",
       "text": [
        "\n",
        "Error >> 4722 can not fetch month =  120\n",
        "Get stock no."
       ]
      },
      {
       "output_type": "stream",
       "stream": "stdout",
       "text": [
        " 6216 info for 120 month\n",
        "list index out of range"
       ]
      },
      {
       "output_type": "stream",
       "stream": "stdout",
       "text": [
        "\n",
        "Error >> 6215 can not fetch month =  120\n",
        "list index out of range"
       ]
      },
      {
       "output_type": "stream",
       "stream": "stdout",
       "text": [
        "\n",
        "Error >> 6214 can not fetch month =  120\n",
        "list index out of range"
       ]
      },
      {
       "output_type": "stream",
       "stream": "stdout",
       "text": [
        "\n",
        "Error >> 6213 can not fetch month =  120\n",
        "list index out of range"
       ]
      },
      {
       "output_type": "stream",
       "stream": "stdout",
       "text": [
        "\n",
        "Error >> 1762 can not fetch month =  120\n",
        "list index out of range"
       ]
      },
      {
       "output_type": "stream",
       "stream": "stdout",
       "text": [
        "\n",
        "Error >> 3533 can not fetch month =  120\n",
        "list index out of range"
       ]
      },
      {
       "output_type": "stream",
       "stream": "stdout",
       "text": [
        "\n",
        "Error >> 3532 can not fetch month =  120\n",
        "list index out of range"
       ]
      },
      {
       "output_type": "stream",
       "stream": "stdout",
       "text": [
        "\n",
        "Error >> 3535 can not fetch month =  120\n",
        "list index out of range"
       ]
      },
      {
       "output_type": "stream",
       "stream": "stdout",
       "text": [
        "\n",
        "Error >> 3536 can not fetch month =  120\n",
        "list index out of range"
       ]
      },
      {
       "output_type": "stream",
       "stream": "stdout",
       "text": [
        "\n",
        "Error >> 3515 can not fetch month =  120\n",
        "list index out of range"
       ]
      },
      {
       "output_type": "stream",
       "stream": "stdout",
       "text": [
        "\n",
        "Error >> 3514 can not fetch month =  120\n",
        "list index out of range"
       ]
      },
      {
       "output_type": "stream",
       "stream": "stdout",
       "text": [
        "\n",
        "Error >> 4746 can not fetch month =  120\n",
        "list index out of range"
       ]
      },
      {
       "output_type": "stream",
       "stream": "stdout",
       "text": [
        "\n",
        "Error >> 6184 can not fetch month =  120\n",
        "list index out of range"
       ]
      },
      {
       "output_type": "stream",
       "stream": "stdout",
       "text": [
        "\n",
        "Error >> 6183 can not fetch month =  120\n",
        "Get stock no."
       ]
      },
      {
       "output_type": "stream",
       "stream": "stdout",
       "text": [
        " 6189 info for 120 month\n",
        "list index out of range"
       ]
      },
      {
       "output_type": "stream",
       "stream": "stdout",
       "text": [
        "\n",
        "Error >> 2727 can not fetch month =  120\n",
        "list index out of range"
       ]
      },
      {
       "output_type": "stream",
       "stream": "stdout",
       "text": [
        "\n",
        "Error >> 2723 can not fetch month =  120\n",
        "list index out of range"
       ]
      },
      {
       "output_type": "stream",
       "stream": "stdout",
       "text": [
        "\n",
        "Error >> 2722 can not fetch month =  120\n",
        "Get stock no."
       ]
      },
      {
       "output_type": "stream",
       "stream": "stdout",
       "text": [
        " 6235 info for 120 month\n",
        "list index out of range"
       ]
      },
      {
       "output_type": "stream",
       "stream": "stdout",
       "text": [
        "\n",
        "Error >> 5264 can not fetch month =  120\n",
        "list index out of range"
       ]
      },
      {
       "output_type": "stream",
       "stream": "stdout",
       "text": [
        "\n",
        "Error >> 5269 can not fetch month =  120\n",
        "list index out of range"
       ]
      },
      {
       "output_type": "stream",
       "stream": "stdout",
       "text": [
        "\n",
        "Error >> 3021 can not fetch month =  120\n",
        "list index out of range"
       ]
      },
      {
       "output_type": "stream",
       "stream": "stdout",
       "text": [
        "\n",
        "Error >> 5388 can not fetch month =  120\n",
        "list index out of range"
       ]
      },
      {
       "output_type": "stream",
       "stream": "stdout",
       "text": [
        "\n",
        "Error >> 4976 can not fetch month =  120\n",
        "list index out of range"
       ]
      },
      {
       "output_type": "stream",
       "stream": "stdout",
       "text": [
        "\n",
        "Error >> 3474 can not fetch month =  120\n",
        "Get stock no."
       ]
      },
      {
       "output_type": "stream",
       "stream": "stdout",
       "text": [
        " 3004 info for 120 month\n",
        "list index out of range"
       ]
      },
      {
       "output_type": "stream",
       "stream": "stdout",
       "text": [
        "\n",
        "Error >> 1589 can not fetch month =  120\n",
        "list index out of range"
       ]
      },
      {
       "output_type": "stream",
       "stream": "stdout",
       "text": [
        "\n",
        "Error >> 1582 can not fetch month =  120\n",
        "list index out of range"
       ]
      },
      {
       "output_type": "stream",
       "stream": "stdout",
       "text": [
        "\n",
        "Error >> 1583 can not fetch month =  120\n",
        "list index out of range"
       ]
      },
      {
       "output_type": "stream",
       "stream": "stdout",
       "text": [
        "\n",
        "Error >> 6415 can not fetch month =  120\n",
        "list index out of range"
       ]
      },
      {
       "output_type": "stream",
       "stream": "stdout",
       "text": [
        "\n",
        "Error >> 6412 can not fetch month =  120\n",
        "list index out of range"
       ]
      },
      {
       "output_type": "stream",
       "stream": "stdout",
       "text": [
        "\n",
        "Error >> 3645 can not fetch month =  120\n",
        "list index out of range"
       ]
      },
      {
       "output_type": "stream",
       "stream": "stdout",
       "text": [
        "\n",
        "Error >> 8070 can not fetch month =  120\n",
        "list index out of range"
       ]
      },
      {
       "output_type": "stream",
       "stream": "stdout",
       "text": [
        "\n",
        "Error >> 8072 can not fetch month =  120\n",
        "list index out of range"
       ]
      },
      {
       "output_type": "stream",
       "stream": "stdout",
       "text": [
        "\n",
        "Error >> 1449 can not fetch month =  120\n",
        "list index out of range"
       ]
      },
      {
       "output_type": "stream",
       "stream": "stdout",
       "text": [
        "\n",
        "Error >> 4725 can not fetch month =  120\n",
        "list index out of range"
       ]
      },
      {
       "output_type": "stream",
       "stream": "stdout",
       "text": [
        "\n",
        "Error >> 3705 can not fetch month =  120\n",
        "list index out of range"
       ]
      },
      {
       "output_type": "stream",
       "stream": "stdout",
       "text": [
        "\n",
        "Error >> 6278 can not fetch month =  120\n",
        "Get stock no."
       ]
      },
      {
       "output_type": "stream",
       "stream": "stdout",
       "text": [
        " 6115 info for 120 month\n",
        "list index out of range"
       ]
      },
      {
       "output_type": "stream",
       "stream": "stdout",
       "text": [
        "\n",
        "Error >> 5225 can not fetch month =  120\n",
        "list index out of range"
       ]
      },
      {
       "output_type": "stream",
       "stream": "stdout",
       "text": [
        "\n",
        "Error >> 8404 can not fetch month =  120\n",
        "list index out of range"
       ]
      },
      {
       "output_type": "stream",
       "stream": "stdout",
       "text": [
        "\n",
        "Error >> 8374 can not fetch month =  120\n",
        "list index out of range"
       ]
      },
      {
       "output_type": "stream",
       "stream": "stdout",
       "text": [
        "\n",
        "Error >> 3665 can not fetch month =  120\n",
        "list index out of range"
       ]
      },
      {
       "output_type": "stream",
       "stream": "stdout",
       "text": [
        "\n",
        "Error >> 3669 can not fetch month =  120\n",
        "list index out of range"
       ]
      },
      {
       "output_type": "stream",
       "stream": "stdout",
       "text": [
        "\n",
        "Error >> 3593 can not fetch month =  120\n",
        "list index out of range"
       ]
      },
      {
       "output_type": "stream",
       "stream": "stdout",
       "text": [
        "\n",
        "Error >> 3591 can not fetch month =  120\n",
        "list index out of range"
       ]
      },
      {
       "output_type": "stream",
       "stream": "stdout",
       "text": [
        "\n",
        "Error >> 3596 can not fetch month =  120\n",
        "list index out of range"
       ]
      },
      {
       "output_type": "stream",
       "stream": "stdout",
       "text": [
        "\n",
        "Error >> 3598 can not fetch month =  120\n",
        "list index out of range"
       ]
      },
      {
       "output_type": "stream",
       "stream": "stdout",
       "text": [
        "\n",
        "Error >> 8081 can not fetch month =  120\n",
        "list index out of range"
       ]
      },
      {
       "output_type": "stream",
       "stream": "stdout",
       "text": [
        "\n",
        "Error >> 3406 can not fetch month =  120\n",
        "list index out of range"
       ]
      },
      {
       "output_type": "stream",
       "stream": "stdout",
       "text": [
        "\n",
        "Error >> 3432 can not fetch month =  120\n",
        "list index out of range"
       ]
      },
      {
       "output_type": "stream",
       "stream": "stdout",
       "text": [
        "\n",
        "Error >> 2038 can not fetch month =  120\n",
        "Get stock no."
       ]
      },
      {
       "output_type": "stream",
       "stream": "stdout",
       "text": [
        " 5203 info for 120 month\n",
        "list index out of range"
       ]
      },
      {
       "output_type": "stream",
       "stream": "stdout",
       "text": [
        "\n",
        "Error >> 8131 can not fetch month =  120\n",
        "list index out of range"
       ]
      },
      {
       "output_type": "stream",
       "stream": "stdout",
       "text": [
        "\n",
        "Error >> 3607 can not fetch month =  120\n",
        "list index out of range"
       ]
      },
      {
       "output_type": "stream",
       "stream": "stdout",
       "text": [
        "\n",
        "Error >> 3605 can not fetch month =  120\n",
        "list index out of range"
       ]
      },
      {
       "output_type": "stream",
       "stream": "stdout",
       "text": [
        "\n",
        "Error >> 3296 can not fetch month =  120\n",
        "list index out of range"
       ]
      },
      {
       "output_type": "stream",
       "stream": "stdout",
       "text": [
        "\n",
        "Error >> 3383 can not fetch month =  120\n",
        "Get stock no."
       ]
      },
      {
       "output_type": "stream",
       "stream": "stdout",
       "text": [
        " 3380 info for 120 month\n",
        "list index out of range"
       ]
      },
      {
       "output_type": "stream",
       "stream": "stdout",
       "text": [
        "\n",
        "Error >> 5007 can not fetch month =  120\n",
        "list index out of range"
       ]
      },
      {
       "output_type": "stream",
       "stream": "stdout",
       "text": [
        "\n",
        "Error >> 6108 can not fetch month =  120\n",
        "list index out of range"
       ]
      },
      {
       "output_type": "stream",
       "stream": "stdout",
       "text": [
        "\n",
        "Error >> 3419 can not fetch month =  120\n",
        "list index out of range"
       ]
      },
      {
       "output_type": "stream",
       "stream": "stdout",
       "text": [
        "\n",
        "Error >> 9110 can not fetch month =  120\n",
        "list index out of range"
       ]
      },
      {
       "output_type": "stream",
       "stream": "stdout",
       "text": [
        "\n",
        "Error >> 8110 can not fetch month =  120\n",
        "list index out of range"
       ]
      },
      {
       "output_type": "stream",
       "stream": "stdout",
       "text": [
        "\n",
        "Error >> 8114 can not fetch month =  120\n",
        "list index out of range"
       ]
      },
      {
       "output_type": "stream",
       "stream": "stdout",
       "text": [
        "\n",
        "Error >> 3501 can not fetch month =  120\n",
        "list index out of range"
       ]
      },
      {
       "output_type": "stream",
       "stream": "stdout",
       "text": [
        "\n",
        "Error >> 5880 can not fetch month =  120\n",
        "list index out of range"
       ]
      },
      {
       "output_type": "stream",
       "stream": "stdout",
       "text": [
        "\n",
        "Error >> 4904 can not fetch month =  120\n",
        "list index out of range"
       ]
      },
      {
       "output_type": "stream",
       "stream": "stdout",
       "text": [
        "\n",
        "Error >> 6120 can not fetch month =  120\n",
        "list index out of range"
       ]
      },
      {
       "output_type": "stream",
       "stream": "stdout",
       "text": [
        "\n",
        "Error >> 3686 can not fetch month =  120\n",
        "list index out of range"
       ]
      },
      {
       "output_type": "stream",
       "stream": "stdout",
       "text": [
        "\n",
        "Error >> 8411 can not fetch month =  120\n",
        "list index out of range"
       ]
      },
      {
       "output_type": "stream",
       "stream": "stdout",
       "text": [
        "\n",
        "Error >> 8940 can not fetch month =  120\n",
        "list index out of range"
       ]
      },
      {
       "output_type": "stream",
       "stream": "stdout",
       "text": [
        "\n",
        "Error >> 1626 can not fetch month =  120\n",
        "list index out of range"
       ]
      },
      {
       "output_type": "stream",
       "stream": "stdout",
       "text": [
        "\n",
        "Error >> 3209 can not fetch month =  120\n",
        "list index out of range"
       ]
      },
      {
       "output_type": "stream",
       "stream": "stdout",
       "text": [
        "\n",
        "Error >> 2867 can not fetch month =  120\n",
        "list index out of range"
       ]
      },
      {
       "output_type": "stream",
       "stream": "stdout",
       "text": [
        "\n",
        "Error >> 9188 can not fetch month =  120\n",
        "list index out of range"
       ]
      },
      {
       "output_type": "stream",
       "stream": "stdout",
       "text": [
        "\n",
        "Error >> 5533 can not fetch month =  120\n",
        "Get stock no."
       ]
      },
      {
       "output_type": "stream",
       "stream": "stdout",
       "text": [
        " 5531 info for 120 month\n",
        "Get stock no."
       ]
      },
      {
       "output_type": "stream",
       "stream": "stdout",
       "text": [
        " 5534 info for 120 month\n",
        "list index out of range"
       ]
      },
      {
       "output_type": "stream",
       "stream": "stdout",
       "text": [
        "\n",
        "Error >> 5538 can not fetch month =  120\n",
        "list index out of range"
       ]
      },
      {
       "output_type": "stream",
       "stream": "stdout",
       "text": [
        "\n",
        "Error >> 2059 can not fetch month =  120\n",
        "list index out of range"
       ]
      },
      {
       "output_type": "stream",
       "stream": "stdout",
       "text": [
        "\n",
        "Error >> 4536 can not fetch month =  120\n",
        "list index out of range"
       ]
      },
      {
       "output_type": "stream",
       "stream": "stdout",
       "text": [
        "\n",
        "Error >> 4532 can not fetch month =  120\n",
        "list index out of range"
       ]
      },
      {
       "output_type": "stream",
       "stream": "stdout",
       "text": [
        "\n",
        "Error >> 4958 can not fetch month =  120\n",
        "list index out of range"
       ]
      },
      {
       "output_type": "stream",
       "stream": "stdout",
       "text": [
        "\n",
        "Error >> 3229 can not fetch month =  120\n",
        "list index out of range"
       ]
      },
      {
       "output_type": "stream",
       "stream": "stdout",
       "text": [
        "\n",
        "Error >> 6164 can not fetch month =  120\n",
        "Get stock no."
       ]
      },
      {
       "output_type": "stream",
       "stream": "stdout",
       "text": [
        " 6166 info for 120 month\n",
        "list index out of range"
       ]
      },
      {
       "output_type": "stream",
       "stream": "stdout",
       "text": [
        "\n",
        "Error >> 8033 can not fetch month =  120\n",
        "list index out of range"
       ]
      },
      {
       "output_type": "stream",
       "stream": "stdout",
       "text": [
        "\n",
        "Error >> 8039 can not fetch month =  120\n",
        "list index out of range"
       ]
      },
      {
       "output_type": "stream",
       "stream": "stdout",
       "text": [
        "\n",
        "Error >> 5706 can not fetch month =  120\n",
        "list index out of range"
       ]
      },
      {
       "output_type": "stream",
       "stream": "stdout",
       "text": [
        "\n",
        "Error >> 4984 can not fetch month =  120\n",
        "list index out of range"
       ]
      },
      {
       "output_type": "stream",
       "stream": "stdout",
       "text": [
        "\n",
        "Error >> 3308 can not fetch month =  120\n",
        "list index out of range"
       ]
      },
      {
       "output_type": "stream",
       "stream": "stdout",
       "text": [
        "\n",
        "Error >> 3305 can not fetch month =  120\n",
        "list index out of range"
       ]
      },
      {
       "output_type": "stream",
       "stream": "stdout",
       "text": [
        "\n",
        "Error >> 8249 can not fetch month =  120\n",
        "list index out of range"
       ]
      },
      {
       "output_type": "stream",
       "stream": "stdout",
       "text": [
        "\n",
        "Error >> 4164 can not fetch month =  120\n",
        "list index out of range"
       ]
      },
      {
       "output_type": "stream",
       "stream": "stdout",
       "text": [
        "\n",
        "Error >> 2231 can not fetch month =  120\n",
        "list index out of range"
       ]
      },
      {
       "output_type": "stream",
       "stream": "stdout",
       "text": [
        "\n",
        "Error >> 8427 can not fetch month =  120\n",
        "list index out of range"
       ]
      },
      {
       "output_type": "stream",
       "stream": "stdout",
       "text": [
        "\n",
        "Error >> 3494 can not fetch month =  120\n",
        "list index out of range"
       ]
      },
      {
       "output_type": "stream",
       "stream": "stdout",
       "text": [
        "\n",
        "Error >> 8422 can not fetch month =  120\n",
        "list index out of range"
       ]
      },
      {
       "output_type": "stream",
       "stream": "stdout",
       "text": [
        "\n",
        "Error >> 3338 can not fetch month =  120\n",
        "list index out of range"
       ]
      },
      {
       "output_type": "stream",
       "stream": "stdout",
       "text": [
        "\n",
        "Error >> 4137 can not fetch month =  120\n",
        "list index out of range"
       ]
      },
      {
       "output_type": "stream",
       "stream": "stdout",
       "text": [
        "\n",
        "Error >> 4960 can not fetch month =  120\n",
        "list index out of range"
       ]
      },
      {
       "output_type": "stream",
       "stream": "stdout",
       "text": [
        "\n",
        "Error >> 8271 can not fetch month =  120\n",
        "Get stock no."
       ]
      },
      {
       "output_type": "stream",
       "stream": "stdout",
       "text": [
        " 6239 info for 120 month\n",
        "list index out of range"
       ]
      },
      {
       "output_type": "stream",
       "stream": "stdout",
       "text": [
        "\n",
        "Error >> 9802 can not fetch month =  120\n",
        "list index out of range"
       ]
      },
      {
       "output_type": "stream",
       "stream": "stdout",
       "text": [
        "\n",
        "Error >> 6230 can not fetch month =  120\n",
        "list index out of range"
       ]
      },
      {
       "output_type": "stream",
       "stream": "stdout",
       "text": [
        "\n",
        "Error >> 4144 can not fetch month =  120\n",
        "list index out of range"
       ]
      },
      {
       "output_type": "stream",
       "stream": "stdout",
       "text": [
        "\n",
        "Error >> 4141 can not fetch month =  120\n",
        "list index out of range"
       ]
      },
      {
       "output_type": "stream",
       "stream": "stdout",
       "text": [
        "\n",
        "Error >> 4142 can not fetch month =  120\n",
        "list index out of range"
       ]
      },
      {
       "output_type": "stream",
       "stream": "stdout",
       "text": [
        "\n",
        "Error >> 4942 can not fetch month =  120\n",
        "list index out of range"
       ]
      },
      {
       "output_type": "stream",
       "stream": "stdout",
       "text": [
        "\n",
        "Error >> 2114 can not fetch month =  120\n",
        "list index out of range"
       ]
      },
      {
       "output_type": "stream",
       "stream": "stdout",
       "text": [
        "\n",
        "Error >> 8046 can not fetch month =  120\n",
        "list index out of range"
       ]
      },
      {
       "output_type": "stream",
       "stream": "stdout",
       "text": [
        "\n",
        "Error >> 2637 can not fetch month =  120\n",
        "list index out of range"
       ]
      },
      {
       "output_type": "stream",
       "stream": "stdout",
       "text": [
        "\n",
        "Error >> 3545 can not fetch month =  120\n",
        "list index out of range"
       ]
      },
      {
       "output_type": "stream",
       "stream": "stdout",
       "text": [
        "\n",
        "Error >> 3130 can not fetch month =  120\n",
        "Get stock no."
       ]
      },
      {
       "output_type": "stream",
       "stream": "stdout",
       "text": [
        " 6605 info for 120 month\n",
        "list index out of range"
       ]
      },
      {
       "output_type": "stream",
       "stream": "stdout",
       "text": [
        "\n",
        "Error >> 9946 can not fetch month =  120\n",
        "list index out of range"
       ]
      },
      {
       "output_type": "stream",
       "stream": "stdout",
       "text": [
        "\n",
        "Error >> 4104 can not fetch month =  120\n",
        "Get stock no."
       ]
      },
      {
       "output_type": "stream",
       "stream": "stdout",
       "text": [
        " 4106 info for 120 month\n",
        "list index out of range"
       ]
      },
      {
       "output_type": "stream",
       "stream": "stdout",
       "text": [
        "\n",
        "Error >> 8210 can not fetch month =  120\n",
        "list index out of range"
       ]
      },
      {
       "output_type": "stream",
       "stream": "stdout",
       "text": [
        "\n",
        "Error >> 8213 can not fetch month =  120\n",
        "list index out of range"
       ]
      },
      {
       "output_type": "stream",
       "stream": "stdout",
       "text": [
        "\n",
        "Error >> 8215 can not fetch month =  120\n",
        "list index out of range"
       ]
      },
      {
       "output_type": "stream",
       "stream": "stdout",
       "text": [
        "\n",
        "Error >> 6243 can not fetch month =  120\n",
        "list index out of range"
       ]
      },
      {
       "output_type": "stream",
       "stream": "stdout",
       "text": [
        "\n",
        "Error >> 2923 can not fetch month =  120\n",
        "list index out of range"
       ]
      },
      {
       "output_type": "stream",
       "stream": "stdout",
       "text": [
        "\n",
        "Error >> 4733 can not fetch month =  120\n",
        "list index out of range"
       ]
      },
      {
       "output_type": "stream",
       "stream": "stdout",
       "text": [
        "\n",
        "Error >> 4737 can not fetch month =  120\n",
        "list index out of range"
       ]
      },
      {
       "output_type": "stream",
       "stream": "stdout",
       "text": [
        "\n",
        "Error >> 6205 can not fetch month =  120\n",
        "Get stock no."
       ]
      },
      {
       "output_type": "stream",
       "stream": "stdout",
       "text": [
        " 6206 info for 120 month\n",
        "Get stock no."
       ]
      },
      {
       "output_type": "stream",
       "stream": "stdout",
       "text": [
        " 6201 info for 120 month\n",
        "Get stock no."
       ]
      },
      {
       "output_type": "stream",
       "stream": "stdout",
       "text": [
        " 6202 info for 120 month\n",
        "Get stock no."
       ]
      },
      {
       "output_type": "stream",
       "stream": "stdout",
       "text": [
        " 6209 info for 120 month\n",
        "list index out of range"
       ]
      },
      {
       "output_type": "stream",
       "stream": "stdout",
       "text": [
        "\n",
        "Error >> 3698 can not fetch month =  120\n",
        "list index out of range"
       ]
      },
      {
       "output_type": "stream",
       "stream": "stdout",
       "text": [
        "\n",
        "Error >> 0060 can not fetch month =  120\n",
        "list index out of range"
       ]
      },
      {
       "output_type": "stream",
       "stream": "stdout",
       "text": [
        "\n",
        "Error >> 0061 can not fetch month =  120\n",
        "list index out of range"
       ]
      },
      {
       "output_type": "stream",
       "stream": "stdout",
       "text": [
        "\n",
        "Error >> 2528 can not fetch month =  120\n",
        "list index out of range"
       ]
      },
      {
       "output_type": "stream",
       "stream": "stdout",
       "text": [
        "\n",
        "Error >> 8021 can not fetch month =  120\n",
        "list index out of range"
       ]
      },
      {
       "output_type": "stream",
       "stream": "stdout",
       "text": [
        "\n",
        "Error >> 4755 can not fetch month =  120\n",
        "list index out of range"
       ]
      },
      {
       "output_type": "stream",
       "stream": "stdout",
       "text": [
        "\n",
        "Error >> 5871 can not fetch month =  120\n",
        "Get stock no."
       ]
      },
      {
       "output_type": "stream",
       "stream": "stdout",
       "text": [
        " 6196 info for 120 month\n",
        "Get stock no."
       ]
      },
      {
       "output_type": "stream",
       "stream": "stdout",
       "text": [
        " 6197 info for 120 month\n",
        "list index out of range"
       ]
      },
      {
       "output_type": "stream",
       "stream": "stdout",
       "text": [
        "\n",
        "Error >> 6191 can not fetch month =  120\n",
        "Get stock no."
       ]
      },
      {
       "output_type": "stream",
       "stream": "stdout",
       "text": [
        " 6192 info for 120 month\n",
        "list index out of range"
       ]
      },
      {
       "output_type": "stream",
       "stream": "stdout",
       "text": [
        "\n",
        "Error >> 2731 can not fetch month =  120\n",
        "list index out of range"
       ]
      },
      {
       "output_type": "stream",
       "stream": "stdout",
       "text": [
        "\n",
        "Error >> 6226 can not fetch month =  120\n",
        "list index out of range"
       ]
      },
      {
       "output_type": "stream",
       "stream": "stdout",
       "text": [
        "\n",
        "Error >> 6224 can not fetch month =  120\n",
        "Get stock no."
       ]
      },
      {
       "output_type": "stream",
       "stream": "stdout",
       "text": [
        " 6225 info for 120 month\n",
        "list index out of range"
       ]
      },
      {
       "output_type": "stream",
       "stream": "stdout",
       "text": [
        "\n",
        "Error >> 1773 can not fetch month =  120\n",
        "Get stock no."
       ]
      },
      {
       "output_type": "stream",
       "stream": "stdout",
       "text": [
        " 5607 info for 120 month\n",
        "list index out of range"
       ]
      },
      {
       "output_type": "stream",
       "stream": "stdout",
       "text": [
        "\n",
        "Error >> 0080 can not fetch month =  120\n",
        "list index out of range"
       ]
      },
      {
       "output_type": "stream",
       "stream": "stdout",
       "text": [
        "\n",
        "Error >> 0081 can not fetch month =  120\n",
        "list index out of range"
       ]
      },
      {
       "output_type": "stream",
       "stream": "stdout",
       "text": [
        "\n",
        "Error >> 3704 can not fetch month =  120\n",
        "list index out of range"
       ]
      },
      {
       "output_type": "stream",
       "stream": "stdout",
       "text": [
        "\n",
        "Error >> 2712 can not fetch month =  120\n",
        "list index out of range"
       ]
      },
      {
       "output_type": "stream",
       "stream": "stdout",
       "text": [
        "\n",
        "Error >> 6251 can not fetch month =  120\n",
        "list index out of range"
       ]
      },
      {
       "output_type": "stream",
       "stream": "stdout",
       "text": [
        "\n",
        "Error >> 6405 can not fetch month =  120\n",
        "list index out of range"
       ]
      },
      {
       "output_type": "stream",
       "stream": "stdout",
       "text": [
        "\n",
        "Error >> 9955 can not fetch month =  120\n",
        "list index out of range"
       ]
      },
      {
       "output_type": "stream",
       "stream": "stdout",
       "text": [
        "\n",
        "Error >> 3653 can not fetch month =  120\n",
        "list index out of range"
       ]
      },
      {
       "output_type": "stream",
       "stream": "stdout",
       "text": [
        "\n",
        "Error >> 5243 can not fetch month =  120\n",
        "list index out of range"
       ]
      },
      {
       "output_type": "stream",
       "stream": "stdout",
       "text": [
        "\n",
        "Error >> 3673 can not fetch month =  120\n",
        "list index out of range"
       ]
      },
      {
       "output_type": "stream",
       "stream": "stdout",
       "text": [
        "\n",
        "Error >> 3679 can not fetch month =  120\n",
        "list index out of range"
       ]
      },
      {
       "output_type": "stream",
       "stream": "stdout",
       "text": [
        "\n",
        "Error >> 3557 can not fetch month =  120\n",
        "list index out of range"
       ]
      },
      {
       "output_type": "stream",
       "stream": "stdout",
       "text": [
        "\n",
        "Error >> 3583 can not fetch month =  120\n",
        "list index out of range"
       ]
      },
      {
       "output_type": "stream",
       "stream": "stdout",
       "text": [
        "\n",
        "Error >> 3588 can not fetch month =  120\n",
        "list index out of range"
       ]
      },
      {
       "output_type": "stream",
       "stream": "stdout",
       "text": [
        "\n",
        "Error >> 3550 can not fetch month =  120\n",
        "list index out of range"
       ]
      },
      {
       "output_type": "stream",
       "stream": "stdout",
       "text": [
        "\n",
        "Error >> 4426 can not fetch month =  120\n",
        "list index out of range"
       ]
      },
      {
       "output_type": "stream",
       "stream": "stdout",
       "text": [
        "\n",
        "Error >> 3559 can not fetch month =  120\n",
        "list index out of range"
       ]
      },
      {
       "output_type": "stream",
       "stream": "stdout",
       "text": [
        "\n",
        "Error >> 1817 can not fetch month =  120\n",
        "Get stock no."
       ]
      },
      {
       "output_type": "stream",
       "stream": "stdout",
       "text": [
        " 5305 info for 120 month\n",
        "list index out of range"
       ]
      },
      {
       "output_type": "stream",
       "stream": "stdout",
       "text": [
        "\n",
        "Error >> 6281 can not fetch month =  120\n",
        "list index out of range"
       ]
      },
      {
       "output_type": "stream",
       "stream": "stdout",
       "text": [
        "\n",
        "Error >> 3443 can not fetch month =  120\n",
        "list index out of range"
       ]
      },
      {
       "output_type": "stream",
       "stream": "stdout",
       "text": [
        "\n",
        "Error >> 5215 can not fetch month =  120\n",
        "list index out of range"
       ]
      },
      {
       "output_type": "stream",
       "stream": "stdout",
       "text": [
        "\n",
        "Error >> 6702 can not fetch month =  120\n",
        "list index out of range"
       ]
      },
      {
       "output_type": "stream",
       "stream": "stdout",
       "text": [
        "\n",
        "Error >> 3617 can not fetch month =  120\n",
        "list index out of range"
       ]
      },
      {
       "output_type": "stream",
       "stream": "stdout",
       "text": [
        "\n",
        "Error >> 3090 can not fetch month =  120\n",
        "list index out of range"
       ]
      },
      {
       "output_type": "stream",
       "stream": "stdout",
       "text": [
        "\n",
        "Error >> 3094 can not fetch month =  120\n",
        "list index out of range"
       ]
      },
      {
       "output_type": "stream",
       "stream": "stdout",
       "text": [
        "\n",
        "Error >> 4108 can not fetch month =  120\n",
        "Get stock no."
       ]
      },
      {
       "output_type": "stream",
       "stream": "stdout",
       "text": [
        " 6116 info for 120 month\n",
        "list index out of range"
       ]
      },
      {
       "output_type": "stream",
       "stream": "stdout",
       "text": [
        "\n",
        "Error >> 9106 can not fetch month =  120\n",
        "Get stock no."
       ]
      },
      {
       "output_type": "stream",
       "stream": "stdout",
       "text": [
        " 4414 info for 120 month\n",
        "list index out of range"
       ]
      },
      {
       "output_type": "stream",
       "stream": "stdout",
       "text": [
        "\n",
        "Error >> 1339 can not fetch month =  120\n",
        "list index out of range"
       ]
      },
      {
       "output_type": "stream",
       "stream": "stdout",
       "text": [
        "\n",
        "Error >> 1338 can not fetch month =  120\n",
        "list index out of range"
       ]
      },
      {
       "output_type": "stream",
       "stream": "stdout",
       "text": [
        "\n",
        "Error >> 1337 can not fetch month =  120\n",
        "list index out of range"
       ]
      },
      {
       "output_type": "stream",
       "stream": "stdout",
       "text": [
        "\n",
        "Error >> 3638 can not fetch month =  120\n",
        "list index out of range"
       ]
      },
      {
       "output_type": "stream",
       "stream": "stdout",
       "text": [
        "\n",
        "Error >> 1432 can not fetch month =  120\n",
        "list index out of range"
       ]
      },
      {
       "output_type": "stream",
       "stream": "stdout",
       "text": [
        "\n",
        "Error >> 5234 can not fetch month =  120\n",
        "list index out of range"
       ]
      },
      {
       "output_type": "stream",
       "stream": "stdout",
       "text": [
        "\n",
        "Error >> 3703 can not fetch month =  120\n",
        "Get stock no."
       ]
      },
      {
       "output_type": "stream",
       "stream": "stdout",
       "text": [
        " 3701 info for 120 month\n",
        "list index out of range"
       ]
      },
      {
       "output_type": "stream",
       "stream": "stdout",
       "text": [
        "\n",
        "Error >> 3706 can not fetch month =  120\n",
        "Get stock no."
       ]
      },
      {
       "output_type": "stream",
       "stream": "stdout",
       "text": [
        " 6131 info for 120 month\n",
        "list index out of range"
       ]
      },
      {
       "output_type": "stream",
       "stream": "stdout",
       "text": [
        "\n",
        "Error >> 1590 can not fetch month =  120\n",
        "list index out of range"
       ]
      },
      {
       "output_type": "stream",
       "stream": "stdout",
       "text": [
        "\n",
        "Error >> 2062 can not fetch month =  120\n",
        "list index out of range"
       ]
      },
      {
       "output_type": "stream",
       "stream": "stdout",
       "text": [
        "\n",
        "Error >> 3257 can not fetch month =  120\n",
        "list index out of range"
       ]
      },
      {
       "output_type": "stream",
       "stream": "stdout",
       "text": [
        "\n",
        "Error >> 8105 can not fetch month =  120\n",
        "Get stock no."
       ]
      },
      {
       "output_type": "stream",
       "stream": "stdout",
       "text": [
        " 8101 info for 120 month\n",
        "list index out of range"
       ]
      },
      {
       "output_type": "stream",
       "stream": "stdout",
       "text": [
        "\n",
        "Error >> 8103 can not fetch month =  120\n",
        "Get stock no."
       ]
      },
      {
       "output_type": "stream",
       "stream": "stdout",
       "text": [
        " 3189 info for 120 month\n",
        "list index out of range"
       ]
      },
      {
       "output_type": "stream",
       "stream": "stdout",
       "text": [
        "\n",
        "Error >> 3561 can not fetch month =  120\n",
        "list index out of range"
       ]
      },
      {
       "output_type": "stream",
       "stream": "stdout",
       "text": [
        "\n",
        "Error >> 2812 can not fetch month =  120\n",
        "list index out of range"
       ]
      },
      {
       "output_type": "stream",
       "stream": "stdout",
       "text": [
        "\n",
        "Error >> 3376 can not fetch month =  120\n",
        "list index out of range"
       ]
      },
      {
       "output_type": "stream",
       "stream": "stdout",
       "text": [
        "\n",
        "Error >> 5521 can not fetch month =  120\n",
        "list index out of range"
       ]
      },
      {
       "output_type": "stream",
       "stream": "stdout",
       "text": [
        "\n",
        "Error >> 5522 can not fetch month =  120\n",
        "Get stock no."
       ]
      },
      {
       "output_type": "stream",
       "stream": "stdout",
       "text": [
        " 5525 info for 120 month\n",
        "list index out of range"
       ]
      },
      {
       "output_type": "stream",
       "stream": "stdout",
       "text": [
        "\n",
        "Error >> 6152 can not fetch month =  120\n",
        "list index out of range"
       ]
      },
      {
       "output_type": "stream",
       "stream": "stdout",
       "text": [
        "\n",
        "Error >> 6153 can not fetch month =  120\n",
        "list index out of range"
       ]
      },
      {
       "output_type": "stream",
       "stream": "stdout",
       "text": [
        "\n",
        "Error >> 6155 can not fetch month =  120\n",
        "list index out of range"
       ]
      },
      {
       "output_type": "stream",
       "stream": "stdout",
       "text": [
        "\n",
        "Error >> 2049 can not fetch month =  120\n",
        "list index out of range"
       ]
      },
      {
       "output_type": "stream",
       "stream": "stdout",
       "text": [
        "\n",
        "Error >> 3697 can not fetch month =  120\n",
        "list index out of range"
       ]
      },
      {
       "output_type": "stream",
       "stream": "stdout",
       "text": [
        "\n",
        "Error >> 8163 can not fetch month =  120\n",
        "list index out of range"
       ]
      },
      {
       "output_type": "stream",
       "stream": "stdout",
       "text": [
        "\n",
        "Error >> 3450 can not fetch month =  120\n",
        "list index out of range"
       ]
      },
      {
       "output_type": "stream",
       "stream": "stdout",
       "text": [
        "\n",
        "Error >> 3454 can not fetch month =  120\n",
        "list index out of range"
       ]
      },
      {
       "output_type": "stream",
       "stream": "stdout",
       "text": [
        "\n",
        "Error >> 3356 can not fetch month =  120\n",
        "list index out of range"
       ]
      },
      {
       "output_type": "stream",
       "stream": "stdout",
       "text": [
        "\n",
        "Error >> 3682 can not fetch month =  120\n",
        "list index out of range"
       ]
      },
      {
       "output_type": "stream",
       "stream": "stdout",
       "text": [
        "\n",
        "Error >> 9157 can not fetch month =  120\n",
        "list index out of range"
       ]
      },
      {
       "output_type": "stream",
       "stream": "stdout",
       "text": [
        "\n",
        "Error >> 3584 can not fetch month =  120\n",
        "list index out of range"
       ]
      },
      {
       "output_type": "stream",
       "stream": "stdout",
       "text": [
        "\n",
        "Error >> 6176 can not fetch month =  120\n",
        "list index out of range"
       ]
      },
      {
       "output_type": "stream",
       "stream": "stdout",
       "text": [
        "\n",
        "Error >> 6177 can not fetch month =  120\n",
        "Get stock no."
       ]
      },
      {
       "output_type": "stream",
       "stream": "stdout",
       "text": [
        " 6172 info for 120 month\n",
        "list index out of range"
       ]
      },
      {
       "output_type": "stream",
       "stream": "stdout",
       "text": [
        "\n",
        "Error >> 2208 can not fetch month =  120\n",
        "list index out of range"
       ]
      },
      {
       "output_type": "stream",
       "stream": "stdout",
       "text": [
        "\n",
        "Error >> 6271 can not fetch month =  120\n",
        "list index out of range"
       ]
      },
      {
       "output_type": "stream",
       "stream": "stdout",
       "text": [
        "\n",
        "Error >> 4999 can not fetch month =  120\n",
        "list index out of range"
       ]
      },
      {
       "output_type": "stream",
       "stream": "stdout",
       "text": [
        "\n",
        "Error >> 6504 can not fetch month =  120\n",
        "list index out of range"
       ]
      },
      {
       "output_type": "stream",
       "stream": "stdout",
       "text": [
        "\n",
        "Error >> 9136 can not fetch month =  120\n",
        "list index out of range"
       ]
      },
      {
       "output_type": "stream",
       "stream": "stdout",
       "text": [
        "\n",
        "Error >> 2228 can not fetch month =  120\n",
        "Get stock no."
       ]
      },
      {
       "output_type": "stream",
       "stream": "stdout",
       "text": [
        " 2227 info for 120 month\n",
        "list index out of range"
       ]
      },
      {
       "output_type": "stream",
       "stream": "stdout",
       "text": [
        "\n",
        "Error >> 8112 can not fetch month =  120\n",
        "list index out of range"
       ]
      },
      {
       "output_type": "stream",
       "stream": "stdout",
       "text": [
        "\n",
        "Error >> 3579 can not fetch month =  120\n",
        "list index out of range"
       ]
      },
      {
       "output_type": "stream",
       "stream": "stdout",
       "text": [
        "\n",
        "Error >> 3576 can not fetch month =  120\n",
        "list index out of range"
       ]
      },
      {
       "output_type": "stream",
       "stream": "stdout",
       "text": [
        "\n",
        "Error >> 9958 can not fetch month =  120\n",
        "list index out of range"
       ]
      },
      {
       "output_type": "stream",
       "stream": "stdout",
       "text": [
        "\n",
        "Error >> 4977 can not fetch month =  120\n",
        "Get stock no."
       ]
      },
      {
       "output_type": "stream",
       "stream": "stdout",
       "text": [
        " 3311 info for 120 month\n",
        "list index out of range"
       ]
      },
      {
       "output_type": "stream",
       "stream": "stdout",
       "text": [
        "\n",
        "Error >> 3312 can not fetch month =  120\n",
        "list index out of range"
       ]
      },
      {
       "output_type": "stream",
       "stream": "stdout",
       "text": [
        "\n",
        "Error >> 3315 can not fetch month =  120\n",
        "list index out of range"
       ]
      },
      {
       "output_type": "stream",
       "stream": "stdout",
       "text": [
        "\n",
        "Error >> 8261 can not fetch month =  120\n",
        "list index out of range"
       ]
      },
      {
       "output_type": "stream",
       "stream": "stdout",
       "text": [
        "\n",
        "Error >> 5906 can not fetch month =  120\n",
        "list index out of range"
       ]
      },
      {
       "output_type": "stream",
       "stream": "stdout",
       "text": [
        "\n",
        "Error >> 5907 can not fetch month =  120\n",
        "list index out of range"
       ]
      },
      {
       "output_type": "stream",
       "stream": "stdout",
       "text": [
        "\n",
        "Error >> 3481 can not fetch month =  120\n",
        "list index out of range"
       ]
      },
      {
       "output_type": "stream",
       "stream": "stdout",
       "text": [
        "\n",
        "Error >> 5280 can not fetch month =  120\n",
        "list index out of range"
       ]
      },
      {
       "output_type": "stream",
       "stream": "stdout",
       "text": [
        "\n",
        "Error >> 4952 can not fetch month =  120\n",
        "list index out of range"
       ]
      },
      {
       "output_type": "stream",
       "stream": "stdout",
       "text": [
        "\n",
        "Error >> 4956 can not fetch month =  120\n",
        "list index out of range"
       ]
      },
      {
       "output_type": "stream",
       "stream": "stdout",
       "text": [
        "\n",
        "Error >> 8429 can not fetch month =  120\n",
        "list index out of range"
       ]
      },
      {
       "output_type": "stream",
       "stream": "stdout",
       "text": [
        "\n",
        "Error >> 4133 can not fetch month =  120\n",
        "list index out of range"
       ]
      },
      {
       "output_type": "stream",
       "stream": "stdout",
       "text": [
        "\n",
        "Error >> 2597 can not fetch month =  120\n",
        "list index out of range"
       ]
      },
      {
       "output_type": "stream",
       "stream": "stdout",
       "text": [
        "\n",
        "Error >> 4306 can not fetch month =  120\n",
        "list index out of range"
       ]
      },
      {
       "output_type": "stream",
       "stream": "stdout",
       "text": [
        "\n",
        "Error >> 2361 can not fetch month =  120\n",
        "list index out of range"
       ]
      },
      {
       "output_type": "stream",
       "stream": "stdout",
       "text": [
        "\n",
        "Error >> 4930 can not fetch month =  120\n",
        "list index out of range"
       ]
      },
      {
       "output_type": "stream",
       "stream": "stdout",
       "text": [
        "\n",
        "Error >> 4934 can not fetch month =  120\n",
        "list index out of range"
       ]
      },
      {
       "output_type": "stream",
       "stream": "stdout",
       "text": [
        "\n",
        "Error >> 4935 can not fetch month =  120\n",
        "list index out of range"
       ]
      },
      {
       "output_type": "stream",
       "stream": "stdout",
       "text": [
        "\n",
        "Error >> 4938 can not fetch month =  120\n",
        "list index out of range"
       ]
      },
      {
       "output_type": "stream",
       "stream": "stdout",
       "text": [
        "\n",
        "Error >> 3702 can not fetch month =  120\n",
        "list index out of range"
       ]
      },
      {
       "output_type": "stream",
       "stream": "stdout",
       "text": [
        "\n",
        "Error >> 1789 can not fetch month =  120\n",
        "list index out of range"
       ]
      },
      {
       "output_type": "stream",
       "stream": "stdout",
       "text": [
        "\n",
        "Error >> 1786 can not fetch month =  120\n",
        "list index out of range"
       ]
      },
      {
       "output_type": "stream",
       "stream": "stdout",
       "text": [
        "\n",
        "Error >> 5259 can not fetch month =  120\n",
        "list index out of range"
       ]
      },
      {
       "output_type": "stream",
       "stream": "stdout",
       "text": [
        "\n",
        "Error >> 2642 can not fetch month =  120\n",
        "list index out of range"
       ]
      },
      {
       "output_type": "stream",
       "stream": "stdout",
       "text": [
        "\n",
        "Error >> 3149 can not fetch month =  120\n",
        "list index out of range"
       ]
      },
      {
       "output_type": "stream",
       "stream": "stdout",
       "text": [
        "\n",
        "Error >> 3504 can not fetch month =  120\n",
        "list index out of range"
       ]
      },
      {
       "output_type": "stream",
       "stream": "stdout",
       "text": [
        "\n",
        "Error >> 4919 can not fetch month =  120\n",
        "list index out of range"
       ]
      },
      {
       "output_type": "stream",
       "stream": "stdout",
       "text": [
        "\n",
        "Error >> 4916 can not fetch month =  120\n",
        "list index out of range"
       ]
      },
      {
       "output_type": "stream",
       "stream": "stdout",
       "text": [
        "\n",
        "Error >> 4915 can not fetch month =  120\n",
        "list index out of range"
       ]
      },
      {
       "output_type": "stream",
       "stream": "stdout",
       "text": [
        "\n",
        "Error >> 3694 can not fetch month =  120\n",
        "list index out of range"
       ]
      },
      {
       "output_type": "stream",
       "stream": "stdout",
       "text": [
        "\n",
        "Error >> 8201 can not fetch month =  120\n",
        "list index out of range"
       ]
      },
      {
       "output_type": "stream",
       "stream": "stdout",
       "text": [
        "\n",
        "Error >> 6005 can not fetch month =  120\n",
        "list index out of range"
       ]
      },
      {
       "output_type": "stream",
       "stream": "stdout",
       "text": [
        "\n",
        "Error >> 3573 can not fetch month =  120\n",
        "list index out of range"
       ]
      },
      {
       "output_type": "stream",
       "stream": "stdout",
       "text": [
        "\n",
        "Error >> 3167 can not fetch month =  120\n",
        "list index out of range"
       ]
      },
      {
       "output_type": "stream",
       "stream": "stdout",
       "text": [
        "\n",
        "Error >> 3164 can not fetch month =  120\n",
        "list index out of range"
       ]
      },
      {
       "output_type": "stream",
       "stream": "stdout",
       "text": [
        "\n",
        "Error >> 6283 can not fetch month =  120\n",
        "list index out of range"
       ]
      },
      {
       "output_type": "stream",
       "stream": "stdout",
       "text": [
        "\n",
        "Error >> 2491 can not fetch month =  120\n",
        "Get stock no."
       ]
      },
      {
       "output_type": "stream",
       "stream": "stdout",
       "text": [
        " 1560 info for 120 month\n",
        "Month =  120  : Fetching finished!\n",
        "Fetching Start\n",
        "list index out of range"
       ]
      },
      {
       "output_type": "stream",
       "stream": "stdout",
       "text": [
        "\n",
        "Error >> 0059 can not fetch month =  108\n",
        "list index out of range"
       ]
      },
      {
       "output_type": "stream",
       "stream": "stdout",
       "text": [
        "\n",
        "Error >> 0058 can not fetch month =  108\n",
        "list index out of range"
       ]
      },
      {
       "output_type": "stream",
       "stream": "stdout",
       "text": [
        "\n",
        "Error >> 0053 can not fetch month =  108\n",
        "list index out of range"
       ]
      },
      {
       "output_type": "stream",
       "stream": "stdout",
       "text": [
        "\n",
        "Error >> 0052 can not fetch month =  108\n",
        "list index out of range"
       ]
      },
      {
       "output_type": "stream",
       "stream": "stdout",
       "text": [
        "\n",
        "Error >> 0051 can not fetch month =  108\n",
        "list index out of range"
       ]
      },
      {
       "output_type": "stream",
       "stream": "stdout",
       "text": [
        "\n",
        "Error >> 0057 can not fetch month =  108\n",
        "list index out of range"
       ]
      },
      {
       "output_type": "stream",
       "stream": "stdout",
       "text": [
        "\n",
        "Error >> 0056 can not fetch month =  108\n",
        "list index out of range"
       ]
      },
      {
       "output_type": "stream",
       "stream": "stdout",
       "text": [
        "\n",
        "Error >> 0055 can not fetch month =  108\n",
        "list index out of range"
       ]
      },
      {
       "output_type": "stream",
       "stream": "stdout",
       "text": [
        "\n",
        "Error >> 0054 can not fetch month =  108\n",
        "list index out of range"
       ]
      },
      {
       "output_type": "stream",
       "stream": "stdout",
       "text": [
        "\n",
        "Error >> 3519 can not fetch month =  108\n",
        "list index out of range"
       ]
      },
      {
       "output_type": "stream",
       "stream": "stdout",
       "text": [
        "\n",
        "Error >> 3518 can not fetch month =  108\n",
        "list index out of range"
       ]
      },
      {
       "output_type": "stream",
       "stream": "stdout",
       "text": [
        "\n",
        "Error >> 8011 can not fetch month =  108\n",
        "list index out of range"
       ]
      },
      {
       "output_type": "stream",
       "stream": "stdout",
       "text": [
        "\n",
        "Error >> 3622 can not fetch month =  108\n",
        "list index out of range"
       ]
      },
      {
       "output_type": "stream",
       "stream": "stdout",
       "text": [
        "\n",
        "Error >> 4722 can not fetch month =  108\n",
        "list index out of range"
       ]
      },
      {
       "output_type": "stream",
       "stream": "stdout",
       "text": [
        "\n",
        "Error >> 6215 can not fetch month =  108\n",
        "list index out of range"
       ]
      },
      {
       "output_type": "stream",
       "stream": "stdout",
       "text": [
        "\n",
        "Error >> 6214 can not fetch month =  108\n",
        "list index out of range"
       ]
      },
      {
       "output_type": "stream",
       "stream": "stdout",
       "text": [
        "\n",
        "Error >> 6213 can not fetch month =  108\n",
        "list index out of range"
       ]
      },
      {
       "output_type": "stream",
       "stream": "stdout",
       "text": [
        "\n",
        "Error >> 1762 can not fetch month =  108\n",
        "list index out of range"
       ]
      },
      {
       "output_type": "stream",
       "stream": "stdout",
       "text": [
        "\n",
        "Error >> 3533 can not fetch month =  108\n",
        "list index out of range"
       ]
      },
      {
       "output_type": "stream",
       "stream": "stdout",
       "text": [
        "\n",
        "Error >> 3532 can not fetch month =  108\n",
        "list index out of range"
       ]
      },
      {
       "output_type": "stream",
       "stream": "stdout",
       "text": [
        "\n",
        "Error >> 3535 can not fetch month =  108\n",
        "list index out of range"
       ]
      },
      {
       "output_type": "stream",
       "stream": "stdout",
       "text": [
        "\n",
        "Error >> 3536 can not fetch month =  108\n",
        "list index out of range"
       ]
      },
      {
       "output_type": "stream",
       "stream": "stdout",
       "text": [
        "\n",
        "Error >> 3515 can not fetch month =  108\n",
        "list index out of range"
       ]
      },
      {
       "output_type": "stream",
       "stream": "stdout",
       "text": [
        "\n",
        "Error >> 3514 can not fetch month =  108\n",
        "list index out of range"
       ]
      },
      {
       "output_type": "stream",
       "stream": "stdout",
       "text": [
        "\n",
        "Error >> 4746 can not fetch month =  108\n",
        "Get stock no."
       ]
      },
      {
       "output_type": "stream",
       "stream": "stdout",
       "text": [
        " 6184 info for 108 month\n",
        "list index out of range"
       ]
      },
      {
       "output_type": "stream",
       "stream": "stdout",
       "text": [
        "\n",
        "Error >> 6183 can not fetch month =  108\n",
        "list index out of range"
       ]
      },
      {
       "output_type": "stream",
       "stream": "stdout",
       "text": [
        "\n",
        "Error >> 2727 can not fetch month =  108\n",
        "list index out of range"
       ]
      },
      {
       "output_type": "stream",
       "stream": "stdout",
       "text": [
        "\n",
        "Error >> 2723 can not fetch month =  108\n",
        "list index out of range"
       ]
      },
      {
       "output_type": "stream",
       "stream": "stdout",
       "text": [
        "\n",
        "Error >> 2722 can not fetch month =  108\n",
        "list index out of range"
       ]
      },
      {
       "output_type": "stream",
       "stream": "stdout",
       "text": [
        "\n",
        "Error >> 5264 can not fetch month =  108\n",
        "list index out of range"
       ]
      },
      {
       "output_type": "stream",
       "stream": "stdout",
       "text": [
        "\n",
        "Error >> 5269 can not fetch month =  108\n",
        "Get stock no."
       ]
      },
      {
       "output_type": "stream",
       "stream": "stdout",
       "text": [
        " 3021 info for 108 month\n",
        "list index out of range"
       ]
      },
      {
       "output_type": "stream",
       "stream": "stdout",
       "text": [
        "\n",
        "Error >> 5388 can not fetch month =  108\n",
        "list index out of range"
       ]
      },
      {
       "output_type": "stream",
       "stream": "stdout",
       "text": [
        "\n",
        "Error >> 4976 can not fetch month =  108\n",
        "list index out of range"
       ]
      },
      {
       "output_type": "stream",
       "stream": "stdout",
       "text": [
        "\n",
        "Error >> 3474 can not fetch month =  108\n",
        "list index out of range"
       ]
      },
      {
       "output_type": "stream",
       "stream": "stdout",
       "text": [
        "\n",
        "Error >> 1589 can not fetch month =  108\n",
        "list index out of range"
       ]
      },
      {
       "output_type": "stream",
       "stream": "stdout",
       "text": [
        "\n",
        "Error >> 1582 can not fetch month =  108\n",
        "list index out of range"
       ]
      },
      {
       "output_type": "stream",
       "stream": "stdout",
       "text": [
        "\n",
        "Error >> 1583 can not fetch month =  108\n",
        "list index out of range"
       ]
      },
      {
       "output_type": "stream",
       "stream": "stdout",
       "text": [
        "\n",
        "Error >> 6415 can not fetch month =  108\n",
        "list index out of range"
       ]
      },
      {
       "output_type": "stream",
       "stream": "stdout",
       "text": [
        "\n",
        "Error >> 6412 can not fetch month =  108\n",
        "list index out of range"
       ]
      },
      {
       "output_type": "stream",
       "stream": "stdout",
       "text": [
        "\n",
        "Error >> 3645 can not fetch month =  108\n",
        "list index out of range"
       ]
      },
      {
       "output_type": "stream",
       "stream": "stdout",
       "text": [
        "\n",
        "Error >> 8070 can not fetch month =  108\n",
        "Get stock no."
       ]
      },
      {
       "output_type": "stream",
       "stream": "stdout",
       "text": [
        " 8072 info for 108 month\n",
        "Get stock no."
       ]
      },
      {
       "output_type": "stream",
       "stream": "stdout",
       "text": [
        " 1449 info for 108 month\n",
        "list index out of range"
       ]
      },
      {
       "output_type": "stream",
       "stream": "stdout",
       "text": [
        "\n",
        "Error >> 4725 can not fetch month =  108\n",
        "list index out of range"
       ]
      },
      {
       "output_type": "stream",
       "stream": "stdout",
       "text": [
        "\n",
        "Error >> 3705 can not fetch month =  108\n",
        "list index out of range"
       ]
      },
      {
       "output_type": "stream",
       "stream": "stdout",
       "text": [
        "\n",
        "Error >> 6278 can not fetch month =  108\n",
        "list index out of range"
       ]
      },
      {
       "output_type": "stream",
       "stream": "stdout",
       "text": [
        "\n",
        "Error >> 5225 can not fetch month =  108\n",
        "list index out of range"
       ]
      },
      {
       "output_type": "stream",
       "stream": "stdout",
       "text": [
        "\n",
        "Error >> 8404 can not fetch month =  108\n",
        "list index out of range"
       ]
      },
      {
       "output_type": "stream",
       "stream": "stdout",
       "text": [
        "\n",
        "Error >> 8374 can not fetch month =  108\n",
        "list index out of range"
       ]
      },
      {
       "output_type": "stream",
       "stream": "stdout",
       "text": [
        "\n",
        "Error >> 3665 can not fetch month =  108\n",
        "list index out of range"
       ]
      },
      {
       "output_type": "stream",
       "stream": "stdout",
       "text": [
        "\n",
        "Error >> 3669 can not fetch month =  108\n",
        "list index out of range"
       ]
      },
      {
       "output_type": "stream",
       "stream": "stdout",
       "text": [
        "\n",
        "Error >> 3593 can not fetch month =  108\n",
        "list index out of range"
       ]
      },
      {
       "output_type": "stream",
       "stream": "stdout",
       "text": [
        "\n",
        "Error >> 3591 can not fetch month =  108\n",
        "list index out of range"
       ]
      },
      {
       "output_type": "stream",
       "stream": "stdout",
       "text": [
        "\n",
        "Error >> 3596 can not fetch month =  108\n",
        "list index out of range"
       ]
      },
      {
       "output_type": "stream",
       "stream": "stdout",
       "text": [
        "\n",
        "Error >> 3598 can not fetch month =  108\n",
        "list index out of range"
       ]
      },
      {
       "output_type": "stream",
       "stream": "stdout",
       "text": [
        "\n",
        "Error >> 8081 can not fetch month =  108\n",
        "Get stock no."
       ]
      },
      {
       "output_type": "stream",
       "stream": "stdout",
       "text": [
        " 3406 info for 108 month\n",
        "list index out of range"
       ]
      },
      {
       "output_type": "stream",
       "stream": "stdout",
       "text": [
        "\n",
        "Error >> 3432 can not fetch month =  108\n",
        "list index out of range"
       ]
      },
      {
       "output_type": "stream",
       "stream": "stdout",
       "text": [
        "\n",
        "Error >> 2038 can not fetch month =  108\n",
        "list index out of range"
       ]
      },
      {
       "output_type": "stream",
       "stream": "stdout",
       "text": [
        "\n",
        "Error >> 8131 can not fetch month =  108\n",
        "list index out of range"
       ]
      },
      {
       "output_type": "stream",
       "stream": "stdout",
       "text": [
        "\n",
        "Error >> 3607 can not fetch month =  108\n",
        "list index out of range"
       ]
      },
      {
       "output_type": "stream",
       "stream": "stdout",
       "text": [
        "\n",
        "Error >> 3605 can not fetch month =  108\n",
        "list index out of range"
       ]
      },
      {
       "output_type": "stream",
       "stream": "stdout",
       "text": [
        "\n",
        "Error >> 3296 can not fetch month =  108\n",
        "list index out of range"
       ]
      },
      {
       "output_type": "stream",
       "stream": "stdout",
       "text": [
        "\n",
        "Error >> 3383 can not fetch month =  108\n",
        "list index out of range"
       ]
      },
      {
       "output_type": "stream",
       "stream": "stdout",
       "text": [
        "\n",
        "Error >> 5007 can not fetch month =  108\n",
        "list index out of range"
       ]
      },
      {
       "output_type": "stream",
       "stream": "stdout",
       "text": [
        "\n",
        "Error >> 6108 can not fetch month =  108\n",
        "list index out of range"
       ]
      },
      {
       "output_type": "stream",
       "stream": "stdout",
       "text": [
        "\n",
        "Error >> 3419 can not fetch month =  108\n",
        "list index out of range"
       ]
      },
      {
       "output_type": "stream",
       "stream": "stdout",
       "text": [
        "\n",
        "Error >> 9110 can not fetch month =  108\n",
        "list index out of range"
       ]
      },
      {
       "output_type": "stream",
       "stream": "stdout",
       "text": [
        "\n",
        "Error >> 8110 can not fetch month =  108\n",
        "list index out of range"
       ]
      },
      {
       "output_type": "stream",
       "stream": "stdout",
       "text": [
        "\n",
        "Error >> 8114 can not fetch month =  108\n",
        "list index out of range"
       ]
      },
      {
       "output_type": "stream",
       "stream": "stdout",
       "text": [
        "\n",
        "Error >> 3501 can not fetch month =  108\n",
        "list index out of range"
       ]
      },
      {
       "output_type": "stream",
       "stream": "stdout",
       "text": [
        "\n",
        "Error >> 5880 can not fetch month =  108\n",
        "Get stock no."
       ]
      },
      {
       "output_type": "stream",
       "stream": "stdout",
       "text": [
        " 4904 info for 108 month\n",
        "list index out of range"
       ]
      },
      {
       "output_type": "stream",
       "stream": "stdout",
       "text": [
        "\n",
        "Error >> 6120 can not fetch month =  108\n",
        "list index out of range"
       ]
      },
      {
       "output_type": "stream",
       "stream": "stdout",
       "text": [
        "\n",
        "Error >> 3686 can not fetch month =  108\n",
        "list index out of range"
       ]
      },
      {
       "output_type": "stream",
       "stream": "stdout",
       "text": [
        "\n",
        "Error >> 8411 can not fetch month =  108\n",
        "list index out of range"
       ]
      },
      {
       "output_type": "stream",
       "stream": "stdout",
       "text": [
        "\n",
        "Error >> 8940 can not fetch month =  108\n",
        "list index out of range"
       ]
      },
      {
       "output_type": "stream",
       "stream": "stdout",
       "text": [
        "\n",
        "Error >> 1626 can not fetch month =  108\n",
        "list index out of range"
       ]
      },
      {
       "output_type": "stream",
       "stream": "stdout",
       "text": [
        "\n",
        "Error >> 3209 can not fetch month =  108\n",
        "list index out of range"
       ]
      },
      {
       "output_type": "stream",
       "stream": "stdout",
       "text": [
        "\n",
        "Error >> 2867 can not fetch month =  108\n",
        "list index out of range"
       ]
      },
      {
       "output_type": "stream",
       "stream": "stdout",
       "text": [
        "\n",
        "Error >> 9188 can not fetch month =  108\n",
        "list index out of range"
       ]
      },
      {
       "output_type": "stream",
       "stream": "stdout",
       "text": [
        "\n",
        "Error >> 5533 can not fetch month =  108\n",
        "list index out of range"
       ]
      },
      {
       "output_type": "stream",
       "stream": "stdout",
       "text": [
        "\n",
        "Error >> 5538 can not fetch month =  108\n",
        "list index out of range"
       ]
      },
      {
       "output_type": "stream",
       "stream": "stdout",
       "text": [
        "\n",
        "Error >> 2059 can not fetch month =  108\n",
        "list index out of range"
       ]
      },
      {
       "output_type": "stream",
       "stream": "stdout",
       "text": [
        "\n",
        "Error >> 4536 can not fetch month =  108\n",
        "Get stock no."
       ]
      },
      {
       "output_type": "stream",
       "stream": "stdout",
       "text": [
        " 4532 info for 108 month\n",
        "list index out of range"
       ]
      },
      {
       "output_type": "stream",
       "stream": "stdout",
       "text": [
        "\n",
        "Error >> 4958 can not fetch month =  108\n",
        "list index out of range"
       ]
      },
      {
       "output_type": "stream",
       "stream": "stdout",
       "text": [
        "\n",
        "Error >> 3229 can not fetch month =  108\n",
        "list index out of range"
       ]
      },
      {
       "output_type": "stream",
       "stream": "stdout",
       "text": [
        "\n",
        "Error >> 6164 can not fetch month =  108\n",
        "list index out of range"
       ]
      },
      {
       "output_type": "stream",
       "stream": "stdout",
       "text": [
        "\n",
        "Error >> 8033 can not fetch month =  108\n",
        "list index out of range"
       ]
      },
      {
       "output_type": "stream",
       "stream": "stdout",
       "text": [
        "\n",
        "Error >> 8039 can not fetch month =  108\n",
        "list index out of range"
       ]
      },
      {
       "output_type": "stream",
       "stream": "stdout",
       "text": [
        "\n",
        "Error >> 5706 can not fetch month =  108\n",
        "list index out of range"
       ]
      },
      {
       "output_type": "stream",
       "stream": "stdout",
       "text": [
        "\n",
        "Error >> 4984 can not fetch month =  108\n",
        "list index out of range"
       ]
      },
      {
       "output_type": "stream",
       "stream": "stdout",
       "text": [
        "\n",
        "Error >> 3308 can not fetch month =  108\n",
        "list index out of range"
       ]
      },
      {
       "output_type": "stream",
       "stream": "stdout",
       "text": [
        "\n",
        "Error >> 3305 can not fetch month =  108\n",
        "Get stock no."
       ]
      },
      {
       "output_type": "stream",
       "stream": "stdout",
       "text": [
        " 8249 info for 108 month\n",
        "list index out of range"
       ]
      },
      {
       "output_type": "stream",
       "stream": "stdout",
       "text": [
        "\n",
        "Error >> 4164 can not fetch month =  108\n",
        "list index out of range"
       ]
      },
      {
       "output_type": "stream",
       "stream": "stdout",
       "text": [
        "\n",
        "Error >> 2231 can not fetch month =  108\n",
        "list index out of range"
       ]
      },
      {
       "output_type": "stream",
       "stream": "stdout",
       "text": [
        "\n",
        "Error >> 8427 can not fetch month =  108\n",
        "list index out of range"
       ]
      },
      {
       "output_type": "stream",
       "stream": "stdout",
       "text": [
        "\n",
        "Error >> 3494 can not fetch month =  108\n",
        "list index out of range"
       ]
      },
      {
       "output_type": "stream",
       "stream": "stdout",
       "text": [
        "\n",
        "Error >> 8422 can not fetch month =  108\n",
        "list index out of range"
       ]
      },
      {
       "output_type": "stream",
       "stream": "stdout",
       "text": [
        "\n",
        "Error >> 3338 can not fetch month =  108\n",
        "list index out of range"
       ]
      },
      {
       "output_type": "stream",
       "stream": "stdout",
       "text": [
        "\n",
        "Error >> 4137 can not fetch month =  108\n",
        "list index out of range"
       ]
      },
      {
       "output_type": "stream",
       "stream": "stdout",
       "text": [
        "\n",
        "Error >> 4960 can not fetch month =  108\n",
        "list index out of range"
       ]
      },
      {
       "output_type": "stream",
       "stream": "stdout",
       "text": [
        "\n",
        "Error >> 8271 can not fetch month =  108\n",
        "list index out of range"
       ]
      },
      {
       "output_type": "stream",
       "stream": "stdout",
       "text": [
        "\n",
        "Error >> 9802 can not fetch month =  108\n",
        "list index out of range"
       ]
      },
      {
       "output_type": "stream",
       "stream": "stdout",
       "text": [
        "\n",
        "Error >> 6230 can not fetch month =  108\n",
        "list index out of range"
       ]
      },
      {
       "output_type": "stream",
       "stream": "stdout",
       "text": [
        "\n",
        "Error >> 4144 can not fetch month =  108\n",
        "list index out of range"
       ]
      },
      {
       "output_type": "stream",
       "stream": "stdout",
       "text": [
        "\n",
        "Error >> 4141 can not fetch month =  108\n",
        "list index out of range"
       ]
      },
      {
       "output_type": "stream",
       "stream": "stdout",
       "text": [
        "\n",
        "Error >> 4142 can not fetch month =  108\n",
        "list index out of range"
       ]
      },
      {
       "output_type": "stream",
       "stream": "stdout",
       "text": [
        "\n",
        "Error >> 4942 can not fetch month =  108\n",
        "list index out of range"
       ]
      },
      {
       "output_type": "stream",
       "stream": "stdout",
       "text": [
        "\n",
        "Error >> 2114 can not fetch month =  108\n",
        "list index out of range"
       ]
      },
      {
       "output_type": "stream",
       "stream": "stdout",
       "text": [
        "\n",
        "Error >> 8046 can not fetch month =  108\n",
        "list index out of range"
       ]
      },
      {
       "output_type": "stream",
       "stream": "stdout",
       "text": [
        "\n",
        "Error >> 2637 can not fetch month =  108\n",
        "list index out of range"
       ]
      },
      {
       "output_type": "stream",
       "stream": "stdout",
       "text": [
        "\n",
        "Error >> 3545 can not fetch month =  108\n",
        "list index out of range"
       ]
      },
      {
       "output_type": "stream",
       "stream": "stdout",
       "text": [
        "\n",
        "Error >> 3130 can not fetch month =  108\n",
        "list index out of range"
       ]
      },
      {
       "output_type": "stream",
       "stream": "stdout",
       "text": [
        "\n",
        "Error >> 9946 can not fetch month =  108\n",
        "list index out of range"
       ]
      },
      {
       "output_type": "stream",
       "stream": "stdout",
       "text": [
        "\n",
        "Error >> 4104 can not fetch month =  108\n",
        "list index out of range"
       ]
      },
      {
       "output_type": "stream",
       "stream": "stdout",
       "text": [
        "\n",
        "Error >> 8210 can not fetch month =  108\n",
        "list index out of range"
       ]
      },
      {
       "output_type": "stream",
       "stream": "stdout",
       "text": [
        "\n",
        "Error >> 8213 can not fetch month =  108\n",
        "list index out of range"
       ]
      },
      {
       "output_type": "stream",
       "stream": "stdout",
       "text": [
        "\n",
        "Error >> 8215 can not fetch month =  108\n",
        "list index out of range"
       ]
      },
      {
       "output_type": "stream",
       "stream": "stdout",
       "text": [
        "\n",
        "Error >> 6243 can not fetch month =  108\n",
        "list index out of range"
       ]
      },
      {
       "output_type": "stream",
       "stream": "stdout",
       "text": [
        "\n",
        "Error >> 2923 can not fetch month =  108\n",
        "list index out of range"
       ]
      },
      {
       "output_type": "stream",
       "stream": "stdout",
       "text": [
        "\n",
        "Error >> 4733 can not fetch month =  108\n",
        "list index out of range"
       ]
      },
      {
       "output_type": "stream",
       "stream": "stdout",
       "text": [
        "\n",
        "Error >> 4737 can not fetch month =  108\n",
        "list index out of range"
       ]
      },
      {
       "output_type": "stream",
       "stream": "stdout",
       "text": [
        "\n",
        "Error >> 6205 can not fetch month =  108\n",
        "list index out of range"
       ]
      },
      {
       "output_type": "stream",
       "stream": "stdout",
       "text": [
        "\n",
        "Error >> 3698 can not fetch month =  108\n",
        "list index out of range"
       ]
      },
      {
       "output_type": "stream",
       "stream": "stdout",
       "text": [
        "\n",
        "Error >> 0060 can not fetch month =  108\n",
        "list index out of range"
       ]
      },
      {
       "output_type": "stream",
       "stream": "stdout",
       "text": [
        "\n",
        "Error >> 0061 can not fetch month =  108\n",
        "Get stock no."
       ]
      },
      {
       "output_type": "stream",
       "stream": "stdout",
       "text": [
        " 2528 info for 108 month\n",
        "list index out of range"
       ]
      },
      {
       "output_type": "stream",
       "stream": "stdout",
       "text": [
        "\n",
        "Error >> 8021 can not fetch month =  108\n",
        "list index out of range"
       ]
      },
      {
       "output_type": "stream",
       "stream": "stdout",
       "text": [
        "\n",
        "Error >> 4755 can not fetch month =  108\n",
        "list index out of range"
       ]
      },
      {
       "output_type": "stream",
       "stream": "stdout",
       "text": [
        "\n",
        "Error >> 5871 can not fetch month =  108\n",
        "list index out of range"
       ]
      },
      {
       "output_type": "stream",
       "stream": "stdout",
       "text": [
        "\n",
        "Error >> 6191 can not fetch month =  108\n",
        "list index out of range"
       ]
      },
      {
       "output_type": "stream",
       "stream": "stdout",
       "text": [
        "\n",
        "Error >> 2731 can not fetch month =  108\n",
        "list index out of range"
       ]
      },
      {
       "output_type": "stream",
       "stream": "stdout",
       "text": [
        "\n",
        "Error >> 6226 can not fetch month =  108\n",
        "list index out of range"
       ]
      },
      {
       "output_type": "stream",
       "stream": "stdout",
       "text": [
        "\n",
        "Error >> 6224 can not fetch month =  108\n",
        "list index out of range"
       ]
      },
      {
       "output_type": "stream",
       "stream": "stdout",
       "text": [
        "\n",
        "Error >> 1773 can not fetch month =  108\n",
        "list index out of range"
       ]
      },
      {
       "output_type": "stream",
       "stream": "stdout",
       "text": [
        "\n",
        "Error >> 0080 can not fetch month =  108\n",
        "list index out of range"
       ]
      },
      {
       "output_type": "stream",
       "stream": "stdout",
       "text": [
        "\n",
        "Error >> 0081 can not fetch month =  108\n",
        "list index out of range"
       ]
      },
      {
       "output_type": "stream",
       "stream": "stdout",
       "text": [
        "\n",
        "Error >> 3704 can not fetch month =  108\n",
        "list index out of range"
       ]
      },
      {
       "output_type": "stream",
       "stream": "stdout",
       "text": [
        "\n",
        "Error >> 2712 can not fetch month =  108\n",
        "list index out of range"
       ]
      },
      {
       "output_type": "stream",
       "stream": "stdout",
       "text": [
        "\n",
        "Error >> 6251 can not fetch month =  108\n",
        "list index out of range"
       ]
      },
      {
       "output_type": "stream",
       "stream": "stdout",
       "text": [
        "\n",
        "Error >> 6405 can not fetch month =  108\n",
        "list index out of range"
       ]
      },
      {
       "output_type": "stream",
       "stream": "stdout",
       "text": [
        "\n",
        "Error >> 9955 can not fetch month =  108\n",
        "list index out of range"
       ]
      },
      {
       "output_type": "stream",
       "stream": "stdout",
       "text": [
        "\n",
        "Error >> 3653 can not fetch month =  108\n",
        "list index out of range"
       ]
      },
      {
       "output_type": "stream",
       "stream": "stdout",
       "text": [
        "\n",
        "Error >> 5243 can not fetch month =  108\n",
        "list index out of range"
       ]
      },
      {
       "output_type": "stream",
       "stream": "stdout",
       "text": [
        "\n",
        "Error >> 3673 can not fetch month =  108\n",
        "list index out of range"
       ]
      },
      {
       "output_type": "stream",
       "stream": "stdout",
       "text": [
        "\n",
        "Error >> 3679 can not fetch month =  108\n",
        "list index out of range"
       ]
      },
      {
       "output_type": "stream",
       "stream": "stdout",
       "text": [
        "\n",
        "Error >> 3557 can not fetch month =  108\n",
        "list index out of range"
       ]
      },
      {
       "output_type": "stream",
       "stream": "stdout",
       "text": [
        "\n",
        "Error >> 3583 can not fetch month =  108\n",
        "list index out of range"
       ]
      },
      {
       "output_type": "stream",
       "stream": "stdout",
       "text": [
        "\n",
        "Error >> 3588 can not fetch month =  108\n",
        "list index out of range"
       ]
      },
      {
       "output_type": "stream",
       "stream": "stdout",
       "text": [
        "\n",
        "Error >> 3550 can not fetch month =  108\n",
        "list index out of range"
       ]
      },
      {
       "output_type": "stream",
       "stream": "stdout",
       "text": [
        "\n",
        "Error >> 4426 can not fetch month =  108\n",
        "list index out of range"
       ]
      },
      {
       "output_type": "stream",
       "stream": "stdout",
       "text": [
        "\n",
        "Error >> 3559 can not fetch month =  108\n",
        "list index out of range"
       ]
      },
      {
       "output_type": "stream",
       "stream": "stdout",
       "text": [
        "\n",
        "Error >> 1817 can not fetch month =  108\n",
        "Get stock no."
       ]
      },
      {
       "output_type": "stream",
       "stream": "stdout",
       "text": [
        " 6281 info for 108 month\n",
        "list index out of range"
       ]
      },
      {
       "output_type": "stream",
       "stream": "stdout",
       "text": [
        "\n",
        "Error >> 3443 can not fetch month =  108\n",
        "list index out of range"
       ]
      },
      {
       "output_type": "stream",
       "stream": "stdout",
       "text": [
        "\n",
        "Error >> 5215 can not fetch month =  108\n",
        "list index out of range"
       ]
      },
      {
       "output_type": "stream",
       "stream": "stdout",
       "text": [
        "\n",
        "Error >> 6702 can not fetch month =  108\n",
        "list index out of range"
       ]
      },
      {
       "output_type": "stream",
       "stream": "stdout",
       "text": [
        "\n",
        "Error >> 3617 can not fetch month =  108\n",
        "list index out of range"
       ]
      },
      {
       "output_type": "stream",
       "stream": "stdout",
       "text": [
        "\n",
        "Error >> 3090 can not fetch month =  108\n",
        "list index out of range"
       ]
      },
      {
       "output_type": "stream",
       "stream": "stdout",
       "text": [
        "\n",
        "Error >> 3094 can not fetch month =  108\n",
        "list index out of range"
       ]
      },
      {
       "output_type": "stream",
       "stream": "stdout",
       "text": [
        "\n",
        "Error >> 4108 can not fetch month =  108\n",
        "list index out of range"
       ]
      },
      {
       "output_type": "stream",
       "stream": "stdout",
       "text": [
        "\n",
        "Error >> 9106 can not fetch month =  108\n",
        "list index out of range"
       ]
      },
      {
       "output_type": "stream",
       "stream": "stdout",
       "text": [
        "\n",
        "Error >> 1339 can not fetch month =  108\n",
        "list index out of range"
       ]
      },
      {
       "output_type": "stream",
       "stream": "stdout",
       "text": [
        "\n",
        "Error >> 1338 can not fetch month =  108\n",
        "list index out of range"
       ]
      },
      {
       "output_type": "stream",
       "stream": "stdout",
       "text": [
        "\n",
        "Error >> 1337 can not fetch month =  108\n",
        "list index out of range"
       ]
      },
      {
       "output_type": "stream",
       "stream": "stdout",
       "text": [
        "\n",
        "Error >> 3638 can not fetch month =  108\n",
        "Get stock no."
       ]
      },
      {
       "output_type": "stream",
       "stream": "stdout",
       "text": [
        " 1432 info for 108 month\n",
        "list index out of range"
       ]
      },
      {
       "output_type": "stream",
       "stream": "stdout",
       "text": [
        "\n",
        "Error >> 5234 can not fetch month =  108\n",
        "list index out of range"
       ]
      },
      {
       "output_type": "stream",
       "stream": "stdout",
       "text": [
        "\n",
        "Error >> 3703 can not fetch month =  108\n",
        "list index out of range"
       ]
      },
      {
       "output_type": "stream",
       "stream": "stdout",
       "text": [
        "\n",
        "Error >> 3706 can not fetch month =  108\n",
        "list index out of range"
       ]
      },
      {
       "output_type": "stream",
       "stream": "stdout",
       "text": [
        "\n",
        "Error >> 1590 can not fetch month =  108\n",
        "list index out of range"
       ]
      },
      {
       "output_type": "stream",
       "stream": "stdout",
       "text": [
        "\n",
        "Error >> 2062 can not fetch month =  108\n",
        "list index out of range"
       ]
      },
      {
       "output_type": "stream",
       "stream": "stdout",
       "text": [
        "\n",
        "Error >> 3257 can not fetch month =  108\n",
        "list index out of range"
       ]
      },
      {
       "output_type": "stream",
       "stream": "stdout",
       "text": [
        "\n",
        "Error >> 8105 can not fetch month =  108\n",
        "list index out of range"
       ]
      },
      {
       "output_type": "stream",
       "stream": "stdout",
       "text": [
        "\n",
        "Error >> 8103 can not fetch month =  108\n",
        "list index out of range"
       ]
      },
      {
       "output_type": "stream",
       "stream": "stdout",
       "text": [
        "\n",
        "Error >> 3561 can not fetch month =  108\n",
        "list index out of range"
       ]
      },
      {
       "output_type": "stream",
       "stream": "stdout",
       "text": [
        "\n",
        "Error >> 2812 can not fetch month =  108\n",
        "list index out of range"
       ]
      },
      {
       "output_type": "stream",
       "stream": "stdout",
       "text": [
        "\n",
        "Error >> 3376 can not fetch month =  108\n",
        "list index out of range"
       ]
      },
      {
       "output_type": "stream",
       "stream": "stdout",
       "text": [
        "\n",
        "Error >> 5521 can not fetch month =  108\n",
        "list index out of range"
       ]
      },
      {
       "output_type": "stream",
       "stream": "stdout",
       "text": [
        "\n",
        "Error >> 5522 can not fetch month =  108\n",
        "list index out of range"
       ]
      },
      {
       "output_type": "stream",
       "stream": "stdout",
       "text": [
        "\n",
        "Error >> 6152 can not fetch month =  108\n",
        "list index out of range"
       ]
      },
      {
       "output_type": "stream",
       "stream": "stdout",
       "text": [
        "\n",
        "Error >> 6153 can not fetch month =  108\n",
        "list index out of range"
       ]
      },
      {
       "output_type": "stream",
       "stream": "stdout",
       "text": [
        "\n",
        "Error >> 6155 can not fetch month =  108\n",
        "list index out of range"
       ]
      },
      {
       "output_type": "stream",
       "stream": "stdout",
       "text": [
        "\n",
        "Error >> 2049 can not fetch month =  108\n",
        "list index out of range"
       ]
      },
      {
       "output_type": "stream",
       "stream": "stdout",
       "text": [
        "\n",
        "Error >> 3697 can not fetch month =  108\n",
        "list index out of range"
       ]
      },
      {
       "output_type": "stream",
       "stream": "stdout",
       "text": [
        "\n",
        "Error >> 8163 can not fetch month =  108\n",
        "list index out of range"
       ]
      },
      {
       "output_type": "stream",
       "stream": "stdout",
       "text": [
        "\n",
        "Error >> 3450 can not fetch month =  108\n",
        "list index out of range"
       ]
      },
      {
       "output_type": "stream",
       "stream": "stdout",
       "text": [
        "\n",
        "Error >> 3454 can not fetch month =  108\n",
        "Get stock no."
       ]
      },
      {
       "output_type": "stream",
       "stream": "stdout",
       "text": [
        " 3356 info for 108 month\n",
        "list index out of range"
       ]
      },
      {
       "output_type": "stream",
       "stream": "stdout",
       "text": [
        "\n",
        "Error >> 3682 can not fetch month =  108\n",
        "list index out of range"
       ]
      },
      {
       "output_type": "stream",
       "stream": "stdout",
       "text": [
        "\n",
        "Error >> 9157 can not fetch month =  108\n",
        "list index out of range"
       ]
      },
      {
       "output_type": "stream",
       "stream": "stdout",
       "text": [
        "\n",
        "Error >> 3584 can not fetch month =  108\n",
        "list index out of range"
       ]
      },
      {
       "output_type": "stream",
       "stream": "stdout",
       "text": [
        "\n",
        "Error >> 6176 can not fetch month =  108\n",
        "list index out of range"
       ]
      },
      {
       "output_type": "stream",
       "stream": "stdout",
       "text": [
        "\n",
        "Error >> 6177 can not fetch month =  108\n",
        "list index out of range"
       ]
      },
      {
       "output_type": "stream",
       "stream": "stdout",
       "text": [
        "\n",
        "Error >> 2208 can not fetch month =  108\n",
        "list index out of range"
       ]
      },
      {
       "output_type": "stream",
       "stream": "stdout",
       "text": [
        "\n",
        "Error >> 6271 can not fetch month =  108\n",
        "list index out of range"
       ]
      },
      {
       "output_type": "stream",
       "stream": "stdout",
       "text": [
        "\n",
        "Error >> 4999 can not fetch month =  108\n",
        "list index out of range"
       ]
      },
      {
       "output_type": "stream",
       "stream": "stdout",
       "text": [
        "\n",
        "Error >> 6504 can not fetch month =  108\n",
        "list index out of range"
       ]
      },
      {
       "output_type": "stream",
       "stream": "stdout",
       "text": [
        "\n",
        "Error >> 9136 can not fetch month =  108\n",
        "list index out of range"
       ]
      },
      {
       "output_type": "stream",
       "stream": "stdout",
       "text": [
        "\n",
        "Error >> 2228 can not fetch month =  108\n",
        "list index out of range"
       ]
      },
      {
       "output_type": "stream",
       "stream": "stdout",
       "text": [
        "\n",
        "Error >> 8112 can not fetch month =  108\n",
        "list index out of range"
       ]
      },
      {
       "output_type": "stream",
       "stream": "stdout",
       "text": [
        "\n",
        "Error >> 3579 can not fetch month =  108\n",
        "list index out of range"
       ]
      },
      {
       "output_type": "stream",
       "stream": "stdout",
       "text": [
        "\n",
        "Error >> 3576 can not fetch month =  108\n",
        "list index out of range"
       ]
      },
      {
       "output_type": "stream",
       "stream": "stdout",
       "text": [
        "\n",
        "Error >> 9958 can not fetch month =  108\n",
        "list index out of range"
       ]
      },
      {
       "output_type": "stream",
       "stream": "stdout",
       "text": [
        "\n",
        "Error >> 4977 can not fetch month =  108\n",
        "list index out of range"
       ]
      },
      {
       "output_type": "stream",
       "stream": "stdout",
       "text": [
        "\n",
        "Error >> 3312 can not fetch month =  108\n",
        "list index out of range"
       ]
      },
      {
       "output_type": "stream",
       "stream": "stdout",
       "text": [
        "\n",
        "Error >> 3315 can not fetch month =  108\n",
        "list index out of range"
       ]
      },
      {
       "output_type": "stream",
       "stream": "stdout",
       "text": [
        "\n",
        "Error >> 8261 can not fetch month =  108\n",
        "list index out of range"
       ]
      },
      {
       "output_type": "stream",
       "stream": "stdout",
       "text": [
        "\n",
        "Error >> 5906 can not fetch month =  108\n",
        "list index out of range"
       ]
      },
      {
       "output_type": "stream",
       "stream": "stdout",
       "text": [
        "\n",
        "Error >> 5907 can not fetch month =  108\n",
        "list index out of range"
       ]
      },
      {
       "output_type": "stream",
       "stream": "stdout",
       "text": [
        "\n",
        "Error >> 3481 can not fetch month =  108\n",
        "list index out of range"
       ]
      },
      {
       "output_type": "stream",
       "stream": "stdout",
       "text": [
        "\n",
        "Error >> 5280 can not fetch month =  108\n",
        "list index out of range"
       ]
      },
      {
       "output_type": "stream",
       "stream": "stdout",
       "text": [
        "\n",
        "Error >> 4952 can not fetch month =  108\n",
        "list index out of range"
       ]
      },
      {
       "output_type": "stream",
       "stream": "stdout",
       "text": [
        "\n",
        "Error >> 4956 can not fetch month =  108\n",
        "list index out of range"
       ]
      },
      {
       "output_type": "stream",
       "stream": "stdout",
       "text": [
        "\n",
        "Error >> 8429 can not fetch month =  108\n",
        "list index out of range"
       ]
      },
      {
       "output_type": "stream",
       "stream": "stdout",
       "text": [
        "\n",
        "Error >> 4133 can not fetch month =  108\n",
        "list index out of range"
       ]
      },
      {
       "output_type": "stream",
       "stream": "stdout",
       "text": [
        "\n",
        "Error >> 2597 can not fetch month =  108\n",
        "list index out of range"
       ]
      },
      {
       "output_type": "stream",
       "stream": "stdout",
       "text": [
        "\n",
        "Error >> 4306 can not fetch month =  108\n",
        "list index out of range"
       ]
      },
      {
       "output_type": "stream",
       "stream": "stdout",
       "text": [
        "\n",
        "Error >> 2361 can not fetch month =  108\n",
        "list index out of range"
       ]
      },
      {
       "output_type": "stream",
       "stream": "stdout",
       "text": [
        "\n",
        "Error >> 4930 can not fetch month =  108\n",
        "list index out of range"
       ]
      },
      {
       "output_type": "stream",
       "stream": "stdout",
       "text": [
        "\n",
        "Error >> 4934 can not fetch month =  108\n",
        "list index out of range"
       ]
      },
      {
       "output_type": "stream",
       "stream": "stdout",
       "text": [
        "\n",
        "Error >> 4935 can not fetch month =  108\n",
        "list index out of range"
       ]
      },
      {
       "output_type": "stream",
       "stream": "stdout",
       "text": [
        "\n",
        "Error >> 4938 can not fetch month =  108\n",
        "Get stock no."
       ]
      },
      {
       "output_type": "stream",
       "stream": "stdout",
       "text": [
        " 3702 info for 108 month\n",
        "list index out of range"
       ]
      },
      {
       "output_type": "stream",
       "stream": "stdout",
       "text": [
        "\n",
        "Error >> 1789 can not fetch month =  108\n",
        "list index out of range"
       ]
      },
      {
       "output_type": "stream",
       "stream": "stdout",
       "text": [
        "\n",
        "Error >> 1786 can not fetch month =  108\n",
        "list index out of range"
       ]
      },
      {
       "output_type": "stream",
       "stream": "stdout",
       "text": [
        "\n",
        "Error >> 5259 can not fetch month =  108\n",
        "list index out of range"
       ]
      },
      {
       "output_type": "stream",
       "stream": "stdout",
       "text": [
        "\n",
        "Error >> 2642 can not fetch month =  108\n",
        "list index out of range"
       ]
      },
      {
       "output_type": "stream",
       "stream": "stdout",
       "text": [
        "\n",
        "Error >> 3149 can not fetch month =  108\n",
        "list index out of range"
       ]
      },
      {
       "output_type": "stream",
       "stream": "stdout",
       "text": [
        "\n",
        "Error >> 3504 can not fetch month =  108\n",
        "list index out of range"
       ]
      },
      {
       "output_type": "stream",
       "stream": "stdout",
       "text": [
        "\n",
        "Error >> 4919 can not fetch month =  108\n",
        "list index out of range"
       ]
      },
      {
       "output_type": "stream",
       "stream": "stdout",
       "text": [
        "\n",
        "Error >> 4916 can not fetch month =  108\n",
        "list index out of range"
       ]
      },
      {
       "output_type": "stream",
       "stream": "stdout",
       "text": [
        "\n",
        "Error >> 4915 can not fetch month =  108\n",
        "list index out of range"
       ]
      },
      {
       "output_type": "stream",
       "stream": "stdout",
       "text": [
        "\n",
        "Error >> 3694 can not fetch month =  108\n",
        "list index out of range"
       ]
      },
      {
       "output_type": "stream",
       "stream": "stdout",
       "text": [
        "\n",
        "Error >> 8201 can not fetch month =  108\n",
        "Get stock no."
       ]
      },
      {
       "output_type": "stream",
       "stream": "stdout",
       "text": [
        " 6005 info for 108 month\n",
        "list index out of range"
       ]
      },
      {
       "output_type": "stream",
       "stream": "stdout",
       "text": [
        "\n",
        "Error >> 3573 can not fetch month =  108\n",
        "list index out of range"
       ]
      },
      {
       "output_type": "stream",
       "stream": "stdout",
       "text": [
        "\n",
        "Error >> 3167 can not fetch month =  108\n",
        "list index out of range"
       ]
      },
      {
       "output_type": "stream",
       "stream": "stdout",
       "text": [
        "\n",
        "Error >> 3164 can not fetch month =  108\n",
        "list index out of range"
       ]
      },
      {
       "output_type": "stream",
       "stream": "stdout",
       "text": [
        "\n",
        "Error >> 6283 can not fetch month =  108\n",
        "list index out of range"
       ]
      },
      {
       "output_type": "stream",
       "stream": "stdout",
       "text": [
        "\n",
        "Error >> 2491 can not fetch month =  108\n",
        "Month =  108  : Fetching finished!\n",
        "Fetching Start\n",
        "list index out of range"
       ]
      },
      {
       "output_type": "stream",
       "stream": "stdout",
       "text": [
        "\n",
        "Error >> 0059 can not fetch month =  96\n",
        "list index out of range"
       ]
      },
      {
       "output_type": "stream",
       "stream": "stdout",
       "text": [
        "\n",
        "Error >> 0058 can not fetch month =  96\n",
        "list index out of range"
       ]
      },
      {
       "output_type": "stream",
       "stream": "stdout",
       "text": [
        "\n",
        "Error >> 0053 can not fetch month =  96\n",
        "Get stock no."
       ]
      },
      {
       "output_type": "stream",
       "stream": "stdout",
       "text": [
        " 0052 info for 96 month\n",
        "Get stock no."
       ]
      },
      {
       "output_type": "stream",
       "stream": "stdout",
       "text": [
        " 0051 info for 96 month\n",
        "list index out of range"
       ]
      },
      {
       "output_type": "stream",
       "stream": "stdout",
       "text": [
        "\n",
        "Error >> 0057 can not fetch month =  96\n",
        "list index out of range"
       ]
      },
      {
       "output_type": "stream",
       "stream": "stdout",
       "text": [
        "\n",
        "Error >> 0056 can not fetch month =  96\n",
        "list index out of range"
       ]
      },
      {
       "output_type": "stream",
       "stream": "stdout",
       "text": [
        "\n",
        "Error >> 0055 can not fetch month =  96\n",
        "list index out of range"
       ]
      },
      {
       "output_type": "stream",
       "stream": "stdout",
       "text": [
        "\n",
        "Error >> 0054 can not fetch month =  96\n",
        "list index out of range"
       ]
      },
      {
       "output_type": "stream",
       "stream": "stdout",
       "text": [
        "\n",
        "Error >> 3519 can not fetch month =  96\n",
        "list index out of range"
       ]
      },
      {
       "output_type": "stream",
       "stream": "stdout",
       "text": [
        "\n",
        "Error >> 3518 can not fetch month =  96\n",
        "list index out of range"
       ]
      },
      {
       "output_type": "stream",
       "stream": "stdout",
       "text": [
        "\n",
        "Error >> 8011 can not fetch month =  96\n",
        "list index out of range"
       ]
      },
      {
       "output_type": "stream",
       "stream": "stdout",
       "text": [
        "\n",
        "Error >> 3622 can not fetch month =  96\n",
        "list index out of range"
       ]
      },
      {
       "output_type": "stream",
       "stream": "stdout",
       "text": [
        "\n",
        "Error >> 4722 can not fetch month =  96\n",
        "list index out of range"
       ]
      },
      {
       "output_type": "stream",
       "stream": "stdout",
       "text": [
        "\n",
        "Error >> 6215 can not fetch month =  96\n",
        "list index out of range"
       ]
      },
      {
       "output_type": "stream",
       "stream": "stdout",
       "text": [
        "\n",
        "Error >> 6214 can not fetch month =  96\n",
        "list index out of range"
       ]
      },
      {
       "output_type": "stream",
       "stream": "stdout",
       "text": [
        "\n",
        "Error >> 6213 can not fetch month =  96\n",
        "list index out of range"
       ]
      },
      {
       "output_type": "stream",
       "stream": "stdout",
       "text": [
        "\n",
        "Error >> 1762 can not fetch month =  96\n",
        "list index out of range"
       ]
      },
      {
       "output_type": "stream",
       "stream": "stdout",
       "text": [
        "\n",
        "Error >> 3533 can not fetch month =  96\n",
        "list index out of range"
       ]
      },
      {
       "output_type": "stream",
       "stream": "stdout",
       "text": [
        "\n",
        "Error >> 3532 can not fetch month =  96\n",
        "list index out of range"
       ]
      },
      {
       "output_type": "stream",
       "stream": "stdout",
       "text": [
        "\n",
        "Error >> 3535 can not fetch month =  96\n",
        "list index out of range"
       ]
      },
      {
       "output_type": "stream",
       "stream": "stdout",
       "text": [
        "\n",
        "Error >> 3536 can not fetch month =  96\n",
        "list index out of range"
       ]
      },
      {
       "output_type": "stream",
       "stream": "stdout",
       "text": [
        "\n",
        "Error >> 3515 can not fetch month =  96\n",
        "list index out of range"
       ]
      },
      {
       "output_type": "stream",
       "stream": "stdout",
       "text": [
        "\n",
        "Error >> 3514 can not fetch month =  96\n",
        "list index out of range"
       ]
      },
      {
       "output_type": "stream",
       "stream": "stdout",
       "text": [
        "\n",
        "Error >> 4746 can not fetch month =  96\n",
        "list index out of range"
       ]
      },
      {
       "output_type": "stream",
       "stream": "stdout",
       "text": [
        "\n",
        "Error >> 6183 can not fetch month =  96\n",
        "list index out of range"
       ]
      },
      {
       "output_type": "stream",
       "stream": "stdout",
       "text": [
        "\n",
        "Error >> 2727 can not fetch month =  96\n",
        "list index out of range"
       ]
      },
      {
       "output_type": "stream",
       "stream": "stdout",
       "text": [
        "\n",
        "Error >> 2723 can not fetch month =  96\n",
        "list index out of range"
       ]
      },
      {
       "output_type": "stream",
       "stream": "stdout",
       "text": [
        "\n",
        "Error >> 2722 can not fetch month =  96\n",
        "list index out of range"
       ]
      },
      {
       "output_type": "stream",
       "stream": "stdout",
       "text": [
        "\n",
        "Error >> 5264 can not fetch month =  96\n",
        "list index out of range"
       ]
      },
      {
       "output_type": "stream",
       "stream": "stdout",
       "text": [
        "\n",
        "Error >> 5269 can not fetch month =  96\n",
        "list index out of range"
       ]
      },
      {
       "output_type": "stream",
       "stream": "stdout",
       "text": [
        "\n",
        "Error >> 5388 can not fetch month =  96\n",
        "list index out of range"
       ]
      },
      {
       "output_type": "stream",
       "stream": "stdout",
       "text": [
        "\n",
        "Error >> 4976 can not fetch month =  96\n",
        "Get stock no."
       ]
      },
      {
       "output_type": "stream",
       "stream": "stdout",
       "text": [
        " 3474 info for 96 month\n",
        "list index out of range"
       ]
      },
      {
       "output_type": "stream",
       "stream": "stdout",
       "text": [
        "\n",
        "Error >> 1589 can not fetch month =  96\n",
        "list index out of range"
       ]
      },
      {
       "output_type": "stream",
       "stream": "stdout",
       "text": [
        "\n",
        "Error >> 1582 can not fetch month =  96\n",
        "list index out of range"
       ]
      },
      {
       "output_type": "stream",
       "stream": "stdout",
       "text": [
        "\n",
        "Error >> 1583 can not fetch month =  96\n",
        "list index out of range"
       ]
      },
      {
       "output_type": "stream",
       "stream": "stdout",
       "text": [
        "\n",
        "Error >> 6415 can not fetch month =  96\n",
        "list index out of range"
       ]
      },
      {
       "output_type": "stream",
       "stream": "stdout",
       "text": [
        "\n",
        "Error >> 6412 can not fetch month =  96\n",
        "list index out of range"
       ]
      },
      {
       "output_type": "stream",
       "stream": "stdout",
       "text": [
        "\n",
        "Error >> 3645 can not fetch month =  96\n",
        "list index out of range"
       ]
      },
      {
       "output_type": "stream",
       "stream": "stdout",
       "text": [
        "\n",
        "Error >> 8070 can not fetch month =  96\n",
        "list index out of range"
       ]
      },
      {
       "output_type": "stream",
       "stream": "stdout",
       "text": [
        "\n",
        "Error >> 4725 can not fetch month =  96\n",
        "list index out of range"
       ]
      },
      {
       "output_type": "stream",
       "stream": "stdout",
       "text": [
        "\n",
        "Error >> 3705 can not fetch month =  96\n",
        "list index out of range"
       ]
      },
      {
       "output_type": "stream",
       "stream": "stdout",
       "text": [
        "\n",
        "Error >> 6278 can not fetch month =  96\n",
        "list index out of range"
       ]
      },
      {
       "output_type": "stream",
       "stream": "stdout",
       "text": [
        "\n",
        "Error >> 5225 can not fetch month =  96\n",
        "list index out of range"
       ]
      },
      {
       "output_type": "stream",
       "stream": "stdout",
       "text": [
        "\n",
        "Error >> 8404 can not fetch month =  96\n",
        "list index out of range"
       ]
      },
      {
       "output_type": "stream",
       "stream": "stdout",
       "text": [
        "\n",
        "Error >> 8374 can not fetch month =  96\n",
        "list index out of range"
       ]
      },
      {
       "output_type": "stream",
       "stream": "stdout",
       "text": [
        "\n",
        "Error >> 3665 can not fetch month =  96\n",
        "list index out of range"
       ]
      },
      {
       "output_type": "stream",
       "stream": "stdout",
       "text": [
        "\n",
        "Error >> 3669 can not fetch month =  96\n",
        "list index out of range"
       ]
      },
      {
       "output_type": "stream",
       "stream": "stdout",
       "text": [
        "\n",
        "Error >> 3593 can not fetch month =  96\n",
        "list index out of range"
       ]
      },
      {
       "output_type": "stream",
       "stream": "stdout",
       "text": [
        "\n",
        "Error >> 3591 can not fetch month =  96\n",
        "list index out of range"
       ]
      },
      {
       "output_type": "stream",
       "stream": "stdout",
       "text": [
        "\n",
        "Error >> 3596 can not fetch month =  96\n",
        "list index out of range"
       ]
      },
      {
       "output_type": "stream",
       "stream": "stdout",
       "text": [
        "\n",
        "Error >> 3598 can not fetch month =  96\n",
        "list index out of range"
       ]
      },
      {
       "output_type": "stream",
       "stream": "stdout",
       "text": [
        "\n",
        "Error >> 8081 can not fetch month =  96\n",
        "list index out of range"
       ]
      },
      {
       "output_type": "stream",
       "stream": "stdout",
       "text": [
        "\n",
        "Error >> 3432 can not fetch month =  96\n",
        "list index out of range"
       ]
      },
      {
       "output_type": "stream",
       "stream": "stdout",
       "text": [
        "\n",
        "Error >> 2038 can not fetch month =  96\n",
        "list index out of range"
       ]
      },
      {
       "output_type": "stream",
       "stream": "stdout",
       "text": [
        "\n",
        "Error >> 8131 can not fetch month =  96\n",
        "list index out of range"
       ]
      },
      {
       "output_type": "stream",
       "stream": "stdout",
       "text": [
        "\n",
        "Error >> 3607 can not fetch month =  96\n",
        "list index out of range"
       ]
      },
      {
       "output_type": "stream",
       "stream": "stdout",
       "text": [
        "\n",
        "Error >> 3605 can not fetch month =  96\n",
        "list index out of range"
       ]
      },
      {
       "output_type": "stream",
       "stream": "stdout",
       "text": [
        "\n",
        "Error >> 3296 can not fetch month =  96\n",
        "list index out of range"
       ]
      },
      {
       "output_type": "stream",
       "stream": "stdout",
       "text": [
        "\n",
        "Error >> 3383 can not fetch month =  96\n",
        "list index out of range"
       ]
      },
      {
       "output_type": "stream",
       "stream": "stdout",
       "text": [
        "\n",
        "Error >> 5007 can not fetch month =  96\n",
        "list index out of range"
       ]
      },
      {
       "output_type": "stream",
       "stream": "stdout",
       "text": [
        "\n",
        "Error >> 6108 can not fetch month =  96\n",
        "list index out of range"
       ]
      },
      {
       "output_type": "stream",
       "stream": "stdout",
       "text": [
        "\n",
        "Error >> 3419 can not fetch month =  96\n",
        "list index out of range"
       ]
      },
      {
       "output_type": "stream",
       "stream": "stdout",
       "text": [
        "\n",
        "Error >> 9110 can not fetch month =  96\n",
        "list index out of range"
       ]
      },
      {
       "output_type": "stream",
       "stream": "stdout",
       "text": [
        "\n",
        "Error >> 8110 can not fetch month =  96\n",
        "list index out of range"
       ]
      },
      {
       "output_type": "stream",
       "stream": "stdout",
       "text": [
        "\n",
        "Error >> 8114 can not fetch month =  96\n",
        "list index out of range"
       ]
      },
      {
       "output_type": "stream",
       "stream": "stdout",
       "text": [
        "\n",
        "Error >> 3501 can not fetch month =  96\n",
        "list index out of range"
       ]
      },
      {
       "output_type": "stream",
       "stream": "stdout",
       "text": [
        "\n",
        "Error >> 5880 can not fetch month =  96\n",
        "Get stock no."
       ]
      },
      {
       "output_type": "stream",
       "stream": "stdout",
       "text": [
        " 6120 info for 96 month\n",
        "list index out of range"
       ]
      },
      {
       "output_type": "stream",
       "stream": "stdout",
       "text": [
        "\n",
        "Error >> 3686 can not fetch month =  96\n",
        "list index out of range"
       ]
      },
      {
       "output_type": "stream",
       "stream": "stdout",
       "text": [
        "\n",
        "Error >> 8411 can not fetch month =  96\n",
        "list index out of range"
       ]
      },
      {
       "output_type": "stream",
       "stream": "stdout",
       "text": [
        "\n",
        "Error >> 8940 can not fetch month =  96\n",
        "list index out of range"
       ]
      },
      {
       "output_type": "stream",
       "stream": "stdout",
       "text": [
        "\n",
        "Error >> 1626 can not fetch month =  96\n",
        "list index out of range"
       ]
      },
      {
       "output_type": "stream",
       "stream": "stdout",
       "text": [
        "\n",
        "Error >> 3209 can not fetch month =  96\n",
        "list index out of range"
       ]
      },
      {
       "output_type": "stream",
       "stream": "stdout",
       "text": [
        "\n",
        "Error >> 2867 can not fetch month =  96\n",
        "list index out of range"
       ]
      },
      {
       "output_type": "stream",
       "stream": "stdout",
       "text": [
        "\n",
        "Error >> 9188 can not fetch month =  96\n",
        "list index out of range"
       ]
      },
      {
       "output_type": "stream",
       "stream": "stdout",
       "text": [
        "\n",
        "Error >> 5533 can not fetch month =  96\n",
        "list index out of range"
       ]
      },
      {
       "output_type": "stream",
       "stream": "stdout",
       "text": [
        "\n",
        "Error >> 5538 can not fetch month =  96\n",
        "list index out of range"
       ]
      },
      {
       "output_type": "stream",
       "stream": "stdout",
       "text": [
        "\n",
        "Error >> 2059 can not fetch month =  96\n",
        "list index out of range"
       ]
      },
      {
       "output_type": "stream",
       "stream": "stdout",
       "text": [
        "\n",
        "Error >> 4536 can not fetch month =  96\n",
        "list index out of range"
       ]
      },
      {
       "output_type": "stream",
       "stream": "stdout",
       "text": [
        "\n",
        "Error >> 4958 can not fetch month =  96\n",
        "list index out of range"
       ]
      },
      {
       "output_type": "stream",
       "stream": "stdout",
       "text": [
        "\n",
        "Error >> 3229 can not fetch month =  96\n",
        "list index out of range"
       ]
      },
      {
       "output_type": "stream",
       "stream": "stdout",
       "text": [
        "\n",
        "Error >> 6164 can not fetch month =  96\n",
        "list index out of range"
       ]
      },
      {
       "output_type": "stream",
       "stream": "stdout",
       "text": [
        "\n",
        "Error >> 8033 can not fetch month =  96\n",
        "list index out of range"
       ]
      },
      {
       "output_type": "stream",
       "stream": "stdout",
       "text": [
        "\n",
        "Error >> 8039 can not fetch month =  96\n",
        "list index out of range"
       ]
      },
      {
       "output_type": "stream",
       "stream": "stdout",
       "text": [
        "\n",
        "Error >> 5706 can not fetch month =  96\n",
        "list index out of range"
       ]
      },
      {
       "output_type": "stream",
       "stream": "stdout",
       "text": [
        "\n",
        "Error >> 4984 can not fetch month =  96\n",
        "list index out of range"
       ]
      },
      {
       "output_type": "stream",
       "stream": "stdout",
       "text": [
        "\n",
        "Error >> 3308 can not fetch month =  96\n",
        "list index out of range"
       ]
      },
      {
       "output_type": "stream",
       "stream": "stdout",
       "text": [
        "\n",
        "Error >> 3305 can not fetch month =  96\n",
        "list index out of range"
       ]
      },
      {
       "output_type": "stream",
       "stream": "stdout",
       "text": [
        "\n",
        "Error >> 4164 can not fetch month =  96\n",
        "list index out of range"
       ]
      },
      {
       "output_type": "stream",
       "stream": "stdout",
       "text": [
        "\n",
        "Error >> 2231 can not fetch month =  96\n",
        "list index out of range"
       ]
      },
      {
       "output_type": "stream",
       "stream": "stdout",
       "text": [
        "\n",
        "Error >> 8427 can not fetch month =  96\n",
        "list index out of range"
       ]
      },
      {
       "output_type": "stream",
       "stream": "stdout",
       "text": [
        "\n",
        "Error >> 3494 can not fetch month =  96\n",
        "list index out of range"
       ]
      },
      {
       "output_type": "stream",
       "stream": "stdout",
       "text": [
        "\n",
        "Error >> 8422 can not fetch month =  96\n",
        "list index out of range"
       ]
      },
      {
       "output_type": "stream",
       "stream": "stdout",
       "text": [
        "\n",
        "Error >> 3338 can not fetch month =  96\n",
        "list index out of range"
       ]
      },
      {
       "output_type": "stream",
       "stream": "stdout",
       "text": [
        "\n",
        "Error >> 4137 can not fetch month =  96\n",
        "list index out of range"
       ]
      },
      {
       "output_type": "stream",
       "stream": "stdout",
       "text": [
        "\n",
        "Error >> 4960 can not fetch month =  96\n",
        "list index out of range"
       ]
      },
      {
       "output_type": "stream",
       "stream": "stdout",
       "text": [
        "\n",
        "Error >> 8271 can not fetch month =  96\n",
        "list index out of range"
       ]
      },
      {
       "output_type": "stream",
       "stream": "stdout",
       "text": [
        "\n",
        "Error >> 9802 can not fetch month =  96\n",
        "list index out of range"
       ]
      },
      {
       "output_type": "stream",
       "stream": "stdout",
       "text": [
        "\n",
        "Error >> 6230 can not fetch month =  96\n",
        "list index out of range"
       ]
      },
      {
       "output_type": "stream",
       "stream": "stdout",
       "text": [
        "\n",
        "Error >> 4144 can not fetch month =  96\n",
        "list index out of range"
       ]
      },
      {
       "output_type": "stream",
       "stream": "stdout",
       "text": [
        "\n",
        "Error >> 4141 can not fetch month =  96\n",
        "list index out of range"
       ]
      },
      {
       "output_type": "stream",
       "stream": "stdout",
       "text": [
        "\n",
        "Error >> 4142 can not fetch month =  96\n",
        "list index out of range"
       ]
      },
      {
       "output_type": "stream",
       "stream": "stdout",
       "text": [
        "\n",
        "Error >> 4942 can not fetch month =  96\n",
        "list index out of range"
       ]
      },
      {
       "output_type": "stream",
       "stream": "stdout",
       "text": [
        "\n",
        "Error >> 2114 can not fetch month =  96\n",
        "Get stock no."
       ]
      },
      {
       "output_type": "stream",
       "stream": "stdout",
       "text": [
        " 8046 info for 96 month\n",
        "list index out of range"
       ]
      },
      {
       "output_type": "stream",
       "stream": "stdout",
       "text": [
        "\n",
        "Error >> 2637 can not fetch month =  96\n",
        "list index out of range"
       ]
      },
      {
       "output_type": "stream",
       "stream": "stdout",
       "text": [
        "\n",
        "Error >> 3545 can not fetch month =  96\n",
        "Get stock no."
       ]
      },
      {
       "output_type": "stream",
       "stream": "stdout",
       "text": [
        " 3130 info for 96 month\n",
        "list index out of range"
       ]
      },
      {
       "output_type": "stream",
       "stream": "stdout",
       "text": [
        "\n",
        "Error >> 9946 can not fetch month =  96\n",
        "list index out of range"
       ]
      },
      {
       "output_type": "stream",
       "stream": "stdout",
       "text": [
        "\n",
        "Error >> 4104 can not fetch month =  96\n",
        "list index out of range"
       ]
      },
      {
       "output_type": "stream",
       "stream": "stdout",
       "text": [
        "\n",
        "Error >> 8210 can not fetch month =  96\n",
        "list index out of range"
       ]
      },
      {
       "output_type": "stream",
       "stream": "stdout",
       "text": [
        "\n",
        "Error >> 8213 can not fetch month =  96\n",
        "list index out of range"
       ]
      },
      {
       "output_type": "stream",
       "stream": "stdout",
       "text": [
        "\n",
        "Error >> 8215 can not fetch month =  96\n",
        "list index out of range"
       ]
      },
      {
       "output_type": "stream",
       "stream": "stdout",
       "text": [
        "\n",
        "Error >> 6243 can not fetch month =  96\n",
        "list index out of range"
       ]
      },
      {
       "output_type": "stream",
       "stream": "stdout",
       "text": [
        "\n",
        "Error >> 2923 can not fetch month =  96\n",
        "list index out of range"
       ]
      },
      {
       "output_type": "stream",
       "stream": "stdout",
       "text": [
        "\n",
        "Error >> 4733 can not fetch month =  96\n",
        "list index out of range"
       ]
      },
      {
       "output_type": "stream",
       "stream": "stdout",
       "text": [
        "\n",
        "Error >> 4737 can not fetch month =  96\n",
        "list index out of range"
       ]
      },
      {
       "output_type": "stream",
       "stream": "stdout",
       "text": [
        "\n",
        "Error >> 6205 can not fetch month =  96\n",
        "list index out of range"
       ]
      },
      {
       "output_type": "stream",
       "stream": "stdout",
       "text": [
        "\n",
        "Error >> 3698 can not fetch month =  96\n",
        "list index out of range"
       ]
      },
      {
       "output_type": "stream",
       "stream": "stdout",
       "text": [
        "\n",
        "Error >> 0060 can not fetch month =  96\n",
        "list index out of range"
       ]
      },
      {
       "output_type": "stream",
       "stream": "stdout",
       "text": [
        "\n",
        "Error >> 0061 can not fetch month =  96\n",
        "list index out of range"
       ]
      },
      {
       "output_type": "stream",
       "stream": "stdout",
       "text": [
        "\n",
        "Error >> 8021 can not fetch month =  96\n",
        "list index out of range"
       ]
      },
      {
       "output_type": "stream",
       "stream": "stdout",
       "text": [
        "\n",
        "Error >> 4755 can not fetch month =  96\n",
        "list index out of range"
       ]
      },
      {
       "output_type": "stream",
       "stream": "stdout",
       "text": [
        "\n",
        "Error >> 5871 can not fetch month =  96\n",
        "list index out of range"
       ]
      },
      {
       "output_type": "stream",
       "stream": "stdout",
       "text": [
        "\n",
        "Error >> 6191 can not fetch month =  96\n",
        "list index out of range"
       ]
      },
      {
       "output_type": "stream",
       "stream": "stdout",
       "text": [
        "\n",
        "Error >> 2731 can not fetch month =  96\n",
        "list index out of range"
       ]
      },
      {
       "output_type": "stream",
       "stream": "stdout",
       "text": [
        "\n",
        "Error >> 6226 can not fetch month =  96\n",
        "list index out of range"
       ]
      },
      {
       "output_type": "stream",
       "stream": "stdout",
       "text": [
        "\n",
        "Error >> 6224 can not fetch month =  96\n",
        "list index out of range"
       ]
      },
      {
       "output_type": "stream",
       "stream": "stdout",
       "text": [
        "\n",
        "Error >> 1773 can not fetch month =  96\n",
        "list index out of range"
       ]
      },
      {
       "output_type": "stream",
       "stream": "stdout",
       "text": [
        "\n",
        "Error >> 0080 can not fetch month =  96\n",
        "list index out of range"
       ]
      },
      {
       "output_type": "stream",
       "stream": "stdout",
       "text": [
        "\n",
        "Error >> 0081 can not fetch month =  96\n",
        "list index out of range"
       ]
      },
      {
       "output_type": "stream",
       "stream": "stdout",
       "text": [
        "\n",
        "Error >> 3704 can not fetch month =  96\n",
        "list index out of range"
       ]
      },
      {
       "output_type": "stream",
       "stream": "stdout",
       "text": [
        "\n",
        "Error >> 2712 can not fetch month =  96\n",
        "list index out of range"
       ]
      },
      {
       "output_type": "stream",
       "stream": "stdout",
       "text": [
        "\n",
        "Error >> 6251 can not fetch month =  96\n",
        "list index out of range"
       ]
      },
      {
       "output_type": "stream",
       "stream": "stdout",
       "text": [
        "\n",
        "Error >> 6405 can not fetch month =  96\n",
        "list index out of range"
       ]
      },
      {
       "output_type": "stream",
       "stream": "stdout",
       "text": [
        "\n",
        "Error >> 9955 can not fetch month =  96\n",
        "list index out of range"
       ]
      },
      {
       "output_type": "stream",
       "stream": "stdout",
       "text": [
        "\n",
        "Error >> 3653 can not fetch month =  96\n",
        "list index out of range"
       ]
      },
      {
       "output_type": "stream",
       "stream": "stdout",
       "text": [
        "\n",
        "Error >> 5243 can not fetch month =  96\n",
        "list index out of range"
       ]
      },
      {
       "output_type": "stream",
       "stream": "stdout",
       "text": [
        "\n",
        "Error >> 3673 can not fetch month =  96\n",
        "list index out of range"
       ]
      },
      {
       "output_type": "stream",
       "stream": "stdout",
       "text": [
        "\n",
        "Error >> 3679 can not fetch month =  96\n",
        "list index out of range"
       ]
      },
      {
       "output_type": "stream",
       "stream": "stdout",
       "text": [
        "\n",
        "Error >> 3557 can not fetch month =  96\n",
        "list index out of range"
       ]
      },
      {
       "output_type": "stream",
       "stream": "stdout",
       "text": [
        "\n",
        "Error >> 3583 can not fetch month =  96\n",
        "list index out of range"
       ]
      },
      {
       "output_type": "stream",
       "stream": "stdout",
       "text": [
        "\n",
        "Error >> 3588 can not fetch month =  96\n",
        "list index out of range"
       ]
      },
      {
       "output_type": "stream",
       "stream": "stdout",
       "text": [
        "\n",
        "Error >> 3550 can not fetch month =  96\n",
        "list index out of range"
       ]
      },
      {
       "output_type": "stream",
       "stream": "stdout",
       "text": [
        "\n",
        "Error >> 4426 can not fetch month =  96\n",
        "list index out of range"
       ]
      },
      {
       "output_type": "stream",
       "stream": "stdout",
       "text": [
        "\n",
        "Error >> 3559 can not fetch month =  96\n",
        "list index out of range"
       ]
      },
      {
       "output_type": "stream",
       "stream": "stdout",
       "text": [
        "\n",
        "Error >> 1817 can not fetch month =  96\n",
        "Get stock no."
       ]
      },
      {
       "output_type": "stream",
       "stream": "stdout",
       "text": [
        " 3443 info for 96 month\n",
        "list index out of range"
       ]
      },
      {
       "output_type": "stream",
       "stream": "stdout",
       "text": [
        "\n",
        "Error >> 5215 can not fetch month =  96\n",
        "list index out of range"
       ]
      },
      {
       "output_type": "stream",
       "stream": "stdout",
       "text": [
        "\n",
        "Error >> 6702 can not fetch month =  96\n",
        "list index out of range"
       ]
      },
      {
       "output_type": "stream",
       "stream": "stdout",
       "text": [
        "\n",
        "Error >> 3617 can not fetch month =  96\n",
        "list index out of range"
       ]
      },
      {
       "output_type": "stream",
       "stream": "stdout",
       "text": [
        "\n",
        "Error >> 3090 can not fetch month =  96\n",
        "list index out of range"
       ]
      },
      {
       "output_type": "stream",
       "stream": "stdout",
       "text": [
        "\n",
        "Error >> 3094 can not fetch month =  96\n",
        "list index out of range"
       ]
      },
      {
       "output_type": "stream",
       "stream": "stdout",
       "text": [
        "\n",
        "Error >> 4108 can not fetch month =  96\n",
        "list index out of range"
       ]
      },
      {
       "output_type": "stream",
       "stream": "stdout",
       "text": [
        "\n",
        "Error >> 9106 can not fetch month =  96\n",
        "list index out of range"
       ]
      },
      {
       "output_type": "stream",
       "stream": "stdout",
       "text": [
        "\n",
        "Error >> 1339 can not fetch month =  96\n",
        "list index out of range"
       ]
      },
      {
       "output_type": "stream",
       "stream": "stdout",
       "text": [
        "\n",
        "Error >> 1338 can not fetch month =  96\n",
        "list index out of range"
       ]
      },
      {
       "output_type": "stream",
       "stream": "stdout",
       "text": [
        "\n",
        "Error >> 1337 can not fetch month =  96\n",
        "list index out of range"
       ]
      },
      {
       "output_type": "stream",
       "stream": "stdout",
       "text": [
        "\n",
        "Error >> 3638 can not fetch month =  96\n",
        "list index out of range"
       ]
      },
      {
       "output_type": "stream",
       "stream": "stdout",
       "text": [
        "\n",
        "Error >> 5234 can not fetch month =  96\n",
        "list index out of range"
       ]
      },
      {
       "output_type": "stream",
       "stream": "stdout",
       "text": [
        "\n",
        "Error >> 3703 can not fetch month =  96\n",
        "list index out of range"
       ]
      },
      {
       "output_type": "stream",
       "stream": "stdout",
       "text": [
        "\n",
        "Error >> 3706 can not fetch month =  96\n",
        "list index out of range"
       ]
      },
      {
       "output_type": "stream",
       "stream": "stdout",
       "text": [
        "\n",
        "Error >> 1590 can not fetch month =  96\n",
        "list index out of range"
       ]
      },
      {
       "output_type": "stream",
       "stream": "stdout",
       "text": [
        "\n",
        "Error >> 2062 can not fetch month =  96\n",
        "list index out of range"
       ]
      },
      {
       "output_type": "stream",
       "stream": "stdout",
       "text": [
        "\n",
        "Error >> 3257 can not fetch month =  96\n",
        "Get stock no."
       ]
      },
      {
       "output_type": "stream",
       "stream": "stdout",
       "text": [
        " 8105 info for 96 month\n",
        "list index out of range"
       ]
      },
      {
       "output_type": "stream",
       "stream": "stdout",
       "text": [
        "\n",
        "Error >> 8103 can not fetch month =  96\n",
        "list index out of range"
       ]
      },
      {
       "output_type": "stream",
       "stream": "stdout",
       "text": [
        "\n",
        "Error >> 3561 can not fetch month =  96\n",
        "list index out of range"
       ]
      },
      {
       "output_type": "stream",
       "stream": "stdout",
       "text": [
        "\n",
        "Error >> 2812 can not fetch month =  96\n",
        "list index out of range"
       ]
      },
      {
       "output_type": "stream",
       "stream": "stdout",
       "text": [
        "\n",
        "Error >> 3376 can not fetch month =  96\n",
        "list index out of range"
       ]
      },
      {
       "output_type": "stream",
       "stream": "stdout",
       "text": [
        "\n",
        "Error >> 5521 can not fetch month =  96\n",
        "list index out of range"
       ]
      },
      {
       "output_type": "stream",
       "stream": "stdout",
       "text": [
        "\n",
        "Error >> 5522 can not fetch month =  96\n",
        "list index out of range"
       ]
      },
      {
       "output_type": "stream",
       "stream": "stdout",
       "text": [
        "\n",
        "Error >> 6152 can not fetch month =  96\n",
        "list index out of range"
       ]
      },
      {
       "output_type": "stream",
       "stream": "stdout",
       "text": [
        "\n",
        "Error >> 6153 can not fetch month =  96\n",
        "Get stock no."
       ]
      },
      {
       "output_type": "stream",
       "stream": "stdout",
       "text": [
        " 6155 info for 96 month\n",
        "list index out of range"
       ]
      },
      {
       "output_type": "stream",
       "stream": "stdout",
       "text": [
        "\n",
        "Error >> 2049 can not fetch month =  96\n",
        "list index out of range"
       ]
      },
      {
       "output_type": "stream",
       "stream": "stdout",
       "text": [
        "\n",
        "Error >> 3697 can not fetch month =  96\n",
        "list index out of range"
       ]
      },
      {
       "output_type": "stream",
       "stream": "stdout",
       "text": [
        "\n",
        "Error >> 8163 can not fetch month =  96\n",
        "Get stock no."
       ]
      },
      {
       "output_type": "stream",
       "stream": "stdout",
       "text": [
        " 3450 info for 96 month\n",
        "list index out of range"
       ]
      },
      {
       "output_type": "stream",
       "stream": "stdout",
       "text": [
        "\n",
        "Error >> 3454 can not fetch month =  96\n",
        "list index out of range"
       ]
      },
      {
       "output_type": "stream",
       "stream": "stdout",
       "text": [
        "\n",
        "Error >> 3682 can not fetch month =  96\n",
        "list index out of range"
       ]
      },
      {
       "output_type": "stream",
       "stream": "stdout",
       "text": [
        "\n",
        "Error >> 9157 can not fetch month =  96\n",
        "list index out of range"
       ]
      },
      {
       "output_type": "stream",
       "stream": "stdout",
       "text": [
        "\n",
        "Error >> 3584 can not fetch month =  96\n",
        "list index out of range"
       ]
      },
      {
       "output_type": "stream",
       "stream": "stdout",
       "text": [
        "\n",
        "Error >> 6176 can not fetch month =  96\n",
        "list index out of range"
       ]
      },
      {
       "output_type": "stream",
       "stream": "stdout",
       "text": [
        "\n",
        "Error >> 6177 can not fetch month =  96\n",
        "list index out of range"
       ]
      },
      {
       "output_type": "stream",
       "stream": "stdout",
       "text": [
        "\n",
        "Error >> 2208 can not fetch month =  96\n",
        "list index out of range"
       ]
      },
      {
       "output_type": "stream",
       "stream": "stdout",
       "text": [
        "\n",
        "Error >> 6271 can not fetch month =  96\n",
        "list index out of range"
       ]
      },
      {
       "output_type": "stream",
       "stream": "stdout",
       "text": [
        "\n",
        "Error >> 4999 can not fetch month =  96\n",
        "list index out of range"
       ]
      },
      {
       "output_type": "stream",
       "stream": "stdout",
       "text": [
        "\n",
        "Error >> 6504 can not fetch month =  96\n",
        "list index out of range"
       ]
      },
      {
       "output_type": "stream",
       "stream": "stdout",
       "text": [
        "\n",
        "Error >> 9136 can not fetch month =  96\n",
        "list index out of range"
       ]
      },
      {
       "output_type": "stream",
       "stream": "stdout",
       "text": [
        "\n",
        "Error >> 2228 can not fetch month =  96\n",
        "list index out of range"
       ]
      },
      {
       "output_type": "stream",
       "stream": "stdout",
       "text": [
        "\n",
        "Error >> 8112 can not fetch month =  96\n",
        "list index out of range"
       ]
      },
      {
       "output_type": "stream",
       "stream": "stdout",
       "text": [
        "\n",
        "Error >> 3579 can not fetch month =  96\n",
        "list index out of range"
       ]
      },
      {
       "output_type": "stream",
       "stream": "stdout",
       "text": [
        "\n",
        "Error >> 3576 can not fetch month =  96\n",
        "list index out of range"
       ]
      },
      {
       "output_type": "stream",
       "stream": "stdout",
       "text": [
        "\n",
        "Error >> 9958 can not fetch month =  96\n",
        "list index out of range"
       ]
      },
      {
       "output_type": "stream",
       "stream": "stdout",
       "text": [
        "\n",
        "Error >> 4977 can not fetch month =  96\n",
        "list index out of range"
       ]
      },
      {
       "output_type": "stream",
       "stream": "stdout",
       "text": [
        "\n",
        "Error >> 3312 can not fetch month =  96\n",
        "Get stock no."
       ]
      },
      {
       "output_type": "stream",
       "stream": "stdout",
       "text": [
        " 3315 info for 96 month\n",
        "list index out of range"
       ]
      },
      {
       "output_type": "stream",
       "stream": "stdout",
       "text": [
        "\n",
        "Error >> 8261 can not fetch month =  96\n",
        "list index out of range"
       ]
      },
      {
       "output_type": "stream",
       "stream": "stdout",
       "text": [
        "\n",
        "Error >> 5906 can not fetch month =  96\n",
        "list index out of range"
       ]
      },
      {
       "output_type": "stream",
       "stream": "stdout",
       "text": [
        "\n",
        "Error >> 5907 can not fetch month =  96\n",
        "Get stock no."
       ]
      },
      {
       "output_type": "stream",
       "stream": "stdout",
       "text": [
        " 3481 info for 96 month\n",
        "list index out of range"
       ]
      },
      {
       "output_type": "stream",
       "stream": "stdout",
       "text": [
        "\n",
        "Error >> 5280 can not fetch month =  96\n",
        "list index out of range"
       ]
      },
      {
       "output_type": "stream",
       "stream": "stdout",
       "text": [
        "\n",
        "Error >> 4952 can not fetch month =  96\n",
        "list index out of range"
       ]
      },
      {
       "output_type": "stream",
       "stream": "stdout",
       "text": [
        "\n",
        "Error >> 4956 can not fetch month =  96\n",
        "list index out of range"
       ]
      },
      {
       "output_type": "stream",
       "stream": "stdout",
       "text": [
        "\n",
        "Error >> 8429 can not fetch month =  96\n",
        "list index out of range"
       ]
      },
      {
       "output_type": "stream",
       "stream": "stdout",
       "text": [
        "\n",
        "Error >> 4133 can not fetch month =  96\n",
        "list index out of range"
       ]
      },
      {
       "output_type": "stream",
       "stream": "stdout",
       "text": [
        "\n",
        "Error >> 2597 can not fetch month =  96\n",
        "list index out of range"
       ]
      },
      {
       "output_type": "stream",
       "stream": "stdout",
       "text": [
        "\n",
        "Error >> 4306 can not fetch month =  96\n",
        "list index out of range"
       ]
      },
      {
       "output_type": "stream",
       "stream": "stdout",
       "text": [
        "\n",
        "Error >> 2361 can not fetch month =  96\n",
        "list index out of range"
       ]
      },
      {
       "output_type": "stream",
       "stream": "stdout",
       "text": [
        "\n",
        "Error >> 4930 can not fetch month =  96\n",
        "list index out of range"
       ]
      },
      {
       "output_type": "stream",
       "stream": "stdout",
       "text": [
        "\n",
        "Error >> 4934 can not fetch month =  96\n",
        "list index out of range"
       ]
      },
      {
       "output_type": "stream",
       "stream": "stdout",
       "text": [
        "\n",
        "Error >> 4935 can not fetch month =  96\n",
        "list index out of range"
       ]
      },
      {
       "output_type": "stream",
       "stream": "stdout",
       "text": [
        "\n",
        "Error >> 4938 can not fetch month =  96\n",
        "list index out of range"
       ]
      },
      {
       "output_type": "stream",
       "stream": "stdout",
       "text": [
        "\n",
        "Error >> 1789 can not fetch month =  96\n",
        "list index out of range"
       ]
      },
      {
       "output_type": "stream",
       "stream": "stdout",
       "text": [
        "\n",
        "Error >> 1786 can not fetch month =  96\n",
        "list index out of range"
       ]
      },
      {
       "output_type": "stream",
       "stream": "stdout",
       "text": [
        "\n",
        "Error >> 5259 can not fetch month =  96\n",
        "list index out of range"
       ]
      },
      {
       "output_type": "stream",
       "stream": "stdout",
       "text": [
        "\n",
        "Error >> 2642 can not fetch month =  96\n",
        "list index out of range"
       ]
      },
      {
       "output_type": "stream",
       "stream": "stdout",
       "text": [
        "\n",
        "Error >> 3149 can not fetch month =  96\n",
        "Get stock no."
       ]
      },
      {
       "output_type": "stream",
       "stream": "stdout",
       "text": [
        " 3504 info for 96 month\n",
        "list index out of range"
       ]
      },
      {
       "output_type": "stream",
       "stream": "stdout",
       "text": [
        "\n",
        "Error >> 4919 can not fetch month =  96\n",
        "list index out of range"
       ]
      },
      {
       "output_type": "stream",
       "stream": "stdout",
       "text": [
        "\n",
        "Error >> 4916 can not fetch month =  96\n",
        "list index out of range"
       ]
      },
      {
       "output_type": "stream",
       "stream": "stdout",
       "text": [
        "\n",
        "Error >> 4915 can not fetch month =  96\n",
        "list index out of range"
       ]
      },
      {
       "output_type": "stream",
       "stream": "stdout",
       "text": [
        "\n",
        "Error >> 3694 can not fetch month =  96\n",
        "list index out of range"
       ]
      },
      {
       "output_type": "stream",
       "stream": "stdout",
       "text": [
        "\n",
        "Error >> 8201 can not fetch month =  96\n",
        "list index out of range"
       ]
      },
      {
       "output_type": "stream",
       "stream": "stdout",
       "text": [
        "\n",
        "Error >> 3573 can not fetch month =  96\n",
        "list index out of range"
       ]
      },
      {
       "output_type": "stream",
       "stream": "stdout",
       "text": [
        "\n",
        "Error >> 3167 can not fetch month =  96\n",
        "list index out of range"
       ]
      },
      {
       "output_type": "stream",
       "stream": "stdout",
       "text": [
        "\n",
        "Error >> 3164 can not fetch month =  96\n",
        "list index out of range"
       ]
      },
      {
       "output_type": "stream",
       "stream": "stdout",
       "text": [
        "\n",
        "Error >> 6283 can not fetch month =  96\n",
        "list index out of range"
       ]
      },
      {
       "output_type": "stream",
       "stream": "stdout",
       "text": [
        "\n",
        "Error >> 2491 can not fetch month =  96\n",
        "Month =  96  : Fetching finished!\n",
        "Fetching Start\n",
        "list index out of range"
       ]
      },
      {
       "output_type": "stream",
       "stream": "stdout",
       "text": [
        "\n",
        "Error >> 0059 can not fetch month =  84\n",
        "list index out of range"
       ]
      },
      {
       "output_type": "stream",
       "stream": "stdout",
       "text": [
        "\n",
        "Error >> 0058 can not fetch month =  84\n",
        "Get stock no."
       ]
      },
      {
       "output_type": "stream",
       "stream": "stdout",
       "text": [
        " 0053 info for 84 month\n",
        "list index out of range"
       ]
      },
      {
       "output_type": "stream",
       "stream": "stdout",
       "text": [
        "\n",
        "Error >> 0057 can not fetch month =  84\n",
        "Get stock no."
       ]
      },
      {
       "output_type": "stream",
       "stream": "stdout",
       "text": [
        " 0056 info for 84 month\n",
        "Get stock no."
       ]
      },
      {
       "output_type": "stream",
       "stream": "stdout",
       "text": [
        " 0055 info for 84 month\n",
        "Get stock no."
       ]
      },
      {
       "output_type": "stream",
       "stream": "stdout",
       "text": [
        " 0054 info for 84 month\n",
        "Get stock no."
       ]
      },
      {
       "output_type": "stream",
       "stream": "stdout",
       "text": [
        " 3519 info for 84 month\n",
        "Get stock no."
       ]
      },
      {
       "output_type": "stream",
       "stream": "stdout",
       "text": [
        " 3518 info for 84 month\n",
        "list index out of range"
       ]
      },
      {
       "output_type": "stream",
       "stream": "stdout",
       "text": [
        "\n",
        "Error >> 8011 can not fetch month =  84\n",
        "list index out of range"
       ]
      },
      {
       "output_type": "stream",
       "stream": "stdout",
       "text": [
        "\n",
        "Error >> 3622 can not fetch month =  84\n",
        "list index out of range"
       ]
      },
      {
       "output_type": "stream",
       "stream": "stdout",
       "text": [
        "\n",
        "Error >> 4722 can not fetch month =  84\n",
        "Get stock no."
       ]
      },
      {
       "output_type": "stream",
       "stream": "stdout",
       "text": [
        " 6215 info for 84 month\n",
        "list index out of range"
       ]
      },
      {
       "output_type": "stream",
       "stream": "stdout",
       "text": [
        "\n",
        "Error >> 6214 can not fetch month =  84\n",
        "Get stock no."
       ]
      },
      {
       "output_type": "stream",
       "stream": "stdout",
       "text": [
        " 6213 info for 84 month\n",
        "list index out of range"
       ]
      },
      {
       "output_type": "stream",
       "stream": "stdout",
       "text": [
        "\n",
        "Error >> 1762 can not fetch month =  84\n",
        "Get stock no."
       ]
      },
      {
       "output_type": "stream",
       "stream": "stdout",
       "text": [
        " 3533 info for 84 month\n",
        "Get stock no."
       ]
      },
      {
       "output_type": "stream",
       "stream": "stdout",
       "text": [
        " 3532 info for 84 month\n",
        "Get stock no."
       ]
      },
      {
       "output_type": "stream",
       "stream": "stdout",
       "text": [
        " 3535 info for 84 month\n",
        "list index out of range"
       ]
      },
      {
       "output_type": "stream",
       "stream": "stdout",
       "text": [
        "\n",
        "Error >> 3536 can not fetch month =  84\n",
        "Get stock no."
       ]
      },
      {
       "output_type": "stream",
       "stream": "stdout",
       "text": [
        " 3515 info for 84 month\n",
        "Get stock no."
       ]
      },
      {
       "output_type": "stream",
       "stream": "stdout",
       "text": [
        " 3514 info for 84 month\n",
        "list index out of range"
       ]
      },
      {
       "output_type": "stream",
       "stream": "stdout",
       "text": [
        "\n",
        "Error >> 4746 can not fetch month =  84\n",
        "list index out of range"
       ]
      },
      {
       "output_type": "stream",
       "stream": "stdout",
       "text": [
        "\n",
        "Error >> 6183 can not fetch month =  84\n",
        "list index out of range"
       ]
      },
      {
       "output_type": "stream",
       "stream": "stdout",
       "text": [
        "\n",
        "Error >> 2727 can not fetch month =  84\n",
        "list index out of range"
       ]
      },
      {
       "output_type": "stream",
       "stream": "stdout",
       "text": [
        "\n",
        "Error >> 2723 can not fetch month =  84\n",
        "list index out of range"
       ]
      },
      {
       "output_type": "stream",
       "stream": "stdout",
       "text": [
        "\n",
        "Error >> 2722 can not fetch month =  84\n",
        "list index out of range"
       ]
      },
      {
       "output_type": "stream",
       "stream": "stdout",
       "text": [
        "\n",
        "Error >> 5264 can not fetch month =  84\n",
        "list index out of range"
       ]
      },
      {
       "output_type": "stream",
       "stream": "stdout",
       "text": [
        "\n",
        "Error >> 5269 can not fetch month =  84\n",
        "Get stock no."
       ]
      },
      {
       "output_type": "stream",
       "stream": "stdout",
       "text": [
        " 5388 info for 84 month\n",
        "list index out of range"
       ]
      },
      {
       "output_type": "stream",
       "stream": "stdout",
       "text": [
        "\n",
        "Error >> 4976 can not fetch month =  84\n",
        "list index out of range"
       ]
      },
      {
       "output_type": "stream",
       "stream": "stdout",
       "text": [
        "\n",
        "Error >> 1589 can not fetch month =  84\n",
        "list index out of range"
       ]
      },
      {
       "output_type": "stream",
       "stream": "stdout",
       "text": [
        "\n",
        "Error >> 1582 can not fetch month =  84\n",
        "Get stock no."
       ]
      },
      {
       "output_type": "stream",
       "stream": "stdout",
       "text": [
        " 1583 info for 84 month\n",
        "list index out of range"
       ]
      },
      {
       "output_type": "stream",
       "stream": "stdout",
       "text": [
        "\n",
        "Error >> 6415 can not fetch month =  84\n",
        "list index out of range"
       ]
      },
      {
       "output_type": "stream",
       "stream": "stdout",
       "text": [
        "\n",
        "Error >> 6412 can not fetch month =  84\n",
        "list index out of range"
       ]
      },
      {
       "output_type": "stream",
       "stream": "stdout",
       "text": [
        "\n",
        "Error >> 3645 can not fetch month =  84\n",
        "Get stock no."
       ]
      },
      {
       "output_type": "stream",
       "stream": "stdout",
       "text": [
        " 8070 info for 84 month\n",
        "Get stock no."
       ]
      },
      {
       "output_type": "stream",
       "stream": "stdout",
       "text": [
        " 4725 info for 84 month\n",
        "list index out of range"
       ]
      },
      {
       "output_type": "stream",
       "stream": "stdout",
       "text": [
        "\n",
        "Error >> 3705 can not fetch month =  84\n",
        "list index out of range"
       ]
      },
      {
       "output_type": "stream",
       "stream": "stdout",
       "text": [
        "\n",
        "Error >> 6278 can not fetch month =  84\n",
        "list index out of range"
       ]
      },
      {
       "output_type": "stream",
       "stream": "stdout",
       "text": [
        "\n",
        "Error >> 5225 can not fetch month =  84\n",
        "list index out of range"
       ]
      },
      {
       "output_type": "stream",
       "stream": "stdout",
       "text": [
        "\n",
        "Error >> 8404 can not fetch month =  84\n",
        "list index out of range"
       ]
      },
      {
       "output_type": "stream",
       "stream": "stdout",
       "text": [
        "\n",
        "Error >> 8374 can not fetch month =  84\n",
        "list index out of range"
       ]
      },
      {
       "output_type": "stream",
       "stream": "stdout",
       "text": [
        "\n",
        "Error >> 3665 can not fetch month =  84\n",
        "list index out of range"
       ]
      },
      {
       "output_type": "stream",
       "stream": "stdout",
       "text": [
        "\n",
        "Error >> 3669 can not fetch month =  84\n",
        "list index out of range"
       ]
      },
      {
       "output_type": "stream",
       "stream": "stdout",
       "text": [
        "\n",
        "Error >> 3593 can not fetch month =  84\n",
        "list index out of range"
       ]
      },
      {
       "output_type": "stream",
       "stream": "stdout",
       "text": [
        "\n",
        "Error >> 3591 can not fetch month =  84\n",
        "list index out of range"
       ]
      },
      {
       "output_type": "stream",
       "stream": "stdout",
       "text": [
        "\n",
        "Error >> 3596 can not fetch month =  84\n",
        "list index out of range"
       ]
      },
      {
       "output_type": "stream",
       "stream": "stdout",
       "text": [
        "\n",
        "Error >> 3598 can not fetch month =  84\n",
        "list index out of range"
       ]
      },
      {
       "output_type": "stream",
       "stream": "stdout",
       "text": [
        "\n",
        "Error >> 8081 can not fetch month =  84\n",
        "list index out of range"
       ]
      },
      {
       "output_type": "stream",
       "stream": "stdout",
       "text": [
        "\n",
        "Error >> 3432 can not fetch month =  84\n",
        "list index out of range"
       ]
      },
      {
       "output_type": "stream",
       "stream": "stdout",
       "text": [
        "\n",
        "Error >> 2038 can not fetch month =  84\n",
        "Get stock no."
       ]
      },
      {
       "output_type": "stream",
       "stream": "stdout",
       "text": [
        " 8131 info for 84 month\n",
        "list index out of range"
       ]
      },
      {
       "output_type": "stream",
       "stream": "stdout",
       "text": [
        "\n",
        "Error >> 3607 can not fetch month =  84\n",
        "list index out of range"
       ]
      },
      {
       "output_type": "stream",
       "stream": "stdout",
       "text": [
        "\n",
        "Error >> 3605 can not fetch month =  84\n",
        "Get stock no."
       ]
      },
      {
       "output_type": "stream",
       "stream": "stdout",
       "text": [
        " 3296 info for 84 month\n",
        "Get stock no."
       ]
      },
      {
       "output_type": "stream",
       "stream": "stdout",
       "text": [
        " 3383 info for 84 month\n",
        "list index out of range"
       ]
      },
      {
       "output_type": "stream",
       "stream": "stdout",
       "text": [
        "\n",
        "Error >> 5007 can not fetch month =  84\n",
        "list index out of range"
       ]
      },
      {
       "output_type": "stream",
       "stream": "stdout",
       "text": [
        "\n",
        "Error >> 6108 can not fetch month =  84\n",
        "Get stock no."
       ]
      },
      {
       "output_type": "stream",
       "stream": "stdout",
       "text": [
        " 3419 info for 84 month\n",
        "list index out of range"
       ]
      },
      {
       "output_type": "stream",
       "stream": "stdout",
       "text": [
        "\n",
        "Error >> 9110 can not fetch month =  84\n",
        "Get stock no."
       ]
      },
      {
       "output_type": "stream",
       "stream": "stdout",
       "text": [
        " 8110 info for 84 month\n",
        "list index out of range"
       ]
      },
      {
       "output_type": "stream",
       "stream": "stdout",
       "text": [
        "\n",
        "Error >> 8114 can not fetch month =  84\n",
        "Get stock no."
       ]
      },
      {
       "output_type": "stream",
       "stream": "stdout",
       "text": [
        " 3501 info for 84 month\n",
        "list index out of range"
       ]
      },
      {
       "output_type": "stream",
       "stream": "stdout",
       "text": [
        "\n",
        "Error >> 5880 can not fetch month =  84\n",
        "list index out of range"
       ]
      },
      {
       "output_type": "stream",
       "stream": "stdout",
       "text": [
        "\n",
        "Error >> 3686 can not fetch month =  84\n",
        "list index out of range"
       ]
      },
      {
       "output_type": "stream",
       "stream": "stdout",
       "text": [
        "\n",
        "Error >> 8411 can not fetch month =  84\n",
        "list index out of range"
       ]
      },
      {
       "output_type": "stream",
       "stream": "stdout",
       "text": [
        "\n",
        "Error >> 8940 can not fetch month =  84\n",
        "list index out of range"
       ]
      },
      {
       "output_type": "stream",
       "stream": "stdout",
       "text": [
        "\n",
        "Error >> 1626 can not fetch month =  84\n",
        "list index out of range"
       ]
      },
      {
       "output_type": "stream",
       "stream": "stdout",
       "text": [
        "\n",
        "Error >> 3209 can not fetch month =  84\n",
        "list index out of range"
       ]
      },
      {
       "output_type": "stream",
       "stream": "stdout",
       "text": [
        "\n",
        "Error >> 2867 can not fetch month =  84\n",
        "list index out of range"
       ]
      },
      {
       "output_type": "stream",
       "stream": "stdout",
       "text": [
        "\n",
        "Error >> 9188 can not fetch month =  84\n",
        "list index out of range"
       ]
      },
      {
       "output_type": "stream",
       "stream": "stdout",
       "text": [
        "\n",
        "Error >> 5533 can not fetch month =  84\n",
        "list index out of range"
       ]
      },
      {
       "output_type": "stream",
       "stream": "stdout",
       "text": [
        "\n",
        "Error >> 5538 can not fetch month =  84\n",
        "list index out of range"
       ]
      },
      {
       "output_type": "stream",
       "stream": "stdout",
       "text": [
        "\n",
        "Error >> 2059 can not fetch month =  84\n",
        "list index out of range"
       ]
      },
      {
       "output_type": "stream",
       "stream": "stdout",
       "text": [
        "\n",
        "Error >> 4536 can not fetch month =  84\n",
        "list index out of range"
       ]
      },
      {
       "output_type": "stream",
       "stream": "stdout",
       "text": [
        "\n",
        "Error >> 4958 can not fetch month =  84\n",
        "list index out of range"
       ]
      },
      {
       "output_type": "stream",
       "stream": "stdout",
       "text": [
        "\n",
        "Error >> 3229 can not fetch month =  84\n",
        "list index out of range"
       ]
      },
      {
       "output_type": "stream",
       "stream": "stdout",
       "text": [
        "\n",
        "Error >> 6164 can not fetch month =  84\n",
        "Get stock no."
       ]
      },
      {
       "output_type": "stream",
       "stream": "stdout",
       "text": [
        " 8033 info for 84 month\n",
        "list index out of range"
       ]
      },
      {
       "output_type": "stream",
       "stream": "stdout",
       "text": [
        "\n",
        "Error >> 8039 can not fetch month =  84\n",
        "list index out of range"
       ]
      },
      {
       "output_type": "stream",
       "stream": "stdout",
       "text": [
        "\n",
        "Error >> 5706 can not fetch month =  84\n",
        "list index out of range"
       ]
      },
      {
       "output_type": "stream",
       "stream": "stdout",
       "text": [
        "\n",
        "Error >> 4984 can not fetch month =  84\n",
        "list index out of range"
       ]
      },
      {
       "output_type": "stream",
       "stream": "stdout",
       "text": [
        "\n",
        "Error >> 3308 can not fetch month =  84\n",
        "list index out of range"
       ]
      },
      {
       "output_type": "stream",
       "stream": "stdout",
       "text": [
        "\n",
        "Error >> 3305 can not fetch month =  84\n",
        "list index out of range"
       ]
      },
      {
       "output_type": "stream",
       "stream": "stdout",
       "text": [
        "\n",
        "Error >> 4164 can not fetch month =  84\n",
        "list index out of range"
       ]
      },
      {
       "output_type": "stream",
       "stream": "stdout",
       "text": [
        "\n",
        "Error >> 2231 can not fetch month =  84\n",
        "list index out of range"
       ]
      },
      {
       "output_type": "stream",
       "stream": "stdout",
       "text": [
        "\n",
        "Error >> 8427 can not fetch month =  84\n",
        "Get stock no."
       ]
      },
      {
       "output_type": "stream",
       "stream": "stdout",
       "text": [
        " 3494 info for 84 month\n",
        "list index out of range"
       ]
      },
      {
       "output_type": "stream",
       "stream": "stdout",
       "text": [
        "\n",
        "Error >> 8422 can not fetch month =  84\n",
        "list index out of range"
       ]
      },
      {
       "output_type": "stream",
       "stream": "stdout",
       "text": [
        "\n",
        "Error >> 3338 can not fetch month =  84\n",
        "list index out of range"
       ]
      },
      {
       "output_type": "stream",
       "stream": "stdout",
       "text": [
        "\n",
        "Error >> 4137 can not fetch month =  84\n",
        "list index out of range"
       ]
      },
      {
       "output_type": "stream",
       "stream": "stdout",
       "text": [
        "\n",
        "Error >> 4960 can not fetch month =  84\n",
        "list index out of range"
       ]
      },
      {
       "output_type": "stream",
       "stream": "stdout",
       "text": [
        "\n",
        "Error >> 8271 can not fetch month =  84\n",
        "list index out of range"
       ]
      },
      {
       "output_type": "stream",
       "stream": "stdout",
       "text": [
        "\n",
        "Error >> 9802 can not fetch month =  84\n",
        "list index out of range"
       ]
      },
      {
       "output_type": "stream",
       "stream": "stdout",
       "text": [
        "\n",
        "Error >> 6230 can not fetch month =  84\n",
        "list index out of range"
       ]
      },
      {
       "output_type": "stream",
       "stream": "stdout",
       "text": [
        "\n",
        "Error >> 4144 can not fetch month =  84\n",
        "list index out of range"
       ]
      },
      {
       "output_type": "stream",
       "stream": "stdout",
       "text": [
        "\n",
        "Error >> 4141 can not fetch month =  84\n",
        "list index out of range"
       ]
      },
      {
       "output_type": "stream",
       "stream": "stdout",
       "text": [
        "\n",
        "Error >> 4142 can not fetch month =  84\n",
        "list index out of range"
       ]
      },
      {
       "output_type": "stream",
       "stream": "stdout",
       "text": [
        "\n",
        "Error >> 4942 can not fetch month =  84\n",
        "list index out of range"
       ]
      },
      {
       "output_type": "stream",
       "stream": "stdout",
       "text": [
        "\n",
        "Error >> 2114 can not fetch month =  84\n",
        "list index out of range"
       ]
      },
      {
       "output_type": "stream",
       "stream": "stdout",
       "text": [
        "\n",
        "Error >> 2637 can not fetch month =  84\n",
        "Get stock no."
       ]
      },
      {
       "output_type": "stream",
       "stream": "stdout",
       "text": [
        " 3545 info for 84 month\n",
        "list index out of range"
       ]
      },
      {
       "output_type": "stream",
       "stream": "stdout",
       "text": [
        "\n",
        "Error >> 9946 can not fetch month =  84\n",
        "Get stock no."
       ]
      },
      {
       "output_type": "stream",
       "stream": "stdout",
       "text": [
        " 4104 info for 84 month\n",
        "list index out of range"
       ]
      },
      {
       "output_type": "stream",
       "stream": "stdout",
       "text": [
        "\n",
        "Error >> 8210 can not fetch month =  84\n",
        "list index out of range"
       ]
      },
      {
       "output_type": "stream",
       "stream": "stdout",
       "text": [
        "\n",
        "Error >> 8213 can not fetch month =  84\n",
        "list index out of range"
       ]
      },
      {
       "output_type": "stream",
       "stream": "stdout",
       "text": [
        "\n",
        "Error >> 8215 can not fetch month =  84\n",
        "list index out of range"
       ]
      },
      {
       "output_type": "stream",
       "stream": "stdout",
       "text": [
        "\n",
        "Error >> 6243 can not fetch month =  84\n",
        "list index out of range"
       ]
      },
      {
       "output_type": "stream",
       "stream": "stdout",
       "text": [
        "\n",
        "Error >> 2923 can not fetch month =  84\n",
        "list index out of range"
       ]
      },
      {
       "output_type": "stream",
       "stream": "stdout",
       "text": [
        "\n",
        "Error >> 4733 can not fetch month =  84\n",
        "list index out of range"
       ]
      },
      {
       "output_type": "stream",
       "stream": "stdout",
       "text": [
        "\n",
        "Error >> 4737 can not fetch month =  84\n",
        "Get stock no."
       ]
      },
      {
       "output_type": "stream",
       "stream": "stdout",
       "text": [
        " 6205 info for 84 month\n",
        "list index out of range"
       ]
      },
      {
       "output_type": "stream",
       "stream": "stdout",
       "text": [
        "\n",
        "Error >> 3698 can not fetch month =  84\n",
        "list index out of range"
       ]
      },
      {
       "output_type": "stream",
       "stream": "stdout",
       "text": [
        "\n",
        "Error >> 0060 can not fetch month =  84\n",
        "list index out of range"
       ]
      },
      {
       "output_type": "stream",
       "stream": "stdout",
       "text": [
        "\n",
        "Error >> 0061 can not fetch month =  84\n",
        "Get stock no."
       ]
      },
      {
       "output_type": "stream",
       "stream": "stdout",
       "text": [
        " 8021 info for 84 month\n",
        "list index out of range"
       ]
      },
      {
       "output_type": "stream",
       "stream": "stdout",
       "text": [
        "\n",
        "Error >> 4755 can not fetch month =  84\n",
        "list index out of range"
       ]
      },
      {
       "output_type": "stream",
       "stream": "stdout",
       "text": [
        "\n",
        "Error >> 5871 can not fetch month =  84\n",
        "Get stock no."
       ]
      },
      {
       "output_type": "stream",
       "stream": "stdout",
       "text": [
        " 6191 info for 84 month\n",
        "list index out of range"
       ]
      },
      {
       "output_type": "stream",
       "stream": "stdout",
       "text": [
        "\n",
        "Error >> 2731 can not fetch month =  84\n",
        "list index out of range"
       ]
      },
      {
       "output_type": "stream",
       "stream": "stdout",
       "text": [
        "\n",
        "Error >> 6226 can not fetch month =  84\n",
        "list index out of range"
       ]
      },
      {
       "output_type": "stream",
       "stream": "stdout",
       "text": [
        "\n",
        "Error >> 6224 can not fetch month =  84\n",
        "list index out of range"
       ]
      },
      {
       "output_type": "stream",
       "stream": "stdout",
       "text": [
        "\n",
        "Error >> 1773 can not fetch month =  84\n",
        "list index out of range"
       ]
      },
      {
       "output_type": "stream",
       "stream": "stdout",
       "text": [
        "\n",
        "Error >> 0080 can not fetch month =  84\n",
        "list index out of range"
       ]
      },
      {
       "output_type": "stream",
       "stream": "stdout",
       "text": [
        "\n",
        "Error >> 0081 can not fetch month =  84\n",
        "list index out of range"
       ]
      },
      {
       "output_type": "stream",
       "stream": "stdout",
       "text": [
        "\n",
        "Error >> 3704 can not fetch month =  84\n",
        "list index out of range"
       ]
      },
      {
       "output_type": "stream",
       "stream": "stdout",
       "text": [
        "\n",
        "Error >> 2712 can not fetch month =  84\n",
        "list index out of range"
       ]
      },
      {
       "output_type": "stream",
       "stream": "stdout",
       "text": [
        "\n",
        "Error >> 6251 can not fetch month =  84\n",
        "list index out of range"
       ]
      },
      {
       "output_type": "stream",
       "stream": "stdout",
       "text": [
        "\n",
        "Error >> 6405 can not fetch month =  84\n",
        "Get stock no."
       ]
      },
      {
       "output_type": "stream",
       "stream": "stdout",
       "text": [
        " 9955 info for 84 month\n",
        "list index out of range"
       ]
      },
      {
       "output_type": "stream",
       "stream": "stdout",
       "text": [
        "\n",
        "Error >> 3653 can not fetch month =  84\n",
        "list index out of range"
       ]
      },
      {
       "output_type": "stream",
       "stream": "stdout",
       "text": [
        "\n",
        "Error >> 5243 can not fetch month =  84\n",
        "list index out of range"
       ]
      },
      {
       "output_type": "stream",
       "stream": "stdout",
       "text": [
        "\n",
        "Error >> 3673 can not fetch month =  84\n",
        "list index out of range"
       ]
      },
      {
       "output_type": "stream",
       "stream": "stdout",
       "text": [
        "\n",
        "Error >> 3679 can not fetch month =  84\n",
        "list index out of range"
       ]
      },
      {
       "output_type": "stream",
       "stream": "stdout",
       "text": [
        "\n",
        "Error >> 3557 can not fetch month =  84\n",
        "list index out of range"
       ]
      },
      {
       "output_type": "stream",
       "stream": "stdout",
       "text": [
        "\n",
        "Error >> 3583 can not fetch month =  84\n",
        "list index out of range"
       ]
      },
      {
       "output_type": "stream",
       "stream": "stdout",
       "text": [
        "\n",
        "Error >> 3588 can not fetch month =  84\n",
        "list index out of range"
       ]
      },
      {
       "output_type": "stream",
       "stream": "stdout",
       "text": [
        "\n",
        "Error >> 3550 can not fetch month =  84\n",
        "list index out of range"
       ]
      },
      {
       "output_type": "stream",
       "stream": "stdout",
       "text": [
        "\n",
        "Error >> 4426 can not fetch month =  84\n",
        "list index out of range"
       ]
      },
      {
       "output_type": "stream",
       "stream": "stdout",
       "text": [
        "\n",
        "Error >> 3559 can not fetch month =  84\n",
        "list index out of range"
       ]
      },
      {
       "output_type": "stream",
       "stream": "stdout",
       "text": [
        "\n",
        "Error >> 1817 can not fetch month =  84\n",
        "list index out of range"
       ]
      },
      {
       "output_type": "stream",
       "stream": "stdout",
       "text": [
        "\n",
        "Error >> 5215 can not fetch month =  84\n",
        "list index out of range"
       ]
      },
      {
       "output_type": "stream",
       "stream": "stdout",
       "text": [
        "\n",
        "Error >> 6702 can not fetch month =  84\n",
        "list index out of range"
       ]
      },
      {
       "output_type": "stream",
       "stream": "stdout",
       "text": [
        "\n",
        "Error >> 3617 can not fetch month =  84\n",
        "Get stock no."
       ]
      },
      {
       "output_type": "stream",
       "stream": "stdout",
       "text": [
        " 3090 info for 84 month\n",
        "Get stock no."
       ]
      },
      {
       "output_type": "stream",
       "stream": "stdout",
       "text": [
        " 3094 info for 84 month\n",
        "list index out of range"
       ]
      },
      {
       "output_type": "stream",
       "stream": "stdout",
       "text": [
        "\n",
        "Error >> 4108 can not fetch month =  84\n",
        "list index out of range"
       ]
      },
      {
       "output_type": "stream",
       "stream": "stdout",
       "text": [
        "\n",
        "Error >> 9106 can not fetch month =  84\n",
        "list index out of range"
       ]
      },
      {
       "output_type": "stream",
       "stream": "stdout",
       "text": [
        "\n",
        "Error >> 1339 can not fetch month =  84\n",
        "list index out of range"
       ]
      },
      {
       "output_type": "stream",
       "stream": "stdout",
       "text": [
        "\n",
        "Error >> 1338 can not fetch month =  84\n",
        "list index out of range"
       ]
      },
      {
       "output_type": "stream",
       "stream": "stdout",
       "text": [
        "\n",
        "Error >> 1337 can not fetch month =  84\n",
        "list index out of range"
       ]
      },
      {
       "output_type": "stream",
       "stream": "stdout",
       "text": [
        "\n",
        "Error >> 3638 can not fetch month =  84\n",
        "list index out of range"
       ]
      },
      {
       "output_type": "stream",
       "stream": "stdout",
       "text": [
        "\n",
        "Error >> 5234 can not fetch month =  84\n",
        "list index out of range"
       ]
      },
      {
       "output_type": "stream",
       "stream": "stdout",
       "text": [
        "\n",
        "Error >> 3703 can not fetch month =  84\n",
        "list index out of range"
       ]
      },
      {
       "output_type": "stream",
       "stream": "stdout",
       "text": [
        "\n",
        "Error >> 3706 can not fetch month =  84\n",
        "list index out of range"
       ]
      },
      {
       "output_type": "stream",
       "stream": "stdout",
       "text": [
        "\n",
        "Error >> 1590 can not fetch month =  84\n",
        "Get stock no."
       ]
      },
      {
       "output_type": "stream",
       "stream": "stdout",
       "text": [
        " 2062 info for 84 month\n",
        "list index out of range"
       ]
      },
      {
       "output_type": "stream",
       "stream": "stdout",
       "text": [
        "\n",
        "Error >> 3257 can not fetch month =  84\n",
        "list index out of range"
       ]
      },
      {
       "output_type": "stream",
       "stream": "stdout",
       "text": [
        "\n",
        "Error >> 8103 can not fetch month =  84\n",
        "list index out of range"
       ]
      },
      {
       "output_type": "stream",
       "stream": "stdout",
       "text": [
        "\n",
        "Error >> 3561 can not fetch month =  84\n",
        "Get stock no."
       ]
      },
      {
       "output_type": "stream",
       "stream": "stdout",
       "text": [
        " 2812 info for 84 month\n",
        "Get stock no."
       ]
      },
      {
       "output_type": "stream",
       "stream": "stdout",
       "text": [
        " 3376 info for 84 month\n",
        "list index out of range"
       ]
      },
      {
       "output_type": "stream",
       "stream": "stdout",
       "text": [
        "\n",
        "Error >> 5521 can not fetch month =  84\n",
        "Get stock no."
       ]
      },
      {
       "output_type": "stream",
       "stream": "stdout",
       "text": [
        " 5522 info for 84 month\n",
        "list index out of range"
       ]
      },
      {
       "output_type": "stream",
       "stream": "stdout",
       "text": [
        "\n",
        "Error >> 6152 can not fetch month =  84\n",
        "Get stock no."
       ]
      },
      {
       "output_type": "stream",
       "stream": "stdout",
       "text": [
        " 6153 info for 84 month\n",
        "list index out of range"
       ]
      },
      {
       "output_type": "stream",
       "stream": "stdout",
       "text": [
        "\n",
        "Error >> 2049 can not fetch month =  84\n",
        "list index out of range"
       ]
      },
      {
       "output_type": "stream",
       "stream": "stdout",
       "text": [
        "\n",
        "Error >> 3697 can not fetch month =  84\n",
        "Get stock no."
       ]
      },
      {
       "output_type": "stream",
       "stream": "stdout",
       "text": [
        " 8163 info for 84 month\n",
        "list index out of range"
       ]
      },
      {
       "output_type": "stream",
       "stream": "stdout",
       "text": [
        "\n",
        "Error >> 3454 can not fetch month =  84\n",
        "list index out of range"
       ]
      },
      {
       "output_type": "stream",
       "stream": "stdout",
       "text": [
        "\n",
        "Error >> 3682 can not fetch month =  84\n",
        "list index out of range"
       ]
      },
      {
       "output_type": "stream",
       "stream": "stdout",
       "text": [
        "\n",
        "Error >> 9157 can not fetch month =  84\n",
        "list index out of range"
       ]
      },
      {
       "output_type": "stream",
       "stream": "stdout",
       "text": [
        "\n",
        "Error >> 3584 can not fetch month =  84\n",
        "Get stock no."
       ]
      },
      {
       "output_type": "stream",
       "stream": "stdout",
       "text": [
        " 6176 info for 84 month\n",
        "list index out of range"
       ]
      },
      {
       "output_type": "stream",
       "stream": "stdout",
       "text": [
        "\n",
        "Error >> 6177 can not fetch month =  84\n",
        "list index out of range"
       ]
      },
      {
       "output_type": "stream",
       "stream": "stdout",
       "text": [
        "\n",
        "Error >> 2208 can not fetch month =  84\n",
        "Get stock no."
       ]
      },
      {
       "output_type": "stream",
       "stream": "stdout",
       "text": [
        " 6271 info for 84 month\n",
        "list index out of range"
       ]
      },
      {
       "output_type": "stream",
       "stream": "stdout",
       "text": [
        "\n",
        "Error >> 4999 can not fetch month =  84\n",
        "list index out of range"
       ]
      },
      {
       "output_type": "stream",
       "stream": "stdout",
       "text": [
        "\n",
        "Error >> 6504 can not fetch month =  84\n",
        "list index out of range"
       ]
      },
      {
       "output_type": "stream",
       "stream": "stdout",
       "text": [
        "\n",
        "Error >> 9136 can not fetch month =  84\n",
        "list index out of range"
       ]
      },
      {
       "output_type": "stream",
       "stream": "stdout",
       "text": [
        "\n",
        "Error >> 2228 can not fetch month =  84\n",
        "Get stock no."
       ]
      },
      {
       "output_type": "stream",
       "stream": "stdout",
       "text": [
        " 8112 info for 84 month\n",
        "list index out of range"
       ]
      },
      {
       "output_type": "stream",
       "stream": "stdout",
       "text": [
        "\n",
        "Error >> 3579 can not fetch month =  84\n",
        "list index out of range"
       ]
      },
      {
       "output_type": "stream",
       "stream": "stdout",
       "text": [
        "\n",
        "Error >> 3576 can not fetch month =  84\n",
        "list index out of range"
       ]
      },
      {
       "output_type": "stream",
       "stream": "stdout",
       "text": [
        "\n",
        "Error >> 9958 can not fetch month =  84\n",
        "list index out of range"
       ]
      },
      {
       "output_type": "stream",
       "stream": "stdout",
       "text": [
        "\n",
        "Error >> 4977 can not fetch month =  84\n",
        "list index out of range"
       ]
      },
      {
       "output_type": "stream",
       "stream": "stdout",
       "text": [
        "\n",
        "Error >> 3312 can not fetch month =  84\n",
        "list index out of range"
       ]
      },
      {
       "output_type": "stream",
       "stream": "stdout",
       "text": [
        "\n",
        "Error >> 8261 can not fetch month =  84\n",
        "list index out of range"
       ]
      },
      {
       "output_type": "stream",
       "stream": "stdout",
       "text": [
        "\n",
        "Error >> 5906 can not fetch month =  84\n",
        "list index out of range"
       ]
      },
      {
       "output_type": "stream",
       "stream": "stdout",
       "text": [
        "\n",
        "Error >> 5907 can not fetch month =  84\n",
        "list index out of range"
       ]
      },
      {
       "output_type": "stream",
       "stream": "stdout",
       "text": [
        "\n",
        "Error >> 5280 can not fetch month =  84\n",
        "list index out of range"
       ]
      },
      {
       "output_type": "stream",
       "stream": "stdout",
       "text": [
        "\n",
        "Error >> 4952 can not fetch month =  84\n",
        "list index out of range"
       ]
      },
      {
       "output_type": "stream",
       "stream": "stdout",
       "text": [
        "\n",
        "Error >> 4956 can not fetch month =  84\n",
        "list index out of range"
       ]
      },
      {
       "output_type": "stream",
       "stream": "stdout",
       "text": [
        "\n",
        "Error >> 8429 can not fetch month =  84\n",
        "list index out of range"
       ]
      },
      {
       "output_type": "stream",
       "stream": "stdout",
       "text": [
        "\n",
        "Error >> 4133 can not fetch month =  84\n",
        "list index out of range"
       ]
      },
      {
       "output_type": "stream",
       "stream": "stdout",
       "text": [
        "\n",
        "Error >> 2597 can not fetch month =  84\n",
        "Get stock no."
       ]
      },
      {
       "output_type": "stream",
       "stream": "stdout",
       "text": [
        " 4306 info for 84 month\n",
        "list index out of range"
       ]
      },
      {
       "output_type": "stream",
       "stream": "stdout",
       "text": [
        "\n",
        "Error >> 2361 can not fetch month =  84\n",
        "list index out of range"
       ]
      },
      {
       "output_type": "stream",
       "stream": "stdout",
       "text": [
        "\n",
        "Error >> 4930 can not fetch month =  84\n",
        "list index out of range"
       ]
      },
      {
       "output_type": "stream",
       "stream": "stdout",
       "text": [
        "\n",
        "Error >> 4934 can not fetch month =  84\n",
        "list index out of range"
       ]
      },
      {
       "output_type": "stream",
       "stream": "stdout",
       "text": [
        "\n",
        "Error >> 4935 can not fetch month =  84\n",
        "list index out of range"
       ]
      },
      {
       "output_type": "stream",
       "stream": "stdout",
       "text": [
        "\n",
        "Error >> 4938 can not fetch month =  84\n",
        "list index out of range"
       ]
      },
      {
       "output_type": "stream",
       "stream": "stdout",
       "text": [
        "\n",
        "Error >> 1789 can not fetch month =  84\n",
        "list index out of range"
       ]
      },
      {
       "output_type": "stream",
       "stream": "stdout",
       "text": [
        "\n",
        "Error >> 1786 can not fetch month =  84\n",
        "list index out of range"
       ]
      },
      {
       "output_type": "stream",
       "stream": "stdout",
       "text": [
        "\n",
        "Error >> 5259 can not fetch month =  84\n",
        "list index out of range"
       ]
      },
      {
       "output_type": "stream",
       "stream": "stdout",
       "text": [
        "\n",
        "Error >> 2642 can not fetch month =  84\n",
        "list index out of range"
       ]
      },
      {
       "output_type": "stream",
       "stream": "stdout",
       "text": [
        "\n",
        "Error >> 3149 can not fetch month =  84\n",
        "list index out of range"
       ]
      },
      {
       "output_type": "stream",
       "stream": "stdout",
       "text": [
        "\n",
        "Error >> 4919 can not fetch month =  84\n",
        "list index out of range"
       ]
      },
      {
       "output_type": "stream",
       "stream": "stdout",
       "text": [
        "\n",
        "Error >> 4916 can not fetch month =  84\n",
        "list index out of range"
       ]
      },
      {
       "output_type": "stream",
       "stream": "stdout",
       "text": [
        "\n",
        "Error >> 4915 can not fetch month =  84\n",
        "list index out of range"
       ]
      },
      {
       "output_type": "stream",
       "stream": "stdout",
       "text": [
        "\n",
        "Error >> 3694 can not fetch month =  84\n",
        "Get stock no."
       ]
      },
      {
       "output_type": "stream",
       "stream": "stdout",
       "text": [
        " 8201 info for 84 month\n",
        "list index out of range"
       ]
      },
      {
       "output_type": "stream",
       "stream": "stdout",
       "text": [
        "\n",
        "Error >> 3573 can not fetch month =  84\n",
        "list index out of range"
       ]
      },
      {
       "output_type": "stream",
       "stream": "stdout",
       "text": [
        "\n",
        "Error >> 3167 can not fetch month =  84\n",
        "list index out of range"
       ]
      },
      {
       "output_type": "stream",
       "stream": "stdout",
       "text": [
        "\n",
        "Error >> 3164 can not fetch month =  84\n",
        "Get stock no."
       ]
      },
      {
       "output_type": "stream",
       "stream": "stdout",
       "text": [
        " 6283 info for 84 month\n",
        "list index out of range"
       ]
      },
      {
       "output_type": "stream",
       "stream": "stdout",
       "text": [
        "\n",
        "Error >> 2491 can not fetch month =  84\n",
        "Month =  84  : Fetching finished!\n",
        "Fetching Start\n",
        "Get stock no."
       ]
      },
      {
       "output_type": "stream",
       "stream": "stdout",
       "text": [
        " 0059 info for 72 month\n",
        "Get stock no."
       ]
      },
      {
       "output_type": "stream",
       "stream": "stdout",
       "text": [
        " 0058 info for 72 month\n",
        "Get stock no."
       ]
      },
      {
       "output_type": "stream",
       "stream": "stdout",
       "text": [
        " 0057 info for 72 month\n",
        "list index out of range"
       ]
      },
      {
       "output_type": "stream",
       "stream": "stdout",
       "text": [
        "\n",
        "Error >> 8011 can not fetch month =  72\n",
        "list index out of range"
       ]
      },
      {
       "output_type": "stream",
       "stream": "stdout",
       "text": [
        "\n",
        "Error >> 3622 can not fetch month =  72\n",
        "list index out of range"
       ]
      },
      {
       "output_type": "stream",
       "stream": "stdout",
       "text": [
        "\n",
        "Error >> 4722 can not fetch month =  72\n",
        "list index out of range"
       ]
      },
      {
       "output_type": "stream",
       "stream": "stdout",
       "text": [
        "\n",
        "Error >> 6214 can not fetch month =  72\n",
        "list index out of range"
       ]
      },
      {
       "output_type": "stream",
       "stream": "stdout",
       "text": [
        "\n",
        "Error >> 1762 can not fetch month =  72\n",
        "Get stock no."
       ]
      },
      {
       "output_type": "stream",
       "stream": "stdout",
       "text": [
        " 3536 info for 72 month\n",
        "list index out of range"
       ]
      },
      {
       "output_type": "stream",
       "stream": "stdout",
       "text": [
        "\n",
        "Error >> 4746 can not fetch month =  72\n",
        "list index out of range"
       ]
      },
      {
       "output_type": "stream",
       "stream": "stdout",
       "text": [
        "\n",
        "Error >> 6183 can not fetch month =  72\n",
        "list index out of range"
       ]
      },
      {
       "output_type": "stream",
       "stream": "stdout",
       "text": [
        "\n",
        "Error >> 2727 can not fetch month =  72\n",
        "list index out of range"
       ]
      },
      {
       "output_type": "stream",
       "stream": "stdout",
       "text": [
        "\n",
        "Error >> 2723 can not fetch month =  72\n",
        "list index out of range"
       ]
      },
      {
       "output_type": "stream",
       "stream": "stdout",
       "text": [
        "\n",
        "Error >> 2722 can not fetch month =  72\n",
        "list index out of range"
       ]
      },
      {
       "output_type": "stream",
       "stream": "stdout",
       "text": [
        "\n",
        "Error >> 5264 can not fetch month =  72\n",
        "list index out of range"
       ]
      },
      {
       "output_type": "stream",
       "stream": "stdout",
       "text": [
        "\n",
        "Error >> 5269 can not fetch month =  72\n",
        "list index out of range"
       ]
      },
      {
       "output_type": "stream",
       "stream": "stdout",
       "text": [
        "\n",
        "Error >> 4976 can not fetch month =  72\n",
        "list index out of range"
       ]
      },
      {
       "output_type": "stream",
       "stream": "stdout",
       "text": [
        "\n",
        "Error >> 1589 can not fetch month =  72\n",
        "list index out of range"
       ]
      },
      {
       "output_type": "stream",
       "stream": "stdout",
       "text": [
        "\n",
        "Error >> 1582 can not fetch month =  72\n",
        "list index out of range"
       ]
      },
      {
       "output_type": "stream",
       "stream": "stdout",
       "text": [
        "\n",
        "Error >> 6415 can not fetch month =  72\n",
        "list index out of range"
       ]
      },
      {
       "output_type": "stream",
       "stream": "stdout",
       "text": [
        "\n",
        "Error >> 6412 can not fetch month =  72\n",
        "list index out of range"
       ]
      },
      {
       "output_type": "stream",
       "stream": "stdout",
       "text": [
        "\n",
        "Error >> 3645 can not fetch month =  72\n",
        "list index out of range"
       ]
      },
      {
       "output_type": "stream",
       "stream": "stdout",
       "text": [
        "\n",
        "Error >> 3705 can not fetch month =  72\n",
        "list index out of range"
       ]
      },
      {
       "output_type": "stream",
       "stream": "stdout",
       "text": [
        "\n",
        "Error >> 6278 can not fetch month =  72\n",
        "list index out of range"
       ]
      },
      {
       "output_type": "stream",
       "stream": "stdout",
       "text": [
        "\n",
        "Error >> 5225 can not fetch month =  72\n",
        "list index out of range"
       ]
      },
      {
       "output_type": "stream",
       "stream": "stdout",
       "text": [
        "\n",
        "Error >> 8404 can not fetch month =  72\n",
        "Get stock no."
       ]
      },
      {
       "output_type": "stream",
       "stream": "stdout",
       "text": [
        " 8374 info for 72 month\n",
        "list index out of range"
       ]
      },
      {
       "output_type": "stream",
       "stream": "stdout",
       "text": [
        "\n",
        "Error >> 3665 can not fetch month =  72\n",
        "list index out of range"
       ]
      },
      {
       "output_type": "stream",
       "stream": "stdout",
       "text": [
        "\n",
        "Error >> 3669 can not fetch month =  72\n",
        "list index out of range"
       ]
      },
      {
       "output_type": "stream",
       "stream": "stdout",
       "text": [
        "\n",
        "Error >> 3593 can not fetch month =  72\n",
        "list index out of range"
       ]
      },
      {
       "output_type": "stream",
       "stream": "stdout",
       "text": [
        "\n",
        "Error >> 3591 can not fetch month =  72\n",
        "list index out of range"
       ]
      },
      {
       "output_type": "stream",
       "stream": "stdout",
       "text": [
        "\n",
        "Error >> 3596 can not fetch month =  72\n",
        "list index out of range"
       ]
      },
      {
       "output_type": "stream",
       "stream": "stdout",
       "text": [
        "\n",
        "Error >> 3598 can not fetch month =  72\n",
        "Get stock no."
       ]
      },
      {
       "output_type": "stream",
       "stream": "stdout",
       "text": [
        " 8081 info for 72 month\n",
        "list index out of range"
       ]
      },
      {
       "output_type": "stream",
       "stream": "stdout",
       "text": [
        "\n",
        "Error >> 3432 can not fetch month =  72\n",
        "Get stock no."
       ]
      },
      {
       "output_type": "stream",
       "stream": "stdout",
       "text": [
        " 2038 info for 72 month\n",
        "list index out of range"
       ]
      },
      {
       "output_type": "stream",
       "stream": "stdout",
       "text": [
        "\n",
        "Error >> 3607 can not fetch month =  72\n",
        "list index out of range"
       ]
      },
      {
       "output_type": "stream",
       "stream": "stdout",
       "text": [
        "\n",
        "Error >> 3605 can not fetch month =  72\n",
        "list index out of range"
       ]
      },
      {
       "output_type": "stream",
       "stream": "stdout",
       "text": [
        "\n",
        "Error >> 5007 can not fetch month =  72\n",
        "Get stock no."
       ]
      },
      {
       "output_type": "stream",
       "stream": "stdout",
       "text": [
        " 6108 info for 72 month\n",
        "list index out of range"
       ]
      },
      {
       "output_type": "stream",
       "stream": "stdout",
       "text": [
        "\n",
        "Error >> 9110 can not fetch month =  72\n",
        "list index out of range"
       ]
      },
      {
       "output_type": "stream",
       "stream": "stdout",
       "text": [
        "\n",
        "Error >> 8114 can not fetch month =  72\n",
        "list index out of range"
       ]
      },
      {
       "output_type": "stream",
       "stream": "stdout",
       "text": [
        "\n",
        "Error >> 5880 can not fetch month =  72\n",
        "list index out of range"
       ]
      },
      {
       "output_type": "stream",
       "stream": "stdout",
       "text": [
        "\n",
        "Error >> 3686 can not fetch month =  72\n",
        "list index out of range"
       ]
      },
      {
       "output_type": "stream",
       "stream": "stdout",
       "text": [
        "\n",
        "Error >> 8411 can not fetch month =  72\n",
        "list index out of range"
       ]
      },
      {
       "output_type": "stream",
       "stream": "stdout",
       "text": [
        "\n",
        "Error >> 8940 can not fetch month =  72\n",
        "list index out of range"
       ]
      },
      {
       "output_type": "stream",
       "stream": "stdout",
       "text": [
        "\n",
        "Error >> 1626 can not fetch month =  72\n",
        "Get stock no."
       ]
      },
      {
       "output_type": "stream",
       "stream": "stdout",
       "text": [
        " 3209 info for 72 month\n",
        "list index out of range"
       ]
      },
      {
       "output_type": "stream",
       "stream": "stdout",
       "text": [
        "\n",
        "Error >> 2867 can not fetch month =  72\n",
        "list index out of range"
       ]
      },
      {
       "output_type": "stream",
       "stream": "stdout",
       "text": [
        "\n",
        "Error >> 9188 can not fetch month =  72\n",
        "Get stock no."
       ]
      },
      {
       "output_type": "stream",
       "stream": "stdout",
       "text": [
        " 5533 info for 72 month\n",
        "list index out of range"
       ]
      },
      {
       "output_type": "stream",
       "stream": "stdout",
       "text": [
        "\n",
        "Error >> 5538 can not fetch month =  72\n",
        "Get stock no."
       ]
      },
      {
       "output_type": "stream",
       "stream": "stdout",
       "text": [
        " 2059 info for 72 month\n",
        "list index out of range"
       ]
      },
      {
       "output_type": "stream",
       "stream": "stdout",
       "text": [
        "\n",
        "Error >> 4536 can not fetch month =  72\n",
        "list index out of range"
       ]
      },
      {
       "output_type": "stream",
       "stream": "stdout",
       "text": [
        "\n",
        "Error >> 4958 can not fetch month =  72\n",
        "list index out of range"
       ]
      },
      {
       "output_type": "stream",
       "stream": "stdout",
       "text": [
        "\n",
        "Error >> 3229 can not fetch month =  72\n",
        "Get stock no."
       ]
      },
      {
       "output_type": "stream",
       "stream": "stdout",
       "text": [
        " 6164 info for 72 month\n",
        "list index out of range"
       ]
      },
      {
       "output_type": "stream",
       "stream": "stdout",
       "text": [
        "\n",
        "Error >> 8039 can not fetch month =  72\n",
        "list index out of range"
       ]
      },
      {
       "output_type": "stream",
       "stream": "stdout",
       "text": [
        "\n",
        "Error >> 5706 can not fetch month =  72\n",
        "list index out of range"
       ]
      },
      {
       "output_type": "stream",
       "stream": "stdout",
       "text": [
        "\n",
        "Error >> 4984 can not fetch month =  72\n",
        "Get stock no."
       ]
      },
      {
       "output_type": "stream",
       "stream": "stdout",
       "text": [
        " 3308 info for 72 month\n",
        "Get stock no."
       ]
      },
      {
       "output_type": "stream",
       "stream": "stdout",
       "text": [
        " 3305 info for 72 month\n",
        "list index out of range"
       ]
      },
      {
       "output_type": "stream",
       "stream": "stdout",
       "text": [
        "\n",
        "Error >> 4164 can not fetch month =  72\n",
        "list index out of range"
       ]
      },
      {
       "output_type": "stream",
       "stream": "stdout",
       "text": [
        "\n",
        "Error >> 2231 can not fetch month =  72\n",
        "list index out of range"
       ]
      },
      {
       "output_type": "stream",
       "stream": "stdout",
       "text": [
        "\n",
        "Error >> 8427 can not fetch month =  72\n",
        "list index out of range"
       ]
      },
      {
       "output_type": "stream",
       "stream": "stdout",
       "text": [
        "\n",
        "Error >> 8422 can not fetch month =  72\n",
        "list index out of range"
       ]
      },
      {
       "output_type": "stream",
       "stream": "stdout",
       "text": [
        "\n",
        "Error >> 3338 can not fetch month =  72\n",
        "list index out of range"
       ]
      },
      {
       "output_type": "stream",
       "stream": "stdout",
       "text": [
        "\n",
        "Error >> 4137 can not fetch month =  72\n",
        "list index out of range"
       ]
      },
      {
       "output_type": "stream",
       "stream": "stdout",
       "text": [
        "\n",
        "Error >> 4960 can not fetch month =  72\n",
        "list index out of range"
       ]
      },
      {
       "output_type": "stream",
       "stream": "stdout",
       "text": [
        "\n",
        "Error >> 8271 can not fetch month =  72\n",
        "list index out of range"
       ]
      },
      {
       "output_type": "stream",
       "stream": "stdout",
       "text": [
        "\n",
        "Error >> 9802 can not fetch month =  72\n",
        "list index out of range"
       ]
      },
      {
       "output_type": "stream",
       "stream": "stdout",
       "text": [
        "\n",
        "Error >> 6230 can not fetch month =  72\n",
        "list index out of range"
       ]
      },
      {
       "output_type": "stream",
       "stream": "stdout",
       "text": [
        "\n",
        "Error >> 4144 can not fetch month =  72\n",
        "list index out of range"
       ]
      },
      {
       "output_type": "stream",
       "stream": "stdout",
       "text": [
        "\n",
        "Error >> 4141 can not fetch month =  72\n",
        "list index out of range"
       ]
      },
      {
       "output_type": "stream",
       "stream": "stdout",
       "text": [
        "\n",
        "Error >> 4142 can not fetch month =  72\n",
        "list index out of range"
       ]
      },
      {
       "output_type": "stream",
       "stream": "stdout",
       "text": [
        "\n",
        "Error >> 4942 can not fetch month =  72\n",
        "list index out of range"
       ]
      },
      {
       "output_type": "stream",
       "stream": "stdout",
       "text": [
        "\n",
        "Error >> 2114 can not fetch month =  72\n",
        "list index out of range"
       ]
      },
      {
       "output_type": "stream",
       "stream": "stdout",
       "text": [
        "\n",
        "Error >> 2637 can not fetch month =  72\n",
        "list index out of range"
       ]
      },
      {
       "output_type": "stream",
       "stream": "stdout",
       "text": [
        "\n",
        "Error >> 9946 can not fetch month =  72\n",
        "list index out of range"
       ]
      },
      {
       "output_type": "stream",
       "stream": "stdout",
       "text": [
        "\n",
        "Error >> 8210 can not fetch month =  72\n",
        "list index out of range"
       ]
      },
      {
       "output_type": "stream",
       "stream": "stdout",
       "text": [
        "\n",
        "Error >> 8213 can not fetch month =  72\n",
        "list index out of range"
       ]
      },
      {
       "output_type": "stream",
       "stream": "stdout",
       "text": [
        "\n",
        "Error >> 8215 can not fetch month =  72\n",
        "list index out of range"
       ]
      },
      {
       "output_type": "stream",
       "stream": "stdout",
       "text": [
        "\n",
        "Error >> 6243 can not fetch month =  72\n",
        "list index out of range"
       ]
      },
      {
       "output_type": "stream",
       "stream": "stdout",
       "text": [
        "\n",
        "Error >> 2923 can not fetch month =  72\n",
        "list index out of range"
       ]
      },
      {
       "output_type": "stream",
       "stream": "stdout",
       "text": [
        "\n",
        "Error >> 4733 can not fetch month =  72\n",
        "list index out of range"
       ]
      },
      {
       "output_type": "stream",
       "stream": "stdout",
       "text": [
        "\n",
        "Error >> 4737 can not fetch month =  72\n",
        "list index out of range"
       ]
      },
      {
       "output_type": "stream",
       "stream": "stdout",
       "text": [
        "\n",
        "Error >> 3698 can not fetch month =  72\n",
        "Get stock no."
       ]
      },
      {
       "output_type": "stream",
       "stream": "stdout",
       "text": [
        " 0060 info for 72 month\n",
        "list index out of range"
       ]
      },
      {
       "output_type": "stream",
       "stream": "stdout",
       "text": [
        "\n",
        "Error >> 0061 can not fetch month =  72\n",
        "list index out of range"
       ]
      },
      {
       "output_type": "stream",
       "stream": "stdout",
       "text": [
        "\n",
        "Error >> 4755 can not fetch month =  72\n",
        "list index out of range"
       ]
      },
      {
       "output_type": "stream",
       "stream": "stdout",
       "text": [
        "\n",
        "Error >> 5871 can not fetch month =  72\n",
        "list index out of range"
       ]
      },
      {
       "output_type": "stream",
       "stream": "stdout",
       "text": [
        "\n",
        "Error >> 2731 can not fetch month =  72\n",
        "Get stock no."
       ]
      },
      {
       "output_type": "stream",
       "stream": "stdout",
       "text": [
        " 6226 info for 72 month\n",
        "list index out of range"
       ]
      },
      {
       "output_type": "stream",
       "stream": "stdout",
       "text": [
        "\n",
        "Error >> 6224 can not fetch month =  72\n",
        "list index out of range"
       ]
      },
      {
       "output_type": "stream",
       "stream": "stdout",
       "text": [
        "\n",
        "Error >> 1773 can not fetch month =  72\n",
        "list index out of range"
       ]
      },
      {
       "output_type": "stream",
       "stream": "stdout",
       "text": [
        "\n",
        "Error >> 0080 can not fetch month =  72\n",
        "list index out of range"
       ]
      },
      {
       "output_type": "stream",
       "stream": "stdout",
       "text": [
        "\n",
        "Error >> 0081 can not fetch month =  72\n",
        "list index out of range"
       ]
      },
      {
       "output_type": "stream",
       "stream": "stdout",
       "text": [
        "\n",
        "Error >> 3704 can not fetch month =  72\n",
        "list index out of range"
       ]
      },
      {
       "output_type": "stream",
       "stream": "stdout",
       "text": [
        "\n",
        "Error >> 2712 can not fetch month =  72\n",
        "list index out of range"
       ]
      },
      {
       "output_type": "stream",
       "stream": "stdout",
       "text": [
        "\n",
        "Error >> 6251 can not fetch month =  72\n",
        "list index out of range"
       ]
      },
      {
       "output_type": "stream",
       "stream": "stdout",
       "text": [
        "\n",
        "Error >> 6405 can not fetch month =  72\n",
        "list index out of range"
       ]
      },
      {
       "output_type": "stream",
       "stream": "stdout",
       "text": [
        "\n",
        "Error >> 3653 can not fetch month =  72\n",
        "list index out of range"
       ]
      },
      {
       "output_type": "stream",
       "stream": "stdout",
       "text": [
        "\n",
        "Error >> 5243 can not fetch month =  72\n",
        "list index out of range"
       ]
      },
      {
       "output_type": "stream",
       "stream": "stdout",
       "text": [
        "\n",
        "Error >> 3673 can not fetch month =  72\n",
        "list index out of range"
       ]
      },
      {
       "output_type": "stream",
       "stream": "stdout",
       "text": [
        "\n",
        "Error >> 3679 can not fetch month =  72\n",
        "Get stock no."
       ]
      },
      {
       "output_type": "stream",
       "stream": "stdout",
       "text": [
        " 3557 info for 72 month\n",
        "list index out of range"
       ]
      },
      {
       "output_type": "stream",
       "stream": "stdout",
       "text": [
        "\n",
        "Error >> 3583 can not fetch month =  72\n",
        "list index out of range"
       ]
      },
      {
       "output_type": "stream",
       "stream": "stdout",
       "text": [
        "\n",
        "Error >> 3588 can not fetch month =  72\n",
        "list index out of range"
       ]
      },
      {
       "output_type": "stream",
       "stream": "stdout",
       "text": [
        "\n",
        "Error >> 3550 can not fetch month =  72\n",
        "list index out of range"
       ]
      },
      {
       "output_type": "stream",
       "stream": "stdout",
       "text": [
        "\n",
        "Error >> 4426 can not fetch month =  72\n",
        "Get stock no."
       ]
      },
      {
       "output_type": "stream",
       "stream": "stdout",
       "text": [
        " 3559 info for 72 month\n",
        "list index out of range"
       ]
      },
      {
       "output_type": "stream",
       "stream": "stdout",
       "text": [
        "\n",
        "Error >> 1817 can not fetch month =  72\n",
        "list index out of range"
       ]
      },
      {
       "output_type": "stream",
       "stream": "stdout",
       "text": [
        "\n",
        "Error >> 5215 can not fetch month =  72\n",
        "list index out of range"
       ]
      },
      {
       "output_type": "stream",
       "stream": "stdout",
       "text": [
        "\n",
        "Error >> 6702 can not fetch month =  72\n",
        "list index out of range"
       ]
      },
      {
       "output_type": "stream",
       "stream": "stdout",
       "text": [
        "\n",
        "Error >> 3617 can not fetch month =  72\n",
        "Get stock no."
       ]
      },
      {
       "output_type": "stream",
       "stream": "stdout",
       "text": [
        " 4108 info for 72 month\n",
        "list index out of range"
       ]
      },
      {
       "output_type": "stream",
       "stream": "stdout",
       "text": [
        "\n",
        "Error >> 9106 can not fetch month =  72\n",
        "list index out of range"
       ]
      },
      {
       "output_type": "stream",
       "stream": "stdout",
       "text": [
        "\n",
        "Error >> 1339 can not fetch month =  72\n",
        "list index out of range"
       ]
      },
      {
       "output_type": "stream",
       "stream": "stdout",
       "text": [
        "\n",
        "Error >> 1338 can not fetch month =  72\n",
        "list index out of range"
       ]
      },
      {
       "output_type": "stream",
       "stream": "stdout",
       "text": [
        "\n",
        "Error >> 1337 can not fetch month =  72\n",
        "list index out of range"
       ]
      },
      {
       "output_type": "stream",
       "stream": "stdout",
       "text": [
        "\n",
        "Error >> 3638 can not fetch month =  72\n",
        "list index out of range"
       ]
      },
      {
       "output_type": "stream",
       "stream": "stdout",
       "text": [
        "\n",
        "Error >> 5234 can not fetch month =  72\n",
        "list index out of range"
       ]
      },
      {
       "output_type": "stream",
       "stream": "stdout",
       "text": [
        "\n",
        "Error >> 3703 can not fetch month =  72\n",
        "list index out of range"
       ]
      },
      {
       "output_type": "stream",
       "stream": "stdout",
       "text": [
        "\n",
        "Error >> 3706 can not fetch month =  72\n",
        "list index out of range"
       ]
      },
      {
       "output_type": "stream",
       "stream": "stdout",
       "text": [
        "\n",
        "Error >> 1590 can not fetch month =  72\n",
        "list index out of range"
       ]
      },
      {
       "output_type": "stream",
       "stream": "stdout",
       "text": [
        "\n",
        "Error >> 3257 can not fetch month =  72\n",
        "list index out of range"
       ]
      },
      {
       "output_type": "stream",
       "stream": "stdout",
       "text": [
        "\n",
        "Error >> 8103 can not fetch month =  72\n",
        "Get stock no."
       ]
      },
      {
       "output_type": "stream",
       "stream": "stdout",
       "text": [
        " 3561 info for 72 month\n",
        "list index out of range"
       ]
      },
      {
       "output_type": "stream",
       "stream": "stdout",
       "text": [
        "\n",
        "Error >> 5521 can not fetch month =  72\n",
        "list index out of range"
       ]
      },
      {
       "output_type": "stream",
       "stream": "stdout",
       "text": [
        "\n",
        "Error >> 6152 can not fetch month =  72\n",
        "list index out of range"
       ]
      },
      {
       "output_type": "stream",
       "stream": "stdout",
       "text": [
        "\n",
        "Error >> 2049 can not fetch month =  72\n",
        "list index out of range"
       ]
      },
      {
       "output_type": "stream",
       "stream": "stdout",
       "text": [
        "\n",
        "Error >> 3697 can not fetch month =  72\n",
        "list index out of range"
       ]
      },
      {
       "output_type": "stream",
       "stream": "stdout",
       "text": [
        "\n",
        "Error >> 3454 can not fetch month =  72\n",
        "list index out of range"
       ]
      },
      {
       "output_type": "stream",
       "stream": "stdout",
       "text": [
        "\n",
        "Error >> 3682 can not fetch month =  72\n",
        "list index out of range"
       ]
      },
      {
       "output_type": "stream",
       "stream": "stdout",
       "text": [
        "\n",
        "Error >> 9157 can not fetch month =  72\n",
        "list index out of range"
       ]
      },
      {
       "output_type": "stream",
       "stream": "stdout",
       "text": [
        "\n",
        "Error >> 3584 can not fetch month =  72\n",
        "list index out of range"
       ]
      },
      {
       "output_type": "stream",
       "stream": "stdout",
       "text": [
        "\n",
        "Error >> 6177 can not fetch month =  72\n",
        "Get stock no."
       ]
      },
      {
       "output_type": "stream",
       "stream": "stdout",
       "text": [
        " 2208 info for 72 month\n",
        "list index out of range"
       ]
      },
      {
       "output_type": "stream",
       "stream": "stdout",
       "text": [
        "\n",
        "Error >> 4999 can not fetch month =  72\n",
        "list index out of range"
       ]
      },
      {
       "output_type": "stream",
       "stream": "stdout",
       "text": [
        "\n",
        "Error >> 6504 can not fetch month =  72\n",
        "list index out of range"
       ]
      },
      {
       "output_type": "stream",
       "stream": "stdout",
       "text": [
        "\n",
        "Error >> 9136 can not fetch month =  72\n",
        "list index out of range"
       ]
      },
      {
       "output_type": "stream",
       "stream": "stdout",
       "text": [
        "\n",
        "Error >> 2228 can not fetch month =  72\n",
        "list index out of range"
       ]
      },
      {
       "output_type": "stream",
       "stream": "stdout",
       "text": [
        "\n",
        "Error >> 3579 can not fetch month =  72\n",
        "Get stock no."
       ]
      },
      {
       "output_type": "stream",
       "stream": "stdout",
       "text": [
        " 3576 info for 72 month\n",
        "Get stock no."
       ]
      },
      {
       "output_type": "stream",
       "stream": "stdout",
       "text": [
        " 9958 info for 72 month\n",
        "list index out of range"
       ]
      },
      {
       "output_type": "stream",
       "stream": "stdout",
       "text": [
        "\n",
        "Error >> 4977 can not fetch month =  72\n",
        "list index out of range"
       ]
      },
      {
       "output_type": "stream",
       "stream": "stdout",
       "text": [
        "\n",
        "Error >> 3312 can not fetch month =  72\n",
        "list index out of range"
       ]
      },
      {
       "output_type": "stream",
       "stream": "stdout",
       "text": [
        "\n",
        "Error >> 8261 can not fetch month =  72\n",
        "list index out of range"
       ]
      },
      {
       "output_type": "stream",
       "stream": "stdout",
       "text": [
        "\n",
        "Error >> 5906 can not fetch month =  72\n",
        "list index out of range"
       ]
      },
      {
       "output_type": "stream",
       "stream": "stdout",
       "text": [
        "\n",
        "Error >> 5907 can not fetch month =  72\n",
        "list index out of range"
       ]
      },
      {
       "output_type": "stream",
       "stream": "stdout",
       "text": [
        "\n",
        "Error >> 5280 can not fetch month =  72\n",
        "list index out of range"
       ]
      },
      {
       "output_type": "stream",
       "stream": "stdout",
       "text": [
        "\n",
        "Error >> 4952 can not fetch month =  72\n",
        "list index out of range"
       ]
      },
      {
       "output_type": "stream",
       "stream": "stdout",
       "text": [
        "\n",
        "Error >> 4956 can not fetch month =  72\n",
        "list index out of range"
       ]
      },
      {
       "output_type": "stream",
       "stream": "stdout",
       "text": [
        "\n",
        "Error >> 8429 can not fetch month =  72\n",
        "list index out of range"
       ]
      },
      {
       "output_type": "stream",
       "stream": "stdout",
       "text": [
        "\n",
        "Error >> 4133 can not fetch month =  72\n",
        "list index out of range"
       ]
      },
      {
       "output_type": "stream",
       "stream": "stdout",
       "text": [
        "\n",
        "Error >> 2597 can not fetch month =  72\n",
        "list index out of range"
       ]
      },
      {
       "output_type": "stream",
       "stream": "stdout",
       "text": [
        "\n",
        "Error >> 2361 can not fetch month =  72\n",
        "list index out of range"
       ]
      },
      {
       "output_type": "stream",
       "stream": "stdout",
       "text": [
        "\n",
        "Error >> 4930 can not fetch month =  72\n",
        "list index out of range"
       ]
      },
      {
       "output_type": "stream",
       "stream": "stdout",
       "text": [
        "\n",
        "Error >> 4934 can not fetch month =  72\n",
        "list index out of range"
       ]
      },
      {
       "output_type": "stream",
       "stream": "stdout",
       "text": [
        "\n",
        "Error >> 4935 can not fetch month =  72\n",
        "list index out of range"
       ]
      },
      {
       "output_type": "stream",
       "stream": "stdout",
       "text": [
        "\n",
        "Error >> 4938 can not fetch month =  72\n",
        "list index out of range"
       ]
      },
      {
       "output_type": "stream",
       "stream": "stdout",
       "text": [
        "\n",
        "Error >> 1789 can not fetch month =  72\n",
        "list index out of range"
       ]
      },
      {
       "output_type": "stream",
       "stream": "stdout",
       "text": [
        "\n",
        "Error >> 1786 can not fetch month =  72\n",
        "list index out of range"
       ]
      },
      {
       "output_type": "stream",
       "stream": "stdout",
       "text": [
        "\n",
        "Error >> 5259 can not fetch month =  72\n",
        "list index out of range"
       ]
      },
      {
       "output_type": "stream",
       "stream": "stdout",
       "text": [
        "\n",
        "Error >> 2642 can not fetch month =  72\n",
        "list index out of range"
       ]
      },
      {
       "output_type": "stream",
       "stream": "stdout",
       "text": [
        "\n",
        "Error >> 3149 can not fetch month =  72\n",
        "list index out of range"
       ]
      },
      {
       "output_type": "stream",
       "stream": "stdout",
       "text": [
        "\n",
        "Error >> 4919 can not fetch month =  72\n",
        "list index out of range"
       ]
      },
      {
       "output_type": "stream",
       "stream": "stdout",
       "text": [
        "\n",
        "Error >> 4916 can not fetch month =  72\n",
        "list index out of range"
       ]
      },
      {
       "output_type": "stream",
       "stream": "stdout",
       "text": [
        "\n",
        "Error >> 4915 can not fetch month =  72\n",
        "list index out of range"
       ]
      },
      {
       "output_type": "stream",
       "stream": "stdout",
       "text": [
        "\n",
        "Error >> 3694 can not fetch month =  72\n",
        "list index out of range"
       ]
      },
      {
       "output_type": "stream",
       "stream": "stdout",
       "text": [
        "\n",
        "Error >> 3573 can not fetch month =  72\n",
        "list index out of range"
       ]
      },
      {
       "output_type": "stream",
       "stream": "stdout",
       "text": [
        "\n",
        "Error >> 3167 can not fetch month =  72\n",
        "list index out of range"
       ]
      },
      {
       "output_type": "stream",
       "stream": "stdout",
       "text": [
        "\n",
        "Error >> 3164 can not fetch month =  72\n",
        "list index out of range"
       ]
      },
      {
       "output_type": "stream",
       "stream": "stdout",
       "text": [
        "\n",
        "Error >> 2491 can not fetch month =  72\n",
        "Month =  72  : Fetching finished!\n",
        "Fetching Start\n",
        "list index out of range"
       ]
      },
      {
       "output_type": "stream",
       "stream": "stdout",
       "text": [
        "\n",
        "Error >> 8011 can not fetch month =  60\n",
        "Get stock no."
       ]
      },
      {
       "output_type": "stream",
       "stream": "stdout",
       "text": [
        " 3622 info for 60 month\n",
        "list index out of range"
       ]
      },
      {
       "output_type": "stream",
       "stream": "stdout",
       "text": [
        "\n",
        "Error >> 4722 can not fetch month =  60\n",
        "list index out of range"
       ]
      },
      {
       "output_type": "stream",
       "stream": "stdout",
       "text": [
        "\n",
        "Error >> 6214 can not fetch month =  60\n",
        "list index out of range"
       ]
      },
      {
       "output_type": "stream",
       "stream": "stdout",
       "text": [
        "\n",
        "Error >> 1762 can not fetch month =  60\n",
        "list index out of range"
       ]
      },
      {
       "output_type": "stream",
       "stream": "stdout",
       "text": [
        "\n",
        "Error >> 4746 can not fetch month =  60\n",
        "list index out of range"
       ]
      },
      {
       "output_type": "stream",
       "stream": "stdout",
       "text": [
        "\n",
        "Error >> 6183 can not fetch month =  60\n",
        "list index out of range"
       ]
      },
      {
       "output_type": "stream",
       "stream": "stdout",
       "text": [
        "\n",
        "Error >> 2727 can not fetch month =  60\n",
        "list index out of range"
       ]
      },
      {
       "output_type": "stream",
       "stream": "stdout",
       "text": [
        "\n",
        "Error >> 2723 can not fetch month =  60\n",
        "list index out of range"
       ]
      },
      {
       "output_type": "stream",
       "stream": "stdout",
       "text": [
        "\n",
        "Error >> 2722 can not fetch month =  60\n",
        "list index out of range"
       ]
      },
      {
       "output_type": "stream",
       "stream": "stdout",
       "text": [
        "\n",
        "Error >> 5264 can not fetch month =  60\n",
        "list index out of range"
       ]
      },
      {
       "output_type": "stream",
       "stream": "stdout",
       "text": [
        "\n",
        "Error >> 5269 can not fetch month =  60\n",
        "list index out of range"
       ]
      },
      {
       "output_type": "stream",
       "stream": "stdout",
       "text": [
        "\n",
        "Error >> 4976 can not fetch month =  60\n",
        "list index out of range"
       ]
      },
      {
       "output_type": "stream",
       "stream": "stdout",
       "text": [
        "\n",
        "Error >> 1589 can not fetch month =  60\n",
        "Get stock no."
       ]
      },
      {
       "output_type": "stream",
       "stream": "stdout",
       "text": [
        " 1582 info for 60 month\n",
        "list index out of range"
       ]
      },
      {
       "output_type": "stream",
       "stream": "stdout",
       "text": [
        "\n",
        "Error >> 6415 can not fetch month =  60\n",
        "list index out of range"
       ]
      },
      {
       "output_type": "stream",
       "stream": "stdout",
       "text": [
        "\n",
        "Error >> 6412 can not fetch month =  60\n",
        "list index out of range"
       ]
      },
      {
       "output_type": "stream",
       "stream": "stdout",
       "text": [
        "\n",
        "Error >> 3645 can not fetch month =  60\n",
        "list index out of range"
       ]
      },
      {
       "output_type": "stream",
       "stream": "stdout",
       "text": [
        "\n",
        "Error >> 3705 can not fetch month =  60\n",
        "list index out of range"
       ]
      },
      {
       "output_type": "stream",
       "stream": "stdout",
       "text": [
        "\n",
        "Error >> 6278 can not fetch month =  60\n",
        "list index out of range"
       ]
      },
      {
       "output_type": "stream",
       "stream": "stdout",
       "text": [
        "\n",
        "Error >> 5225 can not fetch month =  60\n",
        "list index out of range"
       ]
      },
      {
       "output_type": "stream",
       "stream": "stdout",
       "text": [
        "\n",
        "Error >> 8404 can not fetch month =  60\n",
        "list index out of range"
       ]
      },
      {
       "output_type": "stream",
       "stream": "stdout",
       "text": [
        "\n",
        "Error >> 3665 can not fetch month =  60\n",
        "list index out of range"
       ]
      },
      {
       "output_type": "stream",
       "stream": "stdout",
       "text": [
        "\n",
        "Error >> 3669 can not fetch month =  60\n",
        "Get stock no."
       ]
      },
      {
       "output_type": "stream",
       "stream": "stdout",
       "text": [
        " 3593 info for 60 month\n",
        "list index out of range"
       ]
      },
      {
       "output_type": "stream",
       "stream": "stdout",
       "text": [
        "\n",
        "Error >> 3591 can not fetch month =  60\n",
        "Get stock no."
       ]
      },
      {
       "output_type": "stream",
       "stream": "stdout",
       "text": [
        " 3596 info for 60 month\n",
        "list index out of range"
       ]
      },
      {
       "output_type": "stream",
       "stream": "stdout",
       "text": [
        "\n",
        "Error >> 3598 can not fetch month =  60\n",
        "list index out of range"
       ]
      },
      {
       "output_type": "stream",
       "stream": "stdout",
       "text": [
        "\n",
        "Error >> 3432 can not fetch month =  60\n",
        "Get stock no."
       ]
      },
      {
       "output_type": "stream",
       "stream": "stdout",
       "text": [
        " 3607 info for 60 month\n",
        "Get stock no."
       ]
      },
      {
       "output_type": "stream",
       "stream": "stdout",
       "text": [
        " 3605 info for 60 month\n",
        "list index out of range"
       ]
      },
      {
       "output_type": "stream",
       "stream": "stdout",
       "text": [
        "\n",
        "Error >> 5007 can not fetch month =  60\n",
        "Get stock no."
       ]
      },
      {
       "output_type": "stream",
       "stream": "stdout",
       "text": [
        " 9110 info for 60 month\n",
        "list index out of range"
       ]
      },
      {
       "output_type": "stream",
       "stream": "stdout",
       "text": [
        "\n",
        "Error >> 8114 can not fetch month =  60\n",
        "list index out of range"
       ]
      },
      {
       "output_type": "stream",
       "stream": "stdout",
       "text": [
        "\n",
        "Error >> 5880 can not fetch month =  60\n",
        "list index out of range"
       ]
      },
      {
       "output_type": "stream",
       "stream": "stdout",
       "text": [
        "\n",
        "Error >> 3686 can not fetch month =  60\n",
        "list index out of range"
       ]
      },
      {
       "output_type": "stream",
       "stream": "stdout",
       "text": [
        "\n",
        "Error >> 8411 can not fetch month =  60\n",
        "Get stock no."
       ]
      },
      {
       "output_type": "stream",
       "stream": "stdout",
       "text": [
        " 8940 info for 60 month\n",
        "list index out of range"
       ]
      },
      {
       "output_type": "stream",
       "stream": "stdout",
       "text": [
        "\n",
        "Error >> 1626 can not fetch month =  60\n",
        "list index out of range"
       ]
      },
      {
       "output_type": "stream",
       "stream": "stdout",
       "text": [
        "\n",
        "Error >> 2867 can not fetch month =  60\n",
        "Get stock no."
       ]
      },
      {
       "output_type": "stream",
       "stream": "stdout",
       "text": [
        " 9188 info for 60 month\n",
        "list index out of range"
       ]
      },
      {
       "output_type": "stream",
       "stream": "stdout",
       "text": [
        "\n",
        "Error >> 5538 can not fetch month =  60\n",
        "list index out of range"
       ]
      },
      {
       "output_type": "stream",
       "stream": "stdout",
       "text": [
        "\n",
        "Error >> 4536 can not fetch month =  60\n",
        "list index out of range"
       ]
      },
      {
       "output_type": "stream",
       "stream": "stdout",
       "text": [
        "\n",
        "Error >> 4958 can not fetch month =  60\n",
        "Get stock no."
       ]
      },
      {
       "output_type": "stream",
       "stream": "stdout",
       "text": [
        " 3229 info for 60 month\n",
        "Get stock no."
       ]
      },
      {
       "output_type": "stream",
       "stream": "stdout",
       "text": [
        " 8039 info for 60 month\n",
        "list index out of range"
       ]
      },
      {
       "output_type": "stream",
       "stream": "stdout",
       "text": [
        "\n",
        "Error >> 5706 can not fetch month =  60\n",
        "list index out of range"
       ]
      },
      {
       "output_type": "stream",
       "stream": "stdout",
       "text": [
        "\n",
        "Error >> 4984 can not fetch month =  60\n",
        "list index out of range"
       ]
      },
      {
       "output_type": "stream",
       "stream": "stdout",
       "text": [
        "\n",
        "Error >> 4164 can not fetch month =  60\n",
        "list index out of range"
       ]
      },
      {
       "output_type": "stream",
       "stream": "stdout",
       "text": [
        "\n",
        "Error >> 2231 can not fetch month =  60\n",
        "list index out of range"
       ]
      },
      {
       "output_type": "stream",
       "stream": "stdout",
       "text": [
        "\n",
        "Error >> 8427 can not fetch month =  60\n",
        "list index out of range"
       ]
      },
      {
       "output_type": "stream",
       "stream": "stdout",
       "text": [
        "\n",
        "Error >> 8422 can not fetch month =  60\n",
        "list index out of range"
       ]
      },
      {
       "output_type": "stream",
       "stream": "stdout",
       "text": [
        "\n",
        "Error >> 3338 can not fetch month =  60\n",
        "list index out of range"
       ]
      },
      {
       "output_type": "stream",
       "stream": "stdout",
       "text": [
        "\n",
        "Error >> 4137 can not fetch month =  60\n",
        "list index out of range"
       ]
      },
      {
       "output_type": "stream",
       "stream": "stdout",
       "text": [
        "\n",
        "Error >> 4960 can not fetch month =  60\n",
        "list index out of range"
       ]
      },
      {
       "output_type": "stream",
       "stream": "stdout",
       "text": [
        "\n",
        "Error >> 8271 can not fetch month =  60\n",
        "list index out of range"
       ]
      },
      {
       "output_type": "stream",
       "stream": "stdout",
       "text": [
        "\n",
        "Error >> 9802 can not fetch month =  60\n",
        "list index out of range"
       ]
      },
      {
       "output_type": "stream",
       "stream": "stdout",
       "text": [
        "\n",
        "Error >> 6230 can not fetch month =  60\n",
        "list index out of range"
       ]
      },
      {
       "output_type": "stream",
       "stream": "stdout",
       "text": [
        "\n",
        "Error >> 4144 can not fetch month =  60\n",
        "list index out of range"
       ]
      },
      {
       "output_type": "stream",
       "stream": "stdout",
       "text": [
        "\n",
        "Error >> 4141 can not fetch month =  60\n",
        "list index out of range"
       ]
      },
      {
       "output_type": "stream",
       "stream": "stdout",
       "text": [
        "\n",
        "Error >> 4142 can not fetch month =  60\n",
        "list index out of range"
       ]
      },
      {
       "output_type": "stream",
       "stream": "stdout",
       "text": [
        "\n",
        "Error >> 4942 can not fetch month =  60\n",
        "list index out of range"
       ]
      },
      {
       "output_type": "stream",
       "stream": "stdout",
       "text": [
        "\n",
        "Error >> 2114 can not fetch month =  60\n",
        "list index out of range"
       ]
      },
      {
       "output_type": "stream",
       "stream": "stdout",
       "text": [
        "\n",
        "Error >> 2637 can not fetch month =  60\n",
        "list index out of range"
       ]
      },
      {
       "output_type": "stream",
       "stream": "stdout",
       "text": [
        "\n",
        "Error >> 9946 can not fetch month =  60\n",
        "list index out of range"
       ]
      },
      {
       "output_type": "stream",
       "stream": "stdout",
       "text": [
        "\n",
        "Error >> 8210 can not fetch month =  60\n",
        "Get stock no."
       ]
      },
      {
       "output_type": "stream",
       "stream": "stdout",
       "text": [
        " 8213 info for 60 month\n",
        "list index out of range"
       ]
      },
      {
       "output_type": "stream",
       "stream": "stdout",
       "text": [
        "\n",
        "Error >> 8215 can not fetch month =  60\n",
        "Get stock no."
       ]
      },
      {
       "output_type": "stream",
       "stream": "stdout",
       "text": [
        " 6243 info for 60 month\n",
        "list index out of range"
       ]
      },
      {
       "output_type": "stream",
       "stream": "stdout",
       "text": [
        "\n",
        "Error >> 2923 can not fetch month =  60\n",
        "list index out of range"
       ]
      },
      {
       "output_type": "stream",
       "stream": "stdout",
       "text": [
        "\n",
        "Error >> 4733 can not fetch month =  60\n",
        "list index out of range"
       ]
      },
      {
       "output_type": "stream",
       "stream": "stdout",
       "text": [
        "\n",
        "Error >> 4737 can not fetch month =  60\n",
        "list index out of range"
       ]
      },
      {
       "output_type": "stream",
       "stream": "stdout",
       "text": [
        "\n",
        "Error >> 3698 can not fetch month =  60\n",
        "Get stock no."
       ]
      },
      {
       "output_type": "stream",
       "stream": "stdout",
       "text": [
        " 0061 info for 60 month\n",
        "list index out of range"
       ]
      },
      {
       "output_type": "stream",
       "stream": "stdout",
       "text": [
        "\n",
        "Error >> 4755 can not fetch month =  60\n",
        "list index out of range"
       ]
      },
      {
       "output_type": "stream",
       "stream": "stdout",
       "text": [
        "\n",
        "Error >> 5871 can not fetch month =  60\n",
        "list index out of range"
       ]
      },
      {
       "output_type": "stream",
       "stream": "stdout",
       "text": [
        "\n",
        "Error >> 2731 can not fetch month =  60\n",
        "Get stock no."
       ]
      },
      {
       "output_type": "stream",
       "stream": "stdout",
       "text": [
        " 6224 info for 60 month\n",
        "Get stock no."
       ]
      },
      {
       "output_type": "stream",
       "stream": "stdout",
       "text": [
        " 1773 info for 60 month\n",
        "Get stock no."
       ]
      },
      {
       "output_type": "stream",
       "stream": "stdout",
       "text": [
        " 0080 info for 60 month\n",
        "Get stock no."
       ]
      },
      {
       "output_type": "stream",
       "stream": "stdout",
       "text": [
        " 0081 info for 60 month\n",
        "list index out of range"
       ]
      },
      {
       "output_type": "stream",
       "stream": "stdout",
       "text": [
        "\n",
        "Error >> 3704 can not fetch month =  60\n",
        "list index out of range"
       ]
      },
      {
       "output_type": "stream",
       "stream": "stdout",
       "text": [
        "\n",
        "Error >> 2712 can not fetch month =  60\n",
        "Get stock no."
       ]
      },
      {
       "output_type": "stream",
       "stream": "stdout",
       "text": [
        " 6251 info for 60 month\n",
        "list index out of range"
       ]
      },
      {
       "output_type": "stream",
       "stream": "stdout",
       "text": [
        "\n",
        "Error >> 6405 can not fetch month =  60\n",
        "Get stock no."
       ]
      },
      {
       "output_type": "stream",
       "stream": "stdout",
       "text": [
        " 3653 info for 60 month\n",
        "list index out of range"
       ]
      },
      {
       "output_type": "stream",
       "stream": "stdout",
       "text": [
        "\n",
        "Error >> 5243 can not fetch month =  60\n",
        "list index out of range"
       ]
      },
      {
       "output_type": "stream",
       "stream": "stdout",
       "text": [
        "\n",
        "Error >> 3673 can not fetch month =  60\n",
        "list index out of range"
       ]
      },
      {
       "output_type": "stream",
       "stream": "stdout",
       "text": [
        "\n",
        "Error >> 3679 can not fetch month =  60\n",
        "list index out of range"
       ]
      },
      {
       "output_type": "stream",
       "stream": "stdout",
       "text": [
        "\n",
        "Error >> 3583 can not fetch month =  60\n",
        "Get stock no."
       ]
      },
      {
       "output_type": "stream",
       "stream": "stdout",
       "text": [
        " 3588 info for 60 month\n",
        "list index out of range"
       ]
      },
      {
       "output_type": "stream",
       "stream": "stdout",
       "text": [
        "\n",
        "Error >> 3550 can not fetch month =  60\n",
        "list index out of range"
       ]
      },
      {
       "output_type": "stream",
       "stream": "stdout",
       "text": [
        "\n",
        "Error >> 4426 can not fetch month =  60\n",
        "list index out of range"
       ]
      },
      {
       "output_type": "stream",
       "stream": "stdout",
       "text": [
        "\n",
        "Error >> 1817 can not fetch month =  60\n",
        "list index out of range"
       ]
      },
      {
       "output_type": "stream",
       "stream": "stdout",
       "text": [
        "\n",
        "Error >> 5215 can not fetch month =  60\n",
        "list index out of range"
       ]
      },
      {
       "output_type": "stream",
       "stream": "stdout",
       "text": [
        "\n",
        "Error >> 6702 can not fetch month =  60\n",
        "Get stock no."
       ]
      },
      {
       "output_type": "stream",
       "stream": "stdout",
       "text": [
        " 3617 info for 60 month\n",
        "Get stock no."
       ]
      },
      {
       "output_type": "stream",
       "stream": "stdout",
       "text": [
        " 9106 info for 60 month\n",
        "list index out of range"
       ]
      },
      {
       "output_type": "stream",
       "stream": "stdout",
       "text": [
        "\n",
        "Error >> 1339 can not fetch month =  60\n",
        "list index out of range"
       ]
      },
      {
       "output_type": "stream",
       "stream": "stdout",
       "text": [
        "\n",
        "Error >> 1338 can not fetch month =  60\n",
        "list index out of range"
       ]
      },
      {
       "output_type": "stream",
       "stream": "stdout",
       "text": [
        "\n",
        "Error >> 1337 can not fetch month =  60\n",
        "list index out of range"
       ]
      },
      {
       "output_type": "stream",
       "stream": "stdout",
       "text": [
        "\n",
        "Error >> 3638 can not fetch month =  60\n",
        "list index out of range"
       ]
      },
      {
       "output_type": "stream",
       "stream": "stdout",
       "text": [
        "\n",
        "Error >> 5234 can not fetch month =  60\n",
        "list index out of range"
       ]
      },
      {
       "output_type": "stream",
       "stream": "stdout",
       "text": [
        "\n",
        "Error >> 3703 can not fetch month =  60\n",
        "list index out of range"
       ]
      },
      {
       "output_type": "stream",
       "stream": "stdout",
       "text": [
        "\n",
        "Error >> 3706 can not fetch month =  60\n",
        "list index out of range"
       ]
      },
      {
       "output_type": "stream",
       "stream": "stdout",
       "text": [
        "\n",
        "Error >> 1590 can not fetch month =  60\n",
        "list index out of range"
       ]
      },
      {
       "output_type": "stream",
       "stream": "stdout",
       "text": [
        "\n",
        "Error >> 3257 can not fetch month =  60\n",
        "Get stock no."
       ]
      },
      {
       "output_type": "stream",
       "stream": "stdout",
       "text": [
        " 8103 info for 60 month\n",
        "list index out of range"
       ]
      },
      {
       "output_type": "stream",
       "stream": "stdout",
       "text": [
        "\n",
        "Error >> 5521 can not fetch month =  60\n",
        "Get stock no."
       ]
      },
      {
       "output_type": "stream",
       "stream": "stdout",
       "text": [
        " 6152 info for 60 month\n",
        "Get stock no."
       ]
      },
      {
       "output_type": "stream",
       "stream": "stdout",
       "text": [
        " 2049 info for 60 month\n",
        "list index out of range"
       ]
      },
      {
       "output_type": "stream",
       "stream": "stdout",
       "text": [
        "\n",
        "Error >> 3697 can not fetch month =  60\n",
        "list index out of range"
       ]
      },
      {
       "output_type": "stream",
       "stream": "stdout",
       "text": [
        "\n",
        "Error >> 3454 can not fetch month =  60\n",
        "list index out of range"
       ]
      },
      {
       "output_type": "stream",
       "stream": "stdout",
       "text": [
        "\n",
        "Error >> 3682 can not fetch month =  60\n",
        "Get stock no."
       ]
      },
      {
       "output_type": "stream",
       "stream": "stdout",
       "text": [
        " 9157 info for 60 month\n",
        "list index out of range"
       ]
      },
      {
       "output_type": "stream",
       "stream": "stdout",
       "text": [
        "\n",
        "Error >> 3584 can not fetch month =  60\n",
        "list index out of range"
       ]
      },
      {
       "output_type": "stream",
       "stream": "stdout",
       "text": [
        "\n",
        "Error >> 6177 can not fetch month =  60\n",
        "list index out of range"
       ]
      },
      {
       "output_type": "stream",
       "stream": "stdout",
       "text": [
        "\n",
        "Error >> 4999 can not fetch month =  60\n",
        "list index out of range"
       ]
      },
      {
       "output_type": "stream",
       "stream": "stdout",
       "text": [
        "\n",
        "Error >> 6504 can not fetch month =  60\n",
        "Get stock no."
       ]
      },
      {
       "output_type": "stream",
       "stream": "stdout",
       "text": [
        " 9136 info for 60 month\n",
        "list index out of range"
       ]
      },
      {
       "output_type": "stream",
       "stream": "stdout",
       "text": [
        "\n",
        "Error >> 2228 can not fetch month =  60\n",
        "Get stock no."
       ]
      },
      {
       "output_type": "stream",
       "stream": "stdout",
       "text": [
        " 3579 info for 60 month\n",
        "list index out of range"
       ]
      },
      {
       "output_type": "stream",
       "stream": "stdout",
       "text": [
        "\n",
        "Error >> 4977 can not fetch month =  60\n",
        "list index out of range"
       ]
      },
      {
       "output_type": "stream",
       "stream": "stdout",
       "text": [
        "\n",
        "Error >> 3312 can not fetch month =  60\n",
        "Get stock no."
       ]
      },
      {
       "output_type": "stream",
       "stream": "stdout",
       "text": [
        " 8261 info for 60 month\n",
        "list index out of range"
       ]
      },
      {
       "output_type": "stream",
       "stream": "stdout",
       "text": [
        "\n",
        "Error >> 5906 can not fetch month =  60\n",
        "list index out of range"
       ]
      },
      {
       "output_type": "stream",
       "stream": "stdout",
       "text": [
        "\n",
        "Error >> 5907 can not fetch month =  60\n",
        "list index out of range"
       ]
      },
      {
       "output_type": "stream",
       "stream": "stdout",
       "text": [
        "\n",
        "Error >> 5280 can not fetch month =  60\n",
        "list index out of range"
       ]
      },
      {
       "output_type": "stream",
       "stream": "stdout",
       "text": [
        "\n",
        "Error >> 4952 can not fetch month =  60\n",
        "list index out of range"
       ]
      },
      {
       "output_type": "stream",
       "stream": "stdout",
       "text": [
        "\n",
        "Error >> 4956 can not fetch month =  60\n",
        "list index out of range"
       ]
      },
      {
       "output_type": "stream",
       "stream": "stdout",
       "text": [
        "\n",
        "Error >> 8429 can not fetch month =  60\n",
        "Get stock no."
       ]
      },
      {
       "output_type": "stream",
       "stream": "stdout",
       "text": [
        " 4133 info for 60 month\n",
        "list index out of range"
       ]
      },
      {
       "output_type": "stream",
       "stream": "stdout",
       "text": [
        "\n",
        "Error >> 2597 can not fetch month =  60\n",
        "list index out of range"
       ]
      },
      {
       "output_type": "stream",
       "stream": "stdout",
       "text": [
        "\n",
        "Error >> 2361 can not fetch month =  60\n",
        "list index out of range"
       ]
      },
      {
       "output_type": "stream",
       "stream": "stdout",
       "text": [
        "\n",
        "Error >> 4930 can not fetch month =  60\n",
        "list index out of range"
       ]
      },
      {
       "output_type": "stream",
       "stream": "stdout",
       "text": [
        "\n",
        "Error >> 4934 can not fetch month =  60\n",
        "list index out of range"
       ]
      },
      {
       "output_type": "stream",
       "stream": "stdout",
       "text": [
        "\n",
        "Error >> 4935 can not fetch month =  60\n",
        "list index out of range"
       ]
      },
      {
       "output_type": "stream",
       "stream": "stdout",
       "text": [
        "\n",
        "Error >> 4938 can not fetch month =  60\n",
        "list index out of range"
       ]
      },
      {
       "output_type": "stream",
       "stream": "stdout",
       "text": [
        "\n",
        "Error >> 1789 can not fetch month =  60\n",
        "list index out of range"
       ]
      },
      {
       "output_type": "stream",
       "stream": "stdout",
       "text": [
        "\n",
        "Error >> 1786 can not fetch month =  60\n",
        "list index out of range"
       ]
      },
      {
       "output_type": "stream",
       "stream": "stdout",
       "text": [
        "\n",
        "Error >> 5259 can not fetch month =  60\n",
        "list index out of range"
       ]
      },
      {
       "output_type": "stream",
       "stream": "stdout",
       "text": [
        "\n",
        "Error >> 2642 can not fetch month =  60\n",
        "list index out of range"
       ]
      },
      {
       "output_type": "stream",
       "stream": "stdout",
       "text": [
        "\n",
        "Error >> 3149 can not fetch month =  60\n",
        "list index out of range"
       ]
      },
      {
       "output_type": "stream",
       "stream": "stdout",
       "text": [
        "\n",
        "Error >> 4919 can not fetch month =  60\n",
        "list index out of range"
       ]
      },
      {
       "output_type": "stream",
       "stream": "stdout",
       "text": [
        "\n",
        "Error >> 4916 can not fetch month =  60\n",
        "list index out of range"
       ]
      },
      {
       "output_type": "stream",
       "stream": "stdout",
       "text": [
        "\n",
        "Error >> 4915 can not fetch month =  60\n",
        "list index out of range"
       ]
      },
      {
       "output_type": "stream",
       "stream": "stdout",
       "text": [
        "\n",
        "Error >> 3694 can not fetch month =  60\n",
        "Get stock no."
       ]
      },
      {
       "output_type": "stream",
       "stream": "stdout",
       "text": [
        " 3573 info for 60 month\n",
        "list index out of range"
       ]
      },
      {
       "output_type": "stream",
       "stream": "stdout",
       "text": [
        "\n",
        "Error >> 3167 can not fetch month =  60\n",
        "list index out of range"
       ]
      },
      {
       "output_type": "stream",
       "stream": "stdout",
       "text": [
        "\n",
        "Error >> 3164 can not fetch month =  60\n",
        "Get stock no."
       ]
      },
      {
       "output_type": "stream",
       "stream": "stdout",
       "text": [
        " 2491 info for 60 month\n",
        "Month =  60  : Fetching finished!\n",
        "Fetching Start\n",
        "list index out of range"
       ]
      },
      {
       "output_type": "stream",
       "stream": "stdout",
       "text": [
        "\n",
        "Error >> 8011 can not fetch month =  48\n",
        "list index out of range"
       ]
      },
      {
       "output_type": "stream",
       "stream": "stdout",
       "text": [
        "\n",
        "Error >> 4722 can not fetch month =  48\n",
        "Get stock no."
       ]
      },
      {
       "output_type": "stream",
       "stream": "stdout",
       "text": [
        " 6214 info for 48 month\n",
        "Get stock no."
       ]
      },
      {
       "output_type": "stream",
       "stream": "stdout",
       "text": [
        " 1762 info for 48 month\n",
        "list index out of range"
       ]
      },
      {
       "output_type": "stream",
       "stream": "stdout",
       "text": [
        "\n",
        "Error >> 4746 can not fetch month =  48\n",
        "list index out of range"
       ]
      },
      {
       "output_type": "stream",
       "stream": "stdout",
       "text": [
        "\n",
        "Error >> 6183 can not fetch month =  48\n",
        "list index out of range"
       ]
      },
      {
       "output_type": "stream",
       "stream": "stdout",
       "text": [
        "\n",
        "Error >> 2727 can not fetch month =  48\n",
        "Get stock no."
       ]
      },
      {
       "output_type": "stream",
       "stream": "stdout",
       "text": [
        " 2723 info for 48 month\n",
        "list index out of range"
       ]
      },
      {
       "output_type": "stream",
       "stream": "stdout",
       "text": [
        "\n",
        "Error >> 2722 can not fetch month =  48\n",
        "list index out of range"
       ]
      },
      {
       "output_type": "stream",
       "stream": "stdout",
       "text": [
        "\n",
        "Error >> 5264 can not fetch month =  48\n",
        "list index out of range"
       ]
      },
      {
       "output_type": "stream",
       "stream": "stdout",
       "text": [
        "\n",
        "Error >> 5269 can not fetch month =  48\n",
        "list index out of range"
       ]
      },
      {
       "output_type": "stream",
       "stream": "stdout",
       "text": [
        "\n",
        "Error >> 4976 can not fetch month =  48\n",
        "list index out of range"
       ]
      },
      {
       "output_type": "stream",
       "stream": "stdout",
       "text": [
        "\n",
        "Error >> 1589 can not fetch month =  48\n",
        "list index out of range"
       ]
      },
      {
       "output_type": "stream",
       "stream": "stdout",
       "text": [
        "\n",
        "Error >> 6415 can not fetch month =  48\n",
        "list index out of range"
       ]
      },
      {
       "output_type": "stream",
       "stream": "stdout",
       "text": [
        "\n",
        "Error >> 6412 can not fetch month =  48\n",
        "list index out of range"
       ]
      },
      {
       "output_type": "stream",
       "stream": "stdout",
       "text": [
        "\n",
        "Error >> 3645 can not fetch month =  48\n",
        "Get stock no."
       ]
      },
      {
       "output_type": "stream",
       "stream": "stdout",
       "text": [
        " 3705 info for 48 month\n",
        "Get stock no."
       ]
      },
      {
       "output_type": "stream",
       "stream": "stdout",
       "text": [
        " 6278 info for 48 month\n",
        "list index out of range"
       ]
      },
      {
       "output_type": "stream",
       "stream": "stdout",
       "text": [
        "\n",
        "Error >> 5225 can not fetch month =  48\n",
        "list index out of range"
       ]
      },
      {
       "output_type": "stream",
       "stream": "stdout",
       "text": [
        "\n",
        "Error >> 8404 can not fetch month =  48\n",
        "list index out of range"
       ]
      },
      {
       "output_type": "stream",
       "stream": "stdout",
       "text": [
        "\n",
        "Error >> 3665 can not fetch month =  48\n",
        "list index out of range"
       ]
      },
      {
       "output_type": "stream",
       "stream": "stdout",
       "text": [
        "\n",
        "Error >> 3669 can not fetch month =  48\n",
        "Get stock no."
       ]
      },
      {
       "output_type": "stream",
       "stream": "stdout",
       "text": [
        " 3591 info for 48 month\n",
        "Get stock no."
       ]
      },
      {
       "output_type": "stream",
       "stream": "stdout",
       "text": [
        " 3598 info for 48 month\n",
        "Get stock no."
       ]
      },
      {
       "output_type": "stream",
       "stream": "stdout",
       "text": [
        " 3432 info for 48 month\n",
        "list index out of range"
       ]
      },
      {
       "output_type": "stream",
       "stream": "stdout",
       "text": [
        "\n",
        "Error >> 5007 can not fetch month =  48\n",
        "list index out of range"
       ]
      },
      {
       "output_type": "stream",
       "stream": "stdout",
       "text": [
        "\n",
        "Error >> 8114 can not fetch month =  48\n",
        "list index out of range"
       ]
      },
      {
       "output_type": "stream",
       "stream": "stdout",
       "text": [
        "\n",
        "Error >> 5880 can not fetch month =  48\n",
        "Get stock no."
       ]
      },
      {
       "output_type": "stream",
       "stream": "stdout",
       "text": [
        " 3686 info for 48 month\n",
        "list index out of range"
       ]
      },
      {
       "output_type": "stream",
       "stream": "stdout",
       "text": [
        "\n",
        "Error >> 8411 can not fetch month =  48\n",
        "list index out of range"
       ]
      },
      {
       "output_type": "stream",
       "stream": "stdout",
       "text": [
        "\n",
        "Error >> 1626 can not fetch month =  48\n",
        "list index out of range"
       ]
      },
      {
       "output_type": "stream",
       "stream": "stdout",
       "text": [
        "\n",
        "Error >> 2867 can not fetch month =  48\n",
        "list index out of range"
       ]
      },
      {
       "output_type": "stream",
       "stream": "stdout",
       "text": [
        "\n",
        "Error >> 5538 can not fetch month =  48\n",
        "list index out of range"
       ]
      },
      {
       "output_type": "stream",
       "stream": "stdout",
       "text": [
        "\n",
        "Error >> 4536 can not fetch month =  48\n",
        "list index out of range"
       ]
      },
      {
       "output_type": "stream",
       "stream": "stdout",
       "text": [
        "\n",
        "Error >> 4958 can not fetch month =  48\n",
        "list index out of range"
       ]
      },
      {
       "output_type": "stream",
       "stream": "stdout",
       "text": [
        "\n",
        "Error >> 5706 can not fetch month =  48\n",
        "list index out of range"
       ]
      },
      {
       "output_type": "stream",
       "stream": "stdout",
       "text": [
        "\n",
        "Error >> 4984 can not fetch month =  48\n",
        "list index out of range"
       ]
      },
      {
       "output_type": "stream",
       "stream": "stdout",
       "text": [
        "\n",
        "Error >> 4164 can not fetch month =  48\n",
        "Get stock no."
       ]
      },
      {
       "output_type": "stream",
       "stream": "stdout",
       "text": [
        " 2231 info for 48 month\n",
        "list index out of range"
       ]
      },
      {
       "output_type": "stream",
       "stream": "stdout",
       "text": [
        "\n",
        "Error >> 8427 can not fetch month =  48\n",
        "list index out of range"
       ]
      },
      {
       "output_type": "stream",
       "stream": "stdout",
       "text": [
        "\n",
        "Error >> 8422 can not fetch month =  48\n",
        "list index out of range"
       ]
      },
      {
       "output_type": "stream",
       "stream": "stdout",
       "text": [
        "\n",
        "Error >> 3338 can not fetch month =  48\n",
        "list index out of range"
       ]
      },
      {
       "output_type": "stream",
       "stream": "stdout",
       "text": [
        "\n",
        "Error >> 4137 can not fetch month =  48\n",
        "list index out of range"
       ]
      },
      {
       "output_type": "stream",
       "stream": "stdout",
       "text": [
        "\n",
        "Error >> 4960 can not fetch month =  48\n",
        "Get stock no."
       ]
      },
      {
       "output_type": "stream",
       "stream": "stdout",
       "text": [
        " 8271 info for 48 month\n",
        "list index out of range"
       ]
      },
      {
       "output_type": "stream",
       "stream": "stdout",
       "text": [
        "\n",
        "Error >> 9802 can not fetch month =  48\n",
        "Get stock no."
       ]
      },
      {
       "output_type": "stream",
       "stream": "stdout",
       "text": [
        " 6230 info for 48 month\n",
        "list index out of range"
       ]
      },
      {
       "output_type": "stream",
       "stream": "stdout",
       "text": [
        "\n",
        "Error >> 4144 can not fetch month =  48\n",
        "list index out of range"
       ]
      },
      {
       "output_type": "stream",
       "stream": "stdout",
       "text": [
        "\n",
        "Error >> 4141 can not fetch month =  48\n",
        "list index out of range"
       ]
      },
      {
       "output_type": "stream",
       "stream": "stdout",
       "text": [
        "\n",
        "Error >> 4142 can not fetch month =  48\n",
        "list index out of range"
       ]
      },
      {
       "output_type": "stream",
       "stream": "stdout",
       "text": [
        "\n",
        "Error >> 4942 can not fetch month =  48\n",
        "Get stock no."
       ]
      },
      {
       "output_type": "stream",
       "stream": "stdout",
       "text": [
        " 2114 info for 48 month\n",
        "Get stock no."
       ]
      },
      {
       "output_type": "stream",
       "stream": "stdout",
       "text": [
        " 2637 info for 48 month\n",
        "list index out of range"
       ]
      },
      {
       "output_type": "stream",
       "stream": "stdout",
       "text": [
        "\n",
        "Error >> 9946 can not fetch month =  48\n",
        "list index out of range"
       ]
      },
      {
       "output_type": "stream",
       "stream": "stdout",
       "text": [
        "\n",
        "Error >> 8210 can not fetch month =  48\n",
        "Get stock no."
       ]
      },
      {
       "output_type": "stream",
       "stream": "stdout",
       "text": [
        " 8215 info for 48 month\n",
        "list index out of range"
       ]
      },
      {
       "output_type": "stream",
       "stream": "stdout",
       "text": [
        "\n",
        "Error >> 2923 can not fetch month =  48\n",
        "Get stock no."
       ]
      },
      {
       "output_type": "stream",
       "stream": "stdout",
       "text": [
        " 4733 info for 48 month\n",
        "Get stock no."
       ]
      },
      {
       "output_type": "stream",
       "stream": "stdout",
       "text": [
        " 4737 info for 48 month\n",
        "list index out of range"
       ]
      },
      {
       "output_type": "stream",
       "stream": "stdout",
       "text": [
        "\n",
        "Error >> 3698 can not fetch month =  48\n",
        "list index out of range"
       ]
      },
      {
       "output_type": "stream",
       "stream": "stdout",
       "text": [
        "\n",
        "Error >> 4755 can not fetch month =  48\n",
        "list index out of range"
       ]
      },
      {
       "output_type": "stream",
       "stream": "stdout",
       "text": [
        "\n",
        "Error >> 5871 can not fetch month =  48\n",
        "list index out of range"
       ]
      },
      {
       "output_type": "stream",
       "stream": "stdout",
       "text": [
        "\n",
        "Error >> 2731 can not fetch month =  48\n",
        "Get stock no."
       ]
      },
      {
       "output_type": "stream",
       "stream": "stdout",
       "text": [
        " 3704 info for 48 month\n",
        "list index out of range"
       ]
      },
      {
       "output_type": "stream",
       "stream": "stdout",
       "text": [
        "\n",
        "Error >> 2712 can not fetch month =  48\n",
        "list index out of range"
       ]
      },
      {
       "output_type": "stream",
       "stream": "stdout",
       "text": [
        "\n",
        "Error >> 6405 can not fetch month =  48\n",
        "list index out of range"
       ]
      },
      {
       "output_type": "stream",
       "stream": "stdout",
       "text": [
        "\n",
        "Error >> 5243 can not fetch month =  48\n",
        "Get stock no."
       ]
      },
      {
       "output_type": "stream",
       "stream": "stdout",
       "text": [
        " 3673 info for 48 month\n",
        "list index out of range"
       ]
      },
      {
       "output_type": "stream",
       "stream": "stdout",
       "text": [
        "\n",
        "Error >> 3679 can not fetch month =  48\n",
        "list index out of range"
       ]
      },
      {
       "output_type": "stream",
       "stream": "stdout",
       "text": [
        "\n",
        "Error >> 3583 can not fetch month =  48\n",
        "Get stock no."
       ]
      },
      {
       "output_type": "stream",
       "stream": "stdout",
       "text": [
        " 3550 info for 48 month\n",
        "list index out of range"
       ]
      },
      {
       "output_type": "stream",
       "stream": "stdout",
       "text": [
        "\n",
        "Error >> 4426 can not fetch month =  48\n",
        "list index out of range"
       ]
      },
      {
       "output_type": "stream",
       "stream": "stdout",
       "text": [
        "\n",
        "Error >> 1817 can not fetch month =  48\n",
        "list index out of range"
       ]
      },
      {
       "output_type": "stream",
       "stream": "stdout",
       "text": [
        "\n",
        "Error >> 5215 can not fetch month =  48\n",
        "list index out of range"
       ]
      },
      {
       "output_type": "stream",
       "stream": "stdout",
       "text": [
        "\n",
        "Error >> 6702 can not fetch month =  48\n",
        "list index out of range"
       ]
      },
      {
       "output_type": "stream",
       "stream": "stdout",
       "text": [
        "\n",
        "Error >> 1339 can not fetch month =  48\n",
        "list index out of range"
       ]
      },
      {
       "output_type": "stream",
       "stream": "stdout",
       "text": [
        "\n",
        "Error >> 1338 can not fetch month =  48\n",
        "list index out of range"
       ]
      },
      {
       "output_type": "stream",
       "stream": "stdout",
       "text": [
        "\n",
        "Error >> 1337 can not fetch month =  48\n",
        "Get stock no."
       ]
      },
      {
       "output_type": "stream",
       "stream": "stdout",
       "text": [
        " 3638 info for 48 month\n",
        "list index out of range"
       ]
      },
      {
       "output_type": "stream",
       "stream": "stdout",
       "text": [
        "\n",
        "Error >> 5234 can not fetch month =  48\n",
        "Get stock no."
       ]
      },
      {
       "output_type": "stream",
       "stream": "stdout",
       "text": [
        " 3703 info for 48 month\n",
        "list index out of range"
       ]
      },
      {
       "output_type": "stream",
       "stream": "stdout",
       "text": [
        "\n",
        "Error >> 3706 can not fetch month =  48\n",
        "Get stock no."
       ]
      },
      {
       "output_type": "stream",
       "stream": "stdout",
       "text": [
        " 1590 info for 48 month\n",
        "list index out of range"
       ]
      },
      {
       "output_type": "stream",
       "stream": "stdout",
       "text": [
        "\n",
        "Error >> 3257 can not fetch month =  48\n",
        "list index out of range"
       ]
      },
      {
       "output_type": "stream",
       "stream": "stdout",
       "text": [
        "\n",
        "Error >> 5521 can not fetch month =  48\n",
        "Get stock no."
       ]
      },
      {
       "output_type": "stream",
       "stream": "stdout",
       "text": [
        " 3697 info for 48 month\n",
        "list index out of range"
       ]
      },
      {
       "output_type": "stream",
       "stream": "stdout",
       "text": [
        "\n",
        "Error >> 3454 can not fetch month =  48\n",
        "list index out of range"
       ]
      },
      {
       "output_type": "stream",
       "stream": "stdout",
       "text": [
        "\n",
        "Error >> 3682 can not fetch month =  48\n",
        "Get stock no."
       ]
      },
      {
       "output_type": "stream",
       "stream": "stdout",
       "text": [
        " 3584 info for 48 month\n",
        "list index out of range"
       ]
      },
      {
       "output_type": "stream",
       "stream": "stdout",
       "text": [
        "\n",
        "Error >> 6177 can not fetch month =  48\n",
        "list index out of range"
       ]
      },
      {
       "output_type": "stream",
       "stream": "stdout",
       "text": [
        "\n",
        "Error >> 4999 can not fetch month =  48\n",
        "list index out of range"
       ]
      },
      {
       "output_type": "stream",
       "stream": "stdout",
       "text": [
        "\n",
        "Error >> 6504 can not fetch month =  48\n",
        "list index out of range"
       ]
      },
      {
       "output_type": "stream",
       "stream": "stdout",
       "text": [
        "\n",
        "Error >> 2228 can not fetch month =  48\n",
        "list index out of range"
       ]
      },
      {
       "output_type": "stream",
       "stream": "stdout",
       "text": [
        "\n",
        "Error >> 4977 can not fetch month =  48\n",
        "Get stock no."
       ]
      },
      {
       "output_type": "stream",
       "stream": "stdout",
       "text": [
        " 3312 info for 48 month\n",
        "list index out of range"
       ]
      },
      {
       "output_type": "stream",
       "stream": "stdout",
       "text": [
        "\n",
        "Error >> 5906 can not fetch month =  48\n",
        "list index out of range"
       ]
      },
      {
       "output_type": "stream",
       "stream": "stdout",
       "text": [
        "\n",
        "Error >> 5907 can not fetch month =  48\n",
        "list index out of range"
       ]
      },
      {
       "output_type": "stream",
       "stream": "stdout",
       "text": [
        "\n",
        "Error >> 5280 can not fetch month =  48\n",
        "list index out of range"
       ]
      },
      {
       "output_type": "stream",
       "stream": "stdout",
       "text": [
        "\n",
        "Error >> 4952 can not fetch month =  48\n",
        "list index out of range"
       ]
      },
      {
       "output_type": "stream",
       "stream": "stdout",
       "text": [
        "\n",
        "Error >> 4956 can not fetch month =  48\n",
        "list index out of range"
       ]
      },
      {
       "output_type": "stream",
       "stream": "stdout",
       "text": [
        "\n",
        "Error >> 8429 can not fetch month =  48\n",
        "Get stock no."
       ]
      },
      {
       "output_type": "stream",
       "stream": "stdout",
       "text": [
        " 2597 info for 48 month\n",
        "list index out of range"
       ]
      },
      {
       "output_type": "stream",
       "stream": "stdout",
       "text": [
        "\n",
        "Error >> 2361 can not fetch month =  48\n",
        "Get stock no."
       ]
      },
      {
       "output_type": "stream",
       "stream": "stdout",
       "text": [
        " 4930 info for 48 month\n",
        "list index out of range"
       ]
      },
      {
       "output_type": "stream",
       "stream": "stdout",
       "text": [
        "\n",
        "Error >> 4934 can not fetch month =  48\n",
        "list index out of range"
       ]
      },
      {
       "output_type": "stream",
       "stream": "stdout",
       "text": [
        "\n",
        "Error >> 4935 can not fetch month =  48\n",
        "Get stock no."
       ]
      },
      {
       "output_type": "stream",
       "stream": "stdout",
       "text": [
        " 4938 info for 48 month\n",
        "list index out of range"
       ]
      },
      {
       "output_type": "stream",
       "stream": "stdout",
       "text": [
        "\n",
        "Error >> 1789 can not fetch month =  48\n",
        "list index out of range"
       ]
      },
      {
       "output_type": "stream",
       "stream": "stdout",
       "text": [
        "\n",
        "Error >> 1786 can not fetch month =  48\n",
        "list index out of range"
       ]
      },
      {
       "output_type": "stream",
       "stream": "stdout",
       "text": [
        "\n",
        "Error >> 5259 can not fetch month =  48\n",
        "list index out of range"
       ]
      },
      {
       "output_type": "stream",
       "stream": "stdout",
       "text": [
        "\n",
        "Error >> 2642 can not fetch month =  48\n",
        "list index out of range"
       ]
      },
      {
       "output_type": "stream",
       "stream": "stdout",
       "text": [
        "\n",
        "Error >> 3149 can not fetch month =  48\n",
        "Get stock no."
       ]
      },
      {
       "output_type": "stream",
       "stream": "stdout",
       "text": [
        " 4919 info for 48 month\n",
        "list index out of range"
       ]
      },
      {
       "output_type": "stream",
       "stream": "stdout",
       "text": [
        "\n",
        "Error >> 4916 can not fetch month =  48\n",
        "list index out of range"
       ]
      },
      {
       "output_type": "stream",
       "stream": "stdout",
       "text": [
        "\n",
        "Error >> 4915 can not fetch month =  48\n",
        "list index out of range"
       ]
      },
      {
       "output_type": "stream",
       "stream": "stdout",
       "text": [
        "\n",
        "Error >> 3694 can not fetch month =  48\n",
        "list index out of range"
       ]
      },
      {
       "output_type": "stream",
       "stream": "stdout",
       "text": [
        "\n",
        "Error >> 3167 can not fetch month =  48\n",
        "Get stock no."
       ]
      },
      {
       "output_type": "stream",
       "stream": "stdout",
       "text": [
        " 3164 info for 48 month\n",
        "Month =  48  : Fetching finished!\n",
        "Fetching Start\n",
        "Get stock no."
       ]
      },
      {
       "output_type": "stream",
       "stream": "stdout",
       "text": [
        " 8011 info for 36 month\n",
        "list index out of range"
       ]
      },
      {
       "output_type": "stream",
       "stream": "stdout",
       "text": [
        "\n",
        "Error >> 4722 can not fetch month =  36\n",
        "Get stock no."
       ]
      },
      {
       "output_type": "stream",
       "stream": "stdout",
       "text": [
        " 4746 info for 36 month\n",
        "Get stock no."
       ]
      },
      {
       "output_type": "stream",
       "stream": "stdout",
       "text": [
        " 6183 info for 36 month\n",
        "list index out of range"
       ]
      },
      {
       "output_type": "stream",
       "stream": "stdout",
       "text": [
        "\n",
        "Error >> 2727 can not fetch month =  36\n",
        "list index out of range"
       ]
      },
      {
       "output_type": "stream",
       "stream": "stdout",
       "text": [
        "\n",
        "Error >> 2722 can not fetch month =  36\n",
        "list index out of range"
       ]
      },
      {
       "output_type": "stream",
       "stream": "stdout",
       "text": [
        "\n",
        "Error >> 5264 can not fetch month =  36\n",
        "list index out of range"
       ]
      },
      {
       "output_type": "stream",
       "stream": "stdout",
       "text": [
        "\n",
        "Error >> 5269 can not fetch month =  36\n",
        "list index out of range"
       ]
      },
      {
       "output_type": "stream",
       "stream": "stdout",
       "text": [
        "\n",
        "Error >> 4976 can not fetch month =  36\n",
        "list index out of range"
       ]
      },
      {
       "output_type": "stream",
       "stream": "stdout",
       "text": [
        "\n",
        "Error >> 1589 can not fetch month =  36\n",
        "list index out of range"
       ]
      },
      {
       "output_type": "stream",
       "stream": "stdout",
       "text": [
        "\n",
        "Error >> 6415 can not fetch month =  36\n",
        "list index out of range"
       ]
      },
      {
       "output_type": "stream",
       "stream": "stdout",
       "text": [
        "\n",
        "Error >> 6412 can not fetch month =  36\n",
        "Get stock no."
       ]
      },
      {
       "output_type": "stream",
       "stream": "stdout",
       "text": [
        " 3645 info for 36 month\n",
        "list index out of range"
       ]
      },
      {
       "output_type": "stream",
       "stream": "stdout",
       "text": [
        "\n",
        "Error >> 5225 can not fetch month =  36\n",
        "Get stock no."
       ]
      },
      {
       "output_type": "stream",
       "stream": "stdout",
       "text": [
        " 8404 info for 36 month\n",
        "Get stock no."
       ]
      },
      {
       "output_type": "stream",
       "stream": "stdout",
       "text": [
        " 3665 info for 36 month\n",
        "Get stock no."
       ]
      },
      {
       "output_type": "stream",
       "stream": "stdout",
       "text": [
        " 3669 info for 36 month\n",
        "Get stock no."
       ]
      },
      {
       "output_type": "stream",
       "stream": "stdout",
       "text": [
        " 5007 info for 36 month\n",
        "list index out of range"
       ]
      },
      {
       "output_type": "stream",
       "stream": "stdout",
       "text": [
        "\n",
        "Error >> 8114 can not fetch month =  36\n",
        "Get stock no."
       ]
      },
      {
       "output_type": "stream",
       "stream": "stdout",
       "text": [
        " 5880 info for 36 month\n",
        "Get stock no."
       ]
      },
      {
       "output_type": "stream",
       "stream": "stdout",
       "text": [
        " 8411 info for 36 month\n",
        "list index out of range"
       ]
      },
      {
       "output_type": "stream",
       "stream": "stdout",
       "text": [
        "\n",
        "Error >> 1626 can not fetch month =  36\n",
        "list index out of range"
       ]
      },
      {
       "output_type": "stream",
       "stream": "stdout",
       "text": [
        "\n",
        "Error >> 2867 can not fetch month =  36\n",
        "list index out of range"
       ]
      },
      {
       "output_type": "stream",
       "stream": "stdout",
       "text": [
        "\n",
        "Error >> 5538 can not fetch month =  36\n",
        "list index out of range"
       ]
      },
      {
       "output_type": "stream",
       "stream": "stdout",
       "text": [
        "\n",
        "Error >> 4536 can not fetch month =  36\n",
        "Get stock no."
       ]
      },
      {
       "output_type": "stream",
       "stream": "stdout",
       "text": [
        " 4958 info for 36 month\n",
        "Get stock no."
       ]
      },
      {
       "output_type": "stream",
       "stream": "stdout",
       "text": [
        " 5706 info for 36 month\n",
        "Get stock no."
       ]
      },
      {
       "output_type": "stream",
       "stream": "stdout",
       "text": [
        " 4984 info for 36 month\n",
        "list index out of range"
       ]
      },
      {
       "output_type": "stream",
       "stream": "stdout",
       "text": [
        "\n",
        "Error >> 4164 can not fetch month =  36\n",
        "Get stock no."
       ]
      },
      {
       "output_type": "stream",
       "stream": "stdout",
       "text": [
        " 8427 info for 36 month\n",
        "Get stock no."
       ]
      },
      {
       "output_type": "stream",
       "stream": "stdout",
       "text": [
        " 8422 info for 36 month\n",
        "list index out of range"
       ]
      },
      {
       "output_type": "stream",
       "stream": "stdout",
       "text": [
        "\n",
        "Error >> 3338 can not fetch month =  36\n",
        "list index out of range"
       ]
      },
      {
       "output_type": "stream",
       "stream": "stdout",
       "text": [
        "\n",
        "Error >> 4137 can not fetch month =  36\n",
        "Get stock no."
       ]
      },
      {
       "output_type": "stream",
       "stream": "stdout",
       "text": [
        " 4960 info for 36 month\n",
        "list index out of range"
       ]
      },
      {
       "output_type": "stream",
       "stream": "stdout",
       "text": [
        "\n",
        "Error >> 9802 can not fetch month =  36\n",
        "Get stock no."
       ]
      },
      {
       "output_type": "stream",
       "stream": "stdout",
       "text": [
        " 4144 info for 36 month\n",
        "list index out of range"
       ]
      },
      {
       "output_type": "stream",
       "stream": "stdout",
       "text": [
        "\n",
        "Error >> 4141 can not fetch month =  36\n",
        "list index out of range"
       ]
      },
      {
       "output_type": "stream",
       "stream": "stdout",
       "text": [
        "\n",
        "Error >> 4142 can not fetch month =  36\n",
        "Get stock no."
       ]
      },
      {
       "output_type": "stream",
       "stream": "stdout",
       "text": [
        " 4942 info for 36 month\n",
        "list index out of range"
       ]
      },
      {
       "output_type": "stream",
       "stream": "stdout",
       "text": [
        "\n",
        "Error >> 9946 can not fetch month =  36\n",
        "Get stock no."
       ]
      },
      {
       "output_type": "stream",
       "stream": "stdout",
       "text": [
        " 8210 info for 36 month\n",
        "list index out of range"
       ]
      },
      {
       "output_type": "stream",
       "stream": "stdout",
       "text": [
        "\n",
        "Error >> 2923 can not fetch month =  36\n",
        "Get stock no."
       ]
      },
      {
       "output_type": "stream",
       "stream": "stdout",
       "text": [
        " 3698 info for 36 month\n",
        "list index out of range"
       ]
      },
      {
       "output_type": "stream",
       "stream": "stdout",
       "text": [
        "\n",
        "Error >> 4755 can not fetch month =  36\n",
        "Get stock no."
       ]
      },
      {
       "output_type": "stream",
       "stream": "stdout",
       "text": [
        " 5871 info for 36 month\n",
        "list index out of range"
       ]
      },
      {
       "output_type": "stream",
       "stream": "stdout",
       "text": [
        "\n",
        "Error >> 2731 can not fetch month =  36\n",
        "list index out of range"
       ]
      },
      {
       "output_type": "stream",
       "stream": "stdout",
       "text": [
        "\n",
        "Error >> 2712 can not fetch month =  36\n",
        "list index out of range"
       ]
      },
      {
       "output_type": "stream",
       "stream": "stdout",
       "text": [
        "\n",
        "Error >> 6405 can not fetch month =  36\n",
        "list index out of range"
       ]
      },
      {
       "output_type": "stream",
       "stream": "stdout",
       "text": [
        "\n",
        "Error >> 5243 can not fetch month =  36\n",
        "Get stock no."
       ]
      },
      {
       "output_type": "stream",
       "stream": "stdout",
       "text": [
        " 3679 info for 36 month\n",
        "list index out of range"
       ]
      },
      {
       "output_type": "stream",
       "stream": "stdout",
       "text": [
        "\n",
        "Error >> 3583 can not fetch month =  36\n",
        "Get stock no."
       ]
      },
      {
       "output_type": "stream",
       "stream": "stdout",
       "text": [
        " 4426 info for 36 month\n",
        "list index out of range"
       ]
      },
      {
       "output_type": "stream",
       "stream": "stdout",
       "text": [
        "\n",
        "Error >> 1817 can not fetch month =  36\n",
        "Get stock no."
       ]
      },
      {
       "output_type": "stream",
       "stream": "stdout",
       "text": [
        " 5215 info for 36 month\n",
        "Get stock no."
       ]
      },
      {
       "output_type": "stream",
       "stream": "stdout",
       "text": [
        " 6702 info for 36 month\n",
        "list index out of range"
       ]
      },
      {
       "output_type": "stream",
       "stream": "stdout",
       "text": [
        "\n",
        "Error >> 1339 can not fetch month =  36\n",
        "list index out of range"
       ]
      },
      {
       "output_type": "stream",
       "stream": "stdout",
       "text": [
        "\n",
        "Error >> 1338 can not fetch month =  36\n",
        "Get stock no."
       ]
      },
      {
       "output_type": "stream",
       "stream": "stdout",
       "text": [
        " 1337 info for 36 month\n",
        "list index out of range"
       ]
      },
      {
       "output_type": "stream",
       "stream": "stdout",
       "text": [
        "\n",
        "Error >> 5234 can not fetch month =  36\n",
        "list index out of range"
       ]
      },
      {
       "output_type": "stream",
       "stream": "stdout",
       "text": [
        "\n",
        "Error >> 3706 can not fetch month =  36\n",
        "Get stock no."
       ]
      },
      {
       "output_type": "stream",
       "stream": "stdout",
       "text": [
        " 3257 info for 36 month\n",
        "list index out of range"
       ]
      },
      {
       "output_type": "stream",
       "stream": "stdout",
       "text": [
        "\n",
        "Error >> 5521 can not fetch month =  36\n",
        "Get stock no."
       ]
      },
      {
       "output_type": "stream",
       "stream": "stdout",
       "text": [
        " 3454 info for 36 month\n",
        "list index out of range"
       ]
      },
      {
       "output_type": "stream",
       "stream": "stdout",
       "text": [
        "\n",
        "Error >> 3682 can not fetch month =  36\n",
        "list index out of range"
       ]
      },
      {
       "output_type": "stream",
       "stream": "stdout",
       "text": [
        "\n",
        "Error >> 6177 can not fetch month =  36\n",
        "list index out of range"
       ]
      },
      {
       "output_type": "stream",
       "stream": "stdout",
       "text": [
        "\n",
        "Error >> 4999 can not fetch month =  36\n",
        "list index out of range"
       ]
      },
      {
       "output_type": "stream",
       "stream": "stdout",
       "text": [
        "\n",
        "Error >> 6504 can not fetch month =  36\n",
        "list index out of range"
       ]
      },
      {
       "output_type": "stream",
       "stream": "stdout",
       "text": [
        "\n",
        "Error >> 2228 can not fetch month =  36\n",
        "list index out of range"
       ]
      },
      {
       "output_type": "stream",
       "stream": "stdout",
       "text": [
        "\n",
        "Error >> 4977 can not fetch month =  36\n",
        "Get stock no."
       ]
      },
      {
       "output_type": "stream",
       "stream": "stdout",
       "text": [
        " 5906 info for 36 month\n",
        "list index out of range"
       ]
      },
      {
       "output_type": "stream",
       "stream": "stdout",
       "text": [
        "\n",
        "Error >> 5907 can not fetch month =  36\n",
        "list index out of range"
       ]
      },
      {
       "output_type": "stream",
       "stream": "stdout",
       "text": [
        "\n",
        "Error >> 5280 can not fetch month =  36\n",
        "Get stock no."
       ]
      },
      {
       "output_type": "stream",
       "stream": "stdout",
       "text": [
        " 4952 info for 36 month\n",
        "Get stock no."
       ]
      },
      {
       "output_type": "stream",
       "stream": "stdout",
       "text": [
        " 4956 info for 36 month\n",
        "list index out of range"
       ]
      },
      {
       "output_type": "stream",
       "stream": "stdout",
       "text": [
        "\n",
        "Error >> 8429 can not fetch month =  36\n",
        "Get stock no."
       ]
      },
      {
       "output_type": "stream",
       "stream": "stdout",
       "text": [
        " 2361 info for 36 month\n",
        "Get stock no."
       ]
      },
      {
       "output_type": "stream",
       "stream": "stdout",
       "text": [
        " 4934 info for 36 month\n",
        "Get stock no."
       ]
      },
      {
       "output_type": "stream",
       "stream": "stdout",
       "text": [
        " 4935 info for 36 month\n",
        "Get stock no."
       ]
      },
      {
       "output_type": "stream",
       "stream": "stdout",
       "text": [
        " 1789 info for 36 month\n",
        "list index out of range"
       ]
      },
      {
       "output_type": "stream",
       "stream": "stdout",
       "text": [
        "\n",
        "Error >> 1786 can not fetch month =  36\n",
        "list index out of range"
       ]
      },
      {
       "output_type": "stream",
       "stream": "stdout",
       "text": [
        "\n",
        "Error >> 5259 can not fetch month =  36\n",
        "list index out of range"
       ]
      },
      {
       "output_type": "stream",
       "stream": "stdout",
       "text": [
        "\n",
        "Error >> 2642 can not fetch month =  36\n",
        "Get stock no."
       ]
      },
      {
       "output_type": "stream",
       "stream": "stdout",
       "text": [
        " 3149 info for 36 month\n",
        "list index out of range"
       ]
      },
      {
       "output_type": "stream",
       "stream": "stdout",
       "text": [
        "\n",
        "Error >> 4916 can not fetch month =  36\n",
        "list index out of range"
       ]
      },
      {
       "output_type": "stream",
       "stream": "stdout",
       "text": [
        "\n",
        "Error >> 4915 can not fetch month =  36\n",
        "Get stock no."
       ]
      },
      {
       "output_type": "stream",
       "stream": "stdout",
       "text": [
        " 3694 info for 36 month\n",
        "list index out of range"
       ]
      },
      {
       "output_type": "stream",
       "stream": "stdout",
       "text": [
        "\n",
        "Error >> 3167 can not fetch month =  36\n",
        "Month =  36  : Fetching finished!\n",
        "Fetching Start\n",
        "Get stock no."
       ]
      },
      {
       "output_type": "stream",
       "stream": "stdout",
       "text": [
        " 4722 info for 24 month\n",
        "Get stock no."
       ]
      },
      {
       "output_type": "stream",
       "stream": "stdout",
       "text": [
        " 2727 info for 24 month\n",
        "Get stock no."
       ]
      },
      {
       "output_type": "stream",
       "stream": "stdout",
       "text": [
        " 2722 info for 24 month\n",
        "Get stock no."
       ]
      },
      {
       "output_type": "stream",
       "stream": "stdout",
       "text": [
        " 5264 info for 24 month\n",
        "Get stock no."
       ]
      },
      {
       "output_type": "stream",
       "stream": "stdout",
       "text": [
        " 5269 info for 24 month\n",
        "Get stock no."
       ]
      },
      {
       "output_type": "stream",
       "stream": "stdout",
       "text": [
        " 4976 info for 24 month\n",
        "Get stock no."
       ]
      },
      {
       "output_type": "stream",
       "stream": "stdout",
       "text": [
        " 1589 info for 24 month\n",
        "Get stock no."
       ]
      },
      {
       "output_type": "stream",
       "stream": "stdout",
       "text": [
        " 6415 info for 24 month\n",
        "list index out of range"
       ]
      },
      {
       "output_type": "stream",
       "stream": "stdout",
       "text": [
        "\n",
        "Error >> 6412 can not fetch month =  24\n",
        "Get stock no."
       ]
      },
      {
       "output_type": "stream",
       "stream": "stdout",
       "text": [
        " 5225 info for 24 month\n",
        "Get stock no."
       ]
      },
      {
       "output_type": "stream",
       "stream": "stdout",
       "text": [
        " 8114 info for 24 month\n",
        "list index out of range"
       ]
      },
      {
       "output_type": "stream",
       "stream": "stdout",
       "text": [
        "\n",
        "Error >> 1626 can not fetch month =  24\n",
        "Get stock no."
       ]
      },
      {
       "output_type": "stream",
       "stream": "stdout",
       "text": [
        " 2867 info for 24 month\n",
        "Get stock no."
       ]
      },
      {
       "output_type": "stream",
       "stream": "stdout",
       "text": [
        " 5538 info for 24 month\n",
        "list index out of range"
       ]
      },
      {
       "output_type": "stream",
       "stream": "stdout",
       "text": [
        "\n",
        "Error >> 4536 can not fetch month =  24\n",
        "Get stock no."
       ]
      },
      {
       "output_type": "stream",
       "stream": "stdout",
       "text": [
        " 4164 info for 24 month\n",
        "list index out of range"
       ]
      },
      {
       "output_type": "stream",
       "stream": "stdout",
       "text": [
        "\n",
        "Error >> 3338 can not fetch month =  24\n",
        "Get stock no."
       ]
      },
      {
       "output_type": "stream",
       "stream": "stdout",
       "text": [
        " 4137 info for 24 month\n",
        "Get stock no."
       ]
      },
      {
       "output_type": "stream",
       "stream": "stdout",
       "text": [
        " 9802 info for 24 month\n",
        "Get stock no."
       ]
      },
      {
       "output_type": "stream",
       "stream": "stdout",
       "text": [
        " 4141 info for 24 month\n",
        "Get stock no."
       ]
      },
      {
       "output_type": "stream",
       "stream": "stdout",
       "text": [
        " 4142 info for 24 month\n",
        "list index out of range"
       ]
      },
      {
       "output_type": "stream",
       "stream": "stdout",
       "text": [
        "\n",
        "Error >> 9946 can not fetch month =  24\n",
        "Get stock no."
       ]
      },
      {
       "output_type": "stream",
       "stream": "stdout",
       "text": [
        " 2923 info for 24 month\n",
        "Get stock no."
       ]
      },
      {
       "output_type": "stream",
       "stream": "stdout",
       "text": [
        " 4755 info for 24 month\n",
        "list index out of range"
       ]
      },
      {
       "output_type": "stream",
       "stream": "stdout",
       "text": [
        "\n",
        "Error >> 2731 can not fetch month =  24\n",
        "list index out of range"
       ]
      },
      {
       "output_type": "stream",
       "stream": "stdout",
       "text": [
        "\n",
        "Error >> 2712 can not fetch month =  24\n",
        "list index out of range"
       ]
      },
      {
       "output_type": "stream",
       "stream": "stdout",
       "text": [
        "\n",
        "Error >> 6405 can not fetch month =  24\n",
        "list index out of range"
       ]
      },
      {
       "output_type": "stream",
       "stream": "stdout",
       "text": [
        "\n",
        "Error >> 5243 can not fetch month =  24\n",
        "list index out of range"
       ]
      },
      {
       "output_type": "stream",
       "stream": "stdout",
       "text": [
        "\n",
        "Error >> 3583 can not fetch month =  24\n",
        "list index out of range"
       ]
      },
      {
       "output_type": "stream",
       "stream": "stdout",
       "text": [
        "\n",
        "Error >> 1817 can not fetch month =  24\n",
        "Get stock no."
       ]
      },
      {
       "output_type": "stream",
       "stream": "stdout",
       "text": [
        " 1339 info for 24 month\n",
        "Get stock no."
       ]
      },
      {
       "output_type": "stream",
       "stream": "stdout",
       "text": [
        " 1338 info for 24 month\n",
        "Get stock no."
       ]
      },
      {
       "output_type": "stream",
       "stream": "stdout",
       "text": [
        " 5234 info for 24 month\n",
        "list index out of range"
       ]
      },
      {
       "output_type": "stream",
       "stream": "stdout",
       "text": [
        "\n",
        "Error >> 3706 can not fetch month =  24\n",
        "Get stock no."
       ]
      },
      {
       "output_type": "stream",
       "stream": "stdout",
       "text": [
        " 5521 info for 24 month\n",
        "list index out of range"
       ]
      },
      {
       "output_type": "stream",
       "stream": "stdout",
       "text": [
        "\n",
        "Error >> 3682 can not fetch month =  24\n",
        "list index out of range"
       ]
      },
      {
       "output_type": "stream",
       "stream": "stdout",
       "text": [
        "\n",
        "Error >> 6177 can not fetch month =  24\n",
        "list index out of range"
       ]
      },
      {
       "output_type": "stream",
       "stream": "stdout",
       "text": [
        "\n",
        "Error >> 4999 can not fetch month =  24\n",
        "list index out of range"
       ]
      },
      {
       "output_type": "stream",
       "stream": "stdout",
       "text": [
        "\n",
        "Error >> 6504 can not fetch month =  24\n",
        "list index out of range"
       ]
      },
      {
       "output_type": "stream",
       "stream": "stdout",
       "text": [
        "\n",
        "Error >> 2228 can not fetch month =  24\n",
        "list index out of range"
       ]
      },
      {
       "output_type": "stream",
       "stream": "stdout",
       "text": [
        "\n",
        "Error >> 4977 can not fetch month =  24\n",
        "Get stock no."
       ]
      },
      {
       "output_type": "stream",
       "stream": "stdout",
       "text": [
        " 5907 info for 24 month\n",
        "list index out of range"
       ]
      },
      {
       "output_type": "stream",
       "stream": "stdout",
       "text": [
        "\n",
        "Error >> 5280 can not fetch month =  24\n",
        "Get stock no."
       ]
      },
      {
       "output_type": "stream",
       "stream": "stdout",
       "text": [
        " 8429 info for 24 month\n",
        "Get stock no."
       ]
      },
      {
       "output_type": "stream",
       "stream": "stdout",
       "text": [
        " 1786 info for 24 month\n",
        "list index out of range"
       ]
      },
      {
       "output_type": "stream",
       "stream": "stdout",
       "text": [
        "\n",
        "Error >> 5259 can not fetch month =  24\n",
        "list index out of range"
       ]
      },
      {
       "output_type": "stream",
       "stream": "stdout",
       "text": [
        "\n",
        "Error >> 2642 can not fetch month =  24\n",
        "list index out of range"
       ]
      },
      {
       "output_type": "stream",
       "stream": "stdout",
       "text": [
        "\n",
        "Error >> 4916 can not fetch month =  24\n",
        "Get stock no."
       ]
      },
      {
       "output_type": "stream",
       "stream": "stdout",
       "text": [
        " 4915 info for 24 month\n",
        "list index out of range"
       ]
      },
      {
       "output_type": "stream",
       "stream": "stdout",
       "text": [
        "\n",
        "Error >> 3167 can not fetch month =  24\n",
        "Month =  24  : Fetching finished!\n",
        "Fetching Start\n",
        "Get stock no."
       ]
      },
      {
       "output_type": "stream",
       "stream": "stdout",
       "text": [
        " 6412 info for 12 month\n",
        "Get stock no."
       ]
      },
      {
       "output_type": "stream",
       "stream": "stdout",
       "text": [
        " 1626 info for 12 month\n",
        "Get stock no."
       ]
      },
      {
       "output_type": "stream",
       "stream": "stdout",
       "text": [
        " 4536 info for 12 month\n",
        "Get stock no."
       ]
      },
      {
       "output_type": "stream",
       "stream": "stdout",
       "text": [
        " 3338 info for 12 month\n",
        "Get stock no."
       ]
      },
      {
       "output_type": "stream",
       "stream": "stdout",
       "text": [
        " 9946 info for 12 month\n",
        "Get stock no."
       ]
      },
      {
       "output_type": "stream",
       "stream": "stdout",
       "text": [
        " 2731 info for 12 month\n",
        "Get stock no."
       ]
      },
      {
       "output_type": "stream",
       "stream": "stdout",
       "text": [
        " 2712 info for 12 month\n",
        "Get stock no."
       ]
      },
      {
       "output_type": "stream",
       "stream": "stdout",
       "text": [
        " 6405 info for 12 month\n",
        "Get stock no."
       ]
      },
      {
       "output_type": "stream",
       "stream": "stdout",
       "text": [
        " 5243 info for 12 month\n",
        "Get stock no."
       ]
      },
      {
       "output_type": "stream",
       "stream": "stdout",
       "text": [
        " 3583 info for 12 month\n",
        "Get stock no."
       ]
      },
      {
       "output_type": "stream",
       "stream": "stdout",
       "text": [
        " 1817 info for 12 month\n",
        "Get stock no."
       ]
      },
      {
       "output_type": "stream",
       "stream": "stdout",
       "text": [
        " 3706 info for 12 month\n",
        "Get stock no."
       ]
      },
      {
       "output_type": "stream",
       "stream": "stdout",
       "text": [
        " 3682 info for 12 month\n",
        "Get stock no."
       ]
      },
      {
       "output_type": "stream",
       "stream": "stdout",
       "text": [
        " 6177 info for 12 month\n",
        "Get stock no."
       ]
      },
      {
       "output_type": "stream",
       "stream": "stdout",
       "text": [
        " 4999 info for 12 month\n",
        "Get stock no."
       ]
      },
      {
       "output_type": "stream",
       "stream": "stdout",
       "text": [
        " 6504 info for 12 month\n",
        "Get stock no."
       ]
      },
      {
       "output_type": "stream",
       "stream": "stdout",
       "text": [
        " 2228 info for 12 month\n",
        "Get stock no."
       ]
      },
      {
       "output_type": "stream",
       "stream": "stdout",
       "text": [
        " 4977 info for 12 month\n",
        "Get stock no."
       ]
      },
      {
       "output_type": "stream",
       "stream": "stdout",
       "text": [
        " 5280 info for 12 month\n",
        "Get stock no."
       ]
      },
      {
       "output_type": "stream",
       "stream": "stdout",
       "text": [
        " 5259 info for 12 month\n",
        "Get stock no."
       ]
      },
      {
       "output_type": "stream",
       "stream": "stdout",
       "text": [
        " 2642 info for 12 month\n",
        "Get stock no."
       ]
      },
      {
       "output_type": "stream",
       "stream": "stdout",
       "text": [
        " 4916 info for 12 month\n",
        "Get stock no."
       ]
      },
      {
       "output_type": "stream",
       "stream": "stdout",
       "text": [
        " 3167 info for 12 month\n",
        "Month =  12  : Fetching finished!\n",
        "////////////////////FINISHED////////////////////\n"
       ]
      }
     ],
     "prompt_number": 8
    },
    {
     "cell_type": "code",
     "collapsed": false,
     "input": [],
     "language": "python",
     "metadata": {},
     "outputs": []
    }
   ],
   "metadata": {}
  }
 ]
}